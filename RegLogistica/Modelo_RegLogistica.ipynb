{
  "nbformat": 4,
  "nbformat_minor": 0,
  "metadata": {
    "colab": {
      "provenance": []
    },
    "kernelspec": {
      "name": "python3",
      "display_name": "Python 3"
    },
    "language_info": {
      "name": "python"
    }
  },
  "cells": [
    {
      "cell_type": "code",
      "execution_count": null,
      "metadata": {
        "id": "uyOn0JEwMu1Q"
      },
      "outputs": [],
      "source": [
        "import pandas as pd #principal herramienta de gestion de datasets como dataframe\n",
        "import numpy as np #para trabajar con arrays y algunas cuestiones estadisticas\n",
        "from sklearn import preprocessing #procesamiento de detasets \n",
        "from sklearn.metrics import mean_squared_error #herramienta estadistica para medir errores\n",
        "import seaborn as sns #herramienta grafica\n",
        "sns.set()\n",
        "from sklearn.model_selection import train_test_split #para separar el dataset en entrenamiento y testeo\n",
        "from sklearn.linear_model import LogisticRegression #modelo de regresion logistica para clasificacion\n",
        "from sklearn.metrics import confusion_matrix #para crear la matriz de confusión\n",
        "from sklearn.metrics import ConfusionMatrixDisplay #para graficar la matriz de confusión\n",
        "from sklearn.model_selection import GridSearchCV #para optimización de hiperparámetro\n",
        "import joblib ]#airve para bajar el modelo entrenado y guardarlo como un achivo\n",
        "import matplotlib.pyplot #herramienta grafica\n",
        "import matplotlib.pyplot as plt #herramienta grafica\n",
        "from sklearn.model_selection import cross_validate #para validacion cruzada \n",
        "from sklearn.metrics import accuracy_score #metrica accuracy\n",
        "from sklearn.metrics import precision_score #metrica precisión\n",
        "from sklearn.metrics import recall_score #metrica recall\n",
        "from sklearn.metrics import f1_score #metrica f1 score\n",
        "import warnings #evita que se llene de warnings el script\n",
        "warnings.filterwarnings(\"ignore\", category=FutureWarning) #evita que se llene de warnings el script"
      ]
    },
    {
      "cell_type": "code",
      "source": [
        "#clono el repositorio"
      ],
      "metadata": {
        "id": "aiYLmDWne9rA"
      },
      "execution_count": null,
      "outputs": []
    },
    {
      "cell_type": "code",
      "source": [
        "!git clone https://github.com/soyHenry/Datathon.git"
      ],
      "metadata": {
        "colab": {
          "base_uri": "https://localhost:8080/"
        },
        "id": "XH04FqvCNn4e",
        "outputId": "01a632bb-1ac3-4846-876e-602dfdc46d28"
      },
      "execution_count": null,
      "outputs": [
        {
          "output_type": "stream",
          "name": "stdout",
          "text": [
            "Cloning into 'Datathon'...\n",
            "remote: Enumerating objects: 83, done.\u001b[K\n",
            "remote: Counting objects: 100% (33/33), done.\u001b[K\n",
            "remote: Compressing objects: 100% (23/23), done.\u001b[K\n",
            "remote: Total 83 (delta 15), reused 20 (delta 10), pack-reused 50\u001b[K\n",
            "Unpacking objects: 100% (83/83), done.\n"
          ]
        }
      ]
    },
    {
      "cell_type": "code",
      "source": [
        "#ingesto los datos en dataframe de pandas"
      ],
      "metadata": {
        "id": "sIdNKmAfe_pB"
      },
      "execution_count": null,
      "outputs": []
    },
    {
      "cell_type": "code",
      "source": [
        "df_train=pd.read_csv('Datathon/hospitalizaciones_train.csv')"
      ],
      "metadata": {
        "id": "fvq8VBGrNnz5"
      },
      "execution_count": null,
      "outputs": []
    },
    {
      "cell_type": "code",
      "source": [
        "#realizo una copia para trabajar con back up de los datos crudos "
      ],
      "metadata": {
        "id": "1X36lJSxfAqq"
      },
      "execution_count": null,
      "outputs": []
    },
    {
      "cell_type": "code",
      "source": [
        "df1=df_train.copy()"
      ],
      "metadata": {
        "id": "Af1tEWKWNnvG"
      },
      "execution_count": null,
      "outputs": []
    },
    {
      "cell_type": "code",
      "source": [
        "#creo una funcion para adaptar la columna label a categórica"
      ],
      "metadata": {
        "id": "U6rPz6cXfD0o"
      },
      "execution_count": null,
      "outputs": []
    },
    {
      "cell_type": "code",
      "source": [
        "def transf_label(df):\n",
        "    lista_dias=df['Stay (in days)']\n",
        "    lista_estancia=[]\n",
        "    for i in lista_dias:\n",
        "        if i <=8: \n",
        "            i=0\n",
        "        elif i>8:\n",
        "            i=1\n",
        "        lista_estancia.append(i)\n",
        "    array_estancia=np.array(lista_estancia)\n",
        "    array_estancia.reshape(1,-1)\n",
        "    array_estancia.shape\n",
        "    df['estancia']=array_estancia\n",
        "    df.drop(columns=['Stay (in days)'], inplace=True)\n",
        "    return df"
      ],
      "metadata": {
        "id": "5sATJ82MNbLO"
      },
      "execution_count": null,
      "outputs": []
    },
    {
      "cell_type": "code",
      "source": [
        "#aplico la función"
      ],
      "metadata": {
        "id": "7N3M2rhxfGIf"
      },
      "execution_count": null,
      "outputs": []
    },
    {
      "cell_type": "code",
      "source": [
        "transf_label(df1)"
      ],
      "metadata": {
        "colab": {
          "base_uri": "https://localhost:8080/",
          "height": 713
        },
        "id": "ISXDbR_INr-S",
        "outputId": "b687606b-6b2c-463d-ea3e-5ed37cc79f1f"
      },
      "execution_count": null,
      "outputs": [
        {
          "output_type": "execute_result",
          "data": {
            "text/plain": [
              "        Available Extra Rooms in Hospital  Department Ward_Facility_Code  \\\n",
              "0                                       4  gynecology                  D   \n",
              "1                                       4  gynecology                  B   \n",
              "2                                       2  gynecology                  B   \n",
              "3                                       4  gynecology                  D   \n",
              "4                                       2  anesthesia                  E   \n",
              "...                                   ...         ...                ...   \n",
              "409995                                  1  gynecology                  D   \n",
              "409996                                  5  gynecology                  D   \n",
              "409997                                  4  gynecology                  D   \n",
              "409998                                 10  gynecology                  D   \n",
              "409999                                  3  gynecology                  F   \n",
              "\n",
              "       doctor_name  staff_available  patientid    Age  gender  \\\n",
              "0        Dr Sophia                0      33070  41-50  Female   \n",
              "1        Dr Sophia                2      34808  31-40  Female   \n",
              "2        Dr Sophia                8      44577  21-30  Female   \n",
              "3        Dr Olivia                7       3695  31-40  Female   \n",
              "4          Dr Mark               10     108956  71-80    Male   \n",
              "...            ...              ...        ...    ...     ...   \n",
              "409995    Dr Sarah                1      63105  31-40  Female   \n",
              "409996   Dr Nathan                5     129292  21-30  Female   \n",
              "409997    Dr Sarah                9      11399  21-30  Female   \n",
              "409998   Dr Olivia               10      75003  21-30  Female   \n",
              "409999   Dr Nathan                0     128183  41-50  Female   \n",
              "\n",
              "       Type of Admission Severity of Illness health_conditions  \\\n",
              "0                 Trauma             Extreme          Diabetes   \n",
              "1                 Trauma               Minor     Heart disease   \n",
              "2                 Trauma             Extreme          Diabetes   \n",
              "3                 Urgent            Moderate              None   \n",
              "4                 Trauma            Moderate          Diabetes   \n",
              "...                  ...                 ...               ...   \n",
              "409995            Trauma               Minor           Asthama   \n",
              "409996            Trauma             Extreme             Other   \n",
              "409997         Emergency               Minor           Asthama   \n",
              "409998            Trauma            Moderate             Other   \n",
              "409999            Trauma               Minor             Other   \n",
              "\n",
              "        Visitors with Patient Insurance  Admission_Deposit  estancia  \n",
              "0                           4       Yes        2966.408696         0  \n",
              "1                           2        No        3554.835677         1  \n",
              "2                           2       Yes        5624.733654         0  \n",
              "3                           4        No        4814.149231         0  \n",
              "4                           2        No        5169.269637         1  \n",
              "...                       ...       ...                ...       ...  \n",
              "409995                      3       Yes        3902.291076         0  \n",
              "409996                      4        No        4771.995223         1  \n",
              "409997                      4       Yes        3816.994210         1  \n",
              "409998                      2       Yes        3841.577491         1  \n",
              "409999                      8       Yes        4329.046412         0  \n",
              "\n",
              "[410000 rows x 15 columns]"
            ],
            "text/html": [
              "\n",
              "  <div id=\"df-e1292090-6fb8-44eb-8343-5676f362be1b\">\n",
              "    <div class=\"colab-df-container\">\n",
              "      <div>\n",
              "<style scoped>\n",
              "    .dataframe tbody tr th:only-of-type {\n",
              "        vertical-align: middle;\n",
              "    }\n",
              "\n",
              "    .dataframe tbody tr th {\n",
              "        vertical-align: top;\n",
              "    }\n",
              "\n",
              "    .dataframe thead th {\n",
              "        text-align: right;\n",
              "    }\n",
              "</style>\n",
              "<table border=\"1\" class=\"dataframe\">\n",
              "  <thead>\n",
              "    <tr style=\"text-align: right;\">\n",
              "      <th></th>\n",
              "      <th>Available Extra Rooms in Hospital</th>\n",
              "      <th>Department</th>\n",
              "      <th>Ward_Facility_Code</th>\n",
              "      <th>doctor_name</th>\n",
              "      <th>staff_available</th>\n",
              "      <th>patientid</th>\n",
              "      <th>Age</th>\n",
              "      <th>gender</th>\n",
              "      <th>Type of Admission</th>\n",
              "      <th>Severity of Illness</th>\n",
              "      <th>health_conditions</th>\n",
              "      <th>Visitors with Patient</th>\n",
              "      <th>Insurance</th>\n",
              "      <th>Admission_Deposit</th>\n",
              "      <th>estancia</th>\n",
              "    </tr>\n",
              "  </thead>\n",
              "  <tbody>\n",
              "    <tr>\n",
              "      <th>0</th>\n",
              "      <td>4</td>\n",
              "      <td>gynecology</td>\n",
              "      <td>D</td>\n",
              "      <td>Dr Sophia</td>\n",
              "      <td>0</td>\n",
              "      <td>33070</td>\n",
              "      <td>41-50</td>\n",
              "      <td>Female</td>\n",
              "      <td>Trauma</td>\n",
              "      <td>Extreme</td>\n",
              "      <td>Diabetes</td>\n",
              "      <td>4</td>\n",
              "      <td>Yes</td>\n",
              "      <td>2966.408696</td>\n",
              "      <td>0</td>\n",
              "    </tr>\n",
              "    <tr>\n",
              "      <th>1</th>\n",
              "      <td>4</td>\n",
              "      <td>gynecology</td>\n",
              "      <td>B</td>\n",
              "      <td>Dr Sophia</td>\n",
              "      <td>2</td>\n",
              "      <td>34808</td>\n",
              "      <td>31-40</td>\n",
              "      <td>Female</td>\n",
              "      <td>Trauma</td>\n",
              "      <td>Minor</td>\n",
              "      <td>Heart disease</td>\n",
              "      <td>2</td>\n",
              "      <td>No</td>\n",
              "      <td>3554.835677</td>\n",
              "      <td>1</td>\n",
              "    </tr>\n",
              "    <tr>\n",
              "      <th>2</th>\n",
              "      <td>2</td>\n",
              "      <td>gynecology</td>\n",
              "      <td>B</td>\n",
              "      <td>Dr Sophia</td>\n",
              "      <td>8</td>\n",
              "      <td>44577</td>\n",
              "      <td>21-30</td>\n",
              "      <td>Female</td>\n",
              "      <td>Trauma</td>\n",
              "      <td>Extreme</td>\n",
              "      <td>Diabetes</td>\n",
              "      <td>2</td>\n",
              "      <td>Yes</td>\n",
              "      <td>5624.733654</td>\n",
              "      <td>0</td>\n",
              "    </tr>\n",
              "    <tr>\n",
              "      <th>3</th>\n",
              "      <td>4</td>\n",
              "      <td>gynecology</td>\n",
              "      <td>D</td>\n",
              "      <td>Dr Olivia</td>\n",
              "      <td>7</td>\n",
              "      <td>3695</td>\n",
              "      <td>31-40</td>\n",
              "      <td>Female</td>\n",
              "      <td>Urgent</td>\n",
              "      <td>Moderate</td>\n",
              "      <td>None</td>\n",
              "      <td>4</td>\n",
              "      <td>No</td>\n",
              "      <td>4814.149231</td>\n",
              "      <td>0</td>\n",
              "    </tr>\n",
              "    <tr>\n",
              "      <th>4</th>\n",
              "      <td>2</td>\n",
              "      <td>anesthesia</td>\n",
              "      <td>E</td>\n",
              "      <td>Dr Mark</td>\n",
              "      <td>10</td>\n",
              "      <td>108956</td>\n",
              "      <td>71-80</td>\n",
              "      <td>Male</td>\n",
              "      <td>Trauma</td>\n",
              "      <td>Moderate</td>\n",
              "      <td>Diabetes</td>\n",
              "      <td>2</td>\n",
              "      <td>No</td>\n",
              "      <td>5169.269637</td>\n",
              "      <td>1</td>\n",
              "    </tr>\n",
              "    <tr>\n",
              "      <th>...</th>\n",
              "      <td>...</td>\n",
              "      <td>...</td>\n",
              "      <td>...</td>\n",
              "      <td>...</td>\n",
              "      <td>...</td>\n",
              "      <td>...</td>\n",
              "      <td>...</td>\n",
              "      <td>...</td>\n",
              "      <td>...</td>\n",
              "      <td>...</td>\n",
              "      <td>...</td>\n",
              "      <td>...</td>\n",
              "      <td>...</td>\n",
              "      <td>...</td>\n",
              "      <td>...</td>\n",
              "    </tr>\n",
              "    <tr>\n",
              "      <th>409995</th>\n",
              "      <td>1</td>\n",
              "      <td>gynecology</td>\n",
              "      <td>D</td>\n",
              "      <td>Dr Sarah</td>\n",
              "      <td>1</td>\n",
              "      <td>63105</td>\n",
              "      <td>31-40</td>\n",
              "      <td>Female</td>\n",
              "      <td>Trauma</td>\n",
              "      <td>Minor</td>\n",
              "      <td>Asthama</td>\n",
              "      <td>3</td>\n",
              "      <td>Yes</td>\n",
              "      <td>3902.291076</td>\n",
              "      <td>0</td>\n",
              "    </tr>\n",
              "    <tr>\n",
              "      <th>409996</th>\n",
              "      <td>5</td>\n",
              "      <td>gynecology</td>\n",
              "      <td>D</td>\n",
              "      <td>Dr Nathan</td>\n",
              "      <td>5</td>\n",
              "      <td>129292</td>\n",
              "      <td>21-30</td>\n",
              "      <td>Female</td>\n",
              "      <td>Trauma</td>\n",
              "      <td>Extreme</td>\n",
              "      <td>Other</td>\n",
              "      <td>4</td>\n",
              "      <td>No</td>\n",
              "      <td>4771.995223</td>\n",
              "      <td>1</td>\n",
              "    </tr>\n",
              "    <tr>\n",
              "      <th>409997</th>\n",
              "      <td>4</td>\n",
              "      <td>gynecology</td>\n",
              "      <td>D</td>\n",
              "      <td>Dr Sarah</td>\n",
              "      <td>9</td>\n",
              "      <td>11399</td>\n",
              "      <td>21-30</td>\n",
              "      <td>Female</td>\n",
              "      <td>Emergency</td>\n",
              "      <td>Minor</td>\n",
              "      <td>Asthama</td>\n",
              "      <td>4</td>\n",
              "      <td>Yes</td>\n",
              "      <td>3816.994210</td>\n",
              "      <td>1</td>\n",
              "    </tr>\n",
              "    <tr>\n",
              "      <th>409998</th>\n",
              "      <td>10</td>\n",
              "      <td>gynecology</td>\n",
              "      <td>D</td>\n",
              "      <td>Dr Olivia</td>\n",
              "      <td>10</td>\n",
              "      <td>75003</td>\n",
              "      <td>21-30</td>\n",
              "      <td>Female</td>\n",
              "      <td>Trauma</td>\n",
              "      <td>Moderate</td>\n",
              "      <td>Other</td>\n",
              "      <td>2</td>\n",
              "      <td>Yes</td>\n",
              "      <td>3841.577491</td>\n",
              "      <td>1</td>\n",
              "    </tr>\n",
              "    <tr>\n",
              "      <th>409999</th>\n",
              "      <td>3</td>\n",
              "      <td>gynecology</td>\n",
              "      <td>F</td>\n",
              "      <td>Dr Nathan</td>\n",
              "      <td>0</td>\n",
              "      <td>128183</td>\n",
              "      <td>41-50</td>\n",
              "      <td>Female</td>\n",
              "      <td>Trauma</td>\n",
              "      <td>Minor</td>\n",
              "      <td>Other</td>\n",
              "      <td>8</td>\n",
              "      <td>Yes</td>\n",
              "      <td>4329.046412</td>\n",
              "      <td>0</td>\n",
              "    </tr>\n",
              "  </tbody>\n",
              "</table>\n",
              "<p>410000 rows × 15 columns</p>\n",
              "</div>\n",
              "      <button class=\"colab-df-convert\" onclick=\"convertToInteractive('df-e1292090-6fb8-44eb-8343-5676f362be1b')\"\n",
              "              title=\"Convert this dataframe to an interactive table.\"\n",
              "              style=\"display:none;\">\n",
              "        \n",
              "  <svg xmlns=\"http://www.w3.org/2000/svg\" height=\"24px\"viewBox=\"0 0 24 24\"\n",
              "       width=\"24px\">\n",
              "    <path d=\"M0 0h24v24H0V0z\" fill=\"none\"/>\n",
              "    <path d=\"M18.56 5.44l.94 2.06.94-2.06 2.06-.94-2.06-.94-.94-2.06-.94 2.06-2.06.94zm-11 1L8.5 8.5l.94-2.06 2.06-.94-2.06-.94L8.5 2.5l-.94 2.06-2.06.94zm10 10l.94 2.06.94-2.06 2.06-.94-2.06-.94-.94-2.06-.94 2.06-2.06.94z\"/><path d=\"M17.41 7.96l-1.37-1.37c-.4-.4-.92-.59-1.43-.59-.52 0-1.04.2-1.43.59L10.3 9.45l-7.72 7.72c-.78.78-.78 2.05 0 2.83L4 21.41c.39.39.9.59 1.41.59.51 0 1.02-.2 1.41-.59l7.78-7.78 2.81-2.81c.8-.78.8-2.07 0-2.86zM5.41 20L4 18.59l7.72-7.72 1.47 1.35L5.41 20z\"/>\n",
              "  </svg>\n",
              "      </button>\n",
              "      \n",
              "  <style>\n",
              "    .colab-df-container {\n",
              "      display:flex;\n",
              "      flex-wrap:wrap;\n",
              "      gap: 12px;\n",
              "    }\n",
              "\n",
              "    .colab-df-convert {\n",
              "      background-color: #E8F0FE;\n",
              "      border: none;\n",
              "      border-radius: 50%;\n",
              "      cursor: pointer;\n",
              "      display: none;\n",
              "      fill: #1967D2;\n",
              "      height: 32px;\n",
              "      padding: 0 0 0 0;\n",
              "      width: 32px;\n",
              "    }\n",
              "\n",
              "    .colab-df-convert:hover {\n",
              "      background-color: #E2EBFA;\n",
              "      box-shadow: 0px 1px 2px rgba(60, 64, 67, 0.3), 0px 1px 3px 1px rgba(60, 64, 67, 0.15);\n",
              "      fill: #174EA6;\n",
              "    }\n",
              "\n",
              "    [theme=dark] .colab-df-convert {\n",
              "      background-color: #3B4455;\n",
              "      fill: #D2E3FC;\n",
              "    }\n",
              "\n",
              "    [theme=dark] .colab-df-convert:hover {\n",
              "      background-color: #434B5C;\n",
              "      box-shadow: 0px 1px 3px 1px rgba(0, 0, 0, 0.15);\n",
              "      filter: drop-shadow(0px 1px 2px rgba(0, 0, 0, 0.3));\n",
              "      fill: #FFFFFF;\n",
              "    }\n",
              "  </style>\n",
              "\n",
              "      <script>\n",
              "        const buttonEl =\n",
              "          document.querySelector('#df-e1292090-6fb8-44eb-8343-5676f362be1b button.colab-df-convert');\n",
              "        buttonEl.style.display =\n",
              "          google.colab.kernel.accessAllowed ? 'block' : 'none';\n",
              "\n",
              "        async function convertToInteractive(key) {\n",
              "          const element = document.querySelector('#df-e1292090-6fb8-44eb-8343-5676f362be1b');\n",
              "          const dataTable =\n",
              "            await google.colab.kernel.invokeFunction('convertToInteractive',\n",
              "                                                     [key], {});\n",
              "          if (!dataTable) return;\n",
              "\n",
              "          const docLinkHtml = 'Like what you see? Visit the ' +\n",
              "            '<a target=\"_blank\" href=https://colab.research.google.com/notebooks/data_table.ipynb>data table notebook</a>'\n",
              "            + ' to learn more about interactive tables.';\n",
              "          element.innerHTML = '';\n",
              "          dataTable['output_type'] = 'display_data';\n",
              "          await google.colab.output.renderOutput(dataTable, element);\n",
              "          const docLink = document.createElement('div');\n",
              "          docLink.innerHTML = docLinkHtml;\n",
              "          element.appendChild(docLink);\n",
              "        }\n",
              "      </script>\n",
              "    </div>\n",
              "  </div>\n",
              "  "
            ]
          },
          "metadata": {},
          "execution_count": 6
        }
      ]
    },
    {
      "cell_type": "code",
      "source": [
        "#Realizo una transormación de las columnas categoricas a numéricas \n",
        "#con label encoder en las no ordinales y ordinal encoder en las que si"
      ],
      "metadata": {
        "id": "JqHzb1YDfIoJ"
      },
      "execution_count": null,
      "outputs": []
    },
    {
      "cell_type": "code",
      "source": [
        "le = preprocessing.LabelEncoder()\n",
        "df1['Insurance'] = le.fit_transform(df1['Insurance'])\n",
        "df1['health_conditions'] = le.fit_transform(df1['health_conditions'])\n",
        "df1['Type of Admission'] = le.fit_transform(df1['Type of Admission'])\n",
        "df1['gender'] = le.fit_transform(df1['gender'])\n",
        "df1['doctor_name'] = le.fit_transform(df1['doctor_name'])\n",
        "df1['Ward_Facility_Code'] = le.fit_transform(df1['Ward_Facility_Code'])\n",
        "df1['Department'] = le.fit_transform(df1['Department'])"
      ],
      "metadata": {
        "id": "yvQoUDWrNunG"
      },
      "execution_count": null,
      "outputs": []
    },
    {
      "cell_type": "code",
      "source": [
        "enc = OrdinalEncoder()\n",
        "train_df['Age'] = enc.fit_transform(train_df[['Age']])\n",
        "train_df['Severity of Illness'] = enc.fit_transform(train_df[['Severity of Illness']])"
      ],
      "metadata": {
        "id": "p0opmgLXfQ89"
      },
      "execution_count": null,
      "outputs": []
    },
    {
      "cell_type": "code",
      "source": [
        " #se generan 2 data frame con distintas columnas para aplicar el modelo y analizar diferencias "
      ],
      "metadata": {
        "id": "lZUDXtQLfS_H"
      },
      "execution_count": null,
      "outputs": []
    },
    {
      "cell_type": "code",
      "source": [
        "df2=df1.copy()"
      ],
      "metadata": {
        "id": "bqzy1X68N0g1"
      },
      "execution_count": null,
      "outputs": []
    },
    {
      "cell_type": "code",
      "source": [
        "df3=df1.copy()"
      ],
      "metadata": {
        "id": "F73DJsu-OVsV"
      },
      "execution_count": null,
      "outputs": []
    },
    {
      "cell_type": "code",
      "source": [
        "\n",
        "# ACONTINUACIÓN SE PUEDE VER TODOS LOS MODELOS GENERADOS Y SUS METRICAS CONSIDERANDO DISTINTAS FREATURES \n",
        "#_ ESTE PUNTO SE EXPLICA MEJOR EN EL TXT ESTRATEGIA FINAL\n",
        "\n",
        "y1=df1[['estancia']]\n",
        "#TODO _ x=df[['Available Extra Rooms in Hospital','Department','Ward_Facility_Code','doctor_name','staff_available','patientid','Age','gender','Type of Admission','Severity of Illness','health_conditions','Visitors with Patient','Insurance','Admission_Deposit']]\n",
        "X1=df1[['Department','Age', 'doctor_name']]\n",
        "'''\n",
        "accuracy:  0.6024512195121952\n",
        "Recall:  0.8172358171374616\n",
        "F1score: 0.7182186724753433\n",
        "'''\n",
        "#X1=df1[['Department','Age', 'doctor_name','gender']]\n",
        "'''\n",
        "accuracy:  0.586329268292683\n",
        "Recall:  0.8226650405224644\n",
        "F1score: 0.7114653419868496\n",
        "'''\n",
        "'''\n",
        "--------------0.3\n",
        "El valor de la precisión para este modelo es de [0.4560795  0.64296281]\n",
        "El valor de la recall es de [0.25191037 0.81765805]\n",
        "El valor de accuracy es de 0.6039756097560975\n",
        "El f1-score es de:[0.32455593 0.71986336], type[0.32455593 0.71986336]\n",
        "--------0.2\n",
        "El valor de la precisión para este modelo es de [0.45788829 0.64286926]\n",
        "El valor de la recall es de [0.25297475 0.81784306]\n",
        "El valor de accuracy es de 0.6042195121951219\n",
        "El f1-score es de:[0.32589731 0.7198764 ], type[0.32589731 0.7198764 ]\n",
        "\n",
        "'''\n",
        "\n",
        "#X1=df1[['Department','Age', 'doctor_name','gender']]\n",
        "'''\n",
        "------------0.3\n",
        "El valor de la precisión para este modelo es de [0.40814987 0.62924725]\n",
        "El valor de la recall es de [0.20072325 0.82334113]\n",
        "El valor de accuracy es de 0.5881788617886179\n",
        "El f1-score es de:[0.26910424 0.71332684], type[0.26910424 0.71332684]\n",
        "'''\n",
        "\n",
        "#X1=df1[['Department','Age', 'doctor_name','gender','Insurance']]\n",
        "'''\n",
        "---------0.3\n",
        "El valor de la precisión para este modelo es de [0.40814987 0.62924725]\n",
        "El valor de la recall es de [0.20072325 0.82334113]\n",
        "El valor de accuracy es de 0.5881788617886179\n",
        "El f1-score es de:[0.26910424 0.71332684], type[0.26910424 0.71332684]\n",
        "\n",
        "'''\n",
        "\n",
        "#X1=df1[['Department']]\n",
        "'''\n",
        "-------------0.3\n",
        "El valor de la precisión para este modelo es de [0.36356172 0.61923465]\n",
        "El valor de la recall es de [0.17155649 0.81772337]\n",
        "El valor de accuracy es de 0.5736666666666667\n",
        "El f1-score es de:[0.23311251 0.70477027], type[0.23311251 0.70477027]\n",
        "-------------0.2\n",
        "El valor de la precisión para este modelo es de [0.36266978 0.61846282]\n",
        "El valor de la recall es de [0.17048789 0.81778423]\n",
        "El valor de accuracy es de 0.5729878048780488\n",
        "El f1-score es de:[0.23194192 0.70429268], type[0.23194192 0.70429268]\n",
        "'''\n",
        "#con todo menos ID\n",
        "#X1=df1[['Available Extra Rooms in Hospital','Department','Ward_Facility_Code','doctor_name','staff_available','Age','gender','Type of Admission','Severity of Illness','health_conditions','Visitors with Patient','Insurance','Admission_Deposit']]\n",
        "''' \n",
        "---------------0.3\n",
        "El valor de la precisión para este modelo es de [0.39985609 0.6287695 ]\n",
        "El valor de la recall es de [0.23923198 0.78207021]\n",
        "El valor de accuracy es de 0.5770406504065041\n",
        "El f1-score es de:[0.29935894 0.69709109], type[0.29935894 0.69709109]\n",
        "-----0.2\n",
        "El valor de la precisión para este modelo es de [0.39985609 0.6287695 ]\n",
        "El valor de la recall es de [0.23923198 0.78207021]\n",
        "El valor de accuracy es de 0.5770406504065041\n",
        "El f1-score es de:[0.29935894 0.69709109], type[0.29935894 0.69709109]\n",
        "'''\n",
        "# con todo menos id - staff available \n",
        "#X1=df1[['Available Extra Rooms in Hospital','Department','Ward_Facility_Code','doctor_name','Age','gender','Type of Admission','Severity of Illness','health_conditions','Visitors with Patient','Insurance','Admission_Deposit']]\n",
        "'''\n",
        "El valor de la precisión para este modelo es de [0.36356172 0.61923465]\n",
        "El valor de la recall es de [0.17155649 0.81772337]\n",
        "El valor de accuracy es de 0.5736666666666667\n",
        "El f1-score es de:[0.23311251 0.70477027], type[0.23311251 0.70477027]\n",
        "'''"
      ],
      "metadata": {
        "id": "1dwEBo6qNxzl",
        "colab": {
          "base_uri": "https://localhost:8080/",
          "height": 52
        },
        "outputId": "aacd4f80-9d0b-4582-e603-564c73e5ac23"
      },
      "execution_count": null,
      "outputs": [
        {
          "output_type": "execute_result",
          "data": {
            "text/plain": [
              "'\\nEl valor de la precisión para este modelo es de [0.36356172 0.61923465]\\nEl valor de la recall es de [0.17155649 0.81772337]\\nEl valor de accuracy es de 0.5736666666666667\\nEl f1-score es de:[0.23311251 0.70477027], type[0.23311251 0.70477027]\\n'"
            ],
            "application/vnd.google.colaboratory.intrinsic+json": {
              "type": "string"
            }
          },
          "metadata": {},
          "execution_count": 39
        }
      ]
    },
    {
      "cell_type": "code",
      "source": [
        "#realizo la primera partición de los datos, luego se hará una validación cruzada\n",
        "\n",
        "X1_train, X1_test, y1_train, y1_test = train_test_split(X1, y1, test_size=0.20, random_state=8) \n",
        "\n",
        "# datos, dejo un 20% para testear\n",
        "\n",
        "print(X1_train.shape, y1_train.shape, X1_test.shape, y1_test.shape)"
      ],
      "metadata": {
        "colab": {
          "base_uri": "https://localhost:8080/"
        },
        "id": "SKSj4wCqOa12",
        "outputId": "25e8fa6e-1277-453a-93ba-823039aca629"
      },
      "execution_count": null,
      "outputs": [
        {
          "output_type": "stream",
          "name": "stdout",
          "text": [
            "(328000, 3) (328000, 1) (82000, 3) (82000, 1)\n"
          ]
        }
      ]
    },
    {
      "cell_type": "code",
      "source": [
        "# Instanciamos el modelo y lo entrenamos\n",
        "\n",
        "clf = LogisticRegression()\n",
        "\n",
        "# Lo entrenamos\n",
        "\n",
        "clf.fit(X1_train,y1_train)"
      ],
      "metadata": {
        "colab": {
          "base_uri": "https://localhost:8080/"
        },
        "id": "51IyYbXi0WGT",
        "outputId": "2e929e12-161c-4f2a-a4fd-01e11f283232"
      },
      "execution_count": null,
      "outputs": [
        {
          "output_type": "stream",
          "name": "stderr",
          "text": [
            "/usr/local/lib/python3.8/dist-packages/sklearn/utils/validation.py:993: DataConversionWarning: A column-vector y was passed when a 1d array was expected. Please change the shape of y to (n_samples, ), for example using ravel().\n",
            "  y = column_or_1d(y, warn=True)\n"
          ]
        },
        {
          "output_type": "execute_result",
          "data": {
            "text/plain": [
              "LogisticRegression()"
            ]
          },
          "metadata": {},
          "execution_count": 41
        }
      ]
    },
    {
      "cell_type": "code",
      "source": [
        "# Predecimos\n",
        "\n",
        "y1_test_pred = clf.predict(X1_test)\n",
        "y1_train_pred=clf.predict(X1_train)\n",
        "\n"
      ],
      "metadata": {
        "id": "7LGG26mb0aeE"
      },
      "execution_count": null,
      "outputs": []
    },
    {
      "cell_type": "code",
      "source": [
        "#medición de metricas "
      ],
      "metadata": {
        "id": "2I3ppOxifnG5"
      },
      "execution_count": null,
      "outputs": []
    },
    {
      "cell_type": "code",
      "source": [
        "from sklearn import metrics\n",
        "\n",
        "print(\"accuracy: \", metrics.accuracy_score(y2_test,y2_test_pred))\n",
        "print(\"Recall: \", metrics.recall_score(y2_test,y2_test_pred))\n",
        "print(\"F1score:\", metrics.f1_score(y2_test,y2_test_pred))"
      ],
      "metadata": {
        "id": "l8Qj53bsfozI"
      },
      "execution_count": null,
      "outputs": []
    },
    {
      "cell_type": "code",
      "source": [
        "# analisis de las mismas metricas pero en comparación con el valor supuesto (enh los bloques se comprar ambos MODELOS con distintos features)"
      ],
      "metadata": {
        "id": "V2sce2L6fq2O"
      },
      "execution_count": null,
      "outputs": []
    },
    {
      "cell_type": "code",
      "source": [
        "#EXACTITUD\n",
        "exactitud = accuracy_score(y1_test, y1_test_pred)\n",
        "\n",
        "#PRECISION\n",
        "precision = precision_score(y1_test, y1_test_pred, average= None)\n",
        "\n",
        "#EXAHUSTIVIDAD/RECALL/SENSIBILIDAD\n",
        "recall1= recall_score(y1_test, y1_test_pred, average= None)\n",
        "\n",
        "#F1-SCORE\n",
        "precision1 = f1_score(y1_test, y1_test_pred, average= None)\n",
        "\n",
        "print(f'El valor de la precisión para este modelo es de {precision}')\n",
        "print(f'El valor de la recall es de {recall1}')\n",
        "print(f'El valor de accuracy es de {exactitud}')\n",
        "print(f'El f1-score es de:{precision1}, type{precision1}')"
      ],
      "metadata": {
        "colab": {
          "base_uri": "https://localhost:8080/"
        },
        "id": "WqkgeTQe1HRC",
        "outputId": "5a028289-3239-440f-fa90-01531be7abbf"
      },
      "execution_count": null,
      "outputs": [
        {
          "output_type": "stream",
          "name": "stdout",
          "text": [
            "El valor de la precisión para este modelo es de [0.45815595 0.64060259]\n",
            "El valor de la recall es de [0.25208574 0.81723582]\n",
            "El valor de accuracy es de 0.6024512195121952\n",
            "El f1-score es de:[0.32522614 0.71821867], type[0.32522614 0.71821867]\n"
          ]
        }
      ]
    },
    {
      "cell_type": "code",
      "source": [
        "#VALIDACIÓN CRUZADA DEL MODELO"
      ],
      "metadata": {
        "id": "o4rafrZ2f2M5"
      },
      "execution_count": null,
      "outputs": []
    },
    {
      "cell_type": "code",
      "source": [
        "logistica_scores = cross_validate(clf, X1, y1, cv=5, return_train_score=True, n_jobs = -1)"
      ],
      "metadata": {
        "id": "7InPVIJq1Bu9"
      },
      "execution_count": null,
      "outputs": []
    },
    {
      "cell_type": "code",
      "source": [
        "y1_test_pred = clf.predict(X1_test)\n",
        "y1_train_pred=clf.predict(X1_train)"
      ],
      "metadata": {
        "id": "SpPNjdcD2HPB"
      },
      "execution_count": null,
      "outputs": []
    },
    {
      "cell_type": "code",
      "source": [
        "#VUELVO A MEDIR LAS METRICAS DESPUES DE LA VALIDACIÓN"
      ],
      "metadata": {
        "id": "ChNXJRfOgAq-"
      },
      "execution_count": null,
      "outputs": []
    },
    {
      "cell_type": "code",
      "source": [
        "#EXACTITUD\n",
        "exactitud = accuracy_score(y1_test, y1_test_pred)\n",
        "\n",
        "#PRECISION\n",
        "precision = precision_score(y1_test, y1_test_pred, average= None)\n",
        "\n",
        "#EXAHUSTIVIDAD/RECALL/SENSIBILIDAD\n",
        "recall1= recall_score(y1_test, y1_test_pred, average= None)\n",
        "\n",
        "#F1-SCORE\n",
        "precision1 = f1_score(y1_test, y1_test_pred, average= None)\n",
        "\n",
        "print(f'El valor de la precisión para este modelo es de {precision}')\n",
        "print(f'El valor de la recall es de {recall1}')\n",
        "print(f'El valor de accuracy es de {exactitud}')\n",
        "print(f'El f1-score es de:{precision1}, type{precision1}')"
      ],
      "metadata": {
        "colab": {
          "base_uri": "https://localhost:8080/"
        },
        "id": "1qP5IQj91H99",
        "outputId": "21210a96-aee7-4e6f-fc03-ac5e024fce02"
      },
      "execution_count": null,
      "outputs": [
        {
          "output_type": "stream",
          "name": "stdout",
          "text": [
            "El valor de la precisión para este modelo es de [0.40814987 0.62924725]\n",
            "El valor de la recall es de [0.20072325 0.82334113]\n",
            "El valor de accuracy es de 0.5881788617886179\n",
            "El f1-score es de:[0.26910424 0.71332684], type[0.26910424 0.71332684]\n"
          ]
        }
      ]
    },
    {
      "cell_type": "code",
      "source": [
        "#GURADO EL MODELO YA ENTRENADO "
      ],
      "metadata": {
        "id": "l_oSRPX9gFgY"
      },
      "execution_count": null,
      "outputs": []
    },
    {
      "cell_type": "code",
      "source": [
        "joblib.dump(clf,'logistica_entrenado_Colab')"
      ],
      "metadata": {
        "colab": {
          "base_uri": "https://localhost:8080/"
        },
        "id": "BXsUgPOCOqJ9",
        "outputId": "a63c3838-4124-4998-c51b-46dbc8612a17"
      },
      "execution_count": null,
      "outputs": [
        {
          "output_type": "execute_result",
          "data": {
            "text/plain": [
              "['Arbol_entrenado_Colab']"
            ]
          },
          "metadata": {},
          "execution_count": 19
        }
      ]
    },
    {
      "cell_type": "code",
      "source": [
        "#se desarrolla y grafica la matriz de confusion para comprender donde hay margen para subrir el accuracy y que debemos sacrificar"
      ],
      "metadata": {
        "id": "ltn2bG99gIDc"
      },
      "execution_count": null,
      "outputs": []
    },
    {
      "cell_type": "code",
      "source": [
        "matrix = confusion_matrix(y1_train, y1_train_pred)\n",
        "matrix_2 = confusion_matrix(y1_test, y1_test_pred)"
      ],
      "metadata": {
        "id": "hIurbqFjXCPV"
      },
      "execution_count": null,
      "outputs": []
    },
    {
      "cell_type": "code",
      "source": [
        "cm_display = ConfusionMatrixDisplay(matrix)\n",
        "cm_display_2 = ConfusionMatrixDisplay(matrix_2)\n"
      ],
      "metadata": {
        "id": "D1RBM8ZLXUaN"
      },
      "execution_count": null,
      "outputs": []
    },
    {
      "cell_type": "code",
      "source": [
        "cm_display.plot()\n",
        "plt.show()"
      ],
      "metadata": {
        "colab": {
          "base_uri": "https://localhost:8080/",
          "height": 285
        },
        "id": "Pl_lGGP9XY7m",
        "outputId": "8a43e9a5-f6f7-4377-c1d5-44c2bf2a4896"
      },
      "execution_count": null,
      "outputs": [
        {
          "output_type": "display_data",
          "data": {
            "text/plain": [
              "<Figure size 432x288 with 2 Axes>"
            ],
            "image/png": "[encoded data removed]"
          },
          "metadata": {}
        }
      ]
    },
    {
      "cell_type": "code",
      "source": [
        "cm_display_2.plot()\n",
        "plt.show()"
      ],
      "metadata": {
        "colab": {
          "base_uri": "https://localhost:8080/",
          "height": 285
        },
        "id": "yFrk5u07XY3X",
        "outputId": "481d1ea8-077a-457b-a5f6-9f4786622f25"
      },
      "execution_count": null,
      "outputs": [
        {
          "output_type": "display_data",
          "data": {
            "text/plain": [
              "<Figure size 432x288 with 2 Axes>"
            ],
            "image/png": "[encoded data removed]"
          },
          "metadata": {}
        }
      ]
    }
  ]
}