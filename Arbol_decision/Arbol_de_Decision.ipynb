{
  "nbformat": 4,
  "nbformat_minor": 0,
  "metadata": {
    "colab": {
      "provenance": []
    },
    "kernelspec": {
      "name": "python3",
      "display_name": "Python 3"
    },
    "language_info": {
      "name": "python"
    }
  },
  "cells": [
    {
      "cell_type": "code",
      "execution_count": null,
      "metadata": {
        "id": "uyOn0JEwMu1Q"
      },
      "outputs": [],
      "source": [
        "import pandas as pd #principal herramienta de gestion de datasets como dataframe\n",
        "import numpy as np #para trabajar con arrays y algunas cuestiones estadisticas\n",
        "from sklearn import preprocessing #procesamiento de detasets \n",
        "from sklearn.metrics import mean_squared_error #herramienta estadistica para medir errores\n",
        "import seaborn as sns #herramienta grafica\n",
        "sns.set()\n",
        "from sklearn.model_selection import train_test_split #para separar el dataset en entrenamiento y testeo\n",
        "from sklearn.tree import DecisionTreeClassifier #modelo de arbol\n",
        "from sklearn.metrics import confusion_matrix #para crear la matriz de confusión\n",
        "from sklearn.metrics import ConfusionMatrixDisplay #para graficar la matriz de confusión\n",
        "from sklearn.model_selection import GridSearchCV #para optimización de hiperparámetro\n",
        "import joblib ]#airve para bajar el modelo entrenado y guardarlo como un achivo\n",
        "from sklearn import tree #modelo de arbol\n",
        "import matplotlib.pyplot #herramienta grafica\n",
        "import matplotlib.pyplot as plt #herramienta grafica\n",
        "from sklearn.model_selection import cross_validate #para validacion cruzada \n",
        "from sklearn.metrics import accuracy_score #metrica accuracy\n",
        "from sklearn.metrics import precision_score #metrica precisión\n",
        "from sklearn.metrics import recall_score #metrica recall\n",
        "from sklearn.metrics import f1_score #metrica f1 score\n",
        "import warnings #evita que se llene de warnings el script\n",
        "warnings.filterwarnings(\"ignore\", category=FutureWarning) #evita que se llene de warnings el script\n"
      ]
    },
    {
      "cell_type": "code",
      "source": [
        "#clono el repositorio"
      ],
      "metadata": {
        "id": "Pig8SYu3bs-T"
      },
      "execution_count": null,
      "outputs": []
    },
    {
      "cell_type": "code",
      "source": [
        "!git clone https://github.com/soyHenry/Datathon.git"
      ],
      "metadata": {
        "colab": {
          "base_uri": "https://localhost:8080/"
        },
        "id": "XH04FqvCNn4e",
        "outputId": "33b70f33-e869-4126-95ce-a8b7f319a3fb"
      },
      "execution_count": null,
      "outputs": [
        {
          "output_type": "stream",
          "name": "stdout",
          "text": [
            "Cloning into 'Datathon'...\n",
            "remote: Enumerating objects: 83, done.\u001b[K\n",
            "remote: Counting objects: 100% (33/33), done.\u001b[K\n",
            "remote: Compressing objects: 100% (23/23), done.\u001b[K\n",
            "remote: Total 83 (delta 15), reused 20 (delta 10), pack-reused 50\u001b[K\n",
            "Unpacking objects: 100% (83/83), done.\n"
          ]
        }
      ]
    },
    {
      "cell_type": "code",
      "source": [
        "#ingesto los datos en dataframe de pandas"
      ],
      "metadata": {
        "id": "vpSh8kMVbtl0"
      },
      "execution_count": null,
      "outputs": []
    },
    {
      "cell_type": "code",
      "source": [
        "df_train=pd.read_csv('Datathon/hospitalizaciones_train.csv')"
      ],
      "metadata": {
        "id": "fvq8VBGrNnz5"
      },
      "execution_count": null,
      "outputs": []
    },
    {
      "cell_type": "code",
      "source": [
        "df1=df_train.copy() #realizo una copia para trabajar con back up de los datos crudos "
      ],
      "metadata": {
        "id": "Af1tEWKWNnvG"
      },
      "execution_count": null,
      "outputs": []
    },
    {
      "cell_type": "code",
      "source": [
        "#creo una funcion para adaptar la columna label a categórica"
      ],
      "metadata": {
        "id": "bf0bQL5vb3bv"
      },
      "execution_count": null,
      "outputs": []
    },
    {
      "cell_type": "code",
      "source": [
        "def transf_label(df):\n",
        "    lista_dias=df['Stay (in days)']\n",
        "    lista_estancia=[]\n",
        "    for i in lista_dias:\n",
        "        if i <=8: \n",
        "            i=0\n",
        "        elif i>8:\n",
        "            i=1\n",
        "        lista_estancia.append(i)\n",
        "    array_estancia=np.array(lista_estancia)\n",
        "    array_estancia.reshape(1,-1)\n",
        "    array_estancia.shape\n",
        "    df['estancia']=array_estancia\n",
        "    df.drop(columns=['Stay (in days)'], inplace=True)\n",
        "    return df"
      ],
      "metadata": {
        "id": "5sATJ82MNbLO"
      },
      "execution_count": null,
      "outputs": []
    },
    {
      "cell_type": "code",
      "source": [
        "#aplico la función"
      ],
      "metadata": {
        "id": "BoH52TVpb41-"
      },
      "execution_count": null,
      "outputs": []
    },
    {
      "cell_type": "code",
      "source": [
        "transf_label(df1)"
      ],
      "metadata": {
        "colab": {
          "base_uri": "https://localhost:8080/",
          "height": 713
        },
        "id": "ISXDbR_INr-S",
        "outputId": "8b80c5a4-13dd-4588-ccb4-4fa53cee4115"
      },
      "execution_count": null,
      "outputs": [
        {
          "output_type": "execute_result",
          "data": {
            "text/plain": [
              "        Available Extra Rooms in Hospital  Department Ward_Facility_Code  \\\n",
              "0                                       4  gynecology                  D   \n",
              "1                                       4  gynecology                  B   \n",
              "2                                       2  gynecology                  B   \n",
              "3                                       4  gynecology                  D   \n",
              "4                                       2  anesthesia                  E   \n",
              "...                                   ...         ...                ...   \n",
              "409995                                  1  gynecology                  D   \n",
              "409996                                  5  gynecology                  D   \n",
              "409997                                  4  gynecology                  D   \n",
              "409998                                 10  gynecology                  D   \n",
              "409999                                  3  gynecology                  F   \n",
              "\n",
              "       doctor_name  staff_available  patientid    Age  gender  \\\n",
              "0        Dr Sophia                0      33070  41-50  Female   \n",
              "1        Dr Sophia                2      34808  31-40  Female   \n",
              "2        Dr Sophia                8      44577  21-30  Female   \n",
              "3        Dr Olivia                7       3695  31-40  Female   \n",
              "4          Dr Mark               10     108956  71-80    Male   \n",
              "...            ...              ...        ...    ...     ...   \n",
              "409995    Dr Sarah                1      63105  31-40  Female   \n",
              "409996   Dr Nathan                5     129292  21-30  Female   \n",
              "409997    Dr Sarah                9      11399  21-30  Female   \n",
              "409998   Dr Olivia               10      75003  21-30  Female   \n",
              "409999   Dr Nathan                0     128183  41-50  Female   \n",
              "\n",
              "       Type of Admission Severity of Illness health_conditions  \\\n",
              "0                 Trauma             Extreme          Diabetes   \n",
              "1                 Trauma               Minor     Heart disease   \n",
              "2                 Trauma             Extreme          Diabetes   \n",
              "3                 Urgent            Moderate              None   \n",
              "4                 Trauma            Moderate          Diabetes   \n",
              "...                  ...                 ...               ...   \n",
              "409995            Trauma               Minor           Asthama   \n",
              "409996            Trauma             Extreme             Other   \n",
              "409997         Emergency               Minor           Asthama   \n",
              "409998            Trauma            Moderate             Other   \n",
              "409999            Trauma               Minor             Other   \n",
              "\n",
              "        Visitors with Patient Insurance  Admission_Deposit  estancia  \n",
              "0                           4       Yes        2966.408696         0  \n",
              "1                           2        No        3554.835677         1  \n",
              "2                           2       Yes        5624.733654         0  \n",
              "3                           4        No        4814.149231         0  \n",
              "4                           2        No        5169.269637         1  \n",
              "...                       ...       ...                ...       ...  \n",
              "409995                      3       Yes        3902.291076         0  \n",
              "409996                      4        No        4771.995223         1  \n",
              "409997                      4       Yes        3816.994210         1  \n",
              "409998                      2       Yes        3841.577491         1  \n",
              "409999                      8       Yes        4329.046412         0  \n",
              "\n",
              "[410000 rows x 15 columns]"
            ],
            "text/html": [
              "\n",
              "  <div id=\"df-9a81d691-69c8-465e-bdfe-2984abdd1c3e\">\n",
              "    <div class=\"colab-df-container\">\n",
              "      <div>\n",
              "<style scoped>\n",
              "    .dataframe tbody tr th:only-of-type {\n",
              "        vertical-align: middle;\n",
              "    }\n",
              "\n",
              "    .dataframe tbody tr th {\n",
              "        vertical-align: top;\n",
              "    }\n",
              "\n",
              "    .dataframe thead th {\n",
              "        text-align: right;\n",
              "    }\n",
              "</style>\n",
              "<table border=\"1\" class=\"dataframe\">\n",
              "  <thead>\n",
              "    <tr style=\"text-align: right;\">\n",
              "      <th></th>\n",
              "      <th>Available Extra Rooms in Hospital</th>\n",
              "      <th>Department</th>\n",
              "      <th>Ward_Facility_Code</th>\n",
              "      <th>doctor_name</th>\n",
              "      <th>staff_available</th>\n",
              "      <th>patientid</th>\n",
              "      <th>Age</th>\n",
              "      <th>gender</th>\n",
              "      <th>Type of Admission</th>\n",
              "      <th>Severity of Illness</th>\n",
              "      <th>health_conditions</th>\n",
              "      <th>Visitors with Patient</th>\n",
              "      <th>Insurance</th>\n",
              "      <th>Admission_Deposit</th>\n",
              "      <th>estancia</th>\n",
              "    </tr>\n",
              "  </thead>\n",
              "  <tbody>\n",
              "    <tr>\n",
              "      <th>0</th>\n",
              "      <td>4</td>\n",
              "      <td>gynecology</td>\n",
              "      <td>D</td>\n",
              "      <td>Dr Sophia</td>\n",
              "      <td>0</td>\n",
              "      <td>33070</td>\n",
              "      <td>41-50</td>\n",
              "      <td>Female</td>\n",
              "      <td>Trauma</td>\n",
              "      <td>Extreme</td>\n",
              "      <td>Diabetes</td>\n",
              "      <td>4</td>\n",
              "      <td>Yes</td>\n",
              "      <td>2966.408696</td>\n",
              "      <td>0</td>\n",
              "    </tr>\n",
              "    <tr>\n",
              "      <th>1</th>\n",
              "      <td>4</td>\n",
              "      <td>gynecology</td>\n",
              "      <td>B</td>\n",
              "      <td>Dr Sophia</td>\n",
              "      <td>2</td>\n",
              "      <td>34808</td>\n",
              "      <td>31-40</td>\n",
              "      <td>Female</td>\n",
              "      <td>Trauma</td>\n",
              "      <td>Minor</td>\n",
              "      <td>Heart disease</td>\n",
              "      <td>2</td>\n",
              "      <td>No</td>\n",
              "      <td>3554.835677</td>\n",
              "      <td>1</td>\n",
              "    </tr>\n",
              "    <tr>\n",
              "      <th>2</th>\n",
              "      <td>2</td>\n",
              "      <td>gynecology</td>\n",
              "      <td>B</td>\n",
              "      <td>Dr Sophia</td>\n",
              "      <td>8</td>\n",
              "      <td>44577</td>\n",
              "      <td>21-30</td>\n",
              "      <td>Female</td>\n",
              "      <td>Trauma</td>\n",
              "      <td>Extreme</td>\n",
              "      <td>Diabetes</td>\n",
              "      <td>2</td>\n",
              "      <td>Yes</td>\n",
              "      <td>5624.733654</td>\n",
              "      <td>0</td>\n",
              "    </tr>\n",
              "    <tr>\n",
              "      <th>3</th>\n",
              "      <td>4</td>\n",
              "      <td>gynecology</td>\n",
              "      <td>D</td>\n",
              "      <td>Dr Olivia</td>\n",
              "      <td>7</td>\n",
              "      <td>3695</td>\n",
              "      <td>31-40</td>\n",
              "      <td>Female</td>\n",
              "      <td>Urgent</td>\n",
              "      <td>Moderate</td>\n",
              "      <td>None</td>\n",
              "      <td>4</td>\n",
              "      <td>No</td>\n",
              "      <td>4814.149231</td>\n",
              "      <td>0</td>\n",
              "    </tr>\n",
              "    <tr>\n",
              "      <th>4</th>\n",
              "      <td>2</td>\n",
              "      <td>anesthesia</td>\n",
              "      <td>E</td>\n",
              "      <td>Dr Mark</td>\n",
              "      <td>10</td>\n",
              "      <td>108956</td>\n",
              "      <td>71-80</td>\n",
              "      <td>Male</td>\n",
              "      <td>Trauma</td>\n",
              "      <td>Moderate</td>\n",
              "      <td>Diabetes</td>\n",
              "      <td>2</td>\n",
              "      <td>No</td>\n",
              "      <td>5169.269637</td>\n",
              "      <td>1</td>\n",
              "    </tr>\n",
              "    <tr>\n",
              "      <th>...</th>\n",
              "      <td>...</td>\n",
              "      <td>...</td>\n",
              "      <td>...</td>\n",
              "      <td>...</td>\n",
              "      <td>...</td>\n",
              "      <td>...</td>\n",
              "      <td>...</td>\n",
              "      <td>...</td>\n",
              "      <td>...</td>\n",
              "      <td>...</td>\n",
              "      <td>...</td>\n",
              "      <td>...</td>\n",
              "      <td>...</td>\n",
              "      <td>...</td>\n",
              "      <td>...</td>\n",
              "    </tr>\n",
              "    <tr>\n",
              "      <th>409995</th>\n",
              "      <td>1</td>\n",
              "      <td>gynecology</td>\n",
              "      <td>D</td>\n",
              "      <td>Dr Sarah</td>\n",
              "      <td>1</td>\n",
              "      <td>63105</td>\n",
              "      <td>31-40</td>\n",
              "      <td>Female</td>\n",
              "      <td>Trauma</td>\n",
              "      <td>Minor</td>\n",
              "      <td>Asthama</td>\n",
              "      <td>3</td>\n",
              "      <td>Yes</td>\n",
              "      <td>3902.291076</td>\n",
              "      <td>0</td>\n",
              "    </tr>\n",
              "    <tr>\n",
              "      <th>409996</th>\n",
              "      <td>5</td>\n",
              "      <td>gynecology</td>\n",
              "      <td>D</td>\n",
              "      <td>Dr Nathan</td>\n",
              "      <td>5</td>\n",
              "      <td>129292</td>\n",
              "      <td>21-30</td>\n",
              "      <td>Female</td>\n",
              "      <td>Trauma</td>\n",
              "      <td>Extreme</td>\n",
              "      <td>Other</td>\n",
              "      <td>4</td>\n",
              "      <td>No</td>\n",
              "      <td>4771.995223</td>\n",
              "      <td>1</td>\n",
              "    </tr>\n",
              "    <tr>\n",
              "      <th>409997</th>\n",
              "      <td>4</td>\n",
              "      <td>gynecology</td>\n",
              "      <td>D</td>\n",
              "      <td>Dr Sarah</td>\n",
              "      <td>9</td>\n",
              "      <td>11399</td>\n",
              "      <td>21-30</td>\n",
              "      <td>Female</td>\n",
              "      <td>Emergency</td>\n",
              "      <td>Minor</td>\n",
              "      <td>Asthama</td>\n",
              "      <td>4</td>\n",
              "      <td>Yes</td>\n",
              "      <td>3816.994210</td>\n",
              "      <td>1</td>\n",
              "    </tr>\n",
              "    <tr>\n",
              "      <th>409998</th>\n",
              "      <td>10</td>\n",
              "      <td>gynecology</td>\n",
              "      <td>D</td>\n",
              "      <td>Dr Olivia</td>\n",
              "      <td>10</td>\n",
              "      <td>75003</td>\n",
              "      <td>21-30</td>\n",
              "      <td>Female</td>\n",
              "      <td>Trauma</td>\n",
              "      <td>Moderate</td>\n",
              "      <td>Other</td>\n",
              "      <td>2</td>\n",
              "      <td>Yes</td>\n",
              "      <td>3841.577491</td>\n",
              "      <td>1</td>\n",
              "    </tr>\n",
              "    <tr>\n",
              "      <th>409999</th>\n",
              "      <td>3</td>\n",
              "      <td>gynecology</td>\n",
              "      <td>F</td>\n",
              "      <td>Dr Nathan</td>\n",
              "      <td>0</td>\n",
              "      <td>128183</td>\n",
              "      <td>41-50</td>\n",
              "      <td>Female</td>\n",
              "      <td>Trauma</td>\n",
              "      <td>Minor</td>\n",
              "      <td>Other</td>\n",
              "      <td>8</td>\n",
              "      <td>Yes</td>\n",
              "      <td>4329.046412</td>\n",
              "      <td>0</td>\n",
              "    </tr>\n",
              "  </tbody>\n",
              "</table>\n",
              "<p>410000 rows × 15 columns</p>\n",
              "</div>\n",
              "      <button class=\"colab-df-convert\" onclick=\"convertToInteractive('df-9a81d691-69c8-465e-bdfe-2984abdd1c3e')\"\n",
              "              title=\"Convert this dataframe to an interactive table.\"\n",
              "              style=\"display:none;\">\n",
              "        \n",
              "  <svg xmlns=\"http://www.w3.org/2000/svg\" height=\"24px\"viewBox=\"0 0 24 24\"\n",
              "       width=\"24px\">\n",
              "    <path d=\"M0 0h24v24H0V0z\" fill=\"none\"/>\n",
              "    <path d=\"M18.56 5.44l.94 2.06.94-2.06 2.06-.94-2.06-.94-.94-2.06-.94 2.06-2.06.94zm-11 1L8.5 8.5l.94-2.06 2.06-.94-2.06-.94L8.5 2.5l-.94 2.06-2.06.94zm10 10l.94 2.06.94-2.06 2.06-.94-2.06-.94-.94-2.06-.94 2.06-2.06.94z\"/><path d=\"M17.41 7.96l-1.37-1.37c-.4-.4-.92-.59-1.43-.59-.52 0-1.04.2-1.43.59L10.3 9.45l-7.72 7.72c-.78.78-.78 2.05 0 2.83L4 21.41c.39.39.9.59 1.41.59.51 0 1.02-.2 1.41-.59l7.78-7.78 2.81-2.81c.8-.78.8-2.07 0-2.86zM5.41 20L4 18.59l7.72-7.72 1.47 1.35L5.41 20z\"/>\n",
              "  </svg>\n",
              "      </button>\n",
              "      \n",
              "  <style>\n",
              "    .colab-df-container {\n",
              "      display:flex;\n",
              "      flex-wrap:wrap;\n",
              "      gap: 12px;\n",
              "    }\n",
              "\n",
              "    .colab-df-convert {\n",
              "      background-color: #E8F0FE;\n",
              "      border: none;\n",
              "      border-radius: 50%;\n",
              "      cursor: pointer;\n",
              "      display: none;\n",
              "      fill: #1967D2;\n",
              "      height: 32px;\n",
              "      padding: 0 0 0 0;\n",
              "      width: 32px;\n",
              "    }\n",
              "\n",
              "    .colab-df-convert:hover {\n",
              "      background-color: #E2EBFA;\n",
              "      box-shadow: 0px 1px 2px rgba(60, 64, 67, 0.3), 0px 1px 3px 1px rgba(60, 64, 67, 0.15);\n",
              "      fill: #174EA6;\n",
              "    }\n",
              "\n",
              "    [theme=dark] .colab-df-convert {\n",
              "      background-color: #3B4455;\n",
              "      fill: #D2E3FC;\n",
              "    }\n",
              "\n",
              "    [theme=dark] .colab-df-convert:hover {\n",
              "      background-color: #434B5C;\n",
              "      box-shadow: 0px 1px 3px 1px rgba(0, 0, 0, 0.15);\n",
              "      filter: drop-shadow(0px 1px 2px rgba(0, 0, 0, 0.3));\n",
              "      fill: #FFFFFF;\n",
              "    }\n",
              "  </style>\n",
              "\n",
              "      <script>\n",
              "        const buttonEl =\n",
              "          document.querySelector('#df-9a81d691-69c8-465e-bdfe-2984abdd1c3e button.colab-df-convert');\n",
              "        buttonEl.style.display =\n",
              "          google.colab.kernel.accessAllowed ? 'block' : 'none';\n",
              "\n",
              "        async function convertToInteractive(key) {\n",
              "          const element = document.querySelector('#df-9a81d691-69c8-465e-bdfe-2984abdd1c3e');\n",
              "          const dataTable =\n",
              "            await google.colab.kernel.invokeFunction('convertToInteractive',\n",
              "                                                     [key], {});\n",
              "          if (!dataTable) return;\n",
              "\n",
              "          const docLinkHtml = 'Like what you see? Visit the ' +\n",
              "            '<a target=\"_blank\" href=https://colab.research.google.com/notebooks/data_table.ipynb>data table notebook</a>'\n",
              "            + ' to learn more about interactive tables.';\n",
              "          element.innerHTML = '';\n",
              "          dataTable['output_type'] = 'display_data';\n",
              "          await google.colab.output.renderOutput(dataTable, element);\n",
              "          const docLink = document.createElement('div');\n",
              "          docLink.innerHTML = docLinkHtml;\n",
              "          element.appendChild(docLink);\n",
              "        }\n",
              "      </script>\n",
              "    </div>\n",
              "  </div>\n",
              "  "
            ]
          },
          "metadata": {},
          "execution_count": 6
        }
      ]
    },
    {
      "cell_type": "code",
      "source": [
        "#Realizo una transormación de las columnas categoricas a numéricas \n",
        "#con label encoder en las no ordinales y ordinal encoder en las que si"
      ],
      "metadata": {
        "id": "YghzGcE-b-LA"
      },
      "execution_count": null,
      "outputs": []
    },
    {
      "cell_type": "code",
      "source": [
        "le = preprocessing.LabelEncoder()\n",
        "df1['Insurance'] = le.fit_transform(df1['Insurance'])\n",
        "df1['health_conditions'] = le.fit_transform(df1['health_conditions'])\n",
        "df1['Type of Admission'] = le.fit_transform(df1['Type of Admission'])\n",
        "df1['gender'] = le.fit_transform(df1['gender'])\n",
        "df1['doctor_name'] = le.fit_transform(df1['doctor_name'])\n",
        "df1['Ward_Facility_Code'] = le.fit_transform(df1['Ward_Facility_Code'])\n",
        "df1['Department'] = le.fit_transform(df1['Department'])"
      ],
      "metadata": {
        "id": "yvQoUDWrNunG"
      },
      "execution_count": null,
      "outputs": []
    },
    {
      "cell_type": "code",
      "source": [
        "enc = OrdinalEncoder()\n",
        "train_df['Age'] = enc.fit_transform(train_df[['Age']])\n",
        "train_df['Severity of Illness'] = enc.fit_transform(train_df[['Severity of Illness']])"
      ],
      "metadata": {
        "id": "A8p_kLjB5sxG"
      },
      "execution_count": null,
      "outputs": []
    },
    {
      "cell_type": "code",
      "source": [
        "df2=df1.copy() #se generan 2 data frame con distintas columnas para aplicar el modelo y analizar diferencias "
      ],
      "metadata": {
        "id": "bqzy1X68N0g1"
      },
      "execution_count": null,
      "outputs": []
    },
    {
      "cell_type": "code",
      "source": [
        "df3=df1.copy() #se generan 2 data frame con distintas columnas para aplicar el modelo y analizar diferencias "
      ],
      "metadata": {
        "id": "F73DJsu-OVsV"
      },
      "execution_count": null,
      "outputs": []
    },
    {
      "cell_type": "code",
      "source": [
        "# ACONTINUACIÓN SE PUEDE VER TODOS LOS ARBOLES GENERADOS Y SUS METRICAS CONSIDERANDO DISTINTAS FREATURES \n",
        "#_ ESTE PUNTO SE EXPLICA MEJOR EN EL TXT ESTRATEGIA FINAL\n",
        "\n",
        "y1=df1[['estancia']]\n",
        "y2=df2[['estancia']]\n",
        "#TODO _ x=df[['Available Extra Rooms in Hospital','Department','Ward_Facility_Code','doctor_name','staff_available','patientid','Age','gender','Type of Admission','Severity of Illness','health_conditions','Visitors with Patient','Insurance','Admission_Deposit']]\n",
        "X1=df1[['Department','Age','gender','Admission_Deposit']]\n",
        "X2=df2[['Department','Age', 'doctor_name']]\n",
        "'''\n",
        "--------------0.3\n",
        "El valor de la precisión para este modelo es de [0.4560795  0.64296281]\n",
        "El valor de la recall es de [0.25191037 0.81765805]\n",
        "El valor de accuracy es de 0.6039756097560975\n",
        "El f1-score es de:[0.32455593 0.71986336], type[0.32455593 0.71986336]\n",
        "------------0.2\n",
        "El valor de la precisión para este modelo es de [0.45788829 0.64286926]\n",
        "El valor de la recall es de [0.25297475 0.81784306]\n",
        "El valor de accuracy es de 0.6042195121951219\n",
        "El f1-score es de:[0.32589731 0.7198764 ], type[0.32589731 0.7198764 ]\n",
        "\n",
        "'''\n",
        "\n",
        "\n",
        "#X1=df1[['Department','Age', 'doctor_name','gender']]\n",
        "'''\n",
        "------------0.3\n",
        "El valor de la precisión para este modelo es de [0.40814987 0.62924725]\n",
        "El valor de la recall es de [0.20072325 0.82334113]\n",
        "El valor de accuracy es de 0.5881788617886179\n",
        "El f1-score es de:[0.26910424 0.71332684], type[0.26910424 0.71332684]\n",
        "'''\n",
        "\n",
        "#X1=df1[['Department','Age', 'doctor_name','gender','Insurance']]\n",
        "'''\n",
        "---------0.3\n",
        "El valor de la precisión para este modelo es de [0.40814987 0.62924725]\n",
        "El valor de la recall es de [0.20072325 0.82334113]\n",
        "El valor de accuracy es de 0.5881788617886179\n",
        "El f1-score es de:[0.26910424 0.71332684], type[0.26910424 0.71332684]\n",
        "\n",
        "'''\n",
        "\n",
        "#X1=df1[['Department']]\n",
        "'''\n",
        "-------------0.3\n",
        "El valor de la precisión para este modelo es de [0.36356172 0.61923465]\n",
        "El valor de la recall es de [0.17155649 0.81772337]\n",
        "El valor de accuracy es de 0.5736666666666667\n",
        "El f1-score es de:[0.23311251 0.70477027], type[0.23311251 0.70477027]\n",
        "-------------0.2\n",
        "El valor de la precisión para este modelo es de [0.36266978 0.61846282]\n",
        "El valor de la recall es de [0.17048789 0.81778423]\n",
        "El valor de accuracy es de 0.5729878048780488\n",
        "El f1-score es de:[0.23194192 0.70429268], type[0.23194192 0.70429268]\n",
        "'''\n",
        "#con todo menos ID\n",
        "#X1=df1[['Available Extra Rooms in Hospital','Department','Ward_Facility_Code','doctor_name','staff_available','Age','gender','Type of Admission','Severity of Illness','health_conditions','Visitors with Patient','Insurance','Admission_Deposit']]\n",
        "''' \n",
        "---------------0.3\n",
        "El valor de la precisión para este modelo es de [0.39985609 0.6287695 ]\n",
        "El valor de la recall es de [0.23923198 0.78207021]\n",
        "El valor de accuracy es de 0.5770406504065041\n",
        "El f1-score es de:[0.29935894 0.69709109], type[0.29935894 0.69709109]\n",
        "-----0.2\n",
        "El valor de la precisión para este modelo es de [0.39985609 0.6287695 ]\n",
        "El valor de la recall es de [0.23923198 0.78207021]\n",
        "El valor de accuracy es de 0.5770406504065041\n",
        "El f1-score es de:[0.29935894 0.69709109], type[0.29935894 0.69709109]\n",
        "'''\n",
        "# con todo menos id - staff available \n",
        "#X1=df1[['Available Extra Rooms in Hospital','Department','Ward_Facility_Code','doctor_name','Age','gender','Type of Admission','Severity of Illness','health_conditions','Visitors with Patient','Insurance','Admission_Deposit']]\n",
        "'''\n",
        "El valor de la precisión para este modelo es de [0.36356172 0.61923465]\n",
        "El valor de la recall es de [0.17155649 0.81772337]\n",
        "El valor de accuracy es de 0.5736666666666667\n",
        "El f1-score es de:[0.23311251 0.70477027], type[0.23311251 0.70477027]\n",
        "'''"
      ],
      "metadata": {
        "id": "1dwEBo6qNxzl",
        "colab": {
          "base_uri": "https://localhost:8080/",
          "height": 52
        },
        "outputId": "f044b058-83df-404a-9647-14f2789546cf"
      },
      "execution_count": null,
      "outputs": [
        {
          "output_type": "execute_result",
          "data": {
            "text/plain": [
              "'\\nEl valor de la precisión para este modelo es de [0.36356172 0.61923465]\\nEl valor de la recall es de [0.17155649 0.81772337]\\nEl valor de accuracy es de 0.5736666666666667\\nEl f1-score es de:[0.23311251 0.70477027], type[0.23311251 0.70477027]\\n'"
            ],
            "application/vnd.google.colaboratory.intrinsic+json": {
              "type": "string"
            }
          },
          "metadata": {},
          "execution_count": 22
        }
      ]
    },
    {
      "cell_type": "code",
      "source": [
        "#realizo la primera partición de los datos, luego se hará una validación cruzada\n",
        "\n",
        "X1_train, X1_test, y1_train, y1_test = train_test_split(X1, y1, test_size=0.30, random_state=20) \n",
        "\n",
        "# datos, dejo un 30% para testear\n",
        "\n",
        "print(X1_train.shape, y1_train.shape, X1_test.shape, y1_test.shape)"
      ],
      "metadata": {
        "colab": {
          "base_uri": "https://localhost:8080/"
        },
        "id": "SKSj4wCqOa12",
        "outputId": "33c8f530-dbec-4cd0-a202-1962797d93c4"
      },
      "execution_count": null,
      "outputs": [
        {
          "output_type": "stream",
          "name": "stdout",
          "text": [
            "(287000, 3) (287000, 1) (123000, 3) (123000, 1)\n"
          ]
        }
      ]
    },
    {
      "cell_type": "code",
      "source": [
        "#COMO PUEDE VERSE ESTO SE RELIZA DOS VECES PORQUE SE ESTAN RELIZANDO 2 ARBOLES CON DISTINTA CANTIDAD DE FEATURES CADA UNO \n",
        "#PARA COMPARAR SU EFICACIA EN DETECCION DE FALSOS POSITIVOS, ESTE FUE UN PUNTO FLOJO A SOLUCIONAR DURANTE EL PROCESO DE MODELADO"
      ],
      "metadata": {
        "id": "_l3hDrqjcafX"
      },
      "execution_count": null,
      "outputs": []
    },
    {
      "cell_type": "code",
      "source": [
        "#realizo la primera partición de los datos, luego se hará una validación cruzada\n",
        "\n",
        "X2_train, X2_test, y2_train, y2_test = train_test_split(X2, y2, test_size=0.30, random_state=20) \n",
        "\n",
        "# datos, dejo un 30% para testear\n",
        "\n",
        "print(X2_train.shape, y2_train.shape, X2_test.shape, y2_test.shape)"
      ],
      "metadata": {
        "colab": {
          "base_uri": "https://localhost:8080/"
        },
        "id": "PoMQcA7GLjoi",
        "outputId": "7393cb54-261d-4c67-9f44-d3cd89d9d0c4"
      },
      "execution_count": null,
      "outputs": [
        {
          "output_type": "stream",
          "name": "stdout",
          "text": [
            "(287000, 3) (287000, 1) (123000, 3) (123000, 1)\n"
          ]
        }
      ]
    },
    {
      "cell_type": "code",
      "source": [
        "#CON EL SIGUIENTE CODIGO SE DESARROLLO UN ENSAYO DEL HIOPERARÁMETRO OPTIMO CON VALIDACIÓN CRUZADA "
      ],
      "metadata": {
        "id": "cQyr_MMBctDr"
      },
      "execution_count": null,
      "outputs": []
    },
    {
      "cell_type": "code",
      "source": [
        "tree_train_scores_mean = []\n",
        "tree_train_scores_std = []\n",
        "tree_test_scores_mean = []\n",
        "tree_test_scores_std = []\n",
        "\n",
        "profundidades = np.arange(1,8,1)\n",
        "\n",
        "for profundidad in profundidades:\n",
        "    clf = DecisionTreeClassifier(max_depth=profundidad)\n",
        "    tree_scores = cross_validate(clf, X1, y1, cv=3, return_train_score=True, n_jobs = -1)\n",
        "    \n",
        "    tree_train_scores_mean.append(tree_scores['train_score'].mean())\n",
        "    tree_train_scores_std.append(tree_scores['train_score'].std())\n",
        "    \n",
        "    tree_test_scores_mean.append(tree_scores['test_score'].mean())\n",
        "    tree_test_scores_std.append(tree_scores['test_score'].std())\n",
        "\n",
        "tree_train_scores_mean = np.array(tree_train_scores_mean)\n",
        "tree_train_scores_std = np.array(tree_train_scores_std)\n",
        "tree_test_scores_mean = np.array(tree_test_scores_mean)\n",
        "tree_test_scores_std = np.array(tree_test_scores_std)"
      ],
      "metadata": {
        "id": "7_QZ0gGsOlHW"
      },
      "execution_count": null,
      "outputs": []
    },
    {
      "cell_type": "code",
      "source": [
        "#tube que modificar los parámetros porque estaba overfitting, por eso la particion es de cv=3"
      ],
      "metadata": {
        "id": "Yz3pJ8wTF5B9"
      },
      "execution_count": null,
      "outputs": []
    },
    {
      "cell_type": "code",
      "source": [
        "#a continuación se grafica el accuracy en base a los distintos niveles de profundidad del arbol"
      ],
      "metadata": {
        "id": "0sHjTrUQc8CY"
      },
      "execution_count": null,
      "outputs": []
    },
    {
      "cell_type": "code",
      "source": [
        "plt.fill_between(profundidades, tree_train_scores_mean - tree_train_scores_std,\n",
        "                 tree_train_scores_mean + tree_train_scores_std, alpha=0.1,\n",
        "                 color=\"r\")\n",
        "plt.fill_between(profundidades, tree_test_scores_mean - tree_test_scores_std,\n",
        "                 tree_test_scores_mean + tree_test_scores_std, alpha=0.1, color=\"g\")\n",
        "\n",
        "plt.plot(profundidades, tree_train_scores_mean, 'o-', color=\"r\",\n",
        "         label=\"Training score\")\n",
        "plt.plot(profundidades, tree_test_scores_mean, 'o-', color=\"g\",\n",
        "         label=\"Test score\")\n",
        "\n",
        "\n",
        "plt.legend()\n",
        "plt.ylabel('Accuracy')\n",
        "plt.xlabel('Profundidad Arbol de Decision')\n",
        "plt.show()\n"
      ],
      "metadata": {
        "colab": {
          "base_uri": "https://localhost:8080/",
          "height": 285
        },
        "id": "Mrmb9B7oPuAJ",
        "outputId": "5f615146-d98c-447f-e682-44bbf492c580"
      },
      "execution_count": null,
      "outputs": [
        {
          "output_type": "display_data",
          "data": {
            "text/plain": [
              "<Figure size 432x288 with 1 Axes>"
            ],
            "image/png": "[encoded data removed]"
          },
          "metadata": {}
        }
      ]
    },
    {
      "cell_type": "code",
      "source": [
        "#se guarda un archivo con el modelo entrenado "
      ],
      "metadata": {
        "id": "s7yhJMCvdE-Y"
      },
      "execution_count": null,
      "outputs": []
    },
    {
      "cell_type": "code",
      "source": [
        "joblib.dump(clf,'Arbol_entrenado_Colab')"
      ],
      "metadata": {
        "colab": {
          "base_uri": "https://localhost:8080/"
        },
        "id": "BXsUgPOCOqJ9",
        "outputId": "a63c3838-4124-4998-c51b-46dbc8612a17"
      },
      "execution_count": null,
      "outputs": [
        {
          "output_type": "execute_result",
          "data": {
            "text/plain": [
              "['Arbol_entrenado_Colab']"
            ]
          },
          "metadata": {},
          "execution_count": 19
        }
      ]
    },
    {
      "cell_type": "code",
      "source": [
        "#nuevo arbol para subir el accuracy\n",
        "clf2 = DecisionTreeClassifier(max_depth=5)\n",
        "clf2.fit(X2_train, y2_train)"
      ],
      "metadata": {
        "colab": {
          "base_uri": "https://localhost:8080/"
        },
        "id": "I1qHVQUuRKGG",
        "outputId": "f46eeb62-99f0-484c-bb2e-34162d00dfb5"
      },
      "execution_count": null,
      "outputs": [
        {
          "output_type": "execute_result",
          "data": {
            "text/plain": [
              "DecisionTreeClassifier(max_depth=5)"
            ]
          },
          "metadata": {},
          "execution_count": 19
        }
      ]
    },
    {
      "cell_type": "code",
      "source": [
        "#se predice con el nuevo arbol"
      ],
      "metadata": {
        "id": "pKoj2QiFdJjT"
      },
      "execution_count": null,
      "outputs": []
    },
    {
      "cell_type": "code",
      "source": [
        "y2_train_pred = clf2.predict(X2_train)\n",
        "y2_test_pred = clf2.predict(X2_test)"
      ],
      "metadata": {
        "id": "gpFnSbr2R6-4"
      },
      "execution_count": null,
      "outputs": []
    },
    {
      "cell_type": "code",
      "source": [
        "#medición de metricas "
      ],
      "metadata": {
        "id": "CY6AuBOAdN7q"
      },
      "execution_count": null,
      "outputs": []
    },
    {
      "cell_type": "code",
      "source": [
        "from sklearn import metrics\n",
        "\n",
        "print(\"accuracy: \", metrics.accuracy_score(y2_test,y2_test_pred))\n",
        "print(\"Recall: \", metrics.recall_score(y2_test,y2_test_pred))\n",
        "print(\"F1score:\", metrics.f1_score(y2_test,y2_test_pred))"
      ],
      "metadata": {
        "colab": {
          "base_uri": "https://localhost:8080/"
        },
        "id": "nkVTII2tGtUE",
        "outputId": "060baf56-9967-4f9a-e4d1-78c8c0c8e082"
      },
      "execution_count": null,
      "outputs": [
        {
          "output_type": "stream",
          "name": "stdout",
          "text": [
            "accuracy:  0.688260162601626\n",
            "Recall:  0.9999869727208776\n",
            "F1score: 0.8001521895489562\n"
          ]
        }
      ]
    },
    {
      "cell_type": "code",
      "source": [
        "#analisis de las mismas metricas pero en comparación con el valor supuesto (enh los bloques se comprar ambos arboles con distintos features)"
      ],
      "metadata": {
        "id": "OpZbtlrjdQ1k"
      },
      "execution_count": null,
      "outputs": []
    },
    {
      "cell_type": "code",
      "source": [
        "#EXACTITUD\n",
        "exactitud = accuracy_score(y2_test, y2_test_pred)\n",
        "\n",
        "#PRECISION\n",
        "precision = precision_score(y2_test, y2_test_pred, average= None)\n",
        "\n",
        "#EXAHUSTIVIDAD/RECALL/SENSIBILIDAD\n",
        "recall1= recall_score(y2_test, y2_test_pred, average= None)\n",
        "\n",
        "#F1-SCORE\n",
        "precision1 = f1_score(y2_test, y2_test_pred, average= None)\n",
        "\n",
        "print(f'El valor de la precisión para este modelo es de {precision}')\n",
        "print(f'El valor de la recall es de {recall1}')\n",
        "print(f'El valor de accuracy es de {exactitud}')\n",
        "print(f'El f1-score es de:{precision1}, type{precision1}')"
      ],
      "metadata": {
        "colab": {
          "base_uri": "https://localhost:8080/"
        },
        "id": "H4ifHedPMAA5",
        "outputId": "a550d691-a0db-4b1e-8de7-4f8cacf92e09"
      },
      "execution_count": null,
      "outputs": [
        {
          "output_type": "stream",
          "name": "stdout",
          "text": [
            "El valor de la precisión para este modelo es de [0.99987335 0.66688386]\n",
            "El valor de la recall es de [0.170747   0.99998697]\n",
            "El valor de accuracy es de 0.688260162601626\n",
            "El f1-score es de:[0.2916836  0.80015219], type[0.2916836  0.80015219]\n"
          ]
        }
      ]
    },
    {
      "cell_type": "code",
      "source": [
        "#EXACTITUD\n",
        "exactitud = accuracy_score(y1_test, y1_test_pred)\n",
        "\n",
        "#PRECISION\n",
        "precision = precision_score(y1_test, y1_test_pred, average= None)\n",
        "\n",
        "#EXAHUSTIVIDAD/RECALL/SENSIBILIDAD\n",
        "recall1= recall_score(y1_test, y1_test_pred, average= None)\n",
        "\n",
        "#F1-SCORE\n",
        "precision1 = f1_score(y1_test, y1_test_pred, average= None)\n",
        "\n",
        "print(f'El valor de la precisión para este modelo es de {precision}')\n",
        "print(f'El valor de la recall es de {recall1}')\n",
        "print(f'El valor de accuracy es de {exactitud}')\n",
        "print(f'El f1-score es de:{precision1}, type{precision1}')"
      ],
      "metadata": {
        "colab": {
          "base_uri": "https://localhost:8080/"
        },
        "id": "2gH4XUILR90V",
        "outputId": "54f0454c-c2ef-4551-fa94-196ebfdfbc93"
      },
      "execution_count": null,
      "outputs": [
        {
          "output_type": "stream",
          "name": "stdout",
          "text": [
            "El valor de la precisión para este modelo es de [0.99987335 0.66688386]\n",
            "El valor de la recall es de [0.170747   0.99998697]\n",
            "El valor de accuracy es de 0.688260162601626\n",
            "El f1-score es de:[0.2916836  0.80015219], type[0.2916836  0.80015219]\n"
          ]
        }
      ]
    },
    {
      "cell_type": "code",
      "source": [
        "#Se ensayo con validación cruzada "
      ],
      "metadata": {
        "id": "bSUf70Y9dfQa"
      },
      "execution_count": null,
      "outputs": []
    },
    {
      "cell_type": "code",
      "source": [
        "from sklearn.model_selection import cross_validate\n",
        "#clf2_scores = cross_validate(clf2, X1, y1, cv=5, scoring = ['accuracy'])"
      ],
      "metadata": {
        "id": "fBPZxuv5RbE2"
      },
      "execution_count": null,
      "outputs": []
    },
    {
      "cell_type": "code",
      "source": [
        "#se reliza la predicció del primer arbol pero con la valización cruzada "
      ],
      "metadata": {
        "id": "KXgNkzS8djX9"
      },
      "execution_count": null,
      "outputs": []
    },
    {
      "cell_type": "code",
      "source": [
        "y1_train_pred=clf2.predict(X1_train)\n",
        "y1_test_pred = clf2.predict(X1_test)\n"
      ],
      "metadata": {
        "id": "G1WRjJ9FQrxe"
      },
      "execution_count": null,
      "outputs": []
    },
    {
      "cell_type": "code",
      "source": [
        "#y se vuelven a medir la metricas"
      ],
      "metadata": {
        "id": "ypjaPPEbdtxu"
      },
      "execution_count": null,
      "outputs": []
    },
    {
      "cell_type": "code",
      "source": [
        "#EXACTITUD\n",
        "exactitud = accuracy_score(y1_test, y1_test_pred)\n",
        "\n",
        "#PRECISION\n",
        "precision = precision_score(y1_test, y1_test_pred, average= None)\n",
        "\n",
        "#EXAHUSTIVIDAD/RECALL/SENSIBILIDAD\n",
        "recall1= recall_score(y1_test, y1_test_pred, average= None)\n",
        "\n",
        "#F1-SCORE\n",
        "precision1 = f1_score(y1_test, y1_test_pred, average= None)\n",
        "\n",
        "print(f'El valor de la precisión para este modelo es de {precision}')\n",
        "print(f'El valor de la recall es de {recall1}')\n",
        "print(f'El valor de accuracy es de {exactitud}')\n",
        "print(f'El f1-score es de:{precision1}, type{precision1}')"
      ],
      "metadata": {
        "colab": {
          "base_uri": "https://localhost:8080/"
        },
        "id": "5sJKSxwDQaQV",
        "outputId": "f06b2e11-13fe-4c2d-935f-67a5147ccd87"
      },
      "execution_count": null,
      "outputs": [
        {
          "output_type": "stream",
          "name": "stdout",
          "text": [
            "El valor de la precisión para este modelo es de [0.99987335 0.66688386]\n",
            "El valor de la recall es de [0.170747   0.99998697]\n",
            "El valor de accuracy es de 0.688260162601626\n",
            "El f1-score es de:[0.2916836  0.80015219], type[0.2916836  0.80015219]\n"
          ]
        }
      ]
    },
    {
      "cell_type": "code",
      "source": [
        "#se desarrolla y grafica la matriz de confusion para comprender donde hay margen para subrir el accuracy y que debemos sacrificar"
      ],
      "metadata": {
        "id": "YTCIefj-d07w"
      },
      "execution_count": null,
      "outputs": []
    },
    {
      "cell_type": "code",
      "source": [
        "#MATRIZ"
      ],
      "metadata": {
        "id": "IlQiWB_KXCqE"
      },
      "execution_count": null,
      "outputs": []
    },
    {
      "cell_type": "code",
      "source": [
        "matrix = confusion_matrix(y1_train, y1_train_pred)\n",
        "matrix_2 = confusion_matrix(y1_test, y1_test_pred)"
      ],
      "metadata": {
        "id": "hIurbqFjXCPV"
      },
      "execution_count": null,
      "outputs": []
    },
    {
      "cell_type": "code",
      "source": [
        "cm_display = ConfusionMatrixDisplay(matrix)\n",
        "cm_display_2 = ConfusionMatrixDisplay(matrix_2)\n"
      ],
      "metadata": {
        "id": "D1RBM8ZLXUaN"
      },
      "execution_count": null,
      "outputs": []
    },
    {
      "cell_type": "code",
      "source": [
        "cm_display.plot()\n",
        "plt.show()"
      ],
      "metadata": {
        "colab": {
          "base_uri": "https://localhost:8080/",
          "height": 285
        },
        "id": "Pl_lGGP9XY7m",
        "outputId": "a24e44f7-22a1-4594-cdcb-2669310961af"
      },
      "execution_count": null,
      "outputs": [
        {
          "output_type": "display_data",
          "data": {
            "text/plain": [
              "<Figure size 432x288 with 2 Axes>"
            ],
            "image/png": "[encoded data removed]"
          },
          "metadata": {}
        }
      ]
    },
    {
      "cell_type": "code",
      "source": [
        "#se observa que el modelo funciona muy bien para los valores de entrenamiento pero tiene MUCHISIMOS falsos positivos en el muestreo "
      ],
      "metadata": {
        "id": "UbVw287ceBYU"
      },
      "execution_count": null,
      "outputs": []
    },
    {
      "cell_type": "code",
      "source": [
        "cm_display_2.plot()\n",
        "plt.show()"
      ],
      "metadata": {
        "colab": {
          "base_uri": "https://localhost:8080/",
          "height": 285
        },
        "id": "yFrk5u07XY3X",
        "outputId": "8a8cd6a5-0701-4d56-c685-5db8e856d435"
      },
      "execution_count": null,
      "outputs": [
        {
          "output_type": "display_data",
          "data": {
            "text/plain": [
              "<Figure size 432x288 with 2 Axes>"
            ],
            "image/png": "[encoded data removed]"
          },
          "metadata": {}
        }
      ]
    },
    {
      "cell_type": "code",
      "source": [
        "#se grafica el arbol para analizar los valores de gini de las ramas y optimizar el mismo"
      ],
      "metadata": {
        "id": "VcLo0Qg-eXSM"
      },
      "execution_count": null,
      "outputs": []
    },
    {
      "cell_type": "code",
      "source": [
        "tree.plot_tree(clf2.fit(X1_train, y1_train))"
      ],
      "metadata": {
        "colab": {
          "base_uri": "https://localhost:8080/",
          "height": 612
        },
        "id": "1slhZNK7SaZd",
        "outputId": "131dc36c-8fa9-4a13-e200-e482a281ccae"
      },
      "execution_count": null,
      "outputs": [
        {
          "output_type": "execute_result",
          "data": {
            "text/plain": [
              "[Text(0.5, 0.9166666666666666, 'X[1] <= 4.5\\ngini = 0.47\\nsamples = 328000\\nvalue = [123573, 204427]'),\n",
              " Text(0.4230769230769231, 0.75, 'X[0] <= 1.5\\ngini = 0.494\\nsamples = 277794\\nvalue = [123573, 154221]'),\n",
              " Text(0.23076923076923078, 0.5833333333333334, 'X[0] <= 0.5\\ngini = 0.048\\nsamples = 21628\\nvalue = [529, 21099]'),\n",
              " Text(0.15384615384615385, 0.4166666666666667, 'X[1] <= 2.5\\ngini = 0.126\\nsamples = 7849\\nvalue = [529, 7320]'),\n",
              " Text(0.07692307692307693, 0.25, 'gini = 0.0\\nsamples = 2120\\nvalue = [0, 2120]'),\n",
              " Text(0.23076923076923078, 0.25, 'X[1] <= 3.5\\ngini = 0.168\\nsamples = 5729\\nvalue = [529, 5200]'),\n",
              " Text(0.15384615384615385, 0.08333333333333333, 'gini = 0.244\\nsamples = 2916\\nvalue = [414, 2502]'),\n",
              " Text(0.3076923076923077, 0.08333333333333333, 'gini = 0.078\\nsamples = 2813\\nvalue = [115, 2698]'),\n",
              " Text(0.3076923076923077, 0.4166666666666667, 'gini = 0.0\\nsamples = 13779\\nvalue = [0, 13779]'),\n",
              " Text(0.6153846153846154, 0.5833333333333334, 'X[0] <= 2.5\\ngini = 0.499\\nsamples = 256166\\nvalue = [123044, 133122]'),\n",
              " Text(0.46153846153846156, 0.4166666666666667, 'X[1] <= 1.5\\ngini = 0.495\\nsamples = 225233\\nvalue = [101821, 123412]'),\n",
              " Text(0.38461538461538464, 0.25, 'gini = 0.491\\nsamples = 29485\\nvalue = [12735, 16750]'),\n",
              " Text(0.5384615384615384, 0.25, 'X[1] <= 3.5\\ngini = 0.496\\nsamples = 195748\\nvalue = [89086, 106662]'),\n",
              " Text(0.46153846153846156, 0.08333333333333333, 'gini = 0.496\\nsamples = 158596\\nvalue = [72343, 86253]'),\n",
              " Text(0.6153846153846154, 0.08333333333333333, 'gini = 0.495\\nsamples = 37152\\nvalue = [16743, 20409]'),\n",
              " Text(0.7692307692307693, 0.4166666666666667, 'X[1] <= 2.5\\ngini = 0.431\\nsamples = 30933\\nvalue = [21223, 9710]'),\n",
              " Text(0.6923076923076923, 0.25, 'gini = 0.0\\nsamples = 8742\\nvalue = [0, 8742]'),\n",
              " Text(0.8461538461538461, 0.25, 'X[0] <= 3.5\\ngini = 0.083\\nsamples = 22191\\nvalue = [21223, 968]'),\n",
              " Text(0.7692307692307693, 0.08333333333333333, 'gini = 0.0\\nsamples = 21224\\nvalue = [21222, 2]'),\n",
              " Text(0.9230769230769231, 0.08333333333333333, 'gini = 0.002\\nsamples = 967\\nvalue = [1, 966]'),\n",
              " Text(0.5769230769230769, 0.75, 'gini = 0.0\\nsamples = 50206\\nvalue = [0, 50206]')]"
            ]
          },
          "metadata": {},
          "execution_count": 38
        },
        {
          "output_type": "display_data",
          "data": {
            "text/plain": [
              "<Figure size 432x288 with 1 Axes>"
            ],
            "image/png": "[encoded data removed]"
          },
          "metadata": {}
        }
      ]
    },
    {
      "cell_type": "code",
      "source": [
        "joblib.dump(clf2,'Arbol_entrenado_2_Colab')"
      ],
      "metadata": {
        "colab": {
          "base_uri": "https://localhost:8080/"
        },
        "id": "TTs0PKtnYmBu",
        "outputId": "0818b480-d9fe-4081-94d2-b43e614a53df"
      },
      "execution_count": null,
      "outputs": [
        {
          "output_type": "execute_result",
          "data": {
            "text/plain": [
              "['Arbol_entrenado_2_Colab']"
            ]
          },
          "metadata": {},
          "execution_count": 53
        }
      ]
    },
    {
      "cell_type": "code",
      "source": [
        "#se guarda el segundo arbol entrenado "
      ],
      "metadata": {
        "id": "sFkOPafTeTWL"
      },
      "execution_count": null,
      "outputs": []
    }
  ]
}