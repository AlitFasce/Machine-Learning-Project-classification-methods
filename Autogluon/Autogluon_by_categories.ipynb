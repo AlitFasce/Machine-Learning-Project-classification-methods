{
  "nbformat": 4,
  "nbformat_minor": 0,
  "metadata": {
    "colab": {
      "provenance": []
    },
    "kernelspec": {
      "name": "python3",
      "display_name": "Python 3"
    },
    "language_info": {
      "name": "python"
    }
  },
  "cells": [
    {
      "cell_type": "code",
      "execution_count": 3,
      "metadata": {
        "id": "uyOn0JEwMu1Q"
      },
      "outputs": [],
      "source": [
        "import pandas as pd #principal herramienta de gestion de datasets como dataframe\n",
        "import numpy as np #para trabajar con arrays y algunas cuestiones estadisticas\n",
        "from sklearn import preprocessing #procesamiento de detasets \n",
        "from sklearn.metrics import mean_squared_error #herramienta estadistica para medir errores\n",
        "import seaborn as sns #herramienta grafica\n",
        "sns.set()\n",
        "from sklearn.model_selection import train_test_split #para separar el dataset en entrenamiento y testeo\n",
        "from sklearn.tree import DecisionTreeClassifier #modelo de arbol\n",
        "from sklearn.metrics import confusion_matrix #para crear la matriz de confusión\n",
        "from sklearn.metrics import ConfusionMatrixDisplay #para graficar la matriz de confusión\n",
        "from sklearn.model_selection import GridSearchCV #para optimización de hiperparámetro\n",
        "import joblib #airve para bajar el modelo entrenado y guardarlo como un achivo\n",
        "from sklearn import tree #modelo de arbol\n",
        "import matplotlib.pyplot #herramienta grafica\n",
        "import matplotlib.pyplot as plt #herramienta grafica\n",
        "from sklearn.model_selection import cross_validate #para validacion cruzada \n",
        "from sklearn.metrics import accuracy_score #metrica accuracy\n",
        "from sklearn.metrics import precision_score #metrica precisión\n",
        "from sklearn.metrics import recall_score #metrica recall\n",
        "from sklearn.metrics import f1_score #metrica f1 score\n",
        "import warnings #evita que se llene de warnings el script\n",
        "warnings.filterwarnings(\"ignore\", category=FutureWarning) #evita que se llene de warnings el script\n",
        "from sklearn.preprocessing import OrdinalEncoder # preprocesamiento de columna\n",
        "\n",
        "from sklearn.preprocessing import OneHotEncoder # preprocesamiento de columna\n",
        "\n"
      ]
    },
    {
      "cell_type": "code",
      "source": [
        "#clono el repositorio"
      ],
      "metadata": {
        "id": "Pig8SYu3bs-T"
      },
      "execution_count": 3,
      "outputs": []
    },
    {
      "cell_type": "code",
      "source": [
        "!git clone https://github.com/soyHenry/Datathon.git"
      ],
      "metadata": {
        "colab": {
          "base_uri": "https://localhost:8080/"
        },
        "id": "XH04FqvCNn4e",
        "outputId": "713ce6dc-832b-4b2a-d05d-25487cf18894"
      },
      "execution_count": 4,
      "outputs": [
        {
          "output_type": "stream",
          "name": "stdout",
          "text": [
            "fatal: destination path 'Datathon' already exists and is not an empty directory.\n"
          ]
        }
      ]
    },
    {
      "cell_type": "code",
      "source": [
        "#ingesto los datos en dataframe de pandas"
      ],
      "metadata": {
        "id": "vpSh8kMVbtl0"
      },
      "execution_count": 5,
      "outputs": []
    },
    {
      "cell_type": "code",
      "source": [
        "df_train=pd.read_csv('Datathon/hospitalizaciones_train.csv')"
      ],
      "metadata": {
        "id": "fvq8VBGrNnz5"
      },
      "execution_count": 5,
      "outputs": []
    },
    {
      "cell_type": "code",
      "source": [
        "df_new=df_train.copy() #realizo una copia para trabajar con back up de los datos crudos "
      ],
      "metadata": {
        "id": "Af1tEWKWNnvG"
      },
      "execution_count": 6,
      "outputs": []
    },
    {
      "cell_type": "code",
      "source": [
        "#creo una funcion para adaptar la columna label a categórica"
      ],
      "metadata": {
        "id": "bf0bQL5vb3bv"
      },
      "execution_count": 8,
      "outputs": []
    },
    {
      "cell_type": "code",
      "source": [
        "def transf_label(df):\n",
        "    lista_dias=df['Stay (in days)']\n",
        "    lista_estancia=[]\n",
        "    for i in lista_dias:\n",
        "        if i <=8: \n",
        "            i=0\n",
        "        elif i>8:\n",
        "            i=1\n",
        "        lista_estancia.append(i)\n",
        "    array_estancia=np.array(lista_estancia)\n",
        "    array_estancia.reshape(1,-1)\n",
        "    array_estancia.shape\n",
        "    df['estancia']=array_estancia\n",
        "    df.drop(columns=['Stay (in days)'], inplace=True)\n",
        "    return df"
      ],
      "metadata": {
        "id": "5sATJ82MNbLO"
      },
      "execution_count": 7,
      "outputs": []
    },
    {
      "cell_type": "code",
      "source": [
        "#aplico la función"
      ],
      "metadata": {
        "id": "BoH52TVpb41-"
      },
      "execution_count": 10,
      "outputs": []
    },
    {
      "cell_type": "code",
      "source": [
        "transf_label(df_new)"
      ],
      "metadata": {
        "colab": {
          "base_uri": "https://localhost:8080/",
          "height": 713
        },
        "id": "ISXDbR_INr-S",
        "outputId": "aa52035a-aae8-45b6-bc5e-4b13b2e01c08"
      },
      "execution_count": 8,
      "outputs": [
        {
          "output_type": "execute_result",
          "data": {
            "text/plain": [
              "        Available Extra Rooms in Hospital  Department Ward_Facility_Code  \\\n",
              "0                                       4  gynecology                  D   \n",
              "1                                       4  gynecology                  B   \n",
              "2                                       2  gynecology                  B   \n",
              "3                                       4  gynecology                  D   \n",
              "4                                       2  anesthesia                  E   \n",
              "...                                   ...         ...                ...   \n",
              "409995                                  1  gynecology                  D   \n",
              "409996                                  5  gynecology                  D   \n",
              "409997                                  4  gynecology                  D   \n",
              "409998                                 10  gynecology                  D   \n",
              "409999                                  3  gynecology                  F   \n",
              "\n",
              "       doctor_name  staff_available  patientid    Age  gender  \\\n",
              "0        Dr Sophia                0      33070  41-50  Female   \n",
              "1        Dr Sophia                2      34808  31-40  Female   \n",
              "2        Dr Sophia                8      44577  21-30  Female   \n",
              "3        Dr Olivia                7       3695  31-40  Female   \n",
              "4          Dr Mark               10     108956  71-80    Male   \n",
              "...            ...              ...        ...    ...     ...   \n",
              "409995    Dr Sarah                1      63105  31-40  Female   \n",
              "409996   Dr Nathan                5     129292  21-30  Female   \n",
              "409997    Dr Sarah                9      11399  21-30  Female   \n",
              "409998   Dr Olivia               10      75003  21-30  Female   \n",
              "409999   Dr Nathan                0     128183  41-50  Female   \n",
              "\n",
              "       Type of Admission Severity of Illness health_conditions  \\\n",
              "0                 Trauma             Extreme          Diabetes   \n",
              "1                 Trauma               Minor     Heart disease   \n",
              "2                 Trauma             Extreme          Diabetes   \n",
              "3                 Urgent            Moderate              None   \n",
              "4                 Trauma            Moderate          Diabetes   \n",
              "...                  ...                 ...               ...   \n",
              "409995            Trauma               Minor           Asthama   \n",
              "409996            Trauma             Extreme             Other   \n",
              "409997         Emergency               Minor           Asthama   \n",
              "409998            Trauma            Moderate             Other   \n",
              "409999            Trauma               Minor             Other   \n",
              "\n",
              "        Visitors with Patient Insurance  Admission_Deposit  estancia  \n",
              "0                           4       Yes        2966.408696         0  \n",
              "1                           2        No        3554.835677         1  \n",
              "2                           2       Yes        5624.733654         0  \n",
              "3                           4        No        4814.149231         0  \n",
              "4                           2        No        5169.269637         1  \n",
              "...                       ...       ...                ...       ...  \n",
              "409995                      3       Yes        3902.291076         0  \n",
              "409996                      4        No        4771.995223         1  \n",
              "409997                      4       Yes        3816.994210         1  \n",
              "409998                      2       Yes        3841.577491         1  \n",
              "409999                      8       Yes        4329.046412         0  \n",
              "\n",
              "[410000 rows x 15 columns]"
            ],
            "text/html": [
              "\n",
              "  <div id=\"df-d2e7f1a8-6701-4005-8075-72383e7c98da\">\n",
              "    <div class=\"colab-df-container\">\n",
              "      <div>\n",
              "<style scoped>\n",
              "    .dataframe tbody tr th:only-of-type {\n",
              "        vertical-align: middle;\n",
              "    }\n",
              "\n",
              "    .dataframe tbody tr th {\n",
              "        vertical-align: top;\n",
              "    }\n",
              "\n",
              "    .dataframe thead th {\n",
              "        text-align: right;\n",
              "    }\n",
              "</style>\n",
              "<table border=\"1\" class=\"dataframe\">\n",
              "  <thead>\n",
              "    <tr style=\"text-align: right;\">\n",
              "      <th></th>\n",
              "      <th>Available Extra Rooms in Hospital</th>\n",
              "      <th>Department</th>\n",
              "      <th>Ward_Facility_Code</th>\n",
              "      <th>doctor_name</th>\n",
              "      <th>staff_available</th>\n",
              "      <th>patientid</th>\n",
              "      <th>Age</th>\n",
              "      <th>gender</th>\n",
              "      <th>Type of Admission</th>\n",
              "      <th>Severity of Illness</th>\n",
              "      <th>health_conditions</th>\n",
              "      <th>Visitors with Patient</th>\n",
              "      <th>Insurance</th>\n",
              "      <th>Admission_Deposit</th>\n",
              "      <th>estancia</th>\n",
              "    </tr>\n",
              "  </thead>\n",
              "  <tbody>\n",
              "    <tr>\n",
              "      <th>0</th>\n",
              "      <td>4</td>\n",
              "      <td>gynecology</td>\n",
              "      <td>D</td>\n",
              "      <td>Dr Sophia</td>\n",
              "      <td>0</td>\n",
              "      <td>33070</td>\n",
              "      <td>41-50</td>\n",
              "      <td>Female</td>\n",
              "      <td>Trauma</td>\n",
              "      <td>Extreme</td>\n",
              "      <td>Diabetes</td>\n",
              "      <td>4</td>\n",
              "      <td>Yes</td>\n",
              "      <td>2966.408696</td>\n",
              "      <td>0</td>\n",
              "    </tr>\n",
              "    <tr>\n",
              "      <th>1</th>\n",
              "      <td>4</td>\n",
              "      <td>gynecology</td>\n",
              "      <td>B</td>\n",
              "      <td>Dr Sophia</td>\n",
              "      <td>2</td>\n",
              "      <td>34808</td>\n",
              "      <td>31-40</td>\n",
              "      <td>Female</td>\n",
              "      <td>Trauma</td>\n",
              "      <td>Minor</td>\n",
              "      <td>Heart disease</td>\n",
              "      <td>2</td>\n",
              "      <td>No</td>\n",
              "      <td>3554.835677</td>\n",
              "      <td>1</td>\n",
              "    </tr>\n",
              "    <tr>\n",
              "      <th>2</th>\n",
              "      <td>2</td>\n",
              "      <td>gynecology</td>\n",
              "      <td>B</td>\n",
              "      <td>Dr Sophia</td>\n",
              "      <td>8</td>\n",
              "      <td>44577</td>\n",
              "      <td>21-30</td>\n",
              "      <td>Female</td>\n",
              "      <td>Trauma</td>\n",
              "      <td>Extreme</td>\n",
              "      <td>Diabetes</td>\n",
              "      <td>2</td>\n",
              "      <td>Yes</td>\n",
              "      <td>5624.733654</td>\n",
              "      <td>0</td>\n",
              "    </tr>\n",
              "    <tr>\n",
              "      <th>3</th>\n",
              "      <td>4</td>\n",
              "      <td>gynecology</td>\n",
              "      <td>D</td>\n",
              "      <td>Dr Olivia</td>\n",
              "      <td>7</td>\n",
              "      <td>3695</td>\n",
              "      <td>31-40</td>\n",
              "      <td>Female</td>\n",
              "      <td>Urgent</td>\n",
              "      <td>Moderate</td>\n",
              "      <td>None</td>\n",
              "      <td>4</td>\n",
              "      <td>No</td>\n",
              "      <td>4814.149231</td>\n",
              "      <td>0</td>\n",
              "    </tr>\n",
              "    <tr>\n",
              "      <th>4</th>\n",
              "      <td>2</td>\n",
              "      <td>anesthesia</td>\n",
              "      <td>E</td>\n",
              "      <td>Dr Mark</td>\n",
              "      <td>10</td>\n",
              "      <td>108956</td>\n",
              "      <td>71-80</td>\n",
              "      <td>Male</td>\n",
              "      <td>Trauma</td>\n",
              "      <td>Moderate</td>\n",
              "      <td>Diabetes</td>\n",
              "      <td>2</td>\n",
              "      <td>No</td>\n",
              "      <td>5169.269637</td>\n",
              "      <td>1</td>\n",
              "    </tr>\n",
              "    <tr>\n",
              "      <th>...</th>\n",
              "      <td>...</td>\n",
              "      <td>...</td>\n",
              "      <td>...</td>\n",
              "      <td>...</td>\n",
              "      <td>...</td>\n",
              "      <td>...</td>\n",
              "      <td>...</td>\n",
              "      <td>...</td>\n",
              "      <td>...</td>\n",
              "      <td>...</td>\n",
              "      <td>...</td>\n",
              "      <td>...</td>\n",
              "      <td>...</td>\n",
              "      <td>...</td>\n",
              "      <td>...</td>\n",
              "    </tr>\n",
              "    <tr>\n",
              "      <th>409995</th>\n",
              "      <td>1</td>\n",
              "      <td>gynecology</td>\n",
              "      <td>D</td>\n",
              "      <td>Dr Sarah</td>\n",
              "      <td>1</td>\n",
              "      <td>63105</td>\n",
              "      <td>31-40</td>\n",
              "      <td>Female</td>\n",
              "      <td>Trauma</td>\n",
              "      <td>Minor</td>\n",
              "      <td>Asthama</td>\n",
              "      <td>3</td>\n",
              "      <td>Yes</td>\n",
              "      <td>3902.291076</td>\n",
              "      <td>0</td>\n",
              "    </tr>\n",
              "    <tr>\n",
              "      <th>409996</th>\n",
              "      <td>5</td>\n",
              "      <td>gynecology</td>\n",
              "      <td>D</td>\n",
              "      <td>Dr Nathan</td>\n",
              "      <td>5</td>\n",
              "      <td>129292</td>\n",
              "      <td>21-30</td>\n",
              "      <td>Female</td>\n",
              "      <td>Trauma</td>\n",
              "      <td>Extreme</td>\n",
              "      <td>Other</td>\n",
              "      <td>4</td>\n",
              "      <td>No</td>\n",
              "      <td>4771.995223</td>\n",
              "      <td>1</td>\n",
              "    </tr>\n",
              "    <tr>\n",
              "      <th>409997</th>\n",
              "      <td>4</td>\n",
              "      <td>gynecology</td>\n",
              "      <td>D</td>\n",
              "      <td>Dr Sarah</td>\n",
              "      <td>9</td>\n",
              "      <td>11399</td>\n",
              "      <td>21-30</td>\n",
              "      <td>Female</td>\n",
              "      <td>Emergency</td>\n",
              "      <td>Minor</td>\n",
              "      <td>Asthama</td>\n",
              "      <td>4</td>\n",
              "      <td>Yes</td>\n",
              "      <td>3816.994210</td>\n",
              "      <td>1</td>\n",
              "    </tr>\n",
              "    <tr>\n",
              "      <th>409998</th>\n",
              "      <td>10</td>\n",
              "      <td>gynecology</td>\n",
              "      <td>D</td>\n",
              "      <td>Dr Olivia</td>\n",
              "      <td>10</td>\n",
              "      <td>75003</td>\n",
              "      <td>21-30</td>\n",
              "      <td>Female</td>\n",
              "      <td>Trauma</td>\n",
              "      <td>Moderate</td>\n",
              "      <td>Other</td>\n",
              "      <td>2</td>\n",
              "      <td>Yes</td>\n",
              "      <td>3841.577491</td>\n",
              "      <td>1</td>\n",
              "    </tr>\n",
              "    <tr>\n",
              "      <th>409999</th>\n",
              "      <td>3</td>\n",
              "      <td>gynecology</td>\n",
              "      <td>F</td>\n",
              "      <td>Dr Nathan</td>\n",
              "      <td>0</td>\n",
              "      <td>128183</td>\n",
              "      <td>41-50</td>\n",
              "      <td>Female</td>\n",
              "      <td>Trauma</td>\n",
              "      <td>Minor</td>\n",
              "      <td>Other</td>\n",
              "      <td>8</td>\n",
              "      <td>Yes</td>\n",
              "      <td>4329.046412</td>\n",
              "      <td>0</td>\n",
              "    </tr>\n",
              "  </tbody>\n",
              "</table>\n",
              "<p>410000 rows × 15 columns</p>\n",
              "</div>\n",
              "      <button class=\"colab-df-convert\" onclick=\"convertToInteractive('df-d2e7f1a8-6701-4005-8075-72383e7c98da')\"\n",
              "              title=\"Convert this dataframe to an interactive table.\"\n",
              "              style=\"display:none;\">\n",
              "        \n",
              "  <svg xmlns=\"http://www.w3.org/2000/svg\" height=\"24px\"viewBox=\"0 0 24 24\"\n",
              "       width=\"24px\">\n",
              "    <path d=\"M0 0h24v24H0V0z\" fill=\"none\"/>\n",
              "    <path d=\"M18.56 5.44l.94 2.06.94-2.06 2.06-.94-2.06-.94-.94-2.06-.94 2.06-2.06.94zm-11 1L8.5 8.5l.94-2.06 2.06-.94-2.06-.94L8.5 2.5l-.94 2.06-2.06.94zm10 10l.94 2.06.94-2.06 2.06-.94-2.06-.94-.94-2.06-.94 2.06-2.06.94z\"/><path d=\"M17.41 7.96l-1.37-1.37c-.4-.4-.92-.59-1.43-.59-.52 0-1.04.2-1.43.59L10.3 9.45l-7.72 7.72c-.78.78-.78 2.05 0 2.83L4 21.41c.39.39.9.59 1.41.59.51 0 1.02-.2 1.41-.59l7.78-7.78 2.81-2.81c.8-.78.8-2.07 0-2.86zM5.41 20L4 18.59l7.72-7.72 1.47 1.35L5.41 20z\"/>\n",
              "  </svg>\n",
              "      </button>\n",
              "      \n",
              "  <style>\n",
              "    .colab-df-container {\n",
              "      display:flex;\n",
              "      flex-wrap:wrap;\n",
              "      gap: 12px;\n",
              "    }\n",
              "\n",
              "    .colab-df-convert {\n",
              "      background-color: #E8F0FE;\n",
              "      border: none;\n",
              "      border-radius: 50%;\n",
              "      cursor: pointer;\n",
              "      display: none;\n",
              "      fill: #1967D2;\n",
              "      height: 32px;\n",
              "      padding: 0 0 0 0;\n",
              "      width: 32px;\n",
              "    }\n",
              "\n",
              "    .colab-df-convert:hover {\n",
              "      background-color: #E2EBFA;\n",
              "      box-shadow: 0px 1px 2px rgba(60, 64, 67, 0.3), 0px 1px 3px 1px rgba(60, 64, 67, 0.15);\n",
              "      fill: #174EA6;\n",
              "    }\n",
              "\n",
              "    [theme=dark] .colab-df-convert {\n",
              "      background-color: #3B4455;\n",
              "      fill: #D2E3FC;\n",
              "    }\n",
              "\n",
              "    [theme=dark] .colab-df-convert:hover {\n",
              "      background-color: #434B5C;\n",
              "      box-shadow: 0px 1px 3px 1px rgba(0, 0, 0, 0.15);\n",
              "      filter: drop-shadow(0px 1px 2px rgba(0, 0, 0, 0.3));\n",
              "      fill: #FFFFFF;\n",
              "    }\n",
              "  </style>\n",
              "\n",
              "      <script>\n",
              "        const buttonEl =\n",
              "          document.querySelector('#df-d2e7f1a8-6701-4005-8075-72383e7c98da button.colab-df-convert');\n",
              "        buttonEl.style.display =\n",
              "          google.colab.kernel.accessAllowed ? 'block' : 'none';\n",
              "\n",
              "        async function convertToInteractive(key) {\n",
              "          const element = document.querySelector('#df-d2e7f1a8-6701-4005-8075-72383e7c98da');\n",
              "          const dataTable =\n",
              "            await google.colab.kernel.invokeFunction('convertToInteractive',\n",
              "                                                     [key], {});\n",
              "          if (!dataTable) return;\n",
              "\n",
              "          const docLinkHtml = 'Like what you see? Visit the ' +\n",
              "            '<a target=\"_blank\" href=https://colab.research.google.com/notebooks/data_table.ipynb>data table notebook</a>'\n",
              "            + ' to learn more about interactive tables.';\n",
              "          element.innerHTML = '';\n",
              "          dataTable['output_type'] = 'display_data';\n",
              "          await google.colab.output.renderOutput(dataTable, element);\n",
              "          const docLink = document.createElement('div');\n",
              "          docLink.innerHTML = docLinkHtml;\n",
              "          element.appendChild(docLink);\n",
              "        }\n",
              "      </script>\n",
              "    </div>\n",
              "  </div>\n",
              "  "
            ]
          },
          "metadata": {},
          "execution_count": 8
        }
      ]
    },
    {
      "cell_type": "markdown",
      "source": [],
      "metadata": {
        "id": "ugO8vsK8bLAg"
      }
    },
    {
      "cell_type": "code",
      "source": [
        "#Realizo una transormación de las columnas categoricas a numéricas \n",
        "#con label encoder en las no ordinales y ordinal encoder en las que si"
      ],
      "metadata": {
        "id": "YghzGcE-b-LA"
      },
      "execution_count": 12,
      "outputs": []
    },
    {
      "cell_type": "code",
      "source": [
        "le = preprocessing.LabelEncoder()\n",
        "df_new['Insurance'] = le.fit_transform(df_new['Insurance'])\n",
        "df_new['Ward_Facility_Code'] = le.fit_transform(df_new['Ward_Facility_Code'])\n",
        "df_new['gender'] = le.fit_transform(df_new['gender'])"
      ],
      "metadata": {
        "id": "yvQoUDWrNunG"
      },
      "execution_count": 9,
      "outputs": []
    },
    {
      "cell_type": "code",
      "source": [
        "df_new=df_new.drop(columns=['patientid'])"
      ],
      "metadata": {
        "id": "QtRvYc2UZSWW"
      },
      "execution_count": 10,
      "outputs": []
    },
    {
      "cell_type": "code",
      "source": [
        "df_new['Department'].unique()"
      ],
      "metadata": {
        "colab": {
          "base_uri": "https://localhost:8080/"
        },
        "id": "axMPhi-YZUU0",
        "outputId": "f19f8149-d9f7-4f59-8983-850c36f27843"
      },
      "execution_count": 11,
      "outputs": [
        {
          "output_type": "execute_result",
          "data": {
            "text/plain": [
              "array(['gynecology', 'anesthesia', 'TB & Chest disease', 'radiotherapy',\n",
              "       'surgery'], dtype=object)"
            ]
          },
          "metadata": {},
          "execution_count": 11
        }
      ]
    },
    {
      "cell_type": "code",
      "source": [
        "df_new['Type of Admission'].unique()"
      ],
      "metadata": {
        "colab": {
          "base_uri": "https://localhost:8080/"
        },
        "id": "Yk5q2K_GZW-o",
        "outputId": "2fd6ea4c-dd4c-45f3-875c-fc31cc2dd31f"
      },
      "execution_count": 12,
      "outputs": [
        {
          "output_type": "execute_result",
          "data": {
            "text/plain": [
              "array(['Trauma', 'Urgent', 'Emergency'], dtype=object)"
            ]
          },
          "metadata": {},
          "execution_count": 12
        }
      ]
    },
    {
      "cell_type": "code",
      "source": [
        "df_new['doctor_name'].unique()"
      ],
      "metadata": {
        "colab": {
          "base_uri": "https://localhost:8080/"
        },
        "id": "WQKTMhgqZXzK",
        "outputId": "759b9d86-90ee-481f-df2d-f13358393d36"
      },
      "execution_count": 13,
      "outputs": [
        {
          "output_type": "execute_result",
          "data": {
            "text/plain": [
              "array(['Dr Sophia', 'Dr Olivia', 'Dr Mark', 'Dr John', 'Dr Sarah',\n",
              "       'Dr Sam', 'Dr Nathan', 'Dr Simon', 'Dr Isaac'], dtype=object)"
            ]
          },
          "metadata": {},
          "execution_count": 13
        }
      ]
    },
    {
      "cell_type": "code",
      "source": [
        "df_new['health_conditions'].unique()"
      ],
      "metadata": {
        "colab": {
          "base_uri": "https://localhost:8080/"
        },
        "id": "MF8FyPraZZ59",
        "outputId": "55687152-8d02-4cb8-c5cc-a3f1f97a940c"
      },
      "execution_count": 14,
      "outputs": [
        {
          "output_type": "execute_result",
          "data": {
            "text/plain": [
              "array(['Diabetes', 'Heart disease', 'None', 'Other', 'Asthama',\n",
              "       'High Blood Pressure'], dtype=object)"
            ]
          },
          "metadata": {},
          "execution_count": 14
        }
      ]
    },
    {
      "cell_type": "code",
      "source": [
        "ohe=OneHotEncoder()"
      ],
      "metadata": {
        "id": "AADOxanEZczk"
      },
      "execution_count": 15,
      "outputs": []
    },
    {
      "cell_type": "code",
      "source": [
        "feature_array=ohe.fit_transform(df_new[['Department','doctor_name','Type of Admission','health_conditions']]).toarray()"
      ],
      "metadata": {
        "id": "EHwrVlSvZeyS"
      },
      "execution_count": 16,
      "outputs": []
    },
    {
      "cell_type": "code",
      "source": [
        "feature_labels=ohe.categories_"
      ],
      "metadata": {
        "id": "PnA8F4fSZgof"
      },
      "execution_count": 17,
      "outputs": []
    },
    {
      "cell_type": "code",
      "source": [
        "feature_labels=np.array(feature_labels).ravel()"
      ],
      "metadata": {
        "colab": {
          "base_uri": "https://localhost:8080/"
        },
        "id": "YR-3FVs2ZiNV",
        "outputId": "7fd031aa-d3ee-4308-fc3f-896607d8562c"
      },
      "execution_count": 18,
      "outputs": [
        {
          "output_type": "stream",
          "name": "stderr",
          "text": [
            "<ipython-input-18-c2a9e482d40a>:1: VisibleDeprecationWarning: Creating an ndarray from ragged nested sequences (which is a list-or-tuple of lists-or-tuples-or ndarrays with different lengths or shapes) is deprecated. If you meant to do this, you must specify 'dtype=object' when creating the ndarray.\n",
            "  feature_labels=np.array(feature_labels).ravel()\n"
          ]
        }
      ]
    },
    {
      "cell_type": "code",
      "source": [
        "lista_aux=[]\n",
        "for i in feature_labels:\n",
        "  for e in i: \n",
        "    lista_aux.append(e)\n",
        "print(lista_aux)"
      ],
      "metadata": {
        "colab": {
          "base_uri": "https://localhost:8080/"
        },
        "id": "KEcs2SfBZmYK",
        "outputId": "95af335e-d044-4c18-d3fd-28db0d83c8ea"
      },
      "execution_count": 19,
      "outputs": [
        {
          "output_type": "stream",
          "name": "stdout",
          "text": [
            "['TB & Chest disease', 'anesthesia', 'gynecology', 'radiotherapy', 'surgery', 'Dr Isaac', 'Dr John', 'Dr Mark', 'Dr Nathan', 'Dr Olivia', 'Dr Sam', 'Dr Sarah', 'Dr Simon', 'Dr Sophia', 'Emergency', 'Trauma', 'Urgent', 'Asthama', 'Diabetes', 'Heart disease', 'High Blood Pressure', 'None', 'Other']\n"
          ]
        }
      ]
    },
    {
      "cell_type": "code",
      "source": [
        "feature_labels=lista_aux"
      ],
      "metadata": {
        "id": "HLHxFy3AZoPG"
      },
      "execution_count": 20,
      "outputs": []
    },
    {
      "cell_type": "code",
      "source": [
        "df_extra=pd.DataFrame(feature_array,columns=feature_labels)"
      ],
      "metadata": {
        "id": "uwzk_RN-ZqUI"
      },
      "execution_count": 21,
      "outputs": []
    },
    {
      "cell_type": "code",
      "source": [
        "enc = OrdinalEncoder()\n",
        "X2=[['0-10',1],['11-20',2],['21-30',3],['31-40',4],['41-50',5],['51-60',6],['61-70',7],['71-80',8],['81-90',9],['91-100',10]]\n",
        "enc.fit(X2)\n",
        "df_new['Age'] = enc.fit_transform(df_new[['Age']])"
      ],
      "metadata": {
        "id": "roJ3z2pdZtLZ"
      },
      "execution_count": 22,
      "outputs": []
    },
    {
      "cell_type": "code",
      "source": [
        "enc = OrdinalEncoder()\n",
        "X3=['Minor',1],['Moderate',2],['Extreme',3]\n",
        "enc.fit(X3)\n",
        "df_new['Severity of Illness'] = enc.fit_transform(df_new[['Severity of Illness']])"
      ],
      "metadata": {
        "id": "IHWR3bY4ZvE_"
      },
      "execution_count": 23,
      "outputs": []
    },
    {
      "cell_type": "code",
      "source": [
        "df_new.drop(columns=['Department','doctor_name','Type of Admission','health_conditions'], inplace=True)"
      ],
      "metadata": {
        "id": "A8p_kLjB5sxG"
      },
      "execution_count": 24,
      "outputs": []
    },
    {
      "cell_type": "code",
      "source": [
        "df_nuevo=df_new.join(df_extra)"
      ],
      "metadata": {
        "id": "EMOKqJftZyuj"
      },
      "execution_count": 25,
      "outputs": []
    },
    {
      "cell_type": "code",
      "source": [
        "df2=df_nuevo.copy() "
      ],
      "metadata": {
        "id": "bqzy1X68N0g1"
      },
      "execution_count": 26,
      "outputs": []
    },
    {
      "cell_type": "code",
      "source": [
        "df_nuevo.head(1)"
      ],
      "metadata": {
        "colab": {
          "base_uri": "https://localhost:8080/",
          "height": 226
        },
        "id": "BcVQOqvjamYh",
        "outputId": "674bc13a-0033-47c8-dd7f-5ab4a9128def"
      },
      "execution_count": 27,
      "outputs": [
        {
          "output_type": "execute_result",
          "data": {
            "text/plain": [
              "   Available Extra Rooms in Hospital  Ward_Facility_Code  staff_available  \\\n",
              "0                                  4                   3                0   \n",
              "\n",
              "   Age  gender  Severity of Illness  Visitors with Patient  Insurance  \\\n",
              "0  4.0       0                  0.0                      4          1   \n",
              "\n",
              "   Admission_Deposit  estancia  ...  Dr Sophia  Emergency  Trauma  Urgent  \\\n",
              "0        2966.408696         0  ...        1.0        0.0     1.0     0.0   \n",
              "\n",
              "   Asthama  Diabetes  Heart disease  High Blood Pressure  None  Other  \n",
              "0      0.0       1.0            0.0                  0.0   0.0    0.0  \n",
              "\n",
              "[1 rows x 33 columns]"
            ],
            "text/html": [
              "\n",
              "  <div id=\"df-7ed32119-1b02-4f42-b398-a8f2919574d4\">\n",
              "    <div class=\"colab-df-container\">\n",
              "      <div>\n",
              "<style scoped>\n",
              "    .dataframe tbody tr th:only-of-type {\n",
              "        vertical-align: middle;\n",
              "    }\n",
              "\n",
              "    .dataframe tbody tr th {\n",
              "        vertical-align: top;\n",
              "    }\n",
              "\n",
              "    .dataframe thead th {\n",
              "        text-align: right;\n",
              "    }\n",
              "</style>\n",
              "<table border=\"1\" class=\"dataframe\">\n",
              "  <thead>\n",
              "    <tr style=\"text-align: right;\">\n",
              "      <th></th>\n",
              "      <th>Available Extra Rooms in Hospital</th>\n",
              "      <th>Ward_Facility_Code</th>\n",
              "      <th>staff_available</th>\n",
              "      <th>Age</th>\n",
              "      <th>gender</th>\n",
              "      <th>Severity of Illness</th>\n",
              "      <th>Visitors with Patient</th>\n",
              "      <th>Insurance</th>\n",
              "      <th>Admission_Deposit</th>\n",
              "      <th>estancia</th>\n",
              "      <th>...</th>\n",
              "      <th>Dr Sophia</th>\n",
              "      <th>Emergency</th>\n",
              "      <th>Trauma</th>\n",
              "      <th>Urgent</th>\n",
              "      <th>Asthama</th>\n",
              "      <th>Diabetes</th>\n",
              "      <th>Heart disease</th>\n",
              "      <th>High Blood Pressure</th>\n",
              "      <th>None</th>\n",
              "      <th>Other</th>\n",
              "    </tr>\n",
              "  </thead>\n",
              "  <tbody>\n",
              "    <tr>\n",
              "      <th>0</th>\n",
              "      <td>4</td>\n",
              "      <td>3</td>\n",
              "      <td>0</td>\n",
              "      <td>4.0</td>\n",
              "      <td>0</td>\n",
              "      <td>0.0</td>\n",
              "      <td>4</td>\n",
              "      <td>1</td>\n",
              "      <td>2966.408696</td>\n",
              "      <td>0</td>\n",
              "      <td>...</td>\n",
              "      <td>1.0</td>\n",
              "      <td>0.0</td>\n",
              "      <td>1.0</td>\n",
              "      <td>0.0</td>\n",
              "      <td>0.0</td>\n",
              "      <td>1.0</td>\n",
              "      <td>0.0</td>\n",
              "      <td>0.0</td>\n",
              "      <td>0.0</td>\n",
              "      <td>0.0</td>\n",
              "    </tr>\n",
              "  </tbody>\n",
              "</table>\n",
              "<p>1 rows × 33 columns</p>\n",
              "</div>\n",
              "      <button class=\"colab-df-convert\" onclick=\"convertToInteractive('df-7ed32119-1b02-4f42-b398-a8f2919574d4')\"\n",
              "              title=\"Convert this dataframe to an interactive table.\"\n",
              "              style=\"display:none;\">\n",
              "        \n",
              "  <svg xmlns=\"http://www.w3.org/2000/svg\" height=\"24px\"viewBox=\"0 0 24 24\"\n",
              "       width=\"24px\">\n",
              "    <path d=\"M0 0h24v24H0V0z\" fill=\"none\"/>\n",
              "    <path d=\"M18.56 5.44l.94 2.06.94-2.06 2.06-.94-2.06-.94-.94-2.06-.94 2.06-2.06.94zm-11 1L8.5 8.5l.94-2.06 2.06-.94-2.06-.94L8.5 2.5l-.94 2.06-2.06.94zm10 10l.94 2.06.94-2.06 2.06-.94-2.06-.94-.94-2.06-.94 2.06-2.06.94z\"/><path d=\"M17.41 7.96l-1.37-1.37c-.4-.4-.92-.59-1.43-.59-.52 0-1.04.2-1.43.59L10.3 9.45l-7.72 7.72c-.78.78-.78 2.05 0 2.83L4 21.41c.39.39.9.59 1.41.59.51 0 1.02-.2 1.41-.59l7.78-7.78 2.81-2.81c.8-.78.8-2.07 0-2.86zM5.41 20L4 18.59l7.72-7.72 1.47 1.35L5.41 20z\"/>\n",
              "  </svg>\n",
              "      </button>\n",
              "      \n",
              "  <style>\n",
              "    .colab-df-container {\n",
              "      display:flex;\n",
              "      flex-wrap:wrap;\n",
              "      gap: 12px;\n",
              "    }\n",
              "\n",
              "    .colab-df-convert {\n",
              "      background-color: #E8F0FE;\n",
              "      border: none;\n",
              "      border-radius: 50%;\n",
              "      cursor: pointer;\n",
              "      display: none;\n",
              "      fill: #1967D2;\n",
              "      height: 32px;\n",
              "      padding: 0 0 0 0;\n",
              "      width: 32px;\n",
              "    }\n",
              "\n",
              "    .colab-df-convert:hover {\n",
              "      background-color: #E2EBFA;\n",
              "      box-shadow: 0px 1px 2px rgba(60, 64, 67, 0.3), 0px 1px 3px 1px rgba(60, 64, 67, 0.15);\n",
              "      fill: #174EA6;\n",
              "    }\n",
              "\n",
              "    [theme=dark] .colab-df-convert {\n",
              "      background-color: #3B4455;\n",
              "      fill: #D2E3FC;\n",
              "    }\n",
              "\n",
              "    [theme=dark] .colab-df-convert:hover {\n",
              "      background-color: #434B5C;\n",
              "      box-shadow: 0px 1px 3px 1px rgba(0, 0, 0, 0.15);\n",
              "      filter: drop-shadow(0px 1px 2px rgba(0, 0, 0, 0.3));\n",
              "      fill: #FFFFFF;\n",
              "    }\n",
              "  </style>\n",
              "\n",
              "      <script>\n",
              "        const buttonEl =\n",
              "          document.querySelector('#df-7ed32119-1b02-4f42-b398-a8f2919574d4 button.colab-df-convert');\n",
              "        buttonEl.style.display =\n",
              "          google.colab.kernel.accessAllowed ? 'block' : 'none';\n",
              "\n",
              "        async function convertToInteractive(key) {\n",
              "          const element = document.querySelector('#df-7ed32119-1b02-4f42-b398-a8f2919574d4');\n",
              "          const dataTable =\n",
              "            await google.colab.kernel.invokeFunction('convertToInteractive',\n",
              "                                                     [key], {});\n",
              "          if (!dataTable) return;\n",
              "\n",
              "          const docLinkHtml = 'Like what you see? Visit the ' +\n",
              "            '<a target=\"_blank\" href=https://colab.research.google.com/notebooks/data_table.ipynb>data table notebook</a>'\n",
              "            + ' to learn more about interactive tables.';\n",
              "          element.innerHTML = '';\n",
              "          dataTable['output_type'] = 'display_data';\n",
              "          await google.colab.output.renderOutput(dataTable, element);\n",
              "          const docLink = document.createElement('div');\n",
              "          docLink.innerHTML = docLinkHtml;\n",
              "          element.appendChild(docLink);\n",
              "        }\n",
              "      </script>\n",
              "    </div>\n",
              "  </div>\n",
              "  "
            ]
          },
          "metadata": {},
          "execution_count": 27
        }
      ]
    },
    {
      "cell_type": "markdown",
      "source": [
        "Las features seleccionadas son: \n",
        "Ginecology\n",
        "Dr. Mark\n",
        "Age\n",
        "Anestesia\n",
        "gender (corr method)\n",
        "TB & Chest disease (corr method)\n",
        "Ward_Facility_Code (feature selection method)\n",
        "Insurance (feature selection method)"
      ],
      "metadata": {
        "id": "E7PrcU_QaAte"
      }
    },
    {
      "cell_type": "code",
      "source": [
        "df_f=df_nuevo[['anesthesia','gynecology','Ward_Facility_Code','Dr Mark','Age','gender','TB & Chest disease','Insurance','estancia']]\n",
        "\n",
        "X=df_nuevo[['anesthesia','gynecology','Ward_Facility_Code','Dr Mark','Age','gender','TB & Chest disease','Insurance']]\n",
        "y=df_nuevo[['estancia']]\n"
      ],
      "metadata": {
        "id": "1dwEBo6qNxzl"
      },
      "execution_count": 28,
      "outputs": []
    },
    {
      "cell_type": "code",
      "source": [
        "#COMO PUEDE VERSE ESTO SE RELIZA DOS VECES PORQUE SE ESTAN RELIZANDO 2 ARBOLES CON DISTINTA CANTIDAD DE FEATURES CADA UNO \n",
        "#PARA COMPARAR SU EFICACIA EN DETECCION DE FALSOS POSITIVOS, ESTE FUE UN PUNTO FLOJO A SOLUCIONAR DURANTE EL PROCESO DE MODELADO"
      ],
      "metadata": {
        "id": "_l3hDrqjcafX"
      },
      "execution_count": null,
      "outputs": []
    },
    {
      "cell_type": "code",
      "source": [
        "#realizo la primera partición de los datos, luego se hará una validación cruzada\n",
        "\n",
        "X2_train, X2_test, y2_train, y2_test = train_test_split(X, y, test_size=0.30, random_state=20) \n",
        "\n",
        "# datos, dejo un 30% para testear\n",
        "\n",
        "print(X2_train.shape, y2_train.shape, X2_test.shape, y2_test.shape)"
      ],
      "metadata": {
        "colab": {
          "base_uri": "https://localhost:8080/"
        },
        "id": "PoMQcA7GLjoi",
        "outputId": "5e2d742c-6178-4465-8dca-bd240b9326b8"
      },
      "execution_count": 29,
      "outputs": [
        {
          "output_type": "stream",
          "name": "stdout",
          "text": [
            "(287000, 8) (287000, 1) (123000, 8) (123000, 1)\n"
          ]
        }
      ]
    },
    {
      "cell_type": "code",
      "source": [
        "#CON EL SIGUIENTE CODIGO SE DESARROLLO UN ENSAYO DEL HIOPERARÁMETRO OPTIMO CON VALIDACIÓN CRUZADA "
      ],
      "metadata": {
        "id": "cQyr_MMBctDr"
      },
      "execution_count": null,
      "outputs": []
    },
    {
      "cell_type": "code",
      "source": [
        "pip install autogluon"
      ],
      "metadata": {
        "colab": {
          "base_uri": "https://localhost:8080/"
        },
        "id": "PwvoSDpCG6V_",
        "outputId": "4ee8deb8-ad67-4814-9ee0-e2f9af447275"
      },
      "execution_count": 30,
      "outputs": [
        {
          "output_type": "stream",
          "name": "stdout",
          "text": [
            "Looking in indexes: https://pypi.org/simple, https://us-python.pkg.dev/colab-wheels/public/simple/\n",
            "Requirement already satisfied: autogluon in /usr/local/lib/python3.8/dist-packages (0.6.1)\n",
            "Requirement already satisfied: autogluon.text==0.6.1 in /usr/local/lib/python3.8/dist-packages (from autogluon) (0.6.1)\n",
            "Requirement already satisfied: autogluon.core[all]==0.6.1 in /usr/local/lib/python3.8/dist-packages (from autogluon) (0.6.1)\n",
            "Requirement already satisfied: autogluon.timeseries[all]==0.6.1 in /usr/local/lib/python3.8/dist-packages (from autogluon) (0.6.1)\n",
            "Requirement already satisfied: autogluon.features==0.6.1 in /usr/local/lib/python3.8/dist-packages (from autogluon) (0.6.1)\n",
            "Requirement already satisfied: autogluon.tabular[all]==0.6.1 in /usr/local/lib/python3.8/dist-packages (from autogluon) (0.6.1)\n",
            "Requirement already satisfied: autogluon.vision==0.6.1 in /usr/local/lib/python3.8/dist-packages (from autogluon) (0.6.1)\n",
            "Requirement already satisfied: autogluon.multimodal==0.6.1 in /usr/local/lib/python3.8/dist-packages (from autogluon) (0.6.1)\n",
            "Requirement already satisfied: scikit-learn<1.2,>=1.0.0 in /usr/local/lib/python3.8/dist-packages (from autogluon.core[all]==0.6.1->autogluon) (1.0.2)\n",
            "Requirement already satisfied: pandas!=1.4.0,<1.6,>=1.2.5 in /usr/local/lib/python3.8/dist-packages (from autogluon.core[all]==0.6.1->autogluon) (1.3.5)\n",
            "Requirement already satisfied: requests in /usr/local/lib/python3.8/dist-packages (from autogluon.core[all]==0.6.1->autogluon) (2.23.0)\n",
            "Requirement already satisfied: numpy<1.24,>=1.21 in /usr/local/lib/python3.8/dist-packages (from autogluon.core[all]==0.6.1->autogluon) (1.21.6)\n",
            "Requirement already satisfied: autogluon.common==0.6.1 in /usr/local/lib/python3.8/dist-packages (from autogluon.core[all]==0.6.1->autogluon) (0.6.1)\n",
            "Requirement already satisfied: scipy<1.10.0,>=1.5.4 in /usr/local/lib/python3.8/dist-packages (from autogluon.core[all]==0.6.1->autogluon) (1.7.3)\n",
            "Requirement already satisfied: matplotlib in /usr/local/lib/python3.8/dist-packages (from autogluon.core[all]==0.6.1->autogluon) (3.2.2)\n",
            "Requirement already satisfied: tqdm>=4.38.0 in /usr/local/lib/python3.8/dist-packages (from autogluon.core[all]==0.6.1->autogluon) (4.64.1)\n",
            "Requirement already satisfied: dask<=2021.11.2,>=2021.09.1 in /usr/local/lib/python3.8/dist-packages (from autogluon.core[all]==0.6.1->autogluon) (2021.11.2)\n",
            "Requirement already satisfied: boto3 in /usr/local/lib/python3.8/dist-packages (from autogluon.core[all]==0.6.1->autogluon) (1.26.31)\n",
            "Requirement already satisfied: distributed<=2021.11.2,>=2021.09.1 in /usr/local/lib/python3.8/dist-packages (from autogluon.core[all]==0.6.1->autogluon) (2021.11.2)\n",
            "Requirement already satisfied: ray<2.1,>=2.0 in /usr/local/lib/python3.8/dist-packages (from autogluon.core[all]==0.6.1->autogluon) (2.0.1)\n",
            "Requirement already satisfied: hyperopt<0.2.8,>=0.2.7 in /usr/local/lib/python3.8/dist-packages (from autogluon.core[all]==0.6.1->autogluon) (0.2.7)\n",
            "Requirement already satisfied: setuptools in /usr/local/lib/python3.8/dist-packages (from autogluon.common==0.6.1->autogluon.core[all]==0.6.1->autogluon) (57.4.0)\n",
            "Requirement already satisfied: psutil<6,>=5.7.3 in /usr/local/lib/python3.8/dist-packages (from autogluon.features==0.6.1->autogluon) (5.8.0)\n",
            "Requirement already satisfied: torchvision<0.14.0 in /usr/local/lib/python3.8/dist-packages (from autogluon.multimodal==0.6.1->autogluon) (0.13.1)\n",
            "Requirement already satisfied: text-unidecode<=1.3 in /usr/local/lib/python3.8/dist-packages (from autogluon.multimodal==0.6.1->autogluon) (1.3)\n",
            "Requirement already satisfied: openmim<=0.2.1,>0.1.5 in /usr/local/lib/python3.8/dist-packages (from autogluon.multimodal==0.6.1->autogluon) (0.2.1)\n",
            "Requirement already satisfied: nlpaug<=1.1.10,>=1.1.10 in /usr/local/lib/python3.8/dist-packages (from autogluon.multimodal==0.6.1->autogluon) (1.1.10)\n",
            "Requirement already satisfied: fairscale<=0.4.6,>=0.4.5 in /usr/local/lib/python3.8/dist-packages (from autogluon.multimodal==0.6.1->autogluon) (0.4.6)\n",
            "Requirement already satisfied: timm<0.7.0 in /usr/local/lib/python3.8/dist-packages (from autogluon.multimodal==0.6.1->autogluon) (0.6.12)\n",
            "Requirement already satisfied: torchmetrics<0.9.0,>=0.8.0 in /usr/local/lib/python3.8/dist-packages (from autogluon.multimodal==0.6.1->autogluon) (0.8.2)\n",
            "Requirement already satisfied: torch<1.13,>=1.9 in /usr/local/lib/python3.8/dist-packages (from autogluon.multimodal==0.6.1->autogluon) (1.12.1)\n",
            "Requirement already satisfied: seqeval<=1.2.2 in /usr/local/lib/python3.8/dist-packages (from autogluon.multimodal==0.6.1->autogluon) (1.2.2)\n",
            "Requirement already satisfied: torchtext<0.14.0 in /usr/local/lib/python3.8/dist-packages (from autogluon.multimodal==0.6.1->autogluon) (0.13.1)\n",
            "Requirement already satisfied: nltk<4.0.0,>=3.4.5 in /usr/local/lib/python3.8/dist-packages (from autogluon.multimodal==0.6.1->autogluon) (3.7)\n",
            "Requirement already satisfied: pytorch-lightning<1.8.0,>=1.7.4 in /usr/local/lib/python3.8/dist-packages (from autogluon.multimodal==0.6.1->autogluon) (1.7.7)\n",
            "Requirement already satisfied: sentencepiece<0.2.0,>=0.1.95 in /usr/local/lib/python3.8/dist-packages (from autogluon.multimodal==0.6.1->autogluon) (0.1.97)\n",
            "Requirement already satisfied: evaluate<=0.3.0 in /usr/local/lib/python3.8/dist-packages (from autogluon.multimodal==0.6.1->autogluon) (0.3.0)\n",
            "Requirement already satisfied: Pillow<=9.4.0,>=9.3.0 in /usr/local/lib/python3.8/dist-packages (from autogluon.multimodal==0.6.1->autogluon) (9.3.0)\n",
            "Requirement already satisfied: transformers<4.24.0,>=4.23.0 in /usr/local/lib/python3.8/dist-packages (from autogluon.multimodal==0.6.1->autogluon) (4.23.1)\n",
            "Requirement already satisfied: albumentations<=1.2.0,>=1.1.0 in /usr/local/lib/python3.8/dist-packages (from autogluon.multimodal==0.6.1->autogluon) (1.1.0)\n",
            "Requirement already satisfied: smart-open<5.3.0,>=5.2.1 in /usr/local/lib/python3.8/dist-packages (from autogluon.multimodal==0.6.1->autogluon) (5.2.1)\n",
            "Requirement already satisfied: pytorch-metric-learning<1.4.0,>=1.3.0 in /usr/local/lib/python3.8/dist-packages (from autogluon.multimodal==0.6.1->autogluon) (1.3.2)\n",
            "Requirement already satisfied: defusedxml<=0.7.1,>=0.7.1 in /usr/local/lib/python3.8/dist-packages (from autogluon.multimodal==0.6.1->autogluon) (0.7.1)\n",
            "Requirement already satisfied: omegaconf<2.2.0,>=2.1.1 in /usr/local/lib/python3.8/dist-packages (from autogluon.multimodal==0.6.1->autogluon) (2.1.2)\n",
            "Requirement already satisfied: scikit-image<0.20.0,>=0.19.1 in /usr/local/lib/python3.8/dist-packages (from autogluon.multimodal==0.6.1->autogluon) (0.19.3)\n",
            "Requirement already satisfied: accelerate<0.14,>=0.9 in /usr/local/lib/python3.8/dist-packages (from autogluon.multimodal==0.6.1->autogluon) (0.13.2)\n",
            "Requirement already satisfied: nptyping<1.5.0,>=1.4.4 in /usr/local/lib/python3.8/dist-packages (from autogluon.multimodal==0.6.1->autogluon) (1.4.4)\n",
            "Requirement already satisfied: jsonschema<=4.8.0 in /usr/local/lib/python3.8/dist-packages (from autogluon.multimodal==0.6.1->autogluon) (4.3.3)\n",
            "Requirement already satisfied: networkx<3.0,>=2.3 in /usr/local/lib/python3.8/dist-packages (from autogluon.tabular[all]==0.6.1->autogluon) (2.8.8)\n",
            "Requirement already satisfied: xgboost<1.8,>=1.6 in /usr/local/lib/python3.8/dist-packages (from autogluon.tabular[all]==0.6.1->autogluon) (1.7.2)\n",
            "Requirement already satisfied: fastai<2.8,>=2.3.1 in /usr/local/lib/python3.8/dist-packages (from autogluon.tabular[all]==0.6.1->autogluon) (2.7.10)\n",
            "Requirement already satisfied: catboost<1.2,>=1.0 in /usr/local/lib/python3.8/dist-packages (from autogluon.tabular[all]==0.6.1->autogluon) (1.1.1)\n",
            "Requirement already satisfied: lightgbm<3.4,>=3.3 in /usr/local/lib/python3.8/dist-packages (from autogluon.tabular[all]==0.6.1->autogluon) (3.3.3)\n",
            "Requirement already satisfied: joblib~=1.1 in /usr/local/lib/python3.8/dist-packages (from autogluon.timeseries[all]==0.6.1->autogluon) (1.2.0)\n",
            "Requirement already satisfied: statsmodels~=0.13.0 in /usr/local/lib/python3.8/dist-packages (from autogluon.timeseries[all]==0.6.1->autogluon) (0.13.5)\n",
            "Requirement already satisfied: gluonts~=0.11.0 in /usr/local/lib/python3.8/dist-packages (from autogluon.timeseries[all]==0.6.1->autogluon) (0.11.5)\n",
            "Requirement already satisfied: tbats~=1.1 in /usr/local/lib/python3.8/dist-packages (from autogluon.timeseries[all]==0.6.1->autogluon) (1.1.2)\n",
            "Requirement already satisfied: pmdarima~=1.8.2 in /usr/local/lib/python3.8/dist-packages (from autogluon.timeseries[all]==0.6.1->autogluon) (1.8.5)\n",
            "Requirement already satisfied: sktime<0.14,>=0.13.1 in /usr/local/lib/python3.8/dist-packages (from autogluon.timeseries[all]==0.6.1->autogluon) (0.13.4)\n",
            "Requirement already satisfied: gluoncv<0.10.6,>=0.10.5 in /usr/local/lib/python3.8/dist-packages (from autogluon.vision==0.6.1->autogluon) (0.10.5.post0)\n",
            "Requirement already satisfied: packaging>=20.0 in /usr/local/lib/python3.8/dist-packages (from accelerate<0.14,>=0.9->autogluon.multimodal==0.6.1->autogluon) (21.3)\n",
            "Requirement already satisfied: pyyaml in /usr/local/lib/python3.8/dist-packages (from accelerate<0.14,>=0.9->autogluon.multimodal==0.6.1->autogluon) (6.0)\n",
            "Requirement already satisfied: opencv-python-headless>=4.1.1 in /usr/local/lib/python3.8/dist-packages (from albumentations<=1.2.0,>=1.1.0->autogluon.multimodal==0.6.1->autogluon) (4.6.0.66)\n",
            "Requirement already satisfied: qudida>=0.0.4 in /usr/local/lib/python3.8/dist-packages (from albumentations<=1.2.0,>=1.1.0->autogluon.multimodal==0.6.1->autogluon) (0.0.4)\n",
            "Requirement already satisfied: six in /usr/local/lib/python3.8/dist-packages (from catboost<1.2,>=1.0->autogluon.tabular[all]==0.6.1->autogluon) (1.15.0)\n",
            "Requirement already satisfied: graphviz in /usr/local/lib/python3.8/dist-packages (from catboost<1.2,>=1.0->autogluon.tabular[all]==0.6.1->autogluon) (0.10.1)\n",
            "Requirement already satisfied: plotly in /usr/local/lib/python3.8/dist-packages (from catboost<1.2,>=1.0->autogluon.tabular[all]==0.6.1->autogluon) (5.5.0)\n",
            "Requirement already satisfied: cloudpickle>=1.1.1 in /usr/local/lib/python3.8/dist-packages (from dask<=2021.11.2,>=2021.09.1->autogluon.core[all]==0.6.1->autogluon) (1.5.0)\n",
            "Requirement already satisfied: toolz>=0.8.2 in /usr/local/lib/python3.8/dist-packages (from dask<=2021.11.2,>=2021.09.1->autogluon.core[all]==0.6.1->autogluon) (0.12.0)\n",
            "Requirement already satisfied: partd>=0.3.10 in /usr/local/lib/python3.8/dist-packages (from dask<=2021.11.2,>=2021.09.1->autogluon.core[all]==0.6.1->autogluon) (1.3.0)\n",
            "Requirement already satisfied: fsspec>=0.6.0 in /usr/local/lib/python3.8/dist-packages (from dask<=2021.11.2,>=2021.09.1->autogluon.core[all]==0.6.1->autogluon) (2022.11.0)\n",
            "Requirement already satisfied: click>=6.6 in /usr/local/lib/python3.8/dist-packages (from distributed<=2021.11.2,>=2021.09.1->autogluon.core[all]==0.6.1->autogluon) (7.1.2)\n",
            "Requirement already satisfied: tornado>=6.0.3 in /usr/local/lib/python3.8/dist-packages (from distributed<=2021.11.2,>=2021.09.1->autogluon.core[all]==0.6.1->autogluon) (6.0.4)\n",
            "Requirement already satisfied: sortedcontainers!=2.0.0,!=2.0.1 in /usr/local/lib/python3.8/dist-packages (from distributed<=2021.11.2,>=2021.09.1->autogluon.core[all]==0.6.1->autogluon) (2.4.0)\n",
            "Requirement already satisfied: zict>=0.1.3 in /usr/local/lib/python3.8/dist-packages (from distributed<=2021.11.2,>=2021.09.1->autogluon.core[all]==0.6.1->autogluon) (2.2.0)\n",
            "Requirement already satisfied: tblib>=1.6.0 in /usr/local/lib/python3.8/dist-packages (from distributed<=2021.11.2,>=2021.09.1->autogluon.core[all]==0.6.1->autogluon) (1.7.0)\n",
            "Requirement already satisfied: jinja2 in /usr/local/lib/python3.8/dist-packages (from distributed<=2021.11.2,>=2021.09.1->autogluon.core[all]==0.6.1->autogluon) (2.11.3)\n",
            "Requirement already satisfied: msgpack>=0.6.0 in /usr/local/lib/python3.8/dist-packages (from distributed<=2021.11.2,>=2021.09.1->autogluon.core[all]==0.6.1->autogluon) (1.0.4)\n",
            "Requirement already satisfied: datasets>=2.0.0 in /usr/local/lib/python3.8/dist-packages (from evaluate<=0.3.0->autogluon.multimodal==0.6.1->autogluon) (2.7.1)\n",
            "Requirement already satisfied: responses<0.19 in /usr/local/lib/python3.8/dist-packages (from evaluate<=0.3.0->autogluon.multimodal==0.6.1->autogluon) (0.18.0)\n",
            "Requirement already satisfied: multiprocess in /usr/local/lib/python3.8/dist-packages (from evaluate<=0.3.0->autogluon.multimodal==0.6.1->autogluon) (0.70.14)\n",
            "Requirement already satisfied: xxhash in /usr/local/lib/python3.8/dist-packages (from evaluate<=0.3.0->autogluon.multimodal==0.6.1->autogluon) (3.1.0)\n",
            "Requirement already satisfied: huggingface-hub>=0.7.0 in /usr/local/lib/python3.8/dist-packages (from evaluate<=0.3.0->autogluon.multimodal==0.6.1->autogluon) (0.11.1)\n",
            "Requirement already satisfied: dill in /usr/local/lib/python3.8/dist-packages (from evaluate<=0.3.0->autogluon.multimodal==0.6.1->autogluon) (0.3.6)\n",
            "Requirement already satisfied: aiohttp in /usr/local/lib/python3.8/dist-packages (from datasets>=2.0.0->evaluate<=0.3.0->autogluon.multimodal==0.6.1->autogluon) (3.8.3)\n",
            "Requirement already satisfied: pyarrow>=6.0.0 in /usr/local/lib/python3.8/dist-packages (from datasets>=2.0.0->evaluate<=0.3.0->autogluon.multimodal==0.6.1->autogluon) (9.0.0)\n",
            "Requirement already satisfied: fastprogress>=0.2.4 in /usr/local/lib/python3.8/dist-packages (from fastai<2.8,>=2.3.1->autogluon.tabular[all]==0.6.1->autogluon) (1.0.3)\n",
            "Requirement already satisfied: fastdownload<2,>=0.0.5 in /usr/local/lib/python3.8/dist-packages (from fastai<2.8,>=2.3.1->autogluon.tabular[all]==0.6.1->autogluon) (0.0.7)\n",
            "Requirement already satisfied: spacy<4 in /usr/local/lib/python3.8/dist-packages (from fastai<2.8,>=2.3.1->autogluon.tabular[all]==0.6.1->autogluon) (3.4.3)\n",
            "Requirement already satisfied: fastcore<1.6,>=1.4.5 in /usr/local/lib/python3.8/dist-packages (from fastai<2.8,>=2.3.1->autogluon.tabular[all]==0.6.1->autogluon) (1.5.27)\n",
            "Requirement already satisfied: pip in /usr/local/lib/python3.8/dist-packages (from fastai<2.8,>=2.3.1->autogluon.tabular[all]==0.6.1->autogluon) (21.1.3)\n",
            "Requirement already satisfied: charset-normalizer<3.0,>=2.0 in /usr/local/lib/python3.8/dist-packages (from aiohttp->datasets>=2.0.0->evaluate<=0.3.0->autogluon.multimodal==0.6.1->autogluon) (2.1.1)\n",
            "Requirement already satisfied: aiosignal>=1.1.2 in /usr/local/lib/python3.8/dist-packages (from aiohttp->datasets>=2.0.0->evaluate<=0.3.0->autogluon.multimodal==0.6.1->autogluon) (1.3.1)\n",
            "Requirement already satisfied: async-timeout<5.0,>=4.0.0a3 in /usr/local/lib/python3.8/dist-packages (from aiohttp->datasets>=2.0.0->evaluate<=0.3.0->autogluon.multimodal==0.6.1->autogluon) (4.0.2)\n",
            "Requirement already satisfied: frozenlist>=1.1.1 in /usr/local/lib/python3.8/dist-packages (from aiohttp->datasets>=2.0.0->evaluate<=0.3.0->autogluon.multimodal==0.6.1->autogluon) (1.3.3)\n",
            "Requirement already satisfied: yarl<2.0,>=1.0 in /usr/local/lib/python3.8/dist-packages (from aiohttp->datasets>=2.0.0->evaluate<=0.3.0->autogluon.multimodal==0.6.1->autogluon) (1.8.2)\n",
            "Requirement already satisfied: attrs>=17.3.0 in /usr/local/lib/python3.8/dist-packages (from aiohttp->datasets>=2.0.0->evaluate<=0.3.0->autogluon.multimodal==0.6.1->autogluon) (22.1.0)\n",
            "Requirement already satisfied: multidict<7.0,>=4.5 in /usr/local/lib/python3.8/dist-packages (from aiohttp->datasets>=2.0.0->evaluate<=0.3.0->autogluon.multimodal==0.6.1->autogluon) (6.0.3)\n",
            "Requirement already satisfied: yacs in /usr/local/lib/python3.8/dist-packages (from gluoncv<0.10.6,>=0.10.5->autogluon.vision==0.6.1->autogluon) (0.1.8)\n",
            "Requirement already satisfied: opencv-python in /usr/local/lib/python3.8/dist-packages (from gluoncv<0.10.6,>=0.10.5->autogluon.vision==0.6.1->autogluon) (4.6.0.66)\n",
            "Requirement already satisfied: autocfg in /usr/local/lib/python3.8/dist-packages (from gluoncv<0.10.6,>=0.10.5->autogluon.vision==0.6.1->autogluon) (0.0.8)\n",
            "Requirement already satisfied: portalocker in /usr/local/lib/python3.8/dist-packages (from gluoncv<0.10.6,>=0.10.5->autogluon.vision==0.6.1->autogluon) (2.6.0)\n",
            "Requirement already satisfied: pydantic~=1.7 in /usr/local/lib/python3.8/dist-packages (from gluonts~=0.11.0->autogluon.timeseries[all]==0.6.1->autogluon) (1.10.2)\n",
            "Requirement already satisfied: typing-extensions~=4.0 in /usr/local/lib/python3.8/dist-packages (from gluonts~=0.11.0->autogluon.timeseries[all]==0.6.1->autogluon) (4.4.0)\n",
            "Requirement already satisfied: filelock in /usr/local/lib/python3.8/dist-packages (from huggingface-hub>=0.7.0->evaluate<=0.3.0->autogluon.multimodal==0.6.1->autogluon) (3.8.0)\n",
            "Requirement already satisfied: future in /usr/local/lib/python3.8/dist-packages (from hyperopt<0.2.8,>=0.2.7->autogluon.core[all]==0.6.1->autogluon) (0.16.0)\n",
            "Requirement already satisfied: py4j in /usr/local/lib/python3.8/dist-packages (from hyperopt<0.2.8,>=0.2.7->autogluon.core[all]==0.6.1->autogluon) (0.10.9.7)\n",
            "Requirement already satisfied: pyrsistent!=0.17.0,!=0.17.1,!=0.17.2,>=0.14.0 in /usr/local/lib/python3.8/dist-packages (from jsonschema<=4.8.0->autogluon.multimodal==0.6.1->autogluon) (0.19.2)\n",
            "Requirement already satisfied: importlib-resources>=1.4.0 in /usr/local/lib/python3.8/dist-packages (from jsonschema<=4.8.0->autogluon.multimodal==0.6.1->autogluon) (5.10.0)\n",
            "Requirement already satisfied: zipp>=3.1.0 in /usr/local/lib/python3.8/dist-packages (from importlib-resources>=1.4.0->jsonschema<=4.8.0->autogluon.multimodal==0.6.1->autogluon) (3.11.0)\n",
            "Requirement already satisfied: wheel in /usr/local/lib/python3.8/dist-packages (from lightgbm<3.4,>=3.3->autogluon.tabular[all]==0.6.1->autogluon) (0.38.4)\n",
            "Requirement already satisfied: regex>=2021.8.3 in /usr/local/lib/python3.8/dist-packages (from nltk<4.0.0,>=3.4.5->autogluon.multimodal==0.6.1->autogluon) (2022.6.2)\n",
            "Requirement already satisfied: typish>=1.7.0 in /usr/local/lib/python3.8/dist-packages (from nptyping<1.5.0,>=1.4.4->autogluon.multimodal==0.6.1->autogluon) (1.9.3)\n",
            "Requirement already satisfied: antlr4-python3-runtime==4.8 in /usr/local/lib/python3.8/dist-packages (from omegaconf<2.2.0,>=2.1.1->autogluon.multimodal==0.6.1->autogluon) (4.8)\n",
            "Requirement already satisfied: tabulate in /usr/local/lib/python3.8/dist-packages (from openmim<=0.2.1,>0.1.5->autogluon.multimodal==0.6.1->autogluon) (0.8.10)\n",
            "Requirement already satisfied: rich in /usr/local/lib/python3.8/dist-packages (from openmim<=0.2.1,>0.1.5->autogluon.multimodal==0.6.1->autogluon) (12.6.0)\n",
            "Requirement already satisfied: model-index in /usr/local/lib/python3.8/dist-packages (from openmim<=0.2.1,>0.1.5->autogluon.multimodal==0.6.1->autogluon) (0.1.11)\n",
            "Requirement already satisfied: colorama in /usr/local/lib/python3.8/dist-packages (from openmim<=0.2.1,>0.1.5->autogluon.multimodal==0.6.1->autogluon) (0.4.6)\n",
            "Requirement already satisfied: pyparsing!=3.0.5,>=2.0.2 in /usr/local/lib/python3.8/dist-packages (from packaging>=20.0->accelerate<0.14,>=0.9->autogluon.multimodal==0.6.1->autogluon) (3.0.9)\n",
            "Requirement already satisfied: python-dateutil>=2.7.3 in /usr/local/lib/python3.8/dist-packages (from pandas!=1.4.0,<1.6,>=1.2.5->autogluon.core[all]==0.6.1->autogluon) (2.8.2)\n",
            "Requirement already satisfied: pytz>=2017.3 in /usr/local/lib/python3.8/dist-packages (from pandas!=1.4.0,<1.6,>=1.2.5->autogluon.core[all]==0.6.1->autogluon) (2022.6)\n",
            "Requirement already satisfied: locket in /usr/local/lib/python3.8/dist-packages (from partd>=0.3.10->dask<=2021.11.2,>=2021.09.1->autogluon.core[all]==0.6.1->autogluon) (1.0.0)\n",
            "Requirement already satisfied: urllib3 in /usr/local/lib/python3.8/dist-packages (from pmdarima~=1.8.2->autogluon.timeseries[all]==0.6.1->autogluon) (1.25.11)\n",
            "Requirement already satisfied: Cython!=0.29.18,>=0.29 in /usr/local/lib/python3.8/dist-packages (from pmdarima~=1.8.2->autogluon.timeseries[all]==0.6.1->autogluon) (0.29.32)\n",
            "Requirement already satisfied: tensorboard>=2.9.1 in /usr/local/lib/python3.8/dist-packages (from pytorch-lightning<1.8.0,>=1.7.4->autogluon.multimodal==0.6.1->autogluon) (2.9.1)\n",
            "Requirement already satisfied: pyDeprecate>=0.3.1 in /usr/local/lib/python3.8/dist-packages (from pytorch-lightning<1.8.0,>=1.7.4->autogluon.multimodal==0.6.1->autogluon) (0.3.2)\n",
            "Requirement already satisfied: virtualenv in /usr/local/lib/python3.8/dist-packages (from ray<2.1,>=2.0->autogluon.core[all]==0.6.1->autogluon) (20.17.1)\n",
            "Requirement already satisfied: grpcio<=1.43.0,>=1.32.0 in /usr/local/lib/python3.8/dist-packages (from ray<2.1,>=2.0->autogluon.core[all]==0.6.1->autogluon) (1.43.0)\n",
            "Requirement already satisfied: protobuf<4.0.0,>=3.15.3 in /usr/local/lib/python3.8/dist-packages (from ray<2.1,>=2.0->autogluon.core[all]==0.6.1->autogluon) (3.19.6)\n",
            "Requirement already satisfied: tensorboardX>=1.9 in /usr/local/lib/python3.8/dist-packages (from ray<2.1,>=2.0->autogluon.core[all]==0.6.1->autogluon) (2.5.1)\n",
            "Requirement already satisfied: chardet<4,>=3.0.2 in /usr/local/lib/python3.8/dist-packages (from requests->autogluon.core[all]==0.6.1->autogluon) (3.0.4)\n",
            "Requirement already satisfied: idna<3,>=2.5 in /usr/local/lib/python3.8/dist-packages (from requests->autogluon.core[all]==0.6.1->autogluon) (2.10)\n",
            "Requirement already satisfied: certifi>=2017.4.17 in /usr/local/lib/python3.8/dist-packages (from requests->autogluon.core[all]==0.6.1->autogluon) (2022.9.24)\n",
            "Requirement already satisfied: PyWavelets>=1.1.1 in /usr/local/lib/python3.8/dist-packages (from scikit-image<0.20.0,>=0.19.1->autogluon.multimodal==0.6.1->autogluon) (1.4.1)\n",
            "Requirement already satisfied: tifffile>=2019.7.26 in /usr/local/lib/python3.8/dist-packages (from scikit-image<0.20.0,>=0.19.1->autogluon.multimodal==0.6.1->autogluon) (2022.10.10)\n",
            "Requirement already satisfied: imageio>=2.4.1 in /usr/local/lib/python3.8/dist-packages (from scikit-image<0.20.0,>=0.19.1->autogluon.multimodal==0.6.1->autogluon) (2.9.0)\n",
            "Requirement already satisfied: threadpoolctl>=2.0.0 in /usr/local/lib/python3.8/dist-packages (from scikit-learn<1.2,>=1.0.0->autogluon.core[all]==0.6.1->autogluon) (3.1.0)\n",
            "Requirement already satisfied: numba>=0.53 in /usr/local/lib/python3.8/dist-packages (from sktime<0.14,>=0.13.1->autogluon.timeseries[all]==0.6.1->autogluon) (0.56.4)\n",
            "Requirement already satisfied: deprecated>=1.2.13 in /usr/local/lib/python3.8/dist-packages (from sktime<0.14,>=0.13.1->autogluon.timeseries[all]==0.6.1->autogluon) (1.2.13)\n",
            "Requirement already satisfied: wrapt<2,>=1.10 in /usr/local/lib/python3.8/dist-packages (from deprecated>=1.2.13->sktime<0.14,>=0.13.1->autogluon.timeseries[all]==0.6.1->autogluon) (1.14.1)\n",
            "Requirement already satisfied: importlib-metadata in /usr/local/lib/python3.8/dist-packages (from numba>=0.53->sktime<0.14,>=0.13.1->autogluon.timeseries[all]==0.6.1->autogluon) (4.13.0)\n",
            "Requirement already satisfied: llvmlite<0.40,>=0.39.0dev0 in /usr/local/lib/python3.8/dist-packages (from numba>=0.53->sktime<0.14,>=0.13.1->autogluon.timeseries[all]==0.6.1->autogluon) (0.39.1)\n",
            "Requirement already satisfied: murmurhash<1.1.0,>=0.28.0 in /usr/local/lib/python3.8/dist-packages (from spacy<4->fastai<2.8,>=2.3.1->autogluon.tabular[all]==0.6.1->autogluon) (1.0.9)\n",
            "Requirement already satisfied: catalogue<2.1.0,>=2.0.6 in /usr/local/lib/python3.8/dist-packages (from spacy<4->fastai<2.8,>=2.3.1->autogluon.tabular[all]==0.6.1->autogluon) (2.0.8)\n",
            "Requirement already satisfied: wasabi<1.1.0,>=0.9.1 in /usr/local/lib/python3.8/dist-packages (from spacy<4->fastai<2.8,>=2.3.1->autogluon.tabular[all]==0.6.1->autogluon) (0.10.1)\n",
            "Requirement already satisfied: spacy-loggers<2.0.0,>=1.0.0 in /usr/local/lib/python3.8/dist-packages (from spacy<4->fastai<2.8,>=2.3.1->autogluon.tabular[all]==0.6.1->autogluon) (1.0.3)\n",
            "Requirement already satisfied: srsly<3.0.0,>=2.4.3 in /usr/local/lib/python3.8/dist-packages (from spacy<4->fastai<2.8,>=2.3.1->autogluon.tabular[all]==0.6.1->autogluon) (2.4.5)\n",
            "Requirement already satisfied: thinc<8.2.0,>=8.1.0 in /usr/local/lib/python3.8/dist-packages (from spacy<4->fastai<2.8,>=2.3.1->autogluon.tabular[all]==0.6.1->autogluon) (8.1.5)\n",
            "Requirement already satisfied: typer<0.8.0,>=0.3.0 in /usr/local/lib/python3.8/dist-packages (from spacy<4->fastai<2.8,>=2.3.1->autogluon.tabular[all]==0.6.1->autogluon) (0.7.0)\n",
            "Requirement already satisfied: langcodes<4.0.0,>=3.2.0 in /usr/local/lib/python3.8/dist-packages (from spacy<4->fastai<2.8,>=2.3.1->autogluon.tabular[all]==0.6.1->autogluon) (3.3.0)\n",
            "Requirement already satisfied: cymem<2.1.0,>=2.0.2 in /usr/local/lib/python3.8/dist-packages (from spacy<4->fastai<2.8,>=2.3.1->autogluon.tabular[all]==0.6.1->autogluon) (2.0.7)\n",
            "Requirement already satisfied: spacy-legacy<3.1.0,>=3.0.10 in /usr/local/lib/python3.8/dist-packages (from spacy<4->fastai<2.8,>=2.3.1->autogluon.tabular[all]==0.6.1->autogluon) (3.0.10)\n",
            "Requirement already satisfied: preshed<3.1.0,>=3.0.2 in /usr/local/lib/python3.8/dist-packages (from spacy<4->fastai<2.8,>=2.3.1->autogluon.tabular[all]==0.6.1->autogluon) (3.0.8)\n",
            "Requirement already satisfied: pathy>=0.3.5 in /usr/local/lib/python3.8/dist-packages (from spacy<4->fastai<2.8,>=2.3.1->autogluon.tabular[all]==0.6.1->autogluon) (0.10.0)\n",
            "Requirement already satisfied: patsy>=0.5.2 in /usr/local/lib/python3.8/dist-packages (from statsmodels~=0.13.0->autogluon.timeseries[all]==0.6.1->autogluon) (0.5.3)\n",
            "Requirement already satisfied: google-auth-oauthlib<0.5,>=0.4.1 in /usr/local/lib/python3.8/dist-packages (from tensorboard>=2.9.1->pytorch-lightning<1.8.0,>=1.7.4->autogluon.multimodal==0.6.1->autogluon) (0.4.6)\n",
            "Requirement already satisfied: markdown>=2.6.8 in /usr/local/lib/python3.8/dist-packages (from tensorboard>=2.9.1->pytorch-lightning<1.8.0,>=1.7.4->autogluon.multimodal==0.6.1->autogluon) (3.4.1)\n",
            "Requirement already satisfied: tensorboard-plugin-wit>=1.6.0 in /usr/local/lib/python3.8/dist-packages (from tensorboard>=2.9.1->pytorch-lightning<1.8.0,>=1.7.4->autogluon.multimodal==0.6.1->autogluon) (1.8.1)\n",
            "Requirement already satisfied: google-auth<3,>=1.6.3 in /usr/local/lib/python3.8/dist-packages (from tensorboard>=2.9.1->pytorch-lightning<1.8.0,>=1.7.4->autogluon.multimodal==0.6.1->autogluon) (2.15.0)\n",
            "Requirement already satisfied: werkzeug>=1.0.1 in /usr/local/lib/python3.8/dist-packages (from tensorboard>=2.9.1->pytorch-lightning<1.8.0,>=1.7.4->autogluon.multimodal==0.6.1->autogluon) (1.0.1)\n",
            "Requirement already satisfied: tensorboard-data-server<0.7.0,>=0.6.0 in /usr/local/lib/python3.8/dist-packages (from tensorboard>=2.9.1->pytorch-lightning<1.8.0,>=1.7.4->autogluon.multimodal==0.6.1->autogluon) (0.6.1)\n",
            "Requirement already satisfied: absl-py>=0.4 in /usr/local/lib/python3.8/dist-packages (from tensorboard>=2.9.1->pytorch-lightning<1.8.0,>=1.7.4->autogluon.multimodal==0.6.1->autogluon) (1.3.0)\n",
            "Requirement already satisfied: cachetools<6.0,>=2.0.0 in /usr/local/lib/python3.8/dist-packages (from google-auth<3,>=1.6.3->tensorboard>=2.9.1->pytorch-lightning<1.8.0,>=1.7.4->autogluon.multimodal==0.6.1->autogluon) (5.2.0)\n",
            "Requirement already satisfied: pyasn1-modules>=0.2.1 in /usr/local/lib/python3.8/dist-packages (from google-auth<3,>=1.6.3->tensorboard>=2.9.1->pytorch-lightning<1.8.0,>=1.7.4->autogluon.multimodal==0.6.1->autogluon) (0.2.8)\n",
            "Requirement already satisfied: rsa<5,>=3.1.4 in /usr/local/lib/python3.8/dist-packages (from google-auth<3,>=1.6.3->tensorboard>=2.9.1->pytorch-lightning<1.8.0,>=1.7.4->autogluon.multimodal==0.6.1->autogluon) (4.9)\n",
            "Requirement already satisfied: requests-oauthlib>=0.7.0 in /usr/local/lib/python3.8/dist-packages (from google-auth-oauthlib<0.5,>=0.4.1->tensorboard>=2.9.1->pytorch-lightning<1.8.0,>=1.7.4->autogluon.multimodal==0.6.1->autogluon) (1.3.1)\n",
            "Requirement already satisfied: pyasn1<0.5.0,>=0.4.6 in /usr/local/lib/python3.8/dist-packages (from pyasn1-modules>=0.2.1->google-auth<3,>=1.6.3->tensorboard>=2.9.1->pytorch-lightning<1.8.0,>=1.7.4->autogluon.multimodal==0.6.1->autogluon) (0.4.8)\n",
            "Requirement already satisfied: oauthlib>=3.0.0 in /usr/local/lib/python3.8/dist-packages (from requests-oauthlib>=0.7.0->google-auth-oauthlib<0.5,>=0.4.1->tensorboard>=2.9.1->pytorch-lightning<1.8.0,>=1.7.4->autogluon.multimodal==0.6.1->autogluon) (3.2.2)\n",
            "Requirement already satisfied: blis<0.8.0,>=0.7.8 in /usr/local/lib/python3.8/dist-packages (from thinc<8.2.0,>=8.1.0->spacy<4->fastai<2.8,>=2.3.1->autogluon.tabular[all]==0.6.1->autogluon) (0.7.9)\n",
            "Requirement already satisfied: confection<1.0.0,>=0.0.1 in /usr/local/lib/python3.8/dist-packages (from thinc<8.2.0,>=8.1.0->spacy<4->fastai<2.8,>=2.3.1->autogluon.tabular[all]==0.6.1->autogluon) (0.0.3)\n",
            "Requirement already satisfied: tokenizers!=0.11.3,<0.14,>=0.11.1 in /usr/local/lib/python3.8/dist-packages (from transformers<4.24.0,>=4.23.0->autogluon.multimodal==0.6.1->autogluon) (0.13.2)\n",
            "Requirement already satisfied: heapdict in /usr/local/lib/python3.8/dist-packages (from zict>=0.1.3->distributed<=2021.11.2,>=2021.09.1->autogluon.core[all]==0.6.1->autogluon) (1.0.1)\n",
            "Requirement already satisfied: botocore<1.30.0,>=1.29.31 in /usr/local/lib/python3.8/dist-packages (from boto3->autogluon.core[all]==0.6.1->autogluon) (1.29.31)\n",
            "Requirement already satisfied: jmespath<2.0.0,>=0.7.1 in /usr/local/lib/python3.8/dist-packages (from boto3->autogluon.core[all]==0.6.1->autogluon) (1.0.1)\n",
            "Requirement already satisfied: s3transfer<0.7.0,>=0.6.0 in /usr/local/lib/python3.8/dist-packages (from boto3->autogluon.core[all]==0.6.1->autogluon) (0.6.0)\n",
            "Requirement already satisfied: MarkupSafe>=0.23 in /usr/local/lib/python3.8/dist-packages (from jinja2->distributed<=2021.11.2,>=2021.09.1->autogluon.core[all]==0.6.1->autogluon) (2.0.1)\n",
            "Requirement already satisfied: cycler>=0.10 in /usr/local/lib/python3.8/dist-packages (from matplotlib->autogluon.core[all]==0.6.1->autogluon) (0.11.0)\n",
            "Requirement already satisfied: kiwisolver>=1.0.1 in /usr/local/lib/python3.8/dist-packages (from matplotlib->autogluon.core[all]==0.6.1->autogluon) (1.4.4)\n",
            "Requirement already satisfied: ordered-set in /usr/local/lib/python3.8/dist-packages (from model-index->openmim<=0.2.1,>0.1.5->autogluon.multimodal==0.6.1->autogluon) (4.1.0)\n",
            "Requirement already satisfied: tenacity>=6.2.0 in /usr/local/lib/python3.8/dist-packages (from plotly->catboost<1.2,>=1.0->autogluon.tabular[all]==0.6.1->autogluon) (8.1.0)\n",
            "Requirement already satisfied: commonmark<0.10.0,>=0.9.0 in /usr/local/lib/python3.8/dist-packages (from rich->openmim<=0.2.1,>0.1.5->autogluon.multimodal==0.6.1->autogluon) (0.9.1)\n",
            "Requirement already satisfied: pygments<3.0.0,>=2.6.0 in /usr/local/lib/python3.8/dist-packages (from rich->openmim<=0.2.1,>0.1.5->autogluon.multimodal==0.6.1->autogluon) (2.6.1)\n",
            "Requirement already satisfied: distlib<1,>=0.3.6 in /usr/local/lib/python3.8/dist-packages (from virtualenv->ray<2.1,>=2.0->autogluon.core[all]==0.6.1->autogluon) (0.3.6)\n",
            "Requirement already satisfied: platformdirs<3,>=2.4 in /usr/local/lib/python3.8/dist-packages (from virtualenv->ray<2.1,>=2.0->autogluon.core[all]==0.6.1->autogluon) (2.5.4)\n"
          ]
        }
      ]
    },
    {
      "cell_type": "code",
      "source": [
        "from autogluon.tabular import TabularPredictor"
      ],
      "metadata": {
        "id": "ezE34EwNIgo9"
      },
      "execution_count": 31,
      "outputs": []
    },
    {
      "cell_type": "code",
      "source": [
        "predictor = TabularPredictor(label='estancia').fit(train_data=df_f)"
      ],
      "metadata": {
        "colab": {
          "base_uri": "https://localhost:8080/"
        },
        "id": "qSjkmQjdGkYc",
        "outputId": "7bf1ae6a-eea8-43df-be60-3b76ebe2b4b7"
      },
      "execution_count": 33,
      "outputs": [
        {
          "output_type": "stream",
          "name": "stderr",
          "text": [
            "No path specified. Models will be saved in: \"AutogluonModels/ag-20221216_103154/\"\n",
            "Warning: Training may take a very long time because `time_limit` was not specified and `train_data` is large (410000 samples, 29.52 MB).\n",
            "\tConsider setting `time_limit` to ensure training finishes within an expected duration or experiment with a small portion of `train_data` to identify an ideal `presets` and `hyperparameters` configuration.\n",
            "Beginning AutoGluon training ...\n",
            "AutoGluon will save models to \"AutogluonModels/ag-20221216_103154/\"\n",
            "AutoGluon Version:  0.6.1\n",
            "Python Version:     3.8.16\n",
            "Operating System:   Linux\n",
            "Platform Machine:   x86_64\n",
            "Platform Version:   #1 SMP Fri Aug 26 08:44:51 UTC 2022\n",
            "Train Data Rows:    410000\n",
            "Train Data Columns: 8\n",
            "Label Column: estancia\n",
            "Preprocessing data ...\n",
            "AutoGluon infers your prediction problem is: 'binary' (because only two unique label-values observed).\n",
            "\t2 unique label values:  [0, 1]\n",
            "\tIf 'binary' is not the correct problem_type, please manually specify the problem_type parameter during predictor init (You may specify problem_type as one of: ['binary', 'multiclass', 'regression'])\n",
            "Selected class <--> label mapping:  class 1 = 1, class 0 = 0\n",
            "Using Feature Generators to preprocess the data ...\n",
            "Fitting AutoMLPipelineFeatureGenerator...\n",
            "\tAvailable Memory:                    11599.83 MB\n",
            "\tTrain Data (Original)  Memory Usage: 26.24 MB (0.2% of available memory)\n",
            "\tInferring data type of each feature based on column values. Set feature_metadata_in to manually specify special dtypes of the features.\n",
            "\tStage 1 Generators:\n",
            "\t\tFitting AsTypeFeatureGenerator...\n",
            "\t\t\tNote: Converting 5 features to boolean dtype as they only contain 2 unique values.\n",
            "\tStage 2 Generators:\n",
            "\t\tFitting FillNaFeatureGenerator...\n",
            "\tStage 3 Generators:\n",
            "\t\tFitting IdentityFeatureGenerator...\n",
            "\tStage 4 Generators:\n",
            "\t\tFitting DropUniqueFeatureGenerator...\n",
            "\tTypes of features in original data (raw dtype, special dtypes):\n",
            "\t\t('float', []) : 5 | ['anesthesia', 'gynecology', 'Dr Mark', 'Age', 'TB & Chest disease']\n",
            "\t\t('int', [])   : 3 | ['Ward_Facility_Code', 'gender', 'Insurance']\n",
            "\tTypes of features in processed data (raw dtype, special dtypes):\n",
            "\t\t('float', [])     : 1 | ['Age']\n",
            "\t\t('int', [])       : 2 | ['Ward_Facility_Code', 'gender']\n",
            "\t\t('int', ['bool']) : 5 | ['anesthesia', 'gynecology', 'Dr Mark', 'TB & Chest disease', 'Insurance']\n",
            "\t0.6s = Fit runtime\n",
            "\t8 features in original data used to generate 8 features in processed data.\n",
            "\tTrain Data (Processed) Memory Usage: 11.89 MB (0.1% of available memory)\n",
            "Data preprocessing and feature engineering runtime = 0.8s ...\n",
            "AutoGluon will gauge predictive performance using evaluation metric: 'accuracy'\n",
            "\tTo change this, specify the eval_metric parameter of Predictor()\n",
            "Automatically generating train/validation split with holdout_frac=0.01, Train Rows: 405900, Val Rows: 4100\n",
            "Fitting 13 L1 models ...\n",
            "Fitting model: KNeighborsUnif ...\n",
            "\t0.6059\t = Validation score   (accuracy)\n",
            "\t2.15s\t = Training   runtime\n",
            "\t2.46s\t = Validation runtime\n",
            "Fitting model: KNeighborsDist ...\n",
            "\t0.6059\t = Validation score   (accuracy)\n",
            "\t0.48s\t = Training   runtime\n",
            "\t2.15s\t = Validation runtime\n",
            "Fitting model: LightGBMXT ...\n",
            "\t0.6915\t = Validation score   (accuracy)\n",
            "\t3.52s\t = Training   runtime\n",
            "\t0.02s\t = Validation runtime\n",
            "Fitting model: LightGBM ...\n",
            "\t0.6915\t = Validation score   (accuracy)\n",
            "\t1.61s\t = Training   runtime\n",
            "\t0.02s\t = Validation runtime\n",
            "Fitting model: RandomForestGini ...\n",
            "\t0.6915\t = Validation score   (accuracy)\n",
            "\t49.37s\t = Training   runtime\n",
            "\t0.18s\t = Validation runtime\n",
            "Fitting model: RandomForestEntr ...\n",
            "\t0.6915\t = Validation score   (accuracy)\n",
            "\t56.5s\t = Training   runtime\n",
            "\t0.19s\t = Validation runtime\n",
            "Fitting model: CatBoost ...\n",
            "\t0.6915\t = Validation score   (accuracy)\n",
            "\t3.22s\t = Training   runtime\n",
            "\t0.01s\t = Validation runtime\n",
            "Fitting model: ExtraTreesGini ...\n",
            "\t0.6915\t = Validation score   (accuracy)\n",
            "\t41.7s\t = Training   runtime\n",
            "\t0.18s\t = Validation runtime\n",
            "Fitting model: ExtraTreesEntr ...\n",
            "\t0.6915\t = Validation score   (accuracy)\n",
            "\t41.97s\t = Training   runtime\n",
            "\t0.19s\t = Validation runtime\n",
            "Fitting model: NeuralNetFastAI ...\n",
            "No improvement since epoch 3: early stopping\n",
            "\t0.6915\t = Validation score   (accuracy)\n",
            "\t246.67s\t = Training   runtime\n",
            "\t0.06s\t = Validation runtime\n",
            "Fitting model: XGBoost ...\n",
            "\t0.6915\t = Validation score   (accuracy)\n",
            "\t1.32s\t = Training   runtime\n",
            "\t0.01s\t = Validation runtime\n",
            "Fitting model: NeuralNetTorch ...\n",
            "\t0.6915\t = Validation score   (accuracy)\n",
            "\t226.82s\t = Training   runtime\n",
            "\t0.06s\t = Validation runtime\n",
            "Fitting model: LightGBMLarge ...\n",
            "\t0.6915\t = Validation score   (accuracy)\n",
            "\t4.23s\t = Training   runtime\n",
            "\t0.06s\t = Validation runtime\n",
            "Fitting model: WeightedEnsemble_L2 ...\n",
            "\t0.6915\t = Validation score   (accuracy)\n",
            "\t3.98s\t = Training   runtime\n",
            "\t0.01s\t = Validation runtime\n",
            "AutoGluon training complete, total runtime = 690.8s ... Best model: \"WeightedEnsemble_L2\"\n",
            "TabularPredictor saved. To load, use: predictor = TabularPredictor.load(\"AutogluonModels/ag-20221216_103154/\")\n"
          ]
        }
      ]
    },
    {
      "cell_type": "code",
      "source": [
        "pred_probs = predictor.predict_proba(df_f)\n",
        "pred_probs.head(5)"
      ],
      "metadata": {
        "colab": {
          "base_uri": "https://localhost:8080/",
          "height": 206
        },
        "id": "zOeGDQZEHZ0b",
        "outputId": "1905c7e2-f66a-4f1c-b705-fa55413db7fe"
      },
      "execution_count": 34,
      "outputs": [
        {
          "output_type": "execute_result",
          "data": {
            "text/plain": [
              "          0         1\n",
              "0  0.446299  0.553701\n",
              "1  0.431236  0.568764\n",
              "2  0.436302  0.563698\n",
              "3  0.435606  0.564394\n",
              "4  0.000000  1.000000"
            ],
            "text/html": [
              "\n",
              "  <div id=\"df-a6f7553a-47d3-448f-bd43-2456aac57326\">\n",
              "    <div class=\"colab-df-container\">\n",
              "      <div>\n",
              "<style scoped>\n",
              "    .dataframe tbody tr th:only-of-type {\n",
              "        vertical-align: middle;\n",
              "    }\n",
              "\n",
              "    .dataframe tbody tr th {\n",
              "        vertical-align: top;\n",
              "    }\n",
              "\n",
              "    .dataframe thead th {\n",
              "        text-align: right;\n",
              "    }\n",
              "</style>\n",
              "<table border=\"1\" class=\"dataframe\">\n",
              "  <thead>\n",
              "    <tr style=\"text-align: right;\">\n",
              "      <th></th>\n",
              "      <th>0</th>\n",
              "      <th>1</th>\n",
              "    </tr>\n",
              "  </thead>\n",
              "  <tbody>\n",
              "    <tr>\n",
              "      <th>0</th>\n",
              "      <td>0.446299</td>\n",
              "      <td>0.553701</td>\n",
              "    </tr>\n",
              "    <tr>\n",
              "      <th>1</th>\n",
              "      <td>0.431236</td>\n",
              "      <td>0.568764</td>\n",
              "    </tr>\n",
              "    <tr>\n",
              "      <th>2</th>\n",
              "      <td>0.436302</td>\n",
              "      <td>0.563698</td>\n",
              "    </tr>\n",
              "    <tr>\n",
              "      <th>3</th>\n",
              "      <td>0.435606</td>\n",
              "      <td>0.564394</td>\n",
              "    </tr>\n",
              "    <tr>\n",
              "      <th>4</th>\n",
              "      <td>0.000000</td>\n",
              "      <td>1.000000</td>\n",
              "    </tr>\n",
              "  </tbody>\n",
              "</table>\n",
              "</div>\n",
              "      <button class=\"colab-df-convert\" onclick=\"convertToInteractive('df-a6f7553a-47d3-448f-bd43-2456aac57326')\"\n",
              "              title=\"Convert this dataframe to an interactive table.\"\n",
              "              style=\"display:none;\">\n",
              "        \n",
              "  <svg xmlns=\"http://www.w3.org/2000/svg\" height=\"24px\"viewBox=\"0 0 24 24\"\n",
              "       width=\"24px\">\n",
              "    <path d=\"M0 0h24v24H0V0z\" fill=\"none\"/>\n",
              "    <path d=\"M18.56 5.44l.94 2.06.94-2.06 2.06-.94-2.06-.94-.94-2.06-.94 2.06-2.06.94zm-11 1L8.5 8.5l.94-2.06 2.06-.94-2.06-.94L8.5 2.5l-.94 2.06-2.06.94zm10 10l.94 2.06.94-2.06 2.06-.94-2.06-.94-.94-2.06-.94 2.06-2.06.94z\"/><path d=\"M17.41 7.96l-1.37-1.37c-.4-.4-.92-.59-1.43-.59-.52 0-1.04.2-1.43.59L10.3 9.45l-7.72 7.72c-.78.78-.78 2.05 0 2.83L4 21.41c.39.39.9.59 1.41.59.51 0 1.02-.2 1.41-.59l7.78-7.78 2.81-2.81c.8-.78.8-2.07 0-2.86zM5.41 20L4 18.59l7.72-7.72 1.47 1.35L5.41 20z\"/>\n",
              "  </svg>\n",
              "      </button>\n",
              "      \n",
              "  <style>\n",
              "    .colab-df-container {\n",
              "      display:flex;\n",
              "      flex-wrap:wrap;\n",
              "      gap: 12px;\n",
              "    }\n",
              "\n",
              "    .colab-df-convert {\n",
              "      background-color: #E8F0FE;\n",
              "      border: none;\n",
              "      border-radius: 50%;\n",
              "      cursor: pointer;\n",
              "      display: none;\n",
              "      fill: #1967D2;\n",
              "      height: 32px;\n",
              "      padding: 0 0 0 0;\n",
              "      width: 32px;\n",
              "    }\n",
              "\n",
              "    .colab-df-convert:hover {\n",
              "      background-color: #E2EBFA;\n",
              "      box-shadow: 0px 1px 2px rgba(60, 64, 67, 0.3), 0px 1px 3px 1px rgba(60, 64, 67, 0.15);\n",
              "      fill: #174EA6;\n",
              "    }\n",
              "\n",
              "    [theme=dark] .colab-df-convert {\n",
              "      background-color: #3B4455;\n",
              "      fill: #D2E3FC;\n",
              "    }\n",
              "\n",
              "    [theme=dark] .colab-df-convert:hover {\n",
              "      background-color: #434B5C;\n",
              "      box-shadow: 0px 1px 3px 1px rgba(0, 0, 0, 0.15);\n",
              "      filter: drop-shadow(0px 1px 2px rgba(0, 0, 0, 0.3));\n",
              "      fill: #FFFFFF;\n",
              "    }\n",
              "  </style>\n",
              "\n",
              "      <script>\n",
              "        const buttonEl =\n",
              "          document.querySelector('#df-a6f7553a-47d3-448f-bd43-2456aac57326 button.colab-df-convert');\n",
              "        buttonEl.style.display =\n",
              "          google.colab.kernel.accessAllowed ? 'block' : 'none';\n",
              "\n",
              "        async function convertToInteractive(key) {\n",
              "          const element = document.querySelector('#df-a6f7553a-47d3-448f-bd43-2456aac57326');\n",
              "          const dataTable =\n",
              "            await google.colab.kernel.invokeFunction('convertToInteractive',\n",
              "                                                     [key], {});\n",
              "          if (!dataTable) return;\n",
              "\n",
              "          const docLinkHtml = 'Like what you see? Visit the ' +\n",
              "            '<a target=\"_blank\" href=https://colab.research.google.com/notebooks/data_table.ipynb>data table notebook</a>'\n",
              "            + ' to learn more about interactive tables.';\n",
              "          element.innerHTML = '';\n",
              "          dataTable['output_type'] = 'display_data';\n",
              "          await google.colab.output.renderOutput(dataTable, element);\n",
              "          const docLink = document.createElement('div');\n",
              "          docLink.innerHTML = docLinkHtml;\n",
              "          element.appendChild(docLink);\n",
              "        }\n",
              "      </script>\n",
              "    </div>\n",
              "  </div>\n",
              "  "
            ]
          },
          "metadata": {},
          "execution_count": 34
        }
      ]
    },
    {
      "cell_type": "code",
      "source": [
        "results = predictor.fit_summary(show_plot=True)"
      ],
      "metadata": {
        "colab": {
          "base_uri": "https://localhost:8080/"
        },
        "id": "uY4sfupCW_Hi",
        "outputId": "7ac8cca2-a61f-4dfa-9693-73ce65e9b6e4"
      },
      "execution_count": 35,
      "outputs": [
        {
          "output_type": "stream",
          "name": "stdout",
          "text": [
            "*** Summary of fit() ***\n",
            "Estimated performance of each model:\n",
            "                  model  score_val  pred_time_val    fit_time  pred_time_val_marginal  fit_time_marginal  stack_level  can_infer  fit_order\n",
            "0              CatBoost   0.691463       0.009199    3.219507                0.009199           3.219507            1       True          7\n",
            "1               XGBoost   0.691463       0.014698    1.320997                0.014698           1.320997            1       True         11\n",
            "2              LightGBM   0.691463       0.015673    1.611036                0.015673           1.611036            1       True          4\n",
            "3            LightGBMXT   0.691463       0.018667    3.519128                0.018667           3.519128            1       True          3\n",
            "4        NeuralNetTorch   0.691463       0.055972  226.819555                0.055972         226.819555            1       True         12\n",
            "5       NeuralNetFastAI   0.691463       0.056003  246.669050                0.056003         246.669050            1       True         10\n",
            "6         LightGBMLarge   0.691463       0.056821    4.230615                0.056821           4.230615            1       True         13\n",
            "7      RandomForestGini   0.691463       0.175486   49.367140                0.175486          49.367140            1       True          5\n",
            "8        ExtraTreesGini   0.691463       0.180831   41.700287                0.180831          41.700287            1       True          8\n",
            "9        ExtraTreesEntr   0.691463       0.185201   41.970902                0.185201          41.970902            1       True          9\n",
            "10     RandomForestEntr   0.691463       0.189722   56.496174                0.189722          56.496174            1       True          6\n",
            "11  WeightedEnsemble_L2   0.691463       0.194566   45.682612                0.013735           3.982325            2       True         14\n",
            "12       KNeighborsDist   0.605854       2.148404    0.476114                2.148404           0.476114            1       True          2\n",
            "13       KNeighborsUnif   0.605854       2.462650    2.150692                2.462650           2.150692            1       True          1\n",
            "Number of models trained: 14\n",
            "Types of models trained:\n",
            "{'CatBoostModel', 'TabularNeuralNetTorchModel', 'XGBoostModel', 'WeightedEnsembleModel', 'LGBModel', 'KNNModel', 'RFModel', 'NNFastAiTabularModel', 'XTModel'}\n",
            "Bagging used: False \n",
            "Multi-layer stack-ensembling used: False \n",
            "Feature Metadata (Processed):\n",
            "(raw dtype, special dtypes):\n",
            "('float', [])     : 1 | ['Age']\n",
            "('int', [])       : 2 | ['Ward_Facility_Code', 'gender']\n",
            "('int', ['bool']) : 5 | ['anesthesia', 'gynecology', 'Dr Mark', 'TB & Chest disease', 'Insurance']\n",
            "Plot summary of models saved to file: AutogluonModels/ag-20221216_103154/SummaryOfModels.html\n",
            "*** End of fit() summary ***\n"
          ]
        }
      ]
    },
    {
      "cell_type": "code",
      "source": [
        "joblib.dump(predictor,'autogluon_categ_trained')"
      ],
      "metadata": {
        "colab": {
          "base_uri": "https://localhost:8080/"
        },
        "id": "D1s3ZRo7YHvH",
        "outputId": "7c949cf8-e71e-4154-e12c-3bf3ff2f8e67"
      },
      "execution_count": 36,
      "outputs": [
        {
          "output_type": "execute_result",
          "data": {
            "text/plain": [
              "['autogluon_categ_trained']"
            ]
          },
          "metadata": {},
          "execution_count": 36
        }
      ]
    }
  ]
}