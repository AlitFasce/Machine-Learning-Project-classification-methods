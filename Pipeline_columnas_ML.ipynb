{
  "nbformat": 4,
  "nbformat_minor": 0,
  "metadata": {
    "colab": {
      "provenance": []
    },
    "kernelspec": {
      "name": "python3",
      "display_name": "Python 3"
    },
    "language_info": {
      "name": "python"
    }
  },
  "cells": [
    {
      "cell_type": "code",
      "execution_count": null,
      "metadata": {
        "id": "cIcE0nZXTNSo"
      },
      "outputs": [],
      "source": [
        "import pandas as pd\n",
        "import numpy as np\n",
        "from sklearn import preprocessing\n",
        "import matplotlib.pyplot as plt\n",
        "from sklearn.model_selection import train_test_split\n",
        "from sklearn.pipeline import Pipeline\n",
        "from sklearn import tree\n",
        "from sklearn.neighbors import KNeighborsClassifier\n",
        "from sklearn.tree import DecisionTreeClassifier\n",
        "import joblib \n",
        "from sklearn.metrics import accuracy_score\n",
        "from sklearn.metrics import precision_score\n",
        "from sklearn.metrics import recall_score\n",
        "from sklearn.metrics import f1_score\n",
        "from sklearn.linear_model import LogisticRegression\n",
        "from sklearn.preprocessing import OneHotEncoder # preprocesamiento de columna\n",
        "from sklearn.preprocessing import OrdinalEncoder # preprocesamiento de columna\n",
        "from sklearn.preprocessing import StandardScaler\n",
        "from sklearn.decomposition import PCA\n",
        "from sklearn.pipeline import Pipeline"
      ]
    },
    {
      "cell_type": "code",
      "source": [
        "!git clone https://github.com/soyHenry/Datathon.git"
      ],
      "metadata": {
        "colab": {
          "base_uri": "https://localhost:8080/"
        },
        "id": "1Pi4m_ZKTeWF",
        "outputId": "9181ae96-7492-411a-be95-2baf35b28d7c"
      },
      "execution_count": null,
      "outputs": [
        {
          "output_type": "stream",
          "name": "stdout",
          "text": [
            "fatal: destination path 'Datathon' already exists and is not an empty directory.\n"
          ]
        }
      ]
    },
    {
      "cell_type": "code",
      "source": [
        "df_train=pd.read_csv('Datathon/hospitalizaciones_train.csv')"
      ],
      "metadata": {
        "id": "bUk6np6tTfDd"
      },
      "execution_count": null,
      "outputs": []
    },
    {
      "cell_type": "code",
      "source": [
        "df1=df_train.copy()"
      ],
      "metadata": {
        "id": "3CmKIB_qTi5t"
      },
      "execution_count": null,
      "outputs": []
    },
    {
      "cell_type": "code",
      "source": [
        "def transf_label(df):\n",
        "    lista_dias=df['Stay (in days)']\n",
        "    lista_estancia=[]\n",
        "    for i in lista_dias:\n",
        "        if i <=8: \n",
        "            i=0\n",
        "        elif i>8:\n",
        "            i=1\n",
        "        lista_estancia.append(i)\n",
        "    array_estancia=np.array(lista_estancia)\n",
        "    array_estancia.reshape(1,-1)\n",
        "    array_estancia.shape\n",
        "    df['estancia']=array_estancia\n",
        "    df.drop(columns=['Stay (in days)'], inplace=True)\n",
        "    return df"
      ],
      "metadata": {
        "id": "0rxbLRyXTk0d"
      },
      "execution_count": null,
      "outputs": []
    },
    {
      "cell_type": "code",
      "source": [
        "transf_label(df1)"
      ],
      "metadata": {
        "colab": {
          "base_uri": "https://localhost:8080/",
          "height": 713
        },
        "id": "Wbq6m1GyTmqd",
        "outputId": "18b33ca1-026c-4e06-9632-44909cb9c472"
      },
      "execution_count": null,
      "outputs": [
        {
          "output_type": "execute_result",
          "data": {
            "text/plain": [
              "        Available Extra Rooms in Hospital  Department Ward_Facility_Code  \\\n",
              "0                                       4  gynecology                  D   \n",
              "1                                       4  gynecology                  B   \n",
              "2                                       2  gynecology                  B   \n",
              "3                                       4  gynecology                  D   \n",
              "4                                       2  anesthesia                  E   \n",
              "...                                   ...         ...                ...   \n",
              "409995                                  1  gynecology                  D   \n",
              "409996                                  5  gynecology                  D   \n",
              "409997                                  4  gynecology                  D   \n",
              "409998                                 10  gynecology                  D   \n",
              "409999                                  3  gynecology                  F   \n",
              "\n",
              "       doctor_name  staff_available  patientid    Age  gender  \\\n",
              "0        Dr Sophia                0      33070  41-50  Female   \n",
              "1        Dr Sophia                2      34808  31-40  Female   \n",
              "2        Dr Sophia                8      44577  21-30  Female   \n",
              "3        Dr Olivia                7       3695  31-40  Female   \n",
              "4          Dr Mark               10     108956  71-80    Male   \n",
              "...            ...              ...        ...    ...     ...   \n",
              "409995    Dr Sarah                1      63105  31-40  Female   \n",
              "409996   Dr Nathan                5     129292  21-30  Female   \n",
              "409997    Dr Sarah                9      11399  21-30  Female   \n",
              "409998   Dr Olivia               10      75003  21-30  Female   \n",
              "409999   Dr Nathan                0     128183  41-50  Female   \n",
              "\n",
              "       Type of Admission Severity of Illness health_conditions  \\\n",
              "0                 Trauma             Extreme          Diabetes   \n",
              "1                 Trauma               Minor     Heart disease   \n",
              "2                 Trauma             Extreme          Diabetes   \n",
              "3                 Urgent            Moderate              None   \n",
              "4                 Trauma            Moderate          Diabetes   \n",
              "...                  ...                 ...               ...   \n",
              "409995            Trauma               Minor           Asthama   \n",
              "409996            Trauma             Extreme             Other   \n",
              "409997         Emergency               Minor           Asthama   \n",
              "409998            Trauma            Moderate             Other   \n",
              "409999            Trauma               Minor             Other   \n",
              "\n",
              "        Visitors with Patient Insurance  Admission_Deposit  estancia  \n",
              "0                           4       Yes        2966.408696         0  \n",
              "1                           2        No        3554.835677         1  \n",
              "2                           2       Yes        5624.733654         0  \n",
              "3                           4        No        4814.149231         0  \n",
              "4                           2        No        5169.269637         1  \n",
              "...                       ...       ...                ...       ...  \n",
              "409995                      3       Yes        3902.291076         0  \n",
              "409996                      4        No        4771.995223         1  \n",
              "409997                      4       Yes        3816.994210         1  \n",
              "409998                      2       Yes        3841.577491         1  \n",
              "409999                      8       Yes        4329.046412         0  \n",
              "\n",
              "[410000 rows x 15 columns]"
            ],
            "text/html": [
              "\n",
              "  <div id=\"df-b8a4e703-ff86-4fd1-9198-42586f23c7d5\">\n",
              "    <div class=\"colab-df-container\">\n",
              "      <div>\n",
              "<style scoped>\n",
              "    .dataframe tbody tr th:only-of-type {\n",
              "        vertical-align: middle;\n",
              "    }\n",
              "\n",
              "    .dataframe tbody tr th {\n",
              "        vertical-align: top;\n",
              "    }\n",
              "\n",
              "    .dataframe thead th {\n",
              "        text-align: right;\n",
              "    }\n",
              "</style>\n",
              "<table border=\"1\" class=\"dataframe\">\n",
              "  <thead>\n",
              "    <tr style=\"text-align: right;\">\n",
              "      <th></th>\n",
              "      <th>Available Extra Rooms in Hospital</th>\n",
              "      <th>Department</th>\n",
              "      <th>Ward_Facility_Code</th>\n",
              "      <th>doctor_name</th>\n",
              "      <th>staff_available</th>\n",
              "      <th>patientid</th>\n",
              "      <th>Age</th>\n",
              "      <th>gender</th>\n",
              "      <th>Type of Admission</th>\n",
              "      <th>Severity of Illness</th>\n",
              "      <th>health_conditions</th>\n",
              "      <th>Visitors with Patient</th>\n",
              "      <th>Insurance</th>\n",
              "      <th>Admission_Deposit</th>\n",
              "      <th>estancia</th>\n",
              "    </tr>\n",
              "  </thead>\n",
              "  <tbody>\n",
              "    <tr>\n",
              "      <th>0</th>\n",
              "      <td>4</td>\n",
              "      <td>gynecology</td>\n",
              "      <td>D</td>\n",
              "      <td>Dr Sophia</td>\n",
              "      <td>0</td>\n",
              "      <td>33070</td>\n",
              "      <td>41-50</td>\n",
              "      <td>Female</td>\n",
              "      <td>Trauma</td>\n",
              "      <td>Extreme</td>\n",
              "      <td>Diabetes</td>\n",
              "      <td>4</td>\n",
              "      <td>Yes</td>\n",
              "      <td>2966.408696</td>\n",
              "      <td>0</td>\n",
              "    </tr>\n",
              "    <tr>\n",
              "      <th>1</th>\n",
              "      <td>4</td>\n",
              "      <td>gynecology</td>\n",
              "      <td>B</td>\n",
              "      <td>Dr Sophia</td>\n",
              "      <td>2</td>\n",
              "      <td>34808</td>\n",
              "      <td>31-40</td>\n",
              "      <td>Female</td>\n",
              "      <td>Trauma</td>\n",
              "      <td>Minor</td>\n",
              "      <td>Heart disease</td>\n",
              "      <td>2</td>\n",
              "      <td>No</td>\n",
              "      <td>3554.835677</td>\n",
              "      <td>1</td>\n",
              "    </tr>\n",
              "    <tr>\n",
              "      <th>2</th>\n",
              "      <td>2</td>\n",
              "      <td>gynecology</td>\n",
              "      <td>B</td>\n",
              "      <td>Dr Sophia</td>\n",
              "      <td>8</td>\n",
              "      <td>44577</td>\n",
              "      <td>21-30</td>\n",
              "      <td>Female</td>\n",
              "      <td>Trauma</td>\n",
              "      <td>Extreme</td>\n",
              "      <td>Diabetes</td>\n",
              "      <td>2</td>\n",
              "      <td>Yes</td>\n",
              "      <td>5624.733654</td>\n",
              "      <td>0</td>\n",
              "    </tr>\n",
              "    <tr>\n",
              "      <th>3</th>\n",
              "      <td>4</td>\n",
              "      <td>gynecology</td>\n",
              "      <td>D</td>\n",
              "      <td>Dr Olivia</td>\n",
              "      <td>7</td>\n",
              "      <td>3695</td>\n",
              "      <td>31-40</td>\n",
              "      <td>Female</td>\n",
              "      <td>Urgent</td>\n",
              "      <td>Moderate</td>\n",
              "      <td>None</td>\n",
              "      <td>4</td>\n",
              "      <td>No</td>\n",
              "      <td>4814.149231</td>\n",
              "      <td>0</td>\n",
              "    </tr>\n",
              "    <tr>\n",
              "      <th>4</th>\n",
              "      <td>2</td>\n",
              "      <td>anesthesia</td>\n",
              "      <td>E</td>\n",
              "      <td>Dr Mark</td>\n",
              "      <td>10</td>\n",
              "      <td>108956</td>\n",
              "      <td>71-80</td>\n",
              "      <td>Male</td>\n",
              "      <td>Trauma</td>\n",
              "      <td>Moderate</td>\n",
              "      <td>Diabetes</td>\n",
              "      <td>2</td>\n",
              "      <td>No</td>\n",
              "      <td>5169.269637</td>\n",
              "      <td>1</td>\n",
              "    </tr>\n",
              "    <tr>\n",
              "      <th>...</th>\n",
              "      <td>...</td>\n",
              "      <td>...</td>\n",
              "      <td>...</td>\n",
              "      <td>...</td>\n",
              "      <td>...</td>\n",
              "      <td>...</td>\n",
              "      <td>...</td>\n",
              "      <td>...</td>\n",
              "      <td>...</td>\n",
              "      <td>...</td>\n",
              "      <td>...</td>\n",
              "      <td>...</td>\n",
              "      <td>...</td>\n",
              "      <td>...</td>\n",
              "      <td>...</td>\n",
              "    </tr>\n",
              "    <tr>\n",
              "      <th>409995</th>\n",
              "      <td>1</td>\n",
              "      <td>gynecology</td>\n",
              "      <td>D</td>\n",
              "      <td>Dr Sarah</td>\n",
              "      <td>1</td>\n",
              "      <td>63105</td>\n",
              "      <td>31-40</td>\n",
              "      <td>Female</td>\n",
              "      <td>Trauma</td>\n",
              "      <td>Minor</td>\n",
              "      <td>Asthama</td>\n",
              "      <td>3</td>\n",
              "      <td>Yes</td>\n",
              "      <td>3902.291076</td>\n",
              "      <td>0</td>\n",
              "    </tr>\n",
              "    <tr>\n",
              "      <th>409996</th>\n",
              "      <td>5</td>\n",
              "      <td>gynecology</td>\n",
              "      <td>D</td>\n",
              "      <td>Dr Nathan</td>\n",
              "      <td>5</td>\n",
              "      <td>129292</td>\n",
              "      <td>21-30</td>\n",
              "      <td>Female</td>\n",
              "      <td>Trauma</td>\n",
              "      <td>Extreme</td>\n",
              "      <td>Other</td>\n",
              "      <td>4</td>\n",
              "      <td>No</td>\n",
              "      <td>4771.995223</td>\n",
              "      <td>1</td>\n",
              "    </tr>\n",
              "    <tr>\n",
              "      <th>409997</th>\n",
              "      <td>4</td>\n",
              "      <td>gynecology</td>\n",
              "      <td>D</td>\n",
              "      <td>Dr Sarah</td>\n",
              "      <td>9</td>\n",
              "      <td>11399</td>\n",
              "      <td>21-30</td>\n",
              "      <td>Female</td>\n",
              "      <td>Emergency</td>\n",
              "      <td>Minor</td>\n",
              "      <td>Asthama</td>\n",
              "      <td>4</td>\n",
              "      <td>Yes</td>\n",
              "      <td>3816.994210</td>\n",
              "      <td>1</td>\n",
              "    </tr>\n",
              "    <tr>\n",
              "      <th>409998</th>\n",
              "      <td>10</td>\n",
              "      <td>gynecology</td>\n",
              "      <td>D</td>\n",
              "      <td>Dr Olivia</td>\n",
              "      <td>10</td>\n",
              "      <td>75003</td>\n",
              "      <td>21-30</td>\n",
              "      <td>Female</td>\n",
              "      <td>Trauma</td>\n",
              "      <td>Moderate</td>\n",
              "      <td>Other</td>\n",
              "      <td>2</td>\n",
              "      <td>Yes</td>\n",
              "      <td>3841.577491</td>\n",
              "      <td>1</td>\n",
              "    </tr>\n",
              "    <tr>\n",
              "      <th>409999</th>\n",
              "      <td>3</td>\n",
              "      <td>gynecology</td>\n",
              "      <td>F</td>\n",
              "      <td>Dr Nathan</td>\n",
              "      <td>0</td>\n",
              "      <td>128183</td>\n",
              "      <td>41-50</td>\n",
              "      <td>Female</td>\n",
              "      <td>Trauma</td>\n",
              "      <td>Minor</td>\n",
              "      <td>Other</td>\n",
              "      <td>8</td>\n",
              "      <td>Yes</td>\n",
              "      <td>4329.046412</td>\n",
              "      <td>0</td>\n",
              "    </tr>\n",
              "  </tbody>\n",
              "</table>\n",
              "<p>410000 rows × 15 columns</p>\n",
              "</div>\n",
              "      <button class=\"colab-df-convert\" onclick=\"convertToInteractive('df-b8a4e703-ff86-4fd1-9198-42586f23c7d5')\"\n",
              "              title=\"Convert this dataframe to an interactive table.\"\n",
              "              style=\"display:none;\">\n",
              "        \n",
              "  <svg xmlns=\"http://www.w3.org/2000/svg\" height=\"24px\"viewBox=\"0 0 24 24\"\n",
              "       width=\"24px\">\n",
              "    <path d=\"M0 0h24v24H0V0z\" fill=\"none\"/>\n",
              "    <path d=\"M18.56 5.44l.94 2.06.94-2.06 2.06-.94-2.06-.94-.94-2.06-.94 2.06-2.06.94zm-11 1L8.5 8.5l.94-2.06 2.06-.94-2.06-.94L8.5 2.5l-.94 2.06-2.06.94zm10 10l.94 2.06.94-2.06 2.06-.94-2.06-.94-.94-2.06-.94 2.06-2.06.94z\"/><path d=\"M17.41 7.96l-1.37-1.37c-.4-.4-.92-.59-1.43-.59-.52 0-1.04.2-1.43.59L10.3 9.45l-7.72 7.72c-.78.78-.78 2.05 0 2.83L4 21.41c.39.39.9.59 1.41.59.51 0 1.02-.2 1.41-.59l7.78-7.78 2.81-2.81c.8-.78.8-2.07 0-2.86zM5.41 20L4 18.59l7.72-7.72 1.47 1.35L5.41 20z\"/>\n",
              "  </svg>\n",
              "      </button>\n",
              "      \n",
              "  <style>\n",
              "    .colab-df-container {\n",
              "      display:flex;\n",
              "      flex-wrap:wrap;\n",
              "      gap: 12px;\n",
              "    }\n",
              "\n",
              "    .colab-df-convert {\n",
              "      background-color: #E8F0FE;\n",
              "      border: none;\n",
              "      border-radius: 50%;\n",
              "      cursor: pointer;\n",
              "      display: none;\n",
              "      fill: #1967D2;\n",
              "      height: 32px;\n",
              "      padding: 0 0 0 0;\n",
              "      width: 32px;\n",
              "    }\n",
              "\n",
              "    .colab-df-convert:hover {\n",
              "      background-color: #E2EBFA;\n",
              "      box-shadow: 0px 1px 2px rgba(60, 64, 67, 0.3), 0px 1px 3px 1px rgba(60, 64, 67, 0.15);\n",
              "      fill: #174EA6;\n",
              "    }\n",
              "\n",
              "    [theme=dark] .colab-df-convert {\n",
              "      background-color: #3B4455;\n",
              "      fill: #D2E3FC;\n",
              "    }\n",
              "\n",
              "    [theme=dark] .colab-df-convert:hover {\n",
              "      background-color: #434B5C;\n",
              "      box-shadow: 0px 1px 3px 1px rgba(0, 0, 0, 0.15);\n",
              "      filter: drop-shadow(0px 1px 2px rgba(0, 0, 0, 0.3));\n",
              "      fill: #FFFFFF;\n",
              "    }\n",
              "  </style>\n",
              "\n",
              "      <script>\n",
              "        const buttonEl =\n",
              "          document.querySelector('#df-b8a4e703-ff86-4fd1-9198-42586f23c7d5 button.colab-df-convert');\n",
              "        buttonEl.style.display =\n",
              "          google.colab.kernel.accessAllowed ? 'block' : 'none';\n",
              "\n",
              "        async function convertToInteractive(key) {\n",
              "          const element = document.querySelector('#df-b8a4e703-ff86-4fd1-9198-42586f23c7d5');\n",
              "          const dataTable =\n",
              "            await google.colab.kernel.invokeFunction('convertToInteractive',\n",
              "                                                     [key], {});\n",
              "          if (!dataTable) return;\n",
              "\n",
              "          const docLinkHtml = 'Like what you see? Visit the ' +\n",
              "            '<a target=\"_blank\" href=https://colab.research.google.com/notebooks/data_table.ipynb>data table notebook</a>'\n",
              "            + ' to learn more about interactive tables.';\n",
              "          element.innerHTML = '';\n",
              "          dataTable['output_type'] = 'display_data';\n",
              "          await google.colab.output.renderOutput(dataTable, element);\n",
              "          const docLink = document.createElement('div');\n",
              "          docLink.innerHTML = docLinkHtml;\n",
              "          element.appendChild(docLink);\n",
              "        }\n",
              "      </script>\n",
              "    </div>\n",
              "  </div>\n",
              "  "
            ]
          },
          "metadata": {},
          "execution_count": 63
        }
      ]
    },
    {
      "cell_type": "code",
      "source": [
        "df_new=df1.copy()"
      ],
      "metadata": {
        "id": "LmBf1HLQ7GNs"
      },
      "execution_count": null,
      "outputs": []
    },
    {
      "cell_type": "markdown",
      "source": [
        "OPCIÓN 1_ POR COLUMNAS"
      ],
      "metadata": {
        "id": "XKyA5Yi-4no6"
      }
    },
    {
      "cell_type": "code",
      "source": [
        "le = preprocessing.LabelEncoder()\n",
        "df1['Insurance'] = le.fit_transform(df1['Insurance'])\n",
        "df1['health_conditions'] = le.fit_transform(df1['health_conditions'])\n",
        "df1['Severity of Illness'] = le.fit_transform(df1['Severity of Illness'])\n",
        "df1['Type of Admission'] = le.fit_transform(df1['Type of Admission'])\n",
        "df1['gender'] = le.fit_transform(df1['gender'])\n",
        "df1['Age'] = le.fit_transform(df1['Age'])\n",
        "df1['doctor_name'] = le.fit_transform(df1['doctor_name'])\n",
        "df1['Ward_Facility_Code'] = le.fit_transform(df1['Ward_Facility_Code'])\n",
        "df1['Department'] = le.fit_transform(df1['Department'])"
      ],
      "metadata": {
        "id": "f7aOFhq7Torl"
      },
      "execution_count": null,
      "outputs": []
    },
    {
      "cell_type": "code",
      "source": [
        "df2=df1.copy()"
      ],
      "metadata": {
        "id": "CAMY2C8qTrKd"
      },
      "execution_count": null,
      "outputs": []
    },
    {
      "cell_type": "code",
      "source": [
        "df3=df1.copy()"
      ],
      "metadata": {
        "id": "udOps3nvTsz9"
      },
      "execution_count": null,
      "outputs": []
    },
    {
      "cell_type": "code",
      "source": [
        "y1=df1[['estancia']]\n",
        "#x=df[['Available Extra Rooms in Hospital','Department','Ward_Facility_Code','doctor_name','staff_available','patientid','Age','gender','Type of Admission','Severity of Illness','health_conditions','Visitors with Patient','Insurance','Admission_Deposit']]\n",
        "X1=df1[['Department','Age','doctor_name']]"
      ],
      "metadata": {
        "id": "_BOkihYZTuW3"
      },
      "execution_count": null,
      "outputs": []
    },
    {
      "cell_type": "code",
      "source": [
        "#realizo la primera partición de los datos, luego se hará una validación cruzada\n",
        "\n",
        "X1_train, X1_test, y1_train, y1_test = train_test_split(X1, y1, test_size=0.20, random_state=42) \n",
        "\n",
        "# datos, dejo un 20% para testear\n",
        "\n",
        "print(X1_train.shape, y1_train.shape, X1_test.shape, y1_test.shape)"
      ],
      "metadata": {
        "id": "VlgDKX_g8d4m",
        "colab": {
          "base_uri": "https://localhost:8080/"
        },
        "outputId": "ffa962f0-48e8-4ed7-ab45-17303e4f5332"
      },
      "execution_count": null,
      "outputs": [
        {
          "output_type": "stream",
          "name": "stdout",
          "text": [
            "(328000, 8) (328000, 1) (82000, 8) (82000, 1)\n"
          ]
        }
      ]
    },
    {
      "cell_type": "markdown",
      "source": [
        "Hasta aqui fue la preparación de los datasets:\n",
        "Opcion 1_ \n",
        "por columnas_ con los features:\n",
        " - Department \n",
        " - Age \n",
        " - Doctor name\n",
        "\n"
      ],
      "metadata": {
        "id": "Dyk9WKr83yQb"
      }
    },
    {
      "cell_type": "code",
      "source": [
        "pipeline1= Pipeline([('scl', StandardScaler()),\n",
        "\t\t\t('pca', PCA(n_components=2)),\n",
        "\t\t\t('clf', LogisticRegression(random_state=42))])"
      ],
      "metadata": {
        "id": "1wA6rhzxT1b-"
      },
      "execution_count": null,
      "outputs": []
    },
    {
      "cell_type": "code",
      "source": [
        "pipeline2= Pipeline([('scl', StandardScaler()),\n",
        "\t\t\t('pca', PCA(n_components=2)),\n",
        "\t\t\t('clf', KNeighborsClassifier(n_neighbors=19))])"
      ],
      "metadata": {
        "id": "9PNNUYlsT56c"
      },
      "execution_count": null,
      "outputs": []
    },
    {
      "cell_type": "code",
      "source": [
        "pipeline3= Pipeline([('scl', StandardScaler()),\n",
        "\t\t\t('pca', PCA(n_components=2)),\n",
        "\t\t\t('clf', tree.DecisionTreeClassifier(max_depth=5))])"
      ],
      "metadata": {
        "id": "iVTufpM9T6dt"
      },
      "execution_count": null,
      "outputs": []
    },
    {
      "cell_type": "code",
      "source": [
        "pipelines=[pipeline1, pipeline2, pipeline3]"
      ],
      "metadata": {
        "id": "kggIE6glU8gc"
      },
      "execution_count": null,
      "outputs": []
    },
    {
      "cell_type": "code",
      "source": [
        "pipe_dict = {0: 'Regresión Logística', 1: 'K-vecinos', 2: 'Árbol de decisión'}"
      ],
      "metadata": {
        "id": "egH-8UsGVGPc"
      },
      "execution_count": null,
      "outputs": []
    },
    {
      "cell_type": "markdown",
      "source": [
        "Entrenamiento opción 1"
      ],
      "metadata": {
        "id": "ITNMw5d39xxn"
      }
    },
    {
      "cell_type": "code",
      "source": [
        "for pipe in pipelines:\n",
        "\tpipe.fit(X1_train, y1_train)"
      ],
      "metadata": {
        "colab": {
          "base_uri": "https://localhost:8080/"
        },
        "id": "mJ2PaIRUVQmu",
        "outputId": "25dc24ab-253d-472d-e6f9-2a990a59eccb"
      },
      "execution_count": null,
      "outputs": [
        {
          "output_type": "stream",
          "name": "stderr",
          "text": [
            "/usr/local/lib/python3.8/dist-packages/sklearn/utils/validation.py:993: DataConversionWarning: A column-vector y was passed when a 1d array was expected. Please change the shape of y to (n_samples, ), for example using ravel().\n",
            "  y = column_or_1d(y, warn=True)\n",
            "/usr/local/lib/python3.8/dist-packages/sklearn/neighbors/_classification.py:198: DataConversionWarning: A column-vector y was passed when a 1d array was expected. Please change the shape of y to (n_samples,), for example using ravel().\n",
            "  return self._fit(X, y)\n"
          ]
        }
      ]
    },
    {
      "cell_type": "code",
      "source": [
        "from collections import defaultdict\n",
        "\n",
        "d = defaultdict(list)    \n",
        "d[0].append(1)"
      ],
      "metadata": {
        "id": "flmbAcV1WZTL"
      },
      "execution_count": null,
      "outputs": []
    },
    {
      "cell_type": "code",
      "source": [
        "for idx, val in enumerate(pipelines):\n",
        "  d = defaultdict(list)    \n",
        "  d[0].append(1)\n",
        "  print('%s pipeline accuracy en test: %.3f' % (pipe_dict[idx], val.score(X1_test, y1_test)))"
      ],
      "metadata": {
        "colab": {
          "base_uri": "https://localhost:8080/"
        },
        "id": "r6mevOhXVSp8",
        "outputId": "bac355a7-f51a-43a2-bc4f-80506af9a60a"
      },
      "execution_count": null,
      "outputs": [
        {
          "output_type": "stream",
          "name": "stdout",
          "text": [
            "Regresión Logística pipeline accuracy en test: 0.581\n",
            "K-vecinos pipeline accuracy en test: 0.654\n",
            "Árbol de decisión pipeline accuracy en test: 0.686\n"
          ]
        }
      ]
    },
    {
      "cell_type": "code",
      "source": [
        "# Identificamos el mejor modelo para el set de testeo\n",
        "\n",
        "best_acc = 0.0\n",
        "best_clf = 0\n",
        "best_pipe = ''\n",
        "for idx, val in enumerate(pipelines):\n",
        "\tif val.score(X1_test, y1_test) > best_acc:\n",
        "\t\tbest_acc = val.score(X1_test, y1_test)\n",
        "\t\tbest_pipe = val\n",
        "\t\tbest_clf = idx\n",
        "print('Modelo con el mejor accuracy: %s' % pipe_dict[best_clf])"
      ],
      "metadata": {
        "id": "_nGcXhUfVYbd",
        "colab": {
          "base_uri": "https://localhost:8080/"
        },
        "outputId": "bd298578-37df-4311-acdf-72e372712042"
      },
      "execution_count": null,
      "outputs": [
        {
          "output_type": "stream",
          "name": "stdout",
          "text": [
            "Modelo con el mejor accuracy: Árbol de decisión\n"
          ]
        }
      ]
    }
  ]
}