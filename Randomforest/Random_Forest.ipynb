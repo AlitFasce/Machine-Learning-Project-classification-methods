{
  "cells": [
    {
      "cell_type": "code",
      "source": [
        "### Importo todas las librerías necesarias\n",
        "from sklearn.ensemble import RandomForestClassifier\n",
        "from sklearn.datasets import make_classification\n",
        "import pandas as pd #principal herramienta de gestion de datasets como dataframe\n",
        "import numpy as np #para trabajar con arrays y algunas cuestiones estadisticas\n",
        "import joblib #sirve para bajar el modelo entrenado y guardarlo como un achivo\n",
        "import matplotlib.pyplot as plt  #herramienta grafica\n",
        "import seaborn as sns #herramienta grafica\n",
        "sns.set()\n",
        "\n",
        "from sklearn.preprocessing import StandardScaler # herramienta para optimizacion del modelo\n",
        "from sklearn.model_selection import train_test_split #metricas\n",
        "from sklearn.model_selection import cross_val_score #metricas\n",
        "from sklearn.model_selection import cross_validate #metricas\n",
        "\n",
        "from sklearn.tree import DecisionTreeClassifier #modelo de arbol\n",
        "\n",
        "import sklearn.metrics as metrics #metricas\n",
        "from sklearn.model_selection import learning_curve \n",
        "from sklearn.preprocessing import OneHotEncoder # preprocesamiento de columna\n",
        "from sklearn.preprocessing import OrdinalEncoder # preprocesamiento de columna\n",
        "from sklearn import preprocessing # preprocesamiento de columna"
      ],
      "metadata": {
        "id": "-4A9sutldm74"
      },
      "execution_count": 86,
      "outputs": []
    },
    {
      "cell_type": "code",
      "source": [
        "!git clone https://github.com/soyHenry/Datathon.git #clono el repositorio"
      ],
      "metadata": {
        "id": "REwR4Y3ldrvm",
        "outputId": "2656509f-90df-442b-fbef-5c97a1eb3d19",
        "colab": {
          "base_uri": "https://localhost:8080/"
        }
      },
      "execution_count": 44,
      "outputs": [
        {
          "output_type": "stream",
          "name": "stdout",
          "text": [
            "fatal: destination path 'Datathon' already exists and is not an empty directory.\n"
          ]
        }
      ]
    },
    {
      "cell_type": "code",
      "source": [
        "df_train=pd.read_csv('Datathon/hospitalizaciones_train.csv') #ingesto los datos en dataframe de pandas"
      ],
      "metadata": {
        "id": "z1KIa9t0eTEy"
      },
      "execution_count": 45,
      "outputs": []
    },
    {
      "cell_type": "code",
      "source": [
        "df_new=df_train.copy() #hago una copia para resguardar los datos en crudo"
      ],
      "metadata": {
        "id": "oJEIwsbweTtG"
      },
      "execution_count": 46,
      "outputs": []
    },
    {
      "cell_type": "code",
      "source": [
        "def transf_label(df): #creo una función para transforar la label\n",
        "    lista_dias=df['Stay (in days)']\n",
        "    lista_estancia=[]\n",
        "    for i in lista_dias:\n",
        "        if i <=8: \n",
        "            i=0\n",
        "        elif i>8:\n",
        "            i=1\n",
        "        lista_estancia.append(i)\n",
        "    array_estancia=np.array(lista_estancia)\n",
        "    array_estancia.reshape(1,-1)\n",
        "    array_estancia.shape\n",
        "    df['estancia']=array_estancia\n",
        "    df.drop(columns=['Stay (in days)'], inplace=True)\n",
        "    return df"
      ],
      "metadata": {
        "id": "c89osABSfzNY"
      },
      "execution_count": 90,
      "outputs": []
    },
    {
      "cell_type": "code",
      "source": [
        "transf_label(df_new) #aplico la función"
      ],
      "metadata": {
        "id": "gzBVV7sNf8Md",
        "outputId": "23614925-1b78-4cb3-d167-1e2421f1bc78",
        "colab": {
          "base_uri": "https://localhost:8080/",
          "height": 713
        }
      },
      "execution_count": 48,
      "outputs": [
        {
          "output_type": "execute_result",
          "data": {
            "text/plain": [
              "        Available Extra Rooms in Hospital  Department Ward_Facility_Code  \\\n",
              "0                                       4  gynecology                  D   \n",
              "1                                       4  gynecology                  B   \n",
              "2                                       2  gynecology                  B   \n",
              "3                                       4  gynecology                  D   \n",
              "4                                       2  anesthesia                  E   \n",
              "...                                   ...         ...                ...   \n",
              "409995                                  1  gynecology                  D   \n",
              "409996                                  5  gynecology                  D   \n",
              "409997                                  4  gynecology                  D   \n",
              "409998                                 10  gynecology                  D   \n",
              "409999                                  3  gynecology                  F   \n",
              "\n",
              "       doctor_name  staff_available  patientid    Age  gender  \\\n",
              "0        Dr Sophia                0      33070  41-50  Female   \n",
              "1        Dr Sophia                2      34808  31-40  Female   \n",
              "2        Dr Sophia                8      44577  21-30  Female   \n",
              "3        Dr Olivia                7       3695  31-40  Female   \n",
              "4          Dr Mark               10     108956  71-80    Male   \n",
              "...            ...              ...        ...    ...     ...   \n",
              "409995    Dr Sarah                1      63105  31-40  Female   \n",
              "409996   Dr Nathan                5     129292  21-30  Female   \n",
              "409997    Dr Sarah                9      11399  21-30  Female   \n",
              "409998   Dr Olivia               10      75003  21-30  Female   \n",
              "409999   Dr Nathan                0     128183  41-50  Female   \n",
              "\n",
              "       Type of Admission Severity of Illness health_conditions  \\\n",
              "0                 Trauma             Extreme          Diabetes   \n",
              "1                 Trauma               Minor     Heart disease   \n",
              "2                 Trauma             Extreme          Diabetes   \n",
              "3                 Urgent            Moderate              None   \n",
              "4                 Trauma            Moderate          Diabetes   \n",
              "...                  ...                 ...               ...   \n",
              "409995            Trauma               Minor           Asthama   \n",
              "409996            Trauma             Extreme             Other   \n",
              "409997         Emergency               Minor           Asthama   \n",
              "409998            Trauma            Moderate             Other   \n",
              "409999            Trauma               Minor             Other   \n",
              "\n",
              "        Visitors with Patient Insurance  Admission_Deposit  estancia  \n",
              "0                           4       Yes        2966.408696         0  \n",
              "1                           2        No        3554.835677         1  \n",
              "2                           2       Yes        5624.733654         0  \n",
              "3                           4        No        4814.149231         0  \n",
              "4                           2        No        5169.269637         1  \n",
              "...                       ...       ...                ...       ...  \n",
              "409995                      3       Yes        3902.291076         0  \n",
              "409996                      4        No        4771.995223         1  \n",
              "409997                      4       Yes        3816.994210         1  \n",
              "409998                      2       Yes        3841.577491         1  \n",
              "409999                      8       Yes        4329.046412         0  \n",
              "\n",
              "[410000 rows x 15 columns]"
            ],
            "text/html": [
              "\n",
              "  <div id=\"df-10cfa8ac-2a3e-4a7e-9ff3-dbd2eb60fb0e\">\n",
              "    <div class=\"colab-df-container\">\n",
              "      <div>\n",
              "<style scoped>\n",
              "    .dataframe tbody tr th:only-of-type {\n",
              "        vertical-align: middle;\n",
              "    }\n",
              "\n",
              "    .dataframe tbody tr th {\n",
              "        vertical-align: top;\n",
              "    }\n",
              "\n",
              "    .dataframe thead th {\n",
              "        text-align: right;\n",
              "    }\n",
              "</style>\n",
              "<table border=\"1\" class=\"dataframe\">\n",
              "  <thead>\n",
              "    <tr style=\"text-align: right;\">\n",
              "      <th></th>\n",
              "      <th>Available Extra Rooms in Hospital</th>\n",
              "      <th>Department</th>\n",
              "      <th>Ward_Facility_Code</th>\n",
              "      <th>doctor_name</th>\n",
              "      <th>staff_available</th>\n",
              "      <th>patientid</th>\n",
              "      <th>Age</th>\n",
              "      <th>gender</th>\n",
              "      <th>Type of Admission</th>\n",
              "      <th>Severity of Illness</th>\n",
              "      <th>health_conditions</th>\n",
              "      <th>Visitors with Patient</th>\n",
              "      <th>Insurance</th>\n",
              "      <th>Admission_Deposit</th>\n",
              "      <th>estancia</th>\n",
              "    </tr>\n",
              "  </thead>\n",
              "  <tbody>\n",
              "    <tr>\n",
              "      <th>0</th>\n",
              "      <td>4</td>\n",
              "      <td>gynecology</td>\n",
              "      <td>D</td>\n",
              "      <td>Dr Sophia</td>\n",
              "      <td>0</td>\n",
              "      <td>33070</td>\n",
              "      <td>41-50</td>\n",
              "      <td>Female</td>\n",
              "      <td>Trauma</td>\n",
              "      <td>Extreme</td>\n",
              "      <td>Diabetes</td>\n",
              "      <td>4</td>\n",
              "      <td>Yes</td>\n",
              "      <td>2966.408696</td>\n",
              "      <td>0</td>\n",
              "    </tr>\n",
              "    <tr>\n",
              "      <th>1</th>\n",
              "      <td>4</td>\n",
              "      <td>gynecology</td>\n",
              "      <td>B</td>\n",
              "      <td>Dr Sophia</td>\n",
              "      <td>2</td>\n",
              "      <td>34808</td>\n",
              "      <td>31-40</td>\n",
              "      <td>Female</td>\n",
              "      <td>Trauma</td>\n",
              "      <td>Minor</td>\n",
              "      <td>Heart disease</td>\n",
              "      <td>2</td>\n",
              "      <td>No</td>\n",
              "      <td>3554.835677</td>\n",
              "      <td>1</td>\n",
              "    </tr>\n",
              "    <tr>\n",
              "      <th>2</th>\n",
              "      <td>2</td>\n",
              "      <td>gynecology</td>\n",
              "      <td>B</td>\n",
              "      <td>Dr Sophia</td>\n",
              "      <td>8</td>\n",
              "      <td>44577</td>\n",
              "      <td>21-30</td>\n",
              "      <td>Female</td>\n",
              "      <td>Trauma</td>\n",
              "      <td>Extreme</td>\n",
              "      <td>Diabetes</td>\n",
              "      <td>2</td>\n",
              "      <td>Yes</td>\n",
              "      <td>5624.733654</td>\n",
              "      <td>0</td>\n",
              "    </tr>\n",
              "    <tr>\n",
              "      <th>3</th>\n",
              "      <td>4</td>\n",
              "      <td>gynecology</td>\n",
              "      <td>D</td>\n",
              "      <td>Dr Olivia</td>\n",
              "      <td>7</td>\n",
              "      <td>3695</td>\n",
              "      <td>31-40</td>\n",
              "      <td>Female</td>\n",
              "      <td>Urgent</td>\n",
              "      <td>Moderate</td>\n",
              "      <td>None</td>\n",
              "      <td>4</td>\n",
              "      <td>No</td>\n",
              "      <td>4814.149231</td>\n",
              "      <td>0</td>\n",
              "    </tr>\n",
              "    <tr>\n",
              "      <th>4</th>\n",
              "      <td>2</td>\n",
              "      <td>anesthesia</td>\n",
              "      <td>E</td>\n",
              "      <td>Dr Mark</td>\n",
              "      <td>10</td>\n",
              "      <td>108956</td>\n",
              "      <td>71-80</td>\n",
              "      <td>Male</td>\n",
              "      <td>Trauma</td>\n",
              "      <td>Moderate</td>\n",
              "      <td>Diabetes</td>\n",
              "      <td>2</td>\n",
              "      <td>No</td>\n",
              "      <td>5169.269637</td>\n",
              "      <td>1</td>\n",
              "    </tr>\n",
              "    <tr>\n",
              "      <th>...</th>\n",
              "      <td>...</td>\n",
              "      <td>...</td>\n",
              "      <td>...</td>\n",
              "      <td>...</td>\n",
              "      <td>...</td>\n",
              "      <td>...</td>\n",
              "      <td>...</td>\n",
              "      <td>...</td>\n",
              "      <td>...</td>\n",
              "      <td>...</td>\n",
              "      <td>...</td>\n",
              "      <td>...</td>\n",
              "      <td>...</td>\n",
              "      <td>...</td>\n",
              "      <td>...</td>\n",
              "    </tr>\n",
              "    <tr>\n",
              "      <th>409995</th>\n",
              "      <td>1</td>\n",
              "      <td>gynecology</td>\n",
              "      <td>D</td>\n",
              "      <td>Dr Sarah</td>\n",
              "      <td>1</td>\n",
              "      <td>63105</td>\n",
              "      <td>31-40</td>\n",
              "      <td>Female</td>\n",
              "      <td>Trauma</td>\n",
              "      <td>Minor</td>\n",
              "      <td>Asthama</td>\n",
              "      <td>3</td>\n",
              "      <td>Yes</td>\n",
              "      <td>3902.291076</td>\n",
              "      <td>0</td>\n",
              "    </tr>\n",
              "    <tr>\n",
              "      <th>409996</th>\n",
              "      <td>5</td>\n",
              "      <td>gynecology</td>\n",
              "      <td>D</td>\n",
              "      <td>Dr Nathan</td>\n",
              "      <td>5</td>\n",
              "      <td>129292</td>\n",
              "      <td>21-30</td>\n",
              "      <td>Female</td>\n",
              "      <td>Trauma</td>\n",
              "      <td>Extreme</td>\n",
              "      <td>Other</td>\n",
              "      <td>4</td>\n",
              "      <td>No</td>\n",
              "      <td>4771.995223</td>\n",
              "      <td>1</td>\n",
              "    </tr>\n",
              "    <tr>\n",
              "      <th>409997</th>\n",
              "      <td>4</td>\n",
              "      <td>gynecology</td>\n",
              "      <td>D</td>\n",
              "      <td>Dr Sarah</td>\n",
              "      <td>9</td>\n",
              "      <td>11399</td>\n",
              "      <td>21-30</td>\n",
              "      <td>Female</td>\n",
              "      <td>Emergency</td>\n",
              "      <td>Minor</td>\n",
              "      <td>Asthama</td>\n",
              "      <td>4</td>\n",
              "      <td>Yes</td>\n",
              "      <td>3816.994210</td>\n",
              "      <td>1</td>\n",
              "    </tr>\n",
              "    <tr>\n",
              "      <th>409998</th>\n",
              "      <td>10</td>\n",
              "      <td>gynecology</td>\n",
              "      <td>D</td>\n",
              "      <td>Dr Olivia</td>\n",
              "      <td>10</td>\n",
              "      <td>75003</td>\n",
              "      <td>21-30</td>\n",
              "      <td>Female</td>\n",
              "      <td>Trauma</td>\n",
              "      <td>Moderate</td>\n",
              "      <td>Other</td>\n",
              "      <td>2</td>\n",
              "      <td>Yes</td>\n",
              "      <td>3841.577491</td>\n",
              "      <td>1</td>\n",
              "    </tr>\n",
              "    <tr>\n",
              "      <th>409999</th>\n",
              "      <td>3</td>\n",
              "      <td>gynecology</td>\n",
              "      <td>F</td>\n",
              "      <td>Dr Nathan</td>\n",
              "      <td>0</td>\n",
              "      <td>128183</td>\n",
              "      <td>41-50</td>\n",
              "      <td>Female</td>\n",
              "      <td>Trauma</td>\n",
              "      <td>Minor</td>\n",
              "      <td>Other</td>\n",
              "      <td>8</td>\n",
              "      <td>Yes</td>\n",
              "      <td>4329.046412</td>\n",
              "      <td>0</td>\n",
              "    </tr>\n",
              "  </tbody>\n",
              "</table>\n",
              "<p>410000 rows × 15 columns</p>\n",
              "</div>\n",
              "      <button class=\"colab-df-convert\" onclick=\"convertToInteractive('df-10cfa8ac-2a3e-4a7e-9ff3-dbd2eb60fb0e')\"\n",
              "              title=\"Convert this dataframe to an interactive table.\"\n",
              "              style=\"display:none;\">\n",
              "        \n",
              "  <svg xmlns=\"http://www.w3.org/2000/svg\" height=\"24px\"viewBox=\"0 0 24 24\"\n",
              "       width=\"24px\">\n",
              "    <path d=\"M0 0h24v24H0V0z\" fill=\"none\"/>\n",
              "    <path d=\"M18.56 5.44l.94 2.06.94-2.06 2.06-.94-2.06-.94-.94-2.06-.94 2.06-2.06.94zm-11 1L8.5 8.5l.94-2.06 2.06-.94-2.06-.94L8.5 2.5l-.94 2.06-2.06.94zm10 10l.94 2.06.94-2.06 2.06-.94-2.06-.94-.94-2.06-.94 2.06-2.06.94z\"/><path d=\"M17.41 7.96l-1.37-1.37c-.4-.4-.92-.59-1.43-.59-.52 0-1.04.2-1.43.59L10.3 9.45l-7.72 7.72c-.78.78-.78 2.05 0 2.83L4 21.41c.39.39.9.59 1.41.59.51 0 1.02-.2 1.41-.59l7.78-7.78 2.81-2.81c.8-.78.8-2.07 0-2.86zM5.41 20L4 18.59l7.72-7.72 1.47 1.35L5.41 20z\"/>\n",
              "  </svg>\n",
              "      </button>\n",
              "      \n",
              "  <style>\n",
              "    .colab-df-container {\n",
              "      display:flex;\n",
              "      flex-wrap:wrap;\n",
              "      gap: 12px;\n",
              "    }\n",
              "\n",
              "    .colab-df-convert {\n",
              "      background-color: #E8F0FE;\n",
              "      border: none;\n",
              "      border-radius: 50%;\n",
              "      cursor: pointer;\n",
              "      display: none;\n",
              "      fill: #1967D2;\n",
              "      height: 32px;\n",
              "      padding: 0 0 0 0;\n",
              "      width: 32px;\n",
              "    }\n",
              "\n",
              "    .colab-df-convert:hover {\n",
              "      background-color: #E2EBFA;\n",
              "      box-shadow: 0px 1px 2px rgba(60, 64, 67, 0.3), 0px 1px 3px 1px rgba(60, 64, 67, 0.15);\n",
              "      fill: #174EA6;\n",
              "    }\n",
              "\n",
              "    [theme=dark] .colab-df-convert {\n",
              "      background-color: #3B4455;\n",
              "      fill: #D2E3FC;\n",
              "    }\n",
              "\n",
              "    [theme=dark] .colab-df-convert:hover {\n",
              "      background-color: #434B5C;\n",
              "      box-shadow: 0px 1px 3px 1px rgba(0, 0, 0, 0.15);\n",
              "      filter: drop-shadow(0px 1px 2px rgba(0, 0, 0, 0.3));\n",
              "      fill: #FFFFFF;\n",
              "    }\n",
              "  </style>\n",
              "\n",
              "      <script>\n",
              "        const buttonEl =\n",
              "          document.querySelector('#df-10cfa8ac-2a3e-4a7e-9ff3-dbd2eb60fb0e button.colab-df-convert');\n",
              "        buttonEl.style.display =\n",
              "          google.colab.kernel.accessAllowed ? 'block' : 'none';\n",
              "\n",
              "        async function convertToInteractive(key) {\n",
              "          const element = document.querySelector('#df-10cfa8ac-2a3e-4a7e-9ff3-dbd2eb60fb0e');\n",
              "          const dataTable =\n",
              "            await google.colab.kernel.invokeFunction('convertToInteractive',\n",
              "                                                     [key], {});\n",
              "          if (!dataTable) return;\n",
              "\n",
              "          const docLinkHtml = 'Like what you see? Visit the ' +\n",
              "            '<a target=\"_blank\" href=https://colab.research.google.com/notebooks/data_table.ipynb>data table notebook</a>'\n",
              "            + ' to learn more about interactive tables.';\n",
              "          element.innerHTML = '';\n",
              "          dataTable['output_type'] = 'display_data';\n",
              "          await google.colab.output.renderOutput(dataTable, element);\n",
              "          const docLink = document.createElement('div');\n",
              "          docLink.innerHTML = docLinkHtml;\n",
              "          element.appendChild(docLink);\n",
              "        }\n",
              "      </script>\n",
              "    </div>\n",
              "  </div>\n",
              "  "
            ]
          },
          "metadata": {},
          "execution_count": 48
        }
      ]
    },
    {
      "cell_type": "markdown",
      "source": [
        "Para las features, algunas columnas recibirán el tratamiento de labelEncoder, otras categóricas la herramienta para categoricas y finalmente, donde nos interesa la correlacion de una categoria puntal, se hace one hot OneHotEncoder"
      ],
      "metadata": {
        "id": "qwFrW_fug0lN"
      }
    },
    {
      "cell_type": "code",
      "source": [
        "le = preprocessing.LabelEncoder()\n",
        "df_new['Insurance'] = le.fit_transform(df_new['Insurance'])\n",
        "df_new['Ward_Facility_Code'] = le.fit_transform(df_new['Ward_Facility_Code'])\n",
        "df_new['gender'] = le.fit_transform(df_new['gender'])"
      ],
      "metadata": {
        "id": "AcWh4CNXf-tJ"
      },
      "execution_count": 49,
      "outputs": []
    },
    {
      "cell_type": "code",
      "source": [
        "df_new=df_new.drop(columns=['patientid']) # IMPORTANTE: la razon por la que quitamos esta columna es porque puede overfittear el modelo y es un id_ no corresponde analizarla como feature"
      ],
      "metadata": {
        "id": "ZBXsZuYLf--Z"
      },
      "execution_count": 50,
      "outputs": []
    },
    {
      "cell_type": "code",
      "source": [
        "#columnas para hacer OneHotEncoder:\n",
        "df_new['Department'].unique()"
      ],
      "metadata": {
        "id": "eMA6d2HFf_Re",
        "outputId": "de02f2d7-49d7-4bc5-c54e-8c82e7ca5588",
        "colab": {
          "base_uri": "https://localhost:8080/"
        }
      },
      "execution_count": 51,
      "outputs": [
        {
          "output_type": "execute_result",
          "data": {
            "text/plain": [
              "array(['gynecology', 'anesthesia', 'TB & Chest disease', 'radiotherapy',\n",
              "       'surgery'], dtype=object)"
            ]
          },
          "metadata": {},
          "execution_count": 51
        }
      ]
    },
    {
      "cell_type": "code",
      "source": [
        "df_new['Type of Admission'].unique()"
      ],
      "metadata": {
        "id": "QO30-_edg7ZD",
        "outputId": "f4ff878d-7733-4038-a9e2-74e55cecf67f",
        "colab": {
          "base_uri": "https://localhost:8080/"
        }
      },
      "execution_count": 52,
      "outputs": [
        {
          "output_type": "execute_result",
          "data": {
            "text/plain": [
              "array(['Trauma', 'Urgent', 'Emergency'], dtype=object)"
            ]
          },
          "metadata": {},
          "execution_count": 52
        }
      ]
    },
    {
      "cell_type": "code",
      "source": [
        "df_new['doctor_name'].unique()"
      ],
      "metadata": {
        "id": "otAuCNCag-Kk",
        "outputId": "54f1ff57-2b16-4263-8f8c-32efa3e9d696",
        "colab": {
          "base_uri": "https://localhost:8080/"
        }
      },
      "execution_count": 53,
      "outputs": [
        {
          "output_type": "execute_result",
          "data": {
            "text/plain": [
              "array(['Dr Sophia', 'Dr Olivia', 'Dr Mark', 'Dr John', 'Dr Sarah',\n",
              "       'Dr Sam', 'Dr Nathan', 'Dr Simon', 'Dr Isaac'], dtype=object)"
            ]
          },
          "metadata": {},
          "execution_count": 53
        }
      ]
    },
    {
      "cell_type": "code",
      "source": [
        "df_new['health_conditions'].unique()"
      ],
      "metadata": {
        "id": "Tgj0U1MCg_7a",
        "outputId": "7c388548-929c-4163-817f-ae36b3a5629b",
        "colab": {
          "base_uri": "https://localhost:8080/"
        }
      },
      "execution_count": 54,
      "outputs": [
        {
          "output_type": "execute_result",
          "data": {
            "text/plain": [
              "array(['Diabetes', 'Heart disease', 'None', 'Other', 'Asthama',\n",
              "       'High Blood Pressure'], dtype=object)"
            ]
          },
          "metadata": {},
          "execution_count": 54
        }
      ]
    },
    {
      "cell_type": "code",
      "source": [
        "ohe=OneHotEncoder() "
      ],
      "metadata": {
        "id": "RFGkxtBjhEPU"
      },
      "execution_count": 55,
      "outputs": []
    },
    {
      "cell_type": "code",
      "source": [
        "feature_array=ohe.fit_transform(df_new[['Department','doctor_name','Type of Admission','health_conditions']]).toarray()"
      ],
      "metadata": {
        "id": "AIMPKq09hHRE"
      },
      "execution_count": 56,
      "outputs": []
    },
    {
      "cell_type": "code",
      "source": [
        "feature_labels=ohe.categories_"
      ],
      "metadata": {
        "id": "epkc5Cc6hH7X"
      },
      "execution_count": 57,
      "outputs": []
    },
    {
      "cell_type": "code",
      "source": [
        "feature_labels=np.array(feature_labels).ravel()"
      ],
      "metadata": {
        "id": "gSLfCtulhJpL",
        "colab": {
          "base_uri": "https://localhost:8080/"
        },
        "outputId": "762b24d1-343e-4365-fd51-0e83817f56fa"
      },
      "execution_count": 58,
      "outputs": [
        {
          "output_type": "stream",
          "name": "stderr",
          "text": [
            "<ipython-input-58-c2a9e482d40a>:1: VisibleDeprecationWarning: Creating an ndarray from ragged nested sequences (which is a list-or-tuple of lists-or-tuples-or ndarrays with different lengths or shapes) is deprecated. If you meant to do this, you must specify 'dtype=object' when creating the ndarray.\n",
            "  feature_labels=np.array(feature_labels).ravel()\n"
          ]
        }
      ]
    },
    {
      "cell_type": "code",
      "source": [
        "lista_aux=[]\n",
        "for i in feature_labels:\n",
        "  for e in i: \n",
        "    lista_aux.append(e)\n",
        "print(lista_aux)"
      ],
      "metadata": {
        "id": "O1670CTUhLUq",
        "outputId": "a97e7fcd-0e7f-4a43-cf48-8ebf559c4321",
        "colab": {
          "base_uri": "https://localhost:8080/"
        }
      },
      "execution_count": 59,
      "outputs": [
        {
          "output_type": "stream",
          "name": "stdout",
          "text": [
            "['TB & Chest disease', 'anesthesia', 'gynecology', 'radiotherapy', 'surgery', 'Dr Isaac', 'Dr John', 'Dr Mark', 'Dr Nathan', 'Dr Olivia', 'Dr Sam', 'Dr Sarah', 'Dr Simon', 'Dr Sophia', 'Emergency', 'Trauma', 'Urgent', 'Asthama', 'Diabetes', 'Heart disease', 'High Blood Pressure', 'None', 'Other']\n"
          ]
        }
      ]
    },
    {
      "cell_type": "code",
      "source": [
        "feature_labels=lista_aux"
      ],
      "metadata": {
        "id": "dgtRYgO9hMXh"
      },
      "execution_count": 60,
      "outputs": []
    },
    {
      "cell_type": "code",
      "source": [
        "df_extra=pd.DataFrame(feature_array,columns=feature_labels)"
      ],
      "metadata": {
        "id": "-o2urYKUhMTg"
      },
      "execution_count": 61,
      "outputs": []
    },
    {
      "cell_type": "code",
      "source": [
        "enc = OrdinalEncoder()\n",
        "X2=[['0-10',1],['11-20',2],['21-30',3],['31-40',4],['41-50',5],['51-60',6],['61-70',7],['71-80',8],['81-90',9],['91-100',10]]\n",
        "enc.fit(X2)\n",
        "df_new['Age'] = enc.fit_transform(df_new[['Age']])"
      ],
      "metadata": {
        "id": "xmrXvoa4hMP4"
      },
      "execution_count": 62,
      "outputs": []
    },
    {
      "cell_type": "code",
      "source": [
        "enc = OrdinalEncoder()\n",
        "X3=['Minor',1],['Moderate',2],['Extreme',3]\n",
        "enc.fit(X3)\n",
        "df_new['Severity of Illness'] = enc.fit_transform(df_new[['Severity of Illness']])"
      ],
      "metadata": {
        "id": "SzKgKVhehdYe"
      },
      "execution_count": 63,
      "outputs": []
    },
    {
      "cell_type": "code",
      "source": [
        "df_new.drop(columns=['Department','doctor_name','Type of Admission','health_conditions'], inplace=True)"
      ],
      "metadata": {
        "id": "uK3umrIGhd4t"
      },
      "execution_count": 64,
      "outputs": []
    },
    {
      "cell_type": "code",
      "source": [
        "df_nuevo=df_new.join(df_extra)"
      ],
      "metadata": {
        "id": "AbI4_UgOhgYu"
      },
      "execution_count": 65,
      "outputs": []
    },
    {
      "cell_type": "markdown",
      "source": [
        "Finalmente el dataframe para trabajar, desde donde extraemos las features que nos interesa, guardamos la copia por si hay que repensar los features"
      ],
      "metadata": {
        "id": "F7fSgHHjhif1"
      }
    },
    {
      "cell_type": "code",
      "source": [
        "df5=df_nuevo.copy()"
      ],
      "metadata": {
        "id": "jXoAOwaJhvx1"
      },
      "execution_count": 66,
      "outputs": []
    },
    {
      "cell_type": "code",
      "source": [
        "df_nuevo.sample(5)"
      ],
      "metadata": {
        "id": "sNqUsLGThiHq",
        "outputId": "71c6bad0-4fa2-408b-ff54-9b23fb8d5dc7",
        "colab": {
          "base_uri": "https://localhost:8080/",
          "height": 352
        }
      },
      "execution_count": 67,
      "outputs": [
        {
          "output_type": "execute_result",
          "data": {
            "text/plain": [
              "        Available Extra Rooms in Hospital  Ward_Facility_Code  \\\n",
              "86518                                   4                   3   \n",
              "357123                                  2                   1   \n",
              "40375                                   3                   4   \n",
              "169473                                  2                   5   \n",
              "360063                                  4                   3   \n",
              "\n",
              "        staff_available  Age  gender  Severity of Illness  \\\n",
              "86518                 1  3.0       0                  2.0   \n",
              "357123                3  3.0       0                  0.0   \n",
              "40375                 1  4.0       1                  2.0   \n",
              "169473                8  2.0       0                  2.0   \n",
              "360063                9  3.0       0                  1.0   \n",
              "\n",
              "        Visitors with Patient  Insurance  Admission_Deposit  estancia  ...  \\\n",
              "86518                       4          1        4697.098092         1  ...   \n",
              "357123                      2          1        4678.730302         1  ...   \n",
              "40375                       2          1        5306.281677         0  ...   \n",
              "169473                      4          1        2753.073146         1  ...   \n",
              "360063                      8          1        4790.305348         1  ...   \n",
              "\n",
              "        Dr Sophia  Emergency  Trauma  Urgent  Asthama  Diabetes  \\\n",
              "86518         0.0        0.0     1.0     0.0      0.0       0.0   \n",
              "357123        0.0        1.0     0.0     0.0      1.0       0.0   \n",
              "40375         0.0        0.0     0.0     1.0      0.0       0.0   \n",
              "169473        1.0        0.0     1.0     0.0      0.0       1.0   \n",
              "360063        0.0        0.0     1.0     0.0      1.0       0.0   \n",
              "\n",
              "        Heart disease  High Blood Pressure  None  Other  \n",
              "86518             0.0                  1.0   0.0    0.0  \n",
              "357123            0.0                  0.0   0.0    0.0  \n",
              "40375             0.0                  0.0   0.0    1.0  \n",
              "169473            0.0                  0.0   0.0    0.0  \n",
              "360063            0.0                  0.0   0.0    0.0  \n",
              "\n",
              "[5 rows x 33 columns]"
            ],
            "text/html": [
              "\n",
              "  <div id=\"df-e49c0be9-7a3f-4a90-be97-5988cb94096e\">\n",
              "    <div class=\"colab-df-container\">\n",
              "      <div>\n",
              "<style scoped>\n",
              "    .dataframe tbody tr th:only-of-type {\n",
              "        vertical-align: middle;\n",
              "    }\n",
              "\n",
              "    .dataframe tbody tr th {\n",
              "        vertical-align: top;\n",
              "    }\n",
              "\n",
              "    .dataframe thead th {\n",
              "        text-align: right;\n",
              "    }\n",
              "</style>\n",
              "<table border=\"1\" class=\"dataframe\">\n",
              "  <thead>\n",
              "    <tr style=\"text-align: right;\">\n",
              "      <th></th>\n",
              "      <th>Available Extra Rooms in Hospital</th>\n",
              "      <th>Ward_Facility_Code</th>\n",
              "      <th>staff_available</th>\n",
              "      <th>Age</th>\n",
              "      <th>gender</th>\n",
              "      <th>Severity of Illness</th>\n",
              "      <th>Visitors with Patient</th>\n",
              "      <th>Insurance</th>\n",
              "      <th>Admission_Deposit</th>\n",
              "      <th>estancia</th>\n",
              "      <th>...</th>\n",
              "      <th>Dr Sophia</th>\n",
              "      <th>Emergency</th>\n",
              "      <th>Trauma</th>\n",
              "      <th>Urgent</th>\n",
              "      <th>Asthama</th>\n",
              "      <th>Diabetes</th>\n",
              "      <th>Heart disease</th>\n",
              "      <th>High Blood Pressure</th>\n",
              "      <th>None</th>\n",
              "      <th>Other</th>\n",
              "    </tr>\n",
              "  </thead>\n",
              "  <tbody>\n",
              "    <tr>\n",
              "      <th>86518</th>\n",
              "      <td>4</td>\n",
              "      <td>3</td>\n",
              "      <td>1</td>\n",
              "      <td>3.0</td>\n",
              "      <td>0</td>\n",
              "      <td>2.0</td>\n",
              "      <td>4</td>\n",
              "      <td>1</td>\n",
              "      <td>4697.098092</td>\n",
              "      <td>1</td>\n",
              "      <td>...</td>\n",
              "      <td>0.0</td>\n",
              "      <td>0.0</td>\n",
              "      <td>1.0</td>\n",
              "      <td>0.0</td>\n",
              "      <td>0.0</td>\n",
              "      <td>0.0</td>\n",
              "      <td>0.0</td>\n",
              "      <td>1.0</td>\n",
              "      <td>0.0</td>\n",
              "      <td>0.0</td>\n",
              "    </tr>\n",
              "    <tr>\n",
              "      <th>357123</th>\n",
              "      <td>2</td>\n",
              "      <td>1</td>\n",
              "      <td>3</td>\n",
              "      <td>3.0</td>\n",
              "      <td>0</td>\n",
              "      <td>0.0</td>\n",
              "      <td>2</td>\n",
              "      <td>1</td>\n",
              "      <td>4678.730302</td>\n",
              "      <td>1</td>\n",
              "      <td>...</td>\n",
              "      <td>0.0</td>\n",
              "      <td>1.0</td>\n",
              "      <td>0.0</td>\n",
              "      <td>0.0</td>\n",
              "      <td>1.0</td>\n",
              "      <td>0.0</td>\n",
              "      <td>0.0</td>\n",
              "      <td>0.0</td>\n",
              "      <td>0.0</td>\n",
              "      <td>0.0</td>\n",
              "    </tr>\n",
              "    <tr>\n",
              "      <th>40375</th>\n",
              "      <td>3</td>\n",
              "      <td>4</td>\n",
              "      <td>1</td>\n",
              "      <td>4.0</td>\n",
              "      <td>1</td>\n",
              "      <td>2.0</td>\n",
              "      <td>2</td>\n",
              "      <td>1</td>\n",
              "      <td>5306.281677</td>\n",
              "      <td>0</td>\n",
              "      <td>...</td>\n",
              "      <td>0.0</td>\n",
              "      <td>0.0</td>\n",
              "      <td>0.0</td>\n",
              "      <td>1.0</td>\n",
              "      <td>0.0</td>\n",
              "      <td>0.0</td>\n",
              "      <td>0.0</td>\n",
              "      <td>0.0</td>\n",
              "      <td>0.0</td>\n",
              "      <td>1.0</td>\n",
              "    </tr>\n",
              "    <tr>\n",
              "      <th>169473</th>\n",
              "      <td>2</td>\n",
              "      <td>5</td>\n",
              "      <td>8</td>\n",
              "      <td>2.0</td>\n",
              "      <td>0</td>\n",
              "      <td>2.0</td>\n",
              "      <td>4</td>\n",
              "      <td>1</td>\n",
              "      <td>2753.073146</td>\n",
              "      <td>1</td>\n",
              "      <td>...</td>\n",
              "      <td>1.0</td>\n",
              "      <td>0.0</td>\n",
              "      <td>1.0</td>\n",
              "      <td>0.0</td>\n",
              "      <td>0.0</td>\n",
              "      <td>1.0</td>\n",
              "      <td>0.0</td>\n",
              "      <td>0.0</td>\n",
              "      <td>0.0</td>\n",
              "      <td>0.0</td>\n",
              "    </tr>\n",
              "    <tr>\n",
              "      <th>360063</th>\n",
              "      <td>4</td>\n",
              "      <td>3</td>\n",
              "      <td>9</td>\n",
              "      <td>3.0</td>\n",
              "      <td>0</td>\n",
              "      <td>1.0</td>\n",
              "      <td>8</td>\n",
              "      <td>1</td>\n",
              "      <td>4790.305348</td>\n",
              "      <td>1</td>\n",
              "      <td>...</td>\n",
              "      <td>0.0</td>\n",
              "      <td>0.0</td>\n",
              "      <td>1.0</td>\n",
              "      <td>0.0</td>\n",
              "      <td>1.0</td>\n",
              "      <td>0.0</td>\n",
              "      <td>0.0</td>\n",
              "      <td>0.0</td>\n",
              "      <td>0.0</td>\n",
              "      <td>0.0</td>\n",
              "    </tr>\n",
              "  </tbody>\n",
              "</table>\n",
              "<p>5 rows × 33 columns</p>\n",
              "</div>\n",
              "      <button class=\"colab-df-convert\" onclick=\"convertToInteractive('df-e49c0be9-7a3f-4a90-be97-5988cb94096e')\"\n",
              "              title=\"Convert this dataframe to an interactive table.\"\n",
              "              style=\"display:none;\">\n",
              "        \n",
              "  <svg xmlns=\"http://www.w3.org/2000/svg\" height=\"24px\"viewBox=\"0 0 24 24\"\n",
              "       width=\"24px\">\n",
              "    <path d=\"M0 0h24v24H0V0z\" fill=\"none\"/>\n",
              "    <path d=\"M18.56 5.44l.94 2.06.94-2.06 2.06-.94-2.06-.94-.94-2.06-.94 2.06-2.06.94zm-11 1L8.5 8.5l.94-2.06 2.06-.94-2.06-.94L8.5 2.5l-.94 2.06-2.06.94zm10 10l.94 2.06.94-2.06 2.06-.94-2.06-.94-.94-2.06-.94 2.06-2.06.94z\"/><path d=\"M17.41 7.96l-1.37-1.37c-.4-.4-.92-.59-1.43-.59-.52 0-1.04.2-1.43.59L10.3 9.45l-7.72 7.72c-.78.78-.78 2.05 0 2.83L4 21.41c.39.39.9.59 1.41.59.51 0 1.02-.2 1.41-.59l7.78-7.78 2.81-2.81c.8-.78.8-2.07 0-2.86zM5.41 20L4 18.59l7.72-7.72 1.47 1.35L5.41 20z\"/>\n",
              "  </svg>\n",
              "      </button>\n",
              "      \n",
              "  <style>\n",
              "    .colab-df-container {\n",
              "      display:flex;\n",
              "      flex-wrap:wrap;\n",
              "      gap: 12px;\n",
              "    }\n",
              "\n",
              "    .colab-df-convert {\n",
              "      background-color: #E8F0FE;\n",
              "      border: none;\n",
              "      border-radius: 50%;\n",
              "      cursor: pointer;\n",
              "      display: none;\n",
              "      fill: #1967D2;\n",
              "      height: 32px;\n",
              "      padding: 0 0 0 0;\n",
              "      width: 32px;\n",
              "    }\n",
              "\n",
              "    .colab-df-convert:hover {\n",
              "      background-color: #E2EBFA;\n",
              "      box-shadow: 0px 1px 2px rgba(60, 64, 67, 0.3), 0px 1px 3px 1px rgba(60, 64, 67, 0.15);\n",
              "      fill: #174EA6;\n",
              "    }\n",
              "\n",
              "    [theme=dark] .colab-df-convert {\n",
              "      background-color: #3B4455;\n",
              "      fill: #D2E3FC;\n",
              "    }\n",
              "\n",
              "    [theme=dark] .colab-df-convert:hover {\n",
              "      background-color: #434B5C;\n",
              "      box-shadow: 0px 1px 3px 1px rgba(0, 0, 0, 0.15);\n",
              "      filter: drop-shadow(0px 1px 2px rgba(0, 0, 0, 0.3));\n",
              "      fill: #FFFFFF;\n",
              "    }\n",
              "  </style>\n",
              "\n",
              "      <script>\n",
              "        const buttonEl =\n",
              "          document.querySelector('#df-e49c0be9-7a3f-4a90-be97-5988cb94096e button.colab-df-convert');\n",
              "        buttonEl.style.display =\n",
              "          google.colab.kernel.accessAllowed ? 'block' : 'none';\n",
              "\n",
              "        async function convertToInteractive(key) {\n",
              "          const element = document.querySelector('#df-e49c0be9-7a3f-4a90-be97-5988cb94096e');\n",
              "          const dataTable =\n",
              "            await google.colab.kernel.invokeFunction('convertToInteractive',\n",
              "                                                     [key], {});\n",
              "          if (!dataTable) return;\n",
              "\n",
              "          const docLinkHtml = 'Like what you see? Visit the ' +\n",
              "            '<a target=\"_blank\" href=https://colab.research.google.com/notebooks/data_table.ipynb>data table notebook</a>'\n",
              "            + ' to learn more about interactive tables.';\n",
              "          element.innerHTML = '';\n",
              "          dataTable['output_type'] = 'display_data';\n",
              "          await google.colab.output.renderOutput(dataTable, element);\n",
              "          const docLink = document.createElement('div');\n",
              "          docLink.innerHTML = docLinkHtml;\n",
              "          element.appendChild(docLink);\n",
              "        }\n",
              "      </script>\n",
              "    </div>\n",
              "  </div>\n",
              "  "
            ]
          },
          "metadata": {},
          "execution_count": 67
        }
      ]
    },
    {
      "cell_type": "code",
      "source": [
        "df_f=df_nuevo[['anesthesia','gynecology','Ward_Facility_Code','Dr Mark','Age','gender','TB & Chest disease','Insurance','estancia']]\n",
        "\n",
        "X=df_nuevo[['anesthesia','gynecology','Ward_Facility_Code','Dr Mark','Age','gender','TB & Chest disease','Insurance']]\n",
        "y=df_nuevo[['estancia']]"
      ],
      "metadata": {
        "id": "uwG29fTyiAuF"
      },
      "execution_count": 68,
      "outputs": []
    },
    {
      "cell_type": "code",
      "source": [
        "#realizo la primera partición de los datos, luego se hará una validación cruzada\n",
        "\n",
        "X_train, X_test, y_train, y_test = train_test_split(X, y, test_size=0.30, random_state=20) \n",
        "\n",
        "# datos, dejo un 20% para testear\n",
        "\n",
        "print(X_train.shape, y_train.shape, X_test.shape, y_test.shape)"
      ],
      "metadata": {
        "colab": {
          "base_uri": "https://localhost:8080/"
        },
        "id": "_GngXia-H5dv",
        "outputId": "25b9224c-baea-47bd-8464-771785e2273a"
      },
      "execution_count": 69,
      "outputs": [
        {
          "output_type": "stream",
          "name": "stdout",
          "text": [
            "(287000, 8) (287000, 1) (123000, 8) (123000, 1)\n"
          ]
        }
      ]
    },
    {
      "cell_type": "code",
      "source": [
        "#intancio el modelo\n",
        "clf = RandomForestClassifier(n_estimators=100, max_features='sqrt', oob_score = True, random_state = 42)\n",
        "clf.fit(X_train,y_train)"
      ],
      "metadata": {
        "colab": {
          "base_uri": "https://localhost:8080/"
        },
        "id": "QI_6pgXEHsWW",
        "outputId": "fd2c729a-0b8b-4f7c-8200-4581ba9b0e3c"
      },
      "execution_count": 70,
      "outputs": [
        {
          "output_type": "stream",
          "name": "stderr",
          "text": [
            "<ipython-input-70-d926fff5c77a>:3: DataConversionWarning: A column-vector y was passed when a 1d array was expected. Please change the shape of y to (n_samples,), for example using ravel().\n",
            "  clf.fit(X_train,y_train)\n"
          ]
        },
        {
          "output_type": "execute_result",
          "data": {
            "text/plain": [
              "RandomForestClassifier(max_features='sqrt', oob_score=True, random_state=42)"
            ]
          },
          "metadata": {},
          "execution_count": 70
        }
      ]
    },
    {
      "cell_type": "code",
      "source": [
        "y_train_pred = clf.predict(X_train)\n",
        "y_test_pred = clf.predict(X_test)\n",
        "print(metrics.accuracy_score(y_train, y_train_pred))\n",
        "print(metrics.accuracy_score(y_test, y_test_pred))"
      ],
      "metadata": {
        "colab": {
          "base_uri": "https://localhost:8080/"
        },
        "id": "SWG6GAIGICoF",
        "outputId": "09c139c4-ed95-4e2a-fb3a-7ddf74139b03"
      },
      "execution_count": 71,
      "outputs": [
        {
          "output_type": "stream",
          "name": "stdout",
          "text": [
            "0.6844878048780488\n",
            "0.6850975609756098\n"
          ]
        }
      ]
    },
    {
      "cell_type": "code",
      "source": [
        "clf.oob_score_"
      ],
      "metadata": {
        "colab": {
          "base_uri": "https://localhost:8080/"
        },
        "id": "I-3BGrtPIKxO",
        "outputId": "260fe4e4-5d57-4aab-be0f-d745c6649dda"
      },
      "execution_count": 72,
      "outputs": [
        {
          "output_type": "execute_result",
          "data": {
            "text/plain": [
              "0.6844878048780488"
            ]
          },
          "metadata": {},
          "execution_count": 72
        }
      ]
    },
    {
      "cell_type": "code",
      "source": [
        "# Diagrama de barras de la importancia de los atributos\n",
        "importances = clf.feature_importances_\n",
        "columns = X_train.columns\n",
        "indices = np.argsort(importances)[::-1]\n",
        "\n",
        "plt.figure(figsize = (10,7))\n",
        "sns.barplot(x = columns[indices], y = importances[indices])\n",
        "plt.show()"
      ],
      "metadata": {
        "colab": {
          "base_uri": "https://localhost:8080/",
          "height": 432
        },
        "id": "PRbvMSUBIOIl",
        "outputId": "5e509bf3-a3e6-4218-ad29-35e5902593ad"
      },
      "execution_count": 73,
      "outputs": [
        {
          "output_type": "display_data",
          "data": {
            "text/plain": [
              "<Figure size 720x504 with 1 Axes>"
            ],
            "image/png": "[encoded data removed]"
          },
          "metadata": {}
        }
      ]
    },
    {
      "cell_type": "code",
      "source": [
        "clf.estimators_"
      ],
      "metadata": {
        "colab": {
          "base_uri": "https://localhost:8080/"
        },
        "id": "PXYS6bgvIRgB",
        "outputId": "a423647e-d015-463d-f31d-48eb26ffc776"
      },
      "execution_count": 74,
      "outputs": [
        {
          "output_type": "execute_result",
          "data": {
            "text/plain": [
              "[DecisionTreeClassifier(max_features='sqrt', random_state=1608637542),\n",
              " DecisionTreeClassifier(max_features='sqrt', random_state=1273642419),\n",
              " DecisionTreeClassifier(max_features='sqrt', random_state=1935803228),\n",
              " DecisionTreeClassifier(max_features='sqrt', random_state=787846414),\n",
              " DecisionTreeClassifier(max_features='sqrt', random_state=996406378),\n",
              " DecisionTreeClassifier(max_features='sqrt', random_state=1201263687),\n",
              " DecisionTreeClassifier(max_features='sqrt', random_state=423734972),\n",
              " DecisionTreeClassifier(max_features='sqrt', random_state=415968276),\n",
              " DecisionTreeClassifier(max_features='sqrt', random_state=670094950),\n",
              " DecisionTreeClassifier(max_features='sqrt', random_state=1914837113),\n",
              " DecisionTreeClassifier(max_features='sqrt', random_state=669991378),\n",
              " DecisionTreeClassifier(max_features='sqrt', random_state=429389014),\n",
              " DecisionTreeClassifier(max_features='sqrt', random_state=249467210),\n",
              " DecisionTreeClassifier(max_features='sqrt', random_state=1972458954),\n",
              " DecisionTreeClassifier(max_features='sqrt', random_state=1572714583),\n",
              " DecisionTreeClassifier(max_features='sqrt', random_state=1433267572),\n",
              " DecisionTreeClassifier(max_features='sqrt', random_state=434285667),\n",
              " DecisionTreeClassifier(max_features='sqrt', random_state=613608295),\n",
              " DecisionTreeClassifier(max_features='sqrt', random_state=893664919),\n",
              " DecisionTreeClassifier(max_features='sqrt', random_state=648061058),\n",
              " DecisionTreeClassifier(max_features='sqrt', random_state=88409749),\n",
              " DecisionTreeClassifier(max_features='sqrt', random_state=242285876),\n",
              " DecisionTreeClassifier(max_features='sqrt', random_state=2018247425),\n",
              " DecisionTreeClassifier(max_features='sqrt', random_state=953477463),\n",
              " DecisionTreeClassifier(max_features='sqrt', random_state=1427830251),\n",
              " DecisionTreeClassifier(max_features='sqrt', random_state=1883569565),\n",
              " DecisionTreeClassifier(max_features='sqrt', random_state=911989541),\n",
              " DecisionTreeClassifier(max_features='sqrt', random_state=3344769),\n",
              " DecisionTreeClassifier(max_features='sqrt', random_state=780932287),\n",
              " DecisionTreeClassifier(max_features='sqrt', random_state=2114032571),\n",
              " DecisionTreeClassifier(max_features='sqrt', random_state=787716372),\n",
              " DecisionTreeClassifier(max_features='sqrt', random_state=504579232),\n",
              " DecisionTreeClassifier(max_features='sqrt', random_state=1306710475),\n",
              " DecisionTreeClassifier(max_features='sqrt', random_state=479546681),\n",
              " DecisionTreeClassifier(max_features='sqrt', random_state=106328085),\n",
              " DecisionTreeClassifier(max_features='sqrt', random_state=30349564),\n",
              " DecisionTreeClassifier(max_features='sqrt', random_state=1855189739),\n",
              " DecisionTreeClassifier(max_features='sqrt', random_state=99052376),\n",
              " DecisionTreeClassifier(max_features='sqrt', random_state=1250819632),\n",
              " DecisionTreeClassifier(max_features='sqrt', random_state=106406362),\n",
              " DecisionTreeClassifier(max_features='sqrt', random_state=480404538),\n",
              " DecisionTreeClassifier(max_features='sqrt', random_state=1717389822),\n",
              " DecisionTreeClassifier(max_features='sqrt', random_state=599121577),\n",
              " DecisionTreeClassifier(max_features='sqrt', random_state=200427519),\n",
              " DecisionTreeClassifier(max_features='sqrt', random_state=1254751707),\n",
              " DecisionTreeClassifier(max_features='sqrt', random_state=2034764475),\n",
              " DecisionTreeClassifier(max_features='sqrt', random_state=1573512143),\n",
              " DecisionTreeClassifier(max_features='sqrt', random_state=999745294),\n",
              " DecisionTreeClassifier(max_features='sqrt', random_state=1958805693),\n",
              " DecisionTreeClassifier(max_features='sqrt', random_state=389151677),\n",
              " DecisionTreeClassifier(max_features='sqrt', random_state=1224821422),\n",
              " DecisionTreeClassifier(max_features='sqrt', random_state=508464061),\n",
              " DecisionTreeClassifier(max_features='sqrt', random_state=857592370),\n",
              " DecisionTreeClassifier(max_features='sqrt', random_state=1642661739),\n",
              " DecisionTreeClassifier(max_features='sqrt', random_state=61136438),\n",
              " DecisionTreeClassifier(max_features='sqrt', random_state=2075460851),\n",
              " DecisionTreeClassifier(max_features='sqrt', random_state=396917567),\n",
              " DecisionTreeClassifier(max_features='sqrt', random_state=2004731384),\n",
              " DecisionTreeClassifier(max_features='sqrt', random_state=199502978),\n",
              " DecisionTreeClassifier(max_features='sqrt', random_state=1545932260),\n",
              " DecisionTreeClassifier(max_features='sqrt', random_state=461901618),\n",
              " DecisionTreeClassifier(max_features='sqrt', random_state=774414982),\n",
              " DecisionTreeClassifier(max_features='sqrt', random_state=732395540),\n",
              " DecisionTreeClassifier(max_features='sqrt', random_state=1934879560),\n",
              " DecisionTreeClassifier(max_features='sqrt', random_state=279394470),\n",
              " DecisionTreeClassifier(max_features='sqrt', random_state=56972561),\n",
              " DecisionTreeClassifier(max_features='sqrt', random_state=1927948675),\n",
              " DecisionTreeClassifier(max_features='sqrt', random_state=1899242072),\n",
              " DecisionTreeClassifier(max_features='sqrt', random_state=1999874363),\n",
              " DecisionTreeClassifier(max_features='sqrt', random_state=271820813),\n",
              " DecisionTreeClassifier(max_features='sqrt', random_state=1324556529),\n",
              " DecisionTreeClassifier(max_features='sqrt', random_state=1655351289),\n",
              " DecisionTreeClassifier(max_features='sqrt', random_state=1308306184),\n",
              " DecisionTreeClassifier(max_features='sqrt', random_state=68574553),\n",
              " DecisionTreeClassifier(max_features='sqrt', random_state=419498548),\n",
              " DecisionTreeClassifier(max_features='sqrt', random_state=991681409),\n",
              " DecisionTreeClassifier(max_features='sqrt', random_state=791274835),\n",
              " DecisionTreeClassifier(max_features='sqrt', random_state=1035196507),\n",
              " DecisionTreeClassifier(max_features='sqrt', random_state=1890440558),\n",
              " DecisionTreeClassifier(max_features='sqrt', random_state=787110843),\n",
              " DecisionTreeClassifier(max_features='sqrt', random_state=524150214),\n",
              " DecisionTreeClassifier(max_features='sqrt', random_state=472432043),\n",
              " DecisionTreeClassifier(max_features='sqrt', random_state=2126768636),\n",
              " DecisionTreeClassifier(max_features='sqrt', random_state=1431061255),\n",
              " DecisionTreeClassifier(max_features='sqrt', random_state=147697582),\n",
              " DecisionTreeClassifier(max_features='sqrt', random_state=744595490),\n",
              " DecisionTreeClassifier(max_features='sqrt', random_state=1758017741),\n",
              " DecisionTreeClassifier(max_features='sqrt', random_state=1679592528),\n",
              " DecisionTreeClassifier(max_features='sqrt', random_state=1111451555),\n",
              " DecisionTreeClassifier(max_features='sqrt', random_state=782698033),\n",
              " DecisionTreeClassifier(max_features='sqrt', random_state=698027879),\n",
              " DecisionTreeClassifier(max_features='sqrt', random_state=1096768899),\n",
              " DecisionTreeClassifier(max_features='sqrt', random_state=1338788865),\n",
              " DecisionTreeClassifier(max_features='sqrt', random_state=1826030589),\n",
              " DecisionTreeClassifier(max_features='sqrt', random_state=86191493),\n",
              " DecisionTreeClassifier(max_features='sqrt', random_state=893102645),\n",
              " DecisionTreeClassifier(max_features='sqrt', random_state=200619113),\n",
              " DecisionTreeClassifier(max_features='sqrt', random_state=290770691),\n",
              " DecisionTreeClassifier(max_features='sqrt', random_state=793943861),\n",
              " DecisionTreeClassifier(max_features='sqrt', random_state=134489564)]"
            ]
          },
          "metadata": {},
          "execution_count": 74
        }
      ]
    },
    {
      "cell_type": "code",
      "source": [
        "#Elijo, aleatoriamente, uno de los árboles del bosque\n",
        "clf_tree = clf.estimators_[50]\n",
        "clf_tree.get_params()"
      ],
      "metadata": {
        "colab": {
          "base_uri": "https://localhost:8080/"
        },
        "id": "m90qsl2xIVLK",
        "outputId": "51e32bf8-b69a-4c9c-b4eb-7642b21ecabb"
      },
      "execution_count": 75,
      "outputs": [
        {
          "output_type": "execute_result",
          "data": {
            "text/plain": [
              "{'ccp_alpha': 0.0,\n",
              " 'class_weight': None,\n",
              " 'criterion': 'gini',\n",
              " 'max_depth': None,\n",
              " 'max_features': 'sqrt',\n",
              " 'max_leaf_nodes': None,\n",
              " 'min_impurity_decrease': 0.0,\n",
              " 'min_samples_leaf': 1,\n",
              " 'min_samples_split': 2,\n",
              " 'min_weight_fraction_leaf': 0.0,\n",
              " 'random_state': 1224821422,\n",
              " 'splitter': 'best'}"
            ]
          },
          "metadata": {},
          "execution_count": 75
        }
      ]
    },
    {
      "cell_type": "code",
      "source": [
        "# Predigo y evaluo en train y test\n",
        "\n",
        "y_train_pred = clf_tree.predict(X_train)\n",
        "y_test_pred = clf_tree.predict(X_test)\n",
        "print(metrics.accuracy_score(y_train, y_train_pred))\n",
        "print(metrics.accuracy_score(y_test, y_test_pred))"
      ],
      "metadata": {
        "colab": {
          "base_uri": "https://localhost:8080/"
        },
        "id": "DYzP3Q3WIaDu",
        "outputId": "6608bd61-cfa6-4a09-a81a-7ac13de81a75"
      },
      "execution_count": 76,
      "outputs": [
        {
          "output_type": "stream",
          "name": "stdout",
          "text": [
            "0.6844878048780488\n",
            "0.6850975609756098\n"
          ]
        },
        {
          "output_type": "stream",
          "name": "stderr",
          "text": [
            "/usr/local/lib/python3.8/dist-packages/sklearn/base.py:443: UserWarning: X has feature names, but DecisionTreeClassifier was fitted without feature names\n",
            "  warnings.warn(\n",
            "/usr/local/lib/python3.8/dist-packages/sklearn/base.py:443: UserWarning: X has feature names, but DecisionTreeClassifier was fitted without feature names\n",
            "  warnings.warn(\n"
          ]
        }
      ]
    },
    {
      "cell_type": "code",
      "source": [
        "train_accuracy = []\n",
        "test_accuracy = []\n",
        "oob_scores = []\n",
        "\n",
        "N_estimadores = [1,2,3,4,5,10,25,50,100,250,500,1000]\n",
        "for estimadores in N_estimadores:\n",
        "    print(estimadores)\n",
        "    clf = RandomForestClassifier(n_estimators=estimadores, n_jobs=-1, oob_score= True, random_state = 42)\n",
        "    clf.fit(X_train,y_train)\n",
        "    \n",
        "    y_train_pred = clf.predict(X_train)\n",
        "    y_test_pred = clf.predict(X_test)\n",
        "    \n",
        "    train_accuracy.append(metrics.accuracy_score(y_train, y_train_pred))\n",
        "    test_accuracy.append(metrics.accuracy_score(y_test, y_test_pred))\n",
        "    oob_scores.append(clf.oob_score_)\n",
        "    \n",
        "train_accuracy = np.array(train_accuracy)\n",
        "test_accuracy = np.array(test_accuracy)\n",
        "oob_scores = np.array(oob_scores)"
      ],
      "metadata": {
        "colab": {
          "base_uri": "https://localhost:8080/"
        },
        "id": "VQDIXp0IIywh",
        "outputId": "aaed3eec-d097-40aa-ccc1-b7ccbecfe9c1"
      },
      "execution_count": 77,
      "outputs": [
        {
          "output_type": "stream",
          "name": "stderr",
          "text": [
            "<ipython-input-77-730a36c6f329>:9: DataConversionWarning: A column-vector y was passed when a 1d array was expected. Please change the shape of y to (n_samples,), for example using ravel().\n",
            "  clf.fit(X_train,y_train)\n"
          ]
        },
        {
          "output_type": "stream",
          "name": "stdout",
          "text": [
            "1\n"
          ]
        },
        {
          "output_type": "stream",
          "name": "stderr",
          "text": [
            "/usr/local/lib/python3.8/dist-packages/sklearn/ensemble/_forest.py:560: UserWarning: Some inputs do not have OOB scores. This probably means too few trees were used to compute any reliable OOB estimates.\n",
            "  warn(\n",
            "<ipython-input-77-730a36c6f329>:9: DataConversionWarning: A column-vector y was passed when a 1d array was expected. Please change the shape of y to (n_samples,), for example using ravel().\n",
            "  clf.fit(X_train,y_train)\n"
          ]
        },
        {
          "output_type": "stream",
          "name": "stdout",
          "text": [
            "2\n"
          ]
        },
        {
          "output_type": "stream",
          "name": "stderr",
          "text": [
            "/usr/local/lib/python3.8/dist-packages/sklearn/ensemble/_forest.py:560: UserWarning: Some inputs do not have OOB scores. This probably means too few trees were used to compute any reliable OOB estimates.\n",
            "  warn(\n"
          ]
        },
        {
          "output_type": "stream",
          "name": "stdout",
          "text": [
            "3\n"
          ]
        },
        {
          "output_type": "stream",
          "name": "stderr",
          "text": [
            "<ipython-input-77-730a36c6f329>:9: DataConversionWarning: A column-vector y was passed when a 1d array was expected. Please change the shape of y to (n_samples,), for example using ravel().\n",
            "  clf.fit(X_train,y_train)\n",
            "/usr/local/lib/python3.8/dist-packages/sklearn/ensemble/_forest.py:560: UserWarning: Some inputs do not have OOB scores. This probably means too few trees were used to compute any reliable OOB estimates.\n",
            "  warn(\n"
          ]
        },
        {
          "output_type": "stream",
          "name": "stdout",
          "text": [
            "4\n"
          ]
        },
        {
          "output_type": "stream",
          "name": "stderr",
          "text": [
            "<ipython-input-77-730a36c6f329>:9: DataConversionWarning: A column-vector y was passed when a 1d array was expected. Please change the shape of y to (n_samples,), for example using ravel().\n",
            "  clf.fit(X_train,y_train)\n",
            "/usr/local/lib/python3.8/dist-packages/sklearn/ensemble/_forest.py:560: UserWarning: Some inputs do not have OOB scores. This probably means too few trees were used to compute any reliable OOB estimates.\n",
            "  warn(\n"
          ]
        },
        {
          "output_type": "stream",
          "name": "stdout",
          "text": [
            "5\n"
          ]
        },
        {
          "output_type": "stream",
          "name": "stderr",
          "text": [
            "<ipython-input-77-730a36c6f329>:9: DataConversionWarning: A column-vector y was passed when a 1d array was expected. Please change the shape of y to (n_samples,), for example using ravel().\n",
            "  clf.fit(X_train,y_train)\n",
            "/usr/local/lib/python3.8/dist-packages/sklearn/ensemble/_forest.py:560: UserWarning: Some inputs do not have OOB scores. This probably means too few trees were used to compute any reliable OOB estimates.\n",
            "  warn(\n"
          ]
        },
        {
          "output_type": "stream",
          "name": "stdout",
          "text": [
            "10\n"
          ]
        },
        {
          "output_type": "stream",
          "name": "stderr",
          "text": [
            "<ipython-input-77-730a36c6f329>:9: DataConversionWarning: A column-vector y was passed when a 1d array was expected. Please change the shape of y to (n_samples,), for example using ravel().\n",
            "  clf.fit(X_train,y_train)\n",
            "/usr/local/lib/python3.8/dist-packages/sklearn/ensemble/_forest.py:560: UserWarning: Some inputs do not have OOB scores. This probably means too few trees were used to compute any reliable OOB estimates.\n",
            "  warn(\n"
          ]
        },
        {
          "output_type": "stream",
          "name": "stdout",
          "text": [
            "25\n"
          ]
        },
        {
          "output_type": "stream",
          "name": "stderr",
          "text": [
            "<ipython-input-77-730a36c6f329>:9: DataConversionWarning: A column-vector y was passed when a 1d array was expected. Please change the shape of y to (n_samples,), for example using ravel().\n",
            "  clf.fit(X_train,y_train)\n",
            "/usr/local/lib/python3.8/dist-packages/sklearn/ensemble/_forest.py:560: UserWarning: Some inputs do not have OOB scores. This probably means too few trees were used to compute any reliable OOB estimates.\n",
            "  warn(\n"
          ]
        },
        {
          "output_type": "stream",
          "name": "stdout",
          "text": [
            "50\n"
          ]
        },
        {
          "output_type": "stream",
          "name": "stderr",
          "text": [
            "<ipython-input-77-730a36c6f329>:9: DataConversionWarning: A column-vector y was passed when a 1d array was expected. Please change the shape of y to (n_samples,), for example using ravel().\n",
            "  clf.fit(X_train,y_train)\n"
          ]
        },
        {
          "output_type": "stream",
          "name": "stdout",
          "text": [
            "100\n"
          ]
        },
        {
          "output_type": "stream",
          "name": "stderr",
          "text": [
            "<ipython-input-77-730a36c6f329>:9: DataConversionWarning: A column-vector y was passed when a 1d array was expected. Please change the shape of y to (n_samples,), for example using ravel().\n",
            "  clf.fit(X_train,y_train)\n"
          ]
        },
        {
          "output_type": "stream",
          "name": "stdout",
          "text": [
            "250\n"
          ]
        },
        {
          "output_type": "stream",
          "name": "stderr",
          "text": [
            "<ipython-input-77-730a36c6f329>:9: DataConversionWarning: A column-vector y was passed when a 1d array was expected. Please change the shape of y to (n_samples,), for example using ravel().\n",
            "  clf.fit(X_train,y_train)\n"
          ]
        },
        {
          "output_type": "stream",
          "name": "stdout",
          "text": [
            "500\n"
          ]
        },
        {
          "output_type": "stream",
          "name": "stderr",
          "text": [
            "<ipython-input-77-730a36c6f329>:9: DataConversionWarning: A column-vector y was passed when a 1d array was expected. Please change the shape of y to (n_samples,), for example using ravel().\n",
            "  clf.fit(X_train,y_train)\n"
          ]
        },
        {
          "output_type": "stream",
          "name": "stdout",
          "text": [
            "1000\n"
          ]
        },
        {
          "output_type": "stream",
          "name": "stderr",
          "text": [
            "<ipython-input-77-730a36c6f329>:9: DataConversionWarning: A column-vector y was passed when a 1d array was expected. Please change the shape of y to (n_samples,), for example using ravel().\n",
            "  clf.fit(X_train,y_train)\n"
          ]
        }
      ]
    },
    {
      "cell_type": "code",
      "source": [
        "plt.figure(figsize = (14,8))\n",
        "plt.plot(N_estimadores, train_accuracy, label = 'Train')\n",
        "plt.plot(N_estimadores, test_accuracy, label = 'Test')\n",
        "plt.plot(N_estimadores, oob_scores, label = 'OOB')\n",
        "plt.xlabel('Numero de estimadores')\n",
        "plt.ylabel('Accuracy')\n",
        "plt.legend()\n",
        "plt.title('Curvas de validación/complejidad', fontsize = 15)\n",
        "# plt.xlim(0,50)\n",
        "plt.show()"
      ],
      "metadata": {
        "colab": {
          "base_uri": "https://localhost:8080/",
          "height": 521
        },
        "id": "zpDlbt-II1B6",
        "outputId": "667b74aa-52bc-4422-b8dd-e7debd2440ba"
      },
      "execution_count": 78,
      "outputs": [
        {
          "output_type": "display_data",
          "data": {
            "text/plain": [
              "<Figure size 1008x576 with 1 Axes>"
            ],
            "image/png": "[encoded data removed]"
          },
          "metadata": {}
        }
      ]
    },
    {
      "cell_type": "code",
      "source": [],
      "metadata": {
        "id": "IB0gNY-VJHM9"
      },
      "execution_count": 78,
      "outputs": []
    },
    {
      "cell_type": "markdown",
      "source": [
        "No conforme con el resultado vuelvo a correr el arbol con todas las columnas ya procesadas, aumentado el # de arboles y la profundidad de cada uno"
      ],
      "metadata": {
        "id": "pFrkPqnqRwsd"
      }
    },
    {
      "cell_type": "code",
      "source": [
        "df_nuevo.columns"
      ],
      "metadata": {
        "colab": {
          "base_uri": "https://localhost:8080/"
        },
        "id": "E3-t_qJbSXvv",
        "outputId": "bfda1063-b827-45d8-9012-07bf896aaf36"
      },
      "execution_count": 79,
      "outputs": [
        {
          "output_type": "execute_result",
          "data": {
            "text/plain": [
              "Index(['Available Extra Rooms in Hospital', 'Ward_Facility_Code',\n",
              "       'staff_available', 'Age', 'gender', 'Severity of Illness',\n",
              "       'Visitors with Patient', 'Insurance', 'Admission_Deposit', 'estancia',\n",
              "       'TB & Chest disease', 'anesthesia', 'gynecology', 'radiotherapy',\n",
              "       'surgery', 'Dr Isaac', 'Dr John', 'Dr Mark', 'Dr Nathan', 'Dr Olivia',\n",
              "       'Dr Sam', 'Dr Sarah', 'Dr Simon', 'Dr Sophia', 'Emergency', 'Trauma',\n",
              "       'Urgent', 'Asthama', 'Diabetes', 'Heart disease', 'High Blood Pressure',\n",
              "       'None', 'Other'],\n",
              "      dtype='object')"
            ]
          },
          "metadata": {},
          "execution_count": 79
        }
      ]
    },
    {
      "cell_type": "code",
      "source": [
        "X2=df_nuevo.drop(columns=['estancia'])\n",
        "y2=df_nuevo[['estancia']]"
      ],
      "metadata": {
        "id": "1-50rn8FSMcO"
      },
      "execution_count": 80,
      "outputs": []
    },
    {
      "cell_type": "code",
      "source": [
        "#realizo la primera partición de los datos, luego se hará una validación cruzada\n",
        "\n",
        "X2_train, X2_test, y2_train, y2_test = train_test_split(X2, y2, test_size=0.20, random_state=20) \n",
        "\n",
        "# datos, dejo un 20% para testear\n",
        "\n",
        "print(X_train.shape, y_train.shape, X_test.shape, y_test.shape)"
      ],
      "metadata": {
        "colab": {
          "base_uri": "https://localhost:8080/"
        },
        "id": "lwQMiCoWSMQf",
        "outputId": "bcd16eb5-9d2b-41af-ac6d-2d6d32d7f217"
      },
      "execution_count": 81,
      "outputs": [
        {
          "output_type": "stream",
          "name": "stdout",
          "text": [
            "(287000, 8) (287000, 1) (123000, 8) (123000, 1)\n"
          ]
        }
      ]
    },
    {
      "cell_type": "code",
      "source": [
        "clf2 = RandomForestClassifier(n_estimators=250, max_depth=8, max_features='sqrt', oob_score = True, random_state = 42)\n",
        "clf2.fit(X2_train,y2_train)"
      ],
      "metadata": {
        "colab": {
          "base_uri": "https://localhost:8080/"
        },
        "id": "3CBXIKByTinL",
        "outputId": "e3e970cc-9359-406c-e418-6372abbf93e3"
      },
      "execution_count": 82,
      "outputs": [
        {
          "output_type": "stream",
          "name": "stderr",
          "text": [
            "<ipython-input-82-7cb097bdea59>:2: DataConversionWarning: A column-vector y was passed when a 1d array was expected. Please change the shape of y to (n_samples,), for example using ravel().\n",
            "  clf2.fit(X2_train,y2_train)\n"
          ]
        },
        {
          "output_type": "execute_result",
          "data": {
            "text/plain": [
              "RandomForestClassifier(max_depth=8, max_features='sqrt', n_estimators=250,\n",
              "                       oob_score=True, random_state=42)"
            ]
          },
          "metadata": {},
          "execution_count": 82
        }
      ]
    },
    {
      "cell_type": "code",
      "source": [
        "y2_train_pred = clf2.predict(X2_train)\n",
        "y2_test_pred = clf2.predict(X2_test)\n",
        "print(metrics.accuracy_score(y2_train, y2_train_pred))\n",
        "print(metrics.accuracy_score(y2_test, y2_test_pred))"
      ],
      "metadata": {
        "colab": {
          "base_uri": "https://localhost:8080/"
        },
        "id": "sdIxY-waTyFf",
        "outputId": "21cc94a8-b7b0-4265-fdce-068549be271f"
      },
      "execution_count": 83,
      "outputs": [
        {
          "output_type": "stream",
          "name": "stdout",
          "text": [
            "0.6981432926829269\n",
            "0.698560975609756\n"
          ]
        }
      ]
    },
    {
      "cell_type": "code",
      "source": [],
      "metadata": {
        "id": "4ZQYAqMqT81E"
      },
      "execution_count": 83,
      "outputs": []
    },
    {
      "cell_type": "code",
      "source": [
        "# Diagrama de barras de la importancia de los atributos\n",
        "importances = clf2.feature_importances_\n",
        "columns = X2_train.columns\n",
        "indices = np.argsort(importances)[::-1]\n",
        "\n",
        "plt.figure(figsize = (10,7))\n",
        "sns.barplot(x = columns[indices], y = importances[indices])\n",
        "plt.show()"
      ],
      "metadata": {
        "colab": {
          "base_uri": "https://localhost:8080/",
          "height": 432
        },
        "id": "-0uL_yL8T-QN",
        "outputId": "b6366327-3803-4417-c0df-2cdd6df137fa"
      },
      "execution_count": 84,
      "outputs": [
        {
          "output_type": "display_data",
          "data": {
            "text/plain": [
              "<Figure size 720x504 with 1 Axes>"
            ],
            "image/png": "[encoded data removed]"
          },
          "metadata": {}
        }
      ]
    },
    {
      "cell_type": "markdown",
      "source": [
        "guardo el modelo entrenado"
      ],
      "metadata": {
        "id": "AEk3HV8Jcdq6"
      }
    },
    {
      "cell_type": "code",
      "source": [
        "joblib.dump(clf2,'randomforest_entrenado')"
      ],
      "metadata": {
        "colab": {
          "base_uri": "https://localhost:8080/"
        },
        "id": "dDv4ADqQcdB0",
        "outputId": "69c79dde-5aea-4a1b-ccfc-390f94dc6d91"
      },
      "execution_count": 87,
      "outputs": [
        {
          "output_type": "execute_result",
          "data": {
            "text/plain": [
              "['randomforest_entrenado']"
            ]
          },
          "metadata": {},
          "execution_count": 87
        }
      ]
    },
    {
      "cell_type": "markdown",
      "source": [
        "importo el test y lo corro"
      ],
      "metadata": {
        "id": "OXyxubmYXiCT"
      }
    },
    {
      "cell_type": "code",
      "source": [
        "df_test_f=pd.read_csv('Datathon/hospitalizaciones_test.csv')"
      ],
      "metadata": {
        "id": "KYEzvho6ULsH"
      },
      "execution_count": 88,
      "outputs": []
    },
    {
      "cell_type": "code",
      "source": [
        "le = preprocessing.LabelEncoder()\n",
        "df_test_f['Insurance'] = le.fit_transform(df_test_f['Insurance'])\n",
        "df_test_f['Ward_Facility_Code'] = le.fit_transform(df_test_f['Ward_Facility_Code'])\n",
        "df_test_f['gender'] = le.fit_transform(df_test_f['gender'])"
      ],
      "metadata": {
        "id": "-4R9DjlqYKwz"
      },
      "execution_count": 92,
      "outputs": []
    },
    {
      "cell_type": "code",
      "source": [
        "df_new=df_new.drop(columns=['patientid']) # IMPORTANTE: la razon por la que quitamos esta columna es porque puede overfittear el modelo y es un id_ no corresponde analizarla como feature"
      ],
      "metadata": {
        "id": "72jSVUcEZP7t"
      },
      "execution_count": null,
      "outputs": []
    },
    {
      "cell_type": "code",
      "source": [
        "#columnas para hacer OneHotEncoder:\n",
        "ohe=OneHotEncoder() \n",
        "feature_array2=ohe.fit_transform(df_test_f[['Department','doctor_name','Type of Admission','health_conditions']]).toarray()"
      ],
      "metadata": {
        "id": "SwFaJmetZVgY"
      },
      "execution_count": 104,
      "outputs": []
    },
    {
      "cell_type": "code",
      "source": [
        "ohe.categories_"
      ],
      "metadata": {
        "colab": {
          "base_uri": "https://localhost:8080/"
        },
        "id": "_-42sZFIdmir",
        "outputId": "76e991d7-6745-46c4-b623-8dcdfaacbb1a"
      },
      "execution_count": 106,
      "outputs": [
        {
          "output_type": "execute_result",
          "data": {
            "text/plain": [
              "[array(['TB & Chest disease', 'anesthesia', 'gynecology', 'radiotherapy',\n",
              "        'surgery'], dtype=object),\n",
              " array(['Dr Isaac', 'Dr John', 'Dr Mark', 'Dr Nathan', 'Dr Olivia',\n",
              "        'Dr Sam', 'Dr Sarah', 'Dr Simon', 'Dr Sophia'], dtype=object),\n",
              " array(['Emergency', 'Trauma', 'Urgent'], dtype=object),\n",
              " array(['Asthama', 'Diabetes', 'Heart disease', 'High Blood Pressure',\n",
              "        'None', 'Other'], dtype=object)]"
            ]
          },
          "metadata": {},
          "execution_count": 106
        }
      ]
    },
    {
      "cell_type": "code",
      "source": [
        "feature_labels2=ohe.categories_"
      ],
      "metadata": {
        "id": "I_0Svdt_ZW9u"
      },
      "execution_count": 107,
      "outputs": []
    },
    {
      "cell_type": "code",
      "source": [
        "feature_labels2=np.array(feature_labels2).ravel()"
      ],
      "metadata": {
        "colab": {
          "base_uri": "https://localhost:8080/"
        },
        "id": "kOp4PYJFZYSq",
        "outputId": "4c3e345d-bf60-4e90-fdce-1a4ec080082e"
      },
      "execution_count": 108,
      "outputs": [
        {
          "output_type": "stream",
          "name": "stderr",
          "text": [
            "<ipython-input-108-0a3778f1106d>:1: VisibleDeprecationWarning: Creating an ndarray from ragged nested sequences (which is a list-or-tuple of lists-or-tuples-or ndarrays with different lengths or shapes) is deprecated. If you meant to do this, you must specify 'dtype=object' when creating the ndarray.\n",
            "  feature_labels2=np.array(feature_labels2).ravel()\n"
          ]
        }
      ]
    },
    {
      "cell_type": "code",
      "source": [
        "lista_aux2=[]\n",
        "for i in feature_labels2:\n",
        "  for e in i: \n",
        "    lista_aux2.append(e)\n",
        "print(lista_aux2)"
      ],
      "metadata": {
        "colab": {
          "base_uri": "https://localhost:8080/"
        },
        "id": "kfsKLvBKZb6R",
        "outputId": "50c6fc62-a887-475b-a844-8da1fe9b3323"
      },
      "execution_count": 111,
      "outputs": [
        {
          "output_type": "stream",
          "name": "stdout",
          "text": [
            "['TB & Chest disease', 'anesthesia', 'gynecology', 'radiotherapy', 'surgery', 'Dr Isaac', 'Dr John', 'Dr Mark', 'Dr Nathan', 'Dr Olivia', 'Dr Sam', 'Dr Sarah', 'Dr Simon', 'Dr Sophia', 'Emergency', 'Trauma', 'Urgent', 'Asthama', 'Diabetes', 'Heart disease', 'High Blood Pressure', 'None', 'Other']\n"
          ]
        }
      ]
    },
    {
      "cell_type": "code",
      "source": [
        "feature_labels2=lista_aux2"
      ],
      "metadata": {
        "id": "iqWq5dp4ZdYU"
      },
      "execution_count": 112,
      "outputs": []
    },
    {
      "cell_type": "code",
      "source": [
        "df_extra2=pd.DataFrame(feature_array2,columns=feature_labels2)"
      ],
      "metadata": {
        "id": "K-YOpU2dZfVt"
      },
      "execution_count": 113,
      "outputs": []
    },
    {
      "cell_type": "code",
      "source": [
        "enc = OrdinalEncoder()\n",
        "X2=[['0-10',1],['11-20',2],['21-30',3],['31-40',4],['41-50',5],['51-60',6],['61-70',7],['71-80',8],['81-90',9],['91-100',10]]\n",
        "enc.fit(X2)\n",
        "df_test_f['Age'] = enc.fit_transform(df_test_f[['Age']])"
      ],
      "metadata": {
        "id": "a33lJxUoZhsG"
      },
      "execution_count": 114,
      "outputs": []
    },
    {
      "cell_type": "code",
      "source": [
        "enc = OrdinalEncoder()\n",
        "X3=['Minor',1],['Moderate',2],['Extreme',3]\n",
        "enc.fit(X3)\n",
        "df_test_f['Severity of Illness'] = enc.fit_transform(df_test_f[['Severity of Illness']])"
      ],
      "metadata": {
        "id": "goVz37N1Zkmz"
      },
      "execution_count": 115,
      "outputs": []
    },
    {
      "cell_type": "code",
      "source": [],
      "metadata": {
        "id": "-3PxLKllZm7O"
      },
      "execution_count": 115,
      "outputs": []
    },
    {
      "cell_type": "code",
      "source": [
        "df_test_f.drop(columns=['Department','doctor_name','Type of Admission','health_conditions'], inplace=True)\n"
      ],
      "metadata": {
        "id": "PyOq2yLFZM71"
      },
      "execution_count": 116,
      "outputs": []
    },
    {
      "cell_type": "code",
      "source": [
        "df_final=df_test_f.join(df_extra2)"
      ],
      "metadata": {
        "id": "CiD1qT2AZrlK"
      },
      "execution_count": 117,
      "outputs": []
    },
    {
      "cell_type": "code",
      "source": [
        "#RELIZO LA PREDICCION FINAL CON EL DATASET DE TEST"
      ],
      "metadata": {
        "id": "ygyysntCaWeP"
      },
      "execution_count": null,
      "outputs": []
    },
    {
      "cell_type": "code",
      "source": [
        "Xf=df_final.drop(columns='patientid')"
      ],
      "metadata": {
        "id": "UXoc5PEObGLG"
      },
      "execution_count": 125,
      "outputs": []
    },
    {
      "cell_type": "code",
      "source": [
        "y_test_pred_f=clf2.predict(Xf)"
      ],
      "metadata": {
        "id": "a5j4iz7mbMm0"
      },
      "execution_count": 126,
      "outputs": []
    },
    {
      "cell_type": "code",
      "source": [
        "type(y_test_pred_f)"
      ],
      "metadata": {
        "colab": {
          "base_uri": "https://localhost:8080/"
        },
        "id": "Eja9n_nsbgzG",
        "outputId": "4af974a5-55bd-431b-8ef2-8c9d957ee0f4"
      },
      "execution_count": 127,
      "outputs": [
        {
          "output_type": "execute_result",
          "data": {
            "text/plain": [
              "numpy.ndarray"
            ]
          },
          "metadata": {},
          "execution_count": 127
        }
      ]
    },
    {
      "cell_type": "code",
      "source": [
        "df_f2=pd.DataFrame()"
      ],
      "metadata": {
        "id": "bMlyrCxVbu3x"
      },
      "execution_count": 128,
      "outputs": []
    },
    {
      "cell_type": "code",
      "source": [
        "df_f2['pred']=y_test_pred_f"
      ],
      "metadata": {
        "id": "0cySmgzAbvgH"
      },
      "execution_count": 129,
      "outputs": []
    },
    {
      "cell_type": "code",
      "source": [
        "df_f2.sample(5)"
      ],
      "metadata": {
        "colab": {
          "base_uri": "https://localhost:8080/",
          "height": 206
        },
        "id": "EIFSxoEGbxUN",
        "outputId": "f3662bed-5c63-489a-9c73-e65226afaa0c"
      },
      "execution_count": 134,
      "outputs": [
        {
          "output_type": "execute_result",
          "data": {
            "text/plain": [
              "       pred\n",
              "81476     1\n",
              "88327     1\n",
              "76953     1\n",
              "87407     1\n",
              "78462     1"
            ],
            "text/html": [
              "\n",
              "  <div id=\"df-66926904-37a8-48df-9ac0-42ca02f3f73f\">\n",
              "    <div class=\"colab-df-container\">\n",
              "      <div>\n",
              "<style scoped>\n",
              "    .dataframe tbody tr th:only-of-type {\n",
              "        vertical-align: middle;\n",
              "    }\n",
              "\n",
              "    .dataframe tbody tr th {\n",
              "        vertical-align: top;\n",
              "    }\n",
              "\n",
              "    .dataframe thead th {\n",
              "        text-align: right;\n",
              "    }\n",
              "</style>\n",
              "<table border=\"1\" class=\"dataframe\">\n",
              "  <thead>\n",
              "    <tr style=\"text-align: right;\">\n",
              "      <th></th>\n",
              "      <th>pred</th>\n",
              "    </tr>\n",
              "  </thead>\n",
              "  <tbody>\n",
              "    <tr>\n",
              "      <th>81476</th>\n",
              "      <td>1</td>\n",
              "    </tr>\n",
              "    <tr>\n",
              "      <th>88327</th>\n",
              "      <td>1</td>\n",
              "    </tr>\n",
              "    <tr>\n",
              "      <th>76953</th>\n",
              "      <td>1</td>\n",
              "    </tr>\n",
              "    <tr>\n",
              "      <th>87407</th>\n",
              "      <td>1</td>\n",
              "    </tr>\n",
              "    <tr>\n",
              "      <th>78462</th>\n",
              "      <td>1</td>\n",
              "    </tr>\n",
              "  </tbody>\n",
              "</table>\n",
              "</div>\n",
              "      <button class=\"colab-df-convert\" onclick=\"convertToInteractive('df-66926904-37a8-48df-9ac0-42ca02f3f73f')\"\n",
              "              title=\"Convert this dataframe to an interactive table.\"\n",
              "              style=\"display:none;\">\n",
              "        \n",
              "  <svg xmlns=\"http://www.w3.org/2000/svg\" height=\"24px\"viewBox=\"0 0 24 24\"\n",
              "       width=\"24px\">\n",
              "    <path d=\"M0 0h24v24H0V0z\" fill=\"none\"/>\n",
              "    <path d=\"M18.56 5.44l.94 2.06.94-2.06 2.06-.94-2.06-.94-.94-2.06-.94 2.06-2.06.94zm-11 1L8.5 8.5l.94-2.06 2.06-.94-2.06-.94L8.5 2.5l-.94 2.06-2.06.94zm10 10l.94 2.06.94-2.06 2.06-.94-2.06-.94-.94-2.06-.94 2.06-2.06.94z\"/><path d=\"M17.41 7.96l-1.37-1.37c-.4-.4-.92-.59-1.43-.59-.52 0-1.04.2-1.43.59L10.3 9.45l-7.72 7.72c-.78.78-.78 2.05 0 2.83L4 21.41c.39.39.9.59 1.41.59.51 0 1.02-.2 1.41-.59l7.78-7.78 2.81-2.81c.8-.78.8-2.07 0-2.86zM5.41 20L4 18.59l7.72-7.72 1.47 1.35L5.41 20z\"/>\n",
              "  </svg>\n",
              "      </button>\n",
              "      \n",
              "  <style>\n",
              "    .colab-df-container {\n",
              "      display:flex;\n",
              "      flex-wrap:wrap;\n",
              "      gap: 12px;\n",
              "    }\n",
              "\n",
              "    .colab-df-convert {\n",
              "      background-color: #E8F0FE;\n",
              "      border: none;\n",
              "      border-radius: 50%;\n",
              "      cursor: pointer;\n",
              "      display: none;\n",
              "      fill: #1967D2;\n",
              "      height: 32px;\n",
              "      padding: 0 0 0 0;\n",
              "      width: 32px;\n",
              "    }\n",
              "\n",
              "    .colab-df-convert:hover {\n",
              "      background-color: #E2EBFA;\n",
              "      box-shadow: 0px 1px 2px rgba(60, 64, 67, 0.3), 0px 1px 3px 1px rgba(60, 64, 67, 0.15);\n",
              "      fill: #174EA6;\n",
              "    }\n",
              "\n",
              "    [theme=dark] .colab-df-convert {\n",
              "      background-color: #3B4455;\n",
              "      fill: #D2E3FC;\n",
              "    }\n",
              "\n",
              "    [theme=dark] .colab-df-convert:hover {\n",
              "      background-color: #434B5C;\n",
              "      box-shadow: 0px 1px 3px 1px rgba(0, 0, 0, 0.15);\n",
              "      filter: drop-shadow(0px 1px 2px rgba(0, 0, 0, 0.3));\n",
              "      fill: #FFFFFF;\n",
              "    }\n",
              "  </style>\n",
              "\n",
              "      <script>\n",
              "        const buttonEl =\n",
              "          document.querySelector('#df-66926904-37a8-48df-9ac0-42ca02f3f73f button.colab-df-convert');\n",
              "        buttonEl.style.display =\n",
              "          google.colab.kernel.accessAllowed ? 'block' : 'none';\n",
              "\n",
              "        async function convertToInteractive(key) {\n",
              "          const element = document.querySelector('#df-66926904-37a8-48df-9ac0-42ca02f3f73f');\n",
              "          const dataTable =\n",
              "            await google.colab.kernel.invokeFunction('convertToInteractive',\n",
              "                                                     [key], {});\n",
              "          if (!dataTable) return;\n",
              "\n",
              "          const docLinkHtml = 'Like what you see? Visit the ' +\n",
              "            '<a target=\"_blank\" href=https://colab.research.google.com/notebooks/data_table.ipynb>data table notebook</a>'\n",
              "            + ' to learn more about interactive tables.';\n",
              "          element.innerHTML = '';\n",
              "          dataTable['output_type'] = 'display_data';\n",
              "          await google.colab.output.renderOutput(dataTable, element);\n",
              "          const docLink = document.createElement('div');\n",
              "          docLink.innerHTML = docLinkHtml;\n",
              "          element.appendChild(docLink);\n",
              "        }\n",
              "      </script>\n",
              "    </div>\n",
              "  </div>\n",
              "  "
            ]
          },
          "metadata": {},
          "execution_count": 134
        }
      ]
    },
    {
      "cell_type": "code",
      "source": [
        "import os\n",
        "from pathlib import Path as pl"
      ],
      "metadata": {
        "id": "83nkWmdhcIHw"
      },
      "execution_count": 135,
      "outputs": []
    },
    {
      "cell_type": "code",
      "source": [
        "#EXPORTO EL ARCHIVO COMO CSV _ PARA LA ENTREGA "
      ],
      "metadata": {
        "id": "Ja1yuRN2cKeh"
      },
      "execution_count": 136,
      "outputs": []
    },
    {
      "cell_type": "code",
      "source": [
        "filepath = pl('csv_prediccion_rforest/alitfasce.csv')  \n",
        "filepath.parent.mkdir(parents=True, exist_ok=True)  \n",
        "df_f2.to_csv(filepath,\n",
        "                 sep= \",\",\n",
        "                 na_rep= \"null\",\n",
        "                 header= True,\n",
        "                 index= False,\n",
        "                 index_label= None,\n",
        "                 mode= \"w\",\n",
        "                 encoding= \"utf-8\",\n",
        "                 compression= \"infer\",            \n",
        "                 decimal= \".\"\n",
        "                 ) \n",
        "os.makedirs('csv_prediccion_rforest', exist_ok=True)  \n",
        "df_f2.to_csv('csv_prediccion_rforest/alitfasce.csv', index=False) "
      ],
      "metadata": {
        "id": "_LW89WndcLCk"
      },
      "execution_count": 137,
      "outputs": []
    }
  ],
  "metadata": {
    "colab": {
      "provenance": []
    },
    "kernelspec": {
      "display_name": "Python 3",
      "name": "python3"
    }
  },
  "nbformat": 4,
  "nbformat_minor": 0
}