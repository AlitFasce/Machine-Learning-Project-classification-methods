{
  "cells": [
    {
      "cell_type": "markdown",
      "metadata": {
        "id": "8QLpisJ36ABu"
      },
      "source": [
        "EDA_ analisis de los datasets"
      ]
    },
    {
      "cell_type": "markdown",
      "metadata": {
        "id": "_pDcK9Iu6ABy"
      },
      "source": [
        "Se importan las librerias"
      ]
    },
    {
      "cell_type": "code",
      "execution_count": null,
      "metadata": {
        "id": "Ewwe4dCn6ABz"
      },
      "outputs": [],
      "source": [
        "import pandas as pd #principal herramienta de gestion de datasets como dataframe\n",
        "import numpy as np #para trabajar con arrays y algunas cuestiones estadisticas\n",
        "from sklearn import preprocessing #procesamiento de detasets \n",
        "from sklearn.metrics import mean_squared_error #herramienta estadistica para medir errores\n",
        "import seaborn as sns #herramienta grafica\n",
        "sns.set()\n",
        "import matplotlib.pyplot #herramienta grafica\n",
        "import matplotlib.pyplot as plt #herramienta grafica\n",
        "import warnings #evita que se llene de warnings el script\n",
        "warnings.filterwarnings(\"ignore\", category=FutureWarning) #evita que se llene de warnings el script\n",
        "sns.set()\n",
        "from sklearn.preprocessing import OneHotEncoder # preprocesamiento de columna\n",
        "from sklearn.preprocessing import OrdinalEncoder # preprocesamiento de columna"
      ]
    },
    {
      "cell_type": "markdown",
      "metadata": {
        "id": "Q3UShlnE6AB0"
      },
      "source": [
        "se abren los archivos csv con pandas"
      ]
    },
    {
      "cell_type": "code",
      "source": [
        "!git clone https://github.com/soyHenry/Datathon.git"
      ],
      "metadata": {
        "colab": {
          "base_uri": "https://localhost:8080/"
        },
        "id": "gJV2RWClDKMM",
        "outputId": "46ced419-4052-46b6-91d5-9df6083682ad"
      },
      "execution_count": null,
      "outputs": [
        {
          "output_type": "stream",
          "name": "stdout",
          "text": [
            "fatal: destination path 'Datathon' already exists and is not an empty directory.\n"
          ]
        }
      ]
    },
    {
      "cell_type": "code",
      "execution_count": null,
      "metadata": {
        "id": "MRL7cK2n6AB0"
      },
      "outputs": [],
      "source": [
        "df_train=pd.read_csv('Datathon/hospitalizaciones_train.csv', encoding='utf-8')\n",
        "df_test=pd.read_csv('Datathon/hospitalizaciones_test.csv', encoding='utf-8')"
      ]
    },
    {
      "cell_type": "markdown",
      "metadata": {
        "id": "gu11YLPn6AB1"
      },
      "source": [
        "se mira, cuantas columas hay, cuales son categóricas y cuales no, si hay nulos o valores con errores de carga o datos a normalizar"
      ]
    },
    {
      "cell_type": "code",
      "execution_count": null,
      "metadata": {
        "id": "H0wbKkiC6AB1",
        "outputId": "e6f90f7f-b4ec-4e9b-820d-a816fd0efd2b",
        "colab": {
          "base_uri": "https://localhost:8080/"
        }
      },
      "outputs": [
        {
          "output_type": "execute_result",
          "data": {
            "text/plain": [
              "(410000, 15)"
            ]
          },
          "metadata": {},
          "execution_count": 84
        }
      ],
      "source": [
        "df_train.shape"
      ]
    },
    {
      "cell_type": "code",
      "execution_count": null,
      "metadata": {
        "id": "e7FdWuW56AB2",
        "outputId": "5628e238-4448-4f88-b35c-b66ce579993d",
        "colab": {
          "base_uri": "https://localhost:8080/"
        }
      },
      "outputs": [
        {
          "output_type": "execute_result",
          "data": {
            "text/plain": [
              "(90000, 14)"
            ]
          },
          "metadata": {},
          "execution_count": 85
        }
      ],
      "source": [
        "df_test.shape"
      ]
    },
    {
      "cell_type": "code",
      "execution_count": null,
      "metadata": {
        "id": "nsclrALj6AB2",
        "outputId": "e506bdf6-0e70-4656-c118-267d983900be",
        "colab": {
          "base_uri": "https://localhost:8080/",
          "height": 409
        }
      },
      "outputs": [
        {
          "output_type": "execute_result",
          "data": {
            "text/plain": [
              "   Available Extra Rooms in Hospital  Department Ward_Facility_Code  \\\n",
              "0                                  4  gynecology                  D   \n",
              "1                                  4  gynecology                  B   \n",
              "2                                  2  gynecology                  B   \n",
              "3                                  4  gynecology                  D   \n",
              "4                                  2  anesthesia                  E   \n",
              "\n",
              "  doctor_name  staff_available  patientid    Age  gender Type of Admission  \\\n",
              "0   Dr Sophia                0      33070  41-50  Female            Trauma   \n",
              "1   Dr Sophia                2      34808  31-40  Female            Trauma   \n",
              "2   Dr Sophia                8      44577  21-30  Female            Trauma   \n",
              "3   Dr Olivia                7       3695  31-40  Female            Urgent   \n",
              "4     Dr Mark               10     108956  71-80    Male            Trauma   \n",
              "\n",
              "  Severity of Illness health_conditions  Visitors with Patient Insurance  \\\n",
              "0             Extreme          Diabetes                      4       Yes   \n",
              "1               Minor     Heart disease                      2        No   \n",
              "2             Extreme          Diabetes                      2       Yes   \n",
              "3            Moderate              None                      4        No   \n",
              "4            Moderate          Diabetes                      2        No   \n",
              "\n",
              "   Admission_Deposit  Stay (in days)  \n",
              "0        2966.408696               8  \n",
              "1        3554.835677               9  \n",
              "2        5624.733654               7  \n",
              "3        4814.149231               8  \n",
              "4        5169.269637              34  "
            ],
            "text/html": [
              "\n",
              "  <div id=\"df-8ce8f1b3-1337-4b95-acbc-bbaa0d036212\">\n",
              "    <div class=\"colab-df-container\">\n",
              "      <div>\n",
              "<style scoped>\n",
              "    .dataframe tbody tr th:only-of-type {\n",
              "        vertical-align: middle;\n",
              "    }\n",
              "\n",
              "    .dataframe tbody tr th {\n",
              "        vertical-align: top;\n",
              "    }\n",
              "\n",
              "    .dataframe thead th {\n",
              "        text-align: right;\n",
              "    }\n",
              "</style>\n",
              "<table border=\"1\" class=\"dataframe\">\n",
              "  <thead>\n",
              "    <tr style=\"text-align: right;\">\n",
              "      <th></th>\n",
              "      <th>Available Extra Rooms in Hospital</th>\n",
              "      <th>Department</th>\n",
              "      <th>Ward_Facility_Code</th>\n",
              "      <th>doctor_name</th>\n",
              "      <th>staff_available</th>\n",
              "      <th>patientid</th>\n",
              "      <th>Age</th>\n",
              "      <th>gender</th>\n",
              "      <th>Type of Admission</th>\n",
              "      <th>Severity of Illness</th>\n",
              "      <th>health_conditions</th>\n",
              "      <th>Visitors with Patient</th>\n",
              "      <th>Insurance</th>\n",
              "      <th>Admission_Deposit</th>\n",
              "      <th>Stay (in days)</th>\n",
              "    </tr>\n",
              "  </thead>\n",
              "  <tbody>\n",
              "    <tr>\n",
              "      <th>0</th>\n",
              "      <td>4</td>\n",
              "      <td>gynecology</td>\n",
              "      <td>D</td>\n",
              "      <td>Dr Sophia</td>\n",
              "      <td>0</td>\n",
              "      <td>33070</td>\n",
              "      <td>41-50</td>\n",
              "      <td>Female</td>\n",
              "      <td>Trauma</td>\n",
              "      <td>Extreme</td>\n",
              "      <td>Diabetes</td>\n",
              "      <td>4</td>\n",
              "      <td>Yes</td>\n",
              "      <td>2966.408696</td>\n",
              "      <td>8</td>\n",
              "    </tr>\n",
              "    <tr>\n",
              "      <th>1</th>\n",
              "      <td>4</td>\n",
              "      <td>gynecology</td>\n",
              "      <td>B</td>\n",
              "      <td>Dr Sophia</td>\n",
              "      <td>2</td>\n",
              "      <td>34808</td>\n",
              "      <td>31-40</td>\n",
              "      <td>Female</td>\n",
              "      <td>Trauma</td>\n",
              "      <td>Minor</td>\n",
              "      <td>Heart disease</td>\n",
              "      <td>2</td>\n",
              "      <td>No</td>\n",
              "      <td>3554.835677</td>\n",
              "      <td>9</td>\n",
              "    </tr>\n",
              "    <tr>\n",
              "      <th>2</th>\n",
              "      <td>2</td>\n",
              "      <td>gynecology</td>\n",
              "      <td>B</td>\n",
              "      <td>Dr Sophia</td>\n",
              "      <td>8</td>\n",
              "      <td>44577</td>\n",
              "      <td>21-30</td>\n",
              "      <td>Female</td>\n",
              "      <td>Trauma</td>\n",
              "      <td>Extreme</td>\n",
              "      <td>Diabetes</td>\n",
              "      <td>2</td>\n",
              "      <td>Yes</td>\n",
              "      <td>5624.733654</td>\n",
              "      <td>7</td>\n",
              "    </tr>\n",
              "    <tr>\n",
              "      <th>3</th>\n",
              "      <td>4</td>\n",
              "      <td>gynecology</td>\n",
              "      <td>D</td>\n",
              "      <td>Dr Olivia</td>\n",
              "      <td>7</td>\n",
              "      <td>3695</td>\n",
              "      <td>31-40</td>\n",
              "      <td>Female</td>\n",
              "      <td>Urgent</td>\n",
              "      <td>Moderate</td>\n",
              "      <td>None</td>\n",
              "      <td>4</td>\n",
              "      <td>No</td>\n",
              "      <td>4814.149231</td>\n",
              "      <td>8</td>\n",
              "    </tr>\n",
              "    <tr>\n",
              "      <th>4</th>\n",
              "      <td>2</td>\n",
              "      <td>anesthesia</td>\n",
              "      <td>E</td>\n",
              "      <td>Dr Mark</td>\n",
              "      <td>10</td>\n",
              "      <td>108956</td>\n",
              "      <td>71-80</td>\n",
              "      <td>Male</td>\n",
              "      <td>Trauma</td>\n",
              "      <td>Moderate</td>\n",
              "      <td>Diabetes</td>\n",
              "      <td>2</td>\n",
              "      <td>No</td>\n",
              "      <td>5169.269637</td>\n",
              "      <td>34</td>\n",
              "    </tr>\n",
              "  </tbody>\n",
              "</table>\n",
              "</div>\n",
              "      <button class=\"colab-df-convert\" onclick=\"convertToInteractive('df-8ce8f1b3-1337-4b95-acbc-bbaa0d036212')\"\n",
              "              title=\"Convert this dataframe to an interactive table.\"\n",
              "              style=\"display:none;\">\n",
              "        \n",
              "  <svg xmlns=\"http://www.w3.org/2000/svg\" height=\"24px\"viewBox=\"0 0 24 24\"\n",
              "       width=\"24px\">\n",
              "    <path d=\"M0 0h24v24H0V0z\" fill=\"none\"/>\n",
              "    <path d=\"M18.56 5.44l.94 2.06.94-2.06 2.06-.94-2.06-.94-.94-2.06-.94 2.06-2.06.94zm-11 1L8.5 8.5l.94-2.06 2.06-.94-2.06-.94L8.5 2.5l-.94 2.06-2.06.94zm10 10l.94 2.06.94-2.06 2.06-.94-2.06-.94-.94-2.06-.94 2.06-2.06.94z\"/><path d=\"M17.41 7.96l-1.37-1.37c-.4-.4-.92-.59-1.43-.59-.52 0-1.04.2-1.43.59L10.3 9.45l-7.72 7.72c-.78.78-.78 2.05 0 2.83L4 21.41c.39.39.9.59 1.41.59.51 0 1.02-.2 1.41-.59l7.78-7.78 2.81-2.81c.8-.78.8-2.07 0-2.86zM5.41 20L4 18.59l7.72-7.72 1.47 1.35L5.41 20z\"/>\n",
              "  </svg>\n",
              "      </button>\n",
              "      \n",
              "  <style>\n",
              "    .colab-df-container {\n",
              "      display:flex;\n",
              "      flex-wrap:wrap;\n",
              "      gap: 12px;\n",
              "    }\n",
              "\n",
              "    .colab-df-convert {\n",
              "      background-color: #E8F0FE;\n",
              "      border: none;\n",
              "      border-radius: 50%;\n",
              "      cursor: pointer;\n",
              "      display: none;\n",
              "      fill: #1967D2;\n",
              "      height: 32px;\n",
              "      padding: 0 0 0 0;\n",
              "      width: 32px;\n",
              "    }\n",
              "\n",
              "    .colab-df-convert:hover {\n",
              "      background-color: #E2EBFA;\n",
              "      box-shadow: 0px 1px 2px rgba(60, 64, 67, 0.3), 0px 1px 3px 1px rgba(60, 64, 67, 0.15);\n",
              "      fill: #174EA6;\n",
              "    }\n",
              "\n",
              "    [theme=dark] .colab-df-convert {\n",
              "      background-color: #3B4455;\n",
              "      fill: #D2E3FC;\n",
              "    }\n",
              "\n",
              "    [theme=dark] .colab-df-convert:hover {\n",
              "      background-color: #434B5C;\n",
              "      box-shadow: 0px 1px 3px 1px rgba(0, 0, 0, 0.15);\n",
              "      filter: drop-shadow(0px 1px 2px rgba(0, 0, 0, 0.3));\n",
              "      fill: #FFFFFF;\n",
              "    }\n",
              "  </style>\n",
              "\n",
              "      <script>\n",
              "        const buttonEl =\n",
              "          document.querySelector('#df-8ce8f1b3-1337-4b95-acbc-bbaa0d036212 button.colab-df-convert');\n",
              "        buttonEl.style.display =\n",
              "          google.colab.kernel.accessAllowed ? 'block' : 'none';\n",
              "\n",
              "        async function convertToInteractive(key) {\n",
              "          const element = document.querySelector('#df-8ce8f1b3-1337-4b95-acbc-bbaa0d036212');\n",
              "          const dataTable =\n",
              "            await google.colab.kernel.invokeFunction('convertToInteractive',\n",
              "                                                     [key], {});\n",
              "          if (!dataTable) return;\n",
              "\n",
              "          const docLinkHtml = 'Like what you see? Visit the ' +\n",
              "            '<a target=\"_blank\" href=https://colab.research.google.com/notebooks/data_table.ipynb>data table notebook</a>'\n",
              "            + ' to learn more about interactive tables.';\n",
              "          element.innerHTML = '';\n",
              "          dataTable['output_type'] = 'display_data';\n",
              "          await google.colab.output.renderOutput(dataTable, element);\n",
              "          const docLink = document.createElement('div');\n",
              "          docLink.innerHTML = docLinkHtml;\n",
              "          element.appendChild(docLink);\n",
              "        }\n",
              "      </script>\n",
              "    </div>\n",
              "  </div>\n",
              "  "
            ]
          },
          "metadata": {},
          "execution_count": 86
        }
      ],
      "source": [
        "df_train.head()"
      ]
    },
    {
      "cell_type": "code",
      "execution_count": null,
      "metadata": {
        "id": "WvdNzlqv6AB3",
        "outputId": "f3bbf16d-3414-4bdd-9ca6-6da15d7ff520",
        "colab": {
          "base_uri": "https://localhost:8080/",
          "height": 409
        }
      },
      "outputs": [
        {
          "output_type": "execute_result",
          "data": {
            "text/plain": [
              "   Available Extra Rooms in Hospital          Department Ward_Facility_Code  \\\n",
              "0                                  3          gynecology                  F   \n",
              "1                                  2  TB & Chest disease                  E   \n",
              "2                                  2        radiotherapy                  E   \n",
              "3                                  2          gynecology                  F   \n",
              "4                                  2          anesthesia                  A   \n",
              "\n",
              "  doctor_name  staff_available  patientid    Age  gender Type of Admission  \\\n",
              "0   Dr Olivia               10       2858  21-30  Female            Trauma   \n",
              "1     Dr John                4      65657  51-60  Female            Trauma   \n",
              "2     Dr John                7      45598  51-60   Other            Trauma   \n",
              "3   Dr Olivia                1      31132  21-30  Female            Trauma   \n",
              "4     Dr John                7     125021  51-60  Female            Trauma   \n",
              "\n",
              "  Severity of Illness health_conditions  Visitors with Patient Insurance  \\\n",
              "0            Moderate             Other                      2        No   \n",
              "1            Moderate           Asthama                      2       Yes   \n",
              "2            Moderate              None                      3        No   \n",
              "3            Moderate              None                      2       Yes   \n",
              "4             Extreme          Diabetes                      2        No   \n",
              "\n",
              "   Admission_Deposit  \n",
              "0        4749.640225  \n",
              "1        4122.261324  \n",
              "2        5459.067882  \n",
              "3        3987.033318  \n",
              "4        4770.789695  "
            ],
            "text/html": [
              "\n",
              "  <div id=\"df-31327bd7-b004-43b5-afa5-794276e475fb\">\n",
              "    <div class=\"colab-df-container\">\n",
              "      <div>\n",
              "<style scoped>\n",
              "    .dataframe tbody tr th:only-of-type {\n",
              "        vertical-align: middle;\n",
              "    }\n",
              "\n",
              "    .dataframe tbody tr th {\n",
              "        vertical-align: top;\n",
              "    }\n",
              "\n",
              "    .dataframe thead th {\n",
              "        text-align: right;\n",
              "    }\n",
              "</style>\n",
              "<table border=\"1\" class=\"dataframe\">\n",
              "  <thead>\n",
              "    <tr style=\"text-align: right;\">\n",
              "      <th></th>\n",
              "      <th>Available Extra Rooms in Hospital</th>\n",
              "      <th>Department</th>\n",
              "      <th>Ward_Facility_Code</th>\n",
              "      <th>doctor_name</th>\n",
              "      <th>staff_available</th>\n",
              "      <th>patientid</th>\n",
              "      <th>Age</th>\n",
              "      <th>gender</th>\n",
              "      <th>Type of Admission</th>\n",
              "      <th>Severity of Illness</th>\n",
              "      <th>health_conditions</th>\n",
              "      <th>Visitors with Patient</th>\n",
              "      <th>Insurance</th>\n",
              "      <th>Admission_Deposit</th>\n",
              "    </tr>\n",
              "  </thead>\n",
              "  <tbody>\n",
              "    <tr>\n",
              "      <th>0</th>\n",
              "      <td>3</td>\n",
              "      <td>gynecology</td>\n",
              "      <td>F</td>\n",
              "      <td>Dr Olivia</td>\n",
              "      <td>10</td>\n",
              "      <td>2858</td>\n",
              "      <td>21-30</td>\n",
              "      <td>Female</td>\n",
              "      <td>Trauma</td>\n",
              "      <td>Moderate</td>\n",
              "      <td>Other</td>\n",
              "      <td>2</td>\n",
              "      <td>No</td>\n",
              "      <td>4749.640225</td>\n",
              "    </tr>\n",
              "    <tr>\n",
              "      <th>1</th>\n",
              "      <td>2</td>\n",
              "      <td>TB &amp; Chest disease</td>\n",
              "      <td>E</td>\n",
              "      <td>Dr John</td>\n",
              "      <td>4</td>\n",
              "      <td>65657</td>\n",
              "      <td>51-60</td>\n",
              "      <td>Female</td>\n",
              "      <td>Trauma</td>\n",
              "      <td>Moderate</td>\n",
              "      <td>Asthama</td>\n",
              "      <td>2</td>\n",
              "      <td>Yes</td>\n",
              "      <td>4122.261324</td>\n",
              "    </tr>\n",
              "    <tr>\n",
              "      <th>2</th>\n",
              "      <td>2</td>\n",
              "      <td>radiotherapy</td>\n",
              "      <td>E</td>\n",
              "      <td>Dr John</td>\n",
              "      <td>7</td>\n",
              "      <td>45598</td>\n",
              "      <td>51-60</td>\n",
              "      <td>Other</td>\n",
              "      <td>Trauma</td>\n",
              "      <td>Moderate</td>\n",
              "      <td>None</td>\n",
              "      <td>3</td>\n",
              "      <td>No</td>\n",
              "      <td>5459.067882</td>\n",
              "    </tr>\n",
              "    <tr>\n",
              "      <th>3</th>\n",
              "      <td>2</td>\n",
              "      <td>gynecology</td>\n",
              "      <td>F</td>\n",
              "      <td>Dr Olivia</td>\n",
              "      <td>1</td>\n",
              "      <td>31132</td>\n",
              "      <td>21-30</td>\n",
              "      <td>Female</td>\n",
              "      <td>Trauma</td>\n",
              "      <td>Moderate</td>\n",
              "      <td>None</td>\n",
              "      <td>2</td>\n",
              "      <td>Yes</td>\n",
              "      <td>3987.033318</td>\n",
              "    </tr>\n",
              "    <tr>\n",
              "      <th>4</th>\n",
              "      <td>2</td>\n",
              "      <td>anesthesia</td>\n",
              "      <td>A</td>\n",
              "      <td>Dr John</td>\n",
              "      <td>7</td>\n",
              "      <td>125021</td>\n",
              "      <td>51-60</td>\n",
              "      <td>Female</td>\n",
              "      <td>Trauma</td>\n",
              "      <td>Extreme</td>\n",
              "      <td>Diabetes</td>\n",
              "      <td>2</td>\n",
              "      <td>No</td>\n",
              "      <td>4770.789695</td>\n",
              "    </tr>\n",
              "  </tbody>\n",
              "</table>\n",
              "</div>\n",
              "      <button class=\"colab-df-convert\" onclick=\"convertToInteractive('df-31327bd7-b004-43b5-afa5-794276e475fb')\"\n",
              "              title=\"Convert this dataframe to an interactive table.\"\n",
              "              style=\"display:none;\">\n",
              "        \n",
              "  <svg xmlns=\"http://www.w3.org/2000/svg\" height=\"24px\"viewBox=\"0 0 24 24\"\n",
              "       width=\"24px\">\n",
              "    <path d=\"M0 0h24v24H0V0z\" fill=\"none\"/>\n",
              "    <path d=\"M18.56 5.44l.94 2.06.94-2.06 2.06-.94-2.06-.94-.94-2.06-.94 2.06-2.06.94zm-11 1L8.5 8.5l.94-2.06 2.06-.94-2.06-.94L8.5 2.5l-.94 2.06-2.06.94zm10 10l.94 2.06.94-2.06 2.06-.94-2.06-.94-.94-2.06-.94 2.06-2.06.94z\"/><path d=\"M17.41 7.96l-1.37-1.37c-.4-.4-.92-.59-1.43-.59-.52 0-1.04.2-1.43.59L10.3 9.45l-7.72 7.72c-.78.78-.78 2.05 0 2.83L4 21.41c.39.39.9.59 1.41.59.51 0 1.02-.2 1.41-.59l7.78-7.78 2.81-2.81c.8-.78.8-2.07 0-2.86zM5.41 20L4 18.59l7.72-7.72 1.47 1.35L5.41 20z\"/>\n",
              "  </svg>\n",
              "      </button>\n",
              "      \n",
              "  <style>\n",
              "    .colab-df-container {\n",
              "      display:flex;\n",
              "      flex-wrap:wrap;\n",
              "      gap: 12px;\n",
              "    }\n",
              "\n",
              "    .colab-df-convert {\n",
              "      background-color: #E8F0FE;\n",
              "      border: none;\n",
              "      border-radius: 50%;\n",
              "      cursor: pointer;\n",
              "      display: none;\n",
              "      fill: #1967D2;\n",
              "      height: 32px;\n",
              "      padding: 0 0 0 0;\n",
              "      width: 32px;\n",
              "    }\n",
              "\n",
              "    .colab-df-convert:hover {\n",
              "      background-color: #E2EBFA;\n",
              "      box-shadow: 0px 1px 2px rgba(60, 64, 67, 0.3), 0px 1px 3px 1px rgba(60, 64, 67, 0.15);\n",
              "      fill: #174EA6;\n",
              "    }\n",
              "\n",
              "    [theme=dark] .colab-df-convert {\n",
              "      background-color: #3B4455;\n",
              "      fill: #D2E3FC;\n",
              "    }\n",
              "\n",
              "    [theme=dark] .colab-df-convert:hover {\n",
              "      background-color: #434B5C;\n",
              "      box-shadow: 0px 1px 3px 1px rgba(0, 0, 0, 0.15);\n",
              "      filter: drop-shadow(0px 1px 2px rgba(0, 0, 0, 0.3));\n",
              "      fill: #FFFFFF;\n",
              "    }\n",
              "  </style>\n",
              "\n",
              "      <script>\n",
              "        const buttonEl =\n",
              "          document.querySelector('#df-31327bd7-b004-43b5-afa5-794276e475fb button.colab-df-convert');\n",
              "        buttonEl.style.display =\n",
              "          google.colab.kernel.accessAllowed ? 'block' : 'none';\n",
              "\n",
              "        async function convertToInteractive(key) {\n",
              "          const element = document.querySelector('#df-31327bd7-b004-43b5-afa5-794276e475fb');\n",
              "          const dataTable =\n",
              "            await google.colab.kernel.invokeFunction('convertToInteractive',\n",
              "                                                     [key], {});\n",
              "          if (!dataTable) return;\n",
              "\n",
              "          const docLinkHtml = 'Like what you see? Visit the ' +\n",
              "            '<a target=\"_blank\" href=https://colab.research.google.com/notebooks/data_table.ipynb>data table notebook</a>'\n",
              "            + ' to learn more about interactive tables.';\n",
              "          element.innerHTML = '';\n",
              "          dataTable['output_type'] = 'display_data';\n",
              "          await google.colab.output.renderOutput(dataTable, element);\n",
              "          const docLink = document.createElement('div');\n",
              "          docLink.innerHTML = docLinkHtml;\n",
              "          element.appendChild(docLink);\n",
              "        }\n",
              "      </script>\n",
              "    </div>\n",
              "  </div>\n",
              "  "
            ]
          },
          "metadata": {},
          "execution_count": 87
        }
      ],
      "source": [
        "df_test.head()"
      ]
    },
    {
      "cell_type": "code",
      "execution_count": null,
      "metadata": {
        "id": "QWxJGcWP6AB3",
        "outputId": "63817b13-582c-49fd-daf5-8d6928948ca9",
        "colab": {
          "base_uri": "https://localhost:8080/",
          "height": 409
        }
      },
      "outputs": [
        {
          "output_type": "execute_result",
          "data": {
            "text/plain": [
              "        Available Extra Rooms in Hospital    Department Ward_Facility_Code  \\\n",
              "282963                                  4    gynecology                  F   \n",
              "367594                                  3    gynecology                  F   \n",
              "279712                                  3  radiotherapy                  C   \n",
              "19926                                   3  radiotherapy                  E   \n",
              "399860                                  4    gynecology                  B   \n",
              "\n",
              "       doctor_name  staff_available  patientid    Age  gender  \\\n",
              "282963    Dr Sarah                6       6573  11-20  Female   \n",
              "367594    Dr Sarah                9      91808  11-20  Female   \n",
              "279712     Dr John                4       4567  71-80   Other   \n",
              "19926       Dr Sam                7      47418  21-30    Male   \n",
              "399860   Dr Sophia                1      20652  41-50  Female   \n",
              "\n",
              "       Type of Admission Severity of Illness    health_conditions  \\\n",
              "282963            Trauma            Moderate  High Blood Pressure   \n",
              "367594            Trauma               Minor              Asthama   \n",
              "279712         Emergency            Moderate  High Blood Pressure   \n",
              "19926             Urgent            Moderate        Heart disease   \n",
              "399860            Trauma            Moderate        Heart disease   \n",
              "\n",
              "        Visitors with Patient Insurance  Admission_Deposit  Stay (in days)  \n",
              "282963                      2       Yes        3773.910156              10  \n",
              "367594                      4        No        3467.691961               8  \n",
              "279712                      2        No        4275.739470              24  \n",
              "19926                       2       Yes        4184.279098              20  \n",
              "399860                      6       Yes        4880.898601               9  "
            ],
            "text/html": [
              "\n",
              "  <div id=\"df-119dce79-a6dc-4904-8e86-565c4e5b3756\">\n",
              "    <div class=\"colab-df-container\">\n",
              "      <div>\n",
              "<style scoped>\n",
              "    .dataframe tbody tr th:only-of-type {\n",
              "        vertical-align: middle;\n",
              "    }\n",
              "\n",
              "    .dataframe tbody tr th {\n",
              "        vertical-align: top;\n",
              "    }\n",
              "\n",
              "    .dataframe thead th {\n",
              "        text-align: right;\n",
              "    }\n",
              "</style>\n",
              "<table border=\"1\" class=\"dataframe\">\n",
              "  <thead>\n",
              "    <tr style=\"text-align: right;\">\n",
              "      <th></th>\n",
              "      <th>Available Extra Rooms in Hospital</th>\n",
              "      <th>Department</th>\n",
              "      <th>Ward_Facility_Code</th>\n",
              "      <th>doctor_name</th>\n",
              "      <th>staff_available</th>\n",
              "      <th>patientid</th>\n",
              "      <th>Age</th>\n",
              "      <th>gender</th>\n",
              "      <th>Type of Admission</th>\n",
              "      <th>Severity of Illness</th>\n",
              "      <th>health_conditions</th>\n",
              "      <th>Visitors with Patient</th>\n",
              "      <th>Insurance</th>\n",
              "      <th>Admission_Deposit</th>\n",
              "      <th>Stay (in days)</th>\n",
              "    </tr>\n",
              "  </thead>\n",
              "  <tbody>\n",
              "    <tr>\n",
              "      <th>282963</th>\n",
              "      <td>4</td>\n",
              "      <td>gynecology</td>\n",
              "      <td>F</td>\n",
              "      <td>Dr Sarah</td>\n",
              "      <td>6</td>\n",
              "      <td>6573</td>\n",
              "      <td>11-20</td>\n",
              "      <td>Female</td>\n",
              "      <td>Trauma</td>\n",
              "      <td>Moderate</td>\n",
              "      <td>High Blood Pressure</td>\n",
              "      <td>2</td>\n",
              "      <td>Yes</td>\n",
              "      <td>3773.910156</td>\n",
              "      <td>10</td>\n",
              "    </tr>\n",
              "    <tr>\n",
              "      <th>367594</th>\n",
              "      <td>3</td>\n",
              "      <td>gynecology</td>\n",
              "      <td>F</td>\n",
              "      <td>Dr Sarah</td>\n",
              "      <td>9</td>\n",
              "      <td>91808</td>\n",
              "      <td>11-20</td>\n",
              "      <td>Female</td>\n",
              "      <td>Trauma</td>\n",
              "      <td>Minor</td>\n",
              "      <td>Asthama</td>\n",
              "      <td>4</td>\n",
              "      <td>No</td>\n",
              "      <td>3467.691961</td>\n",
              "      <td>8</td>\n",
              "    </tr>\n",
              "    <tr>\n",
              "      <th>279712</th>\n",
              "      <td>3</td>\n",
              "      <td>radiotherapy</td>\n",
              "      <td>C</td>\n",
              "      <td>Dr John</td>\n",
              "      <td>4</td>\n",
              "      <td>4567</td>\n",
              "      <td>71-80</td>\n",
              "      <td>Other</td>\n",
              "      <td>Emergency</td>\n",
              "      <td>Moderate</td>\n",
              "      <td>High Blood Pressure</td>\n",
              "      <td>2</td>\n",
              "      <td>No</td>\n",
              "      <td>4275.739470</td>\n",
              "      <td>24</td>\n",
              "    </tr>\n",
              "    <tr>\n",
              "      <th>19926</th>\n",
              "      <td>3</td>\n",
              "      <td>radiotherapy</td>\n",
              "      <td>E</td>\n",
              "      <td>Dr Sam</td>\n",
              "      <td>7</td>\n",
              "      <td>47418</td>\n",
              "      <td>21-30</td>\n",
              "      <td>Male</td>\n",
              "      <td>Urgent</td>\n",
              "      <td>Moderate</td>\n",
              "      <td>Heart disease</td>\n",
              "      <td>2</td>\n",
              "      <td>Yes</td>\n",
              "      <td>4184.279098</td>\n",
              "      <td>20</td>\n",
              "    </tr>\n",
              "    <tr>\n",
              "      <th>399860</th>\n",
              "      <td>4</td>\n",
              "      <td>gynecology</td>\n",
              "      <td>B</td>\n",
              "      <td>Dr Sophia</td>\n",
              "      <td>1</td>\n",
              "      <td>20652</td>\n",
              "      <td>41-50</td>\n",
              "      <td>Female</td>\n",
              "      <td>Trauma</td>\n",
              "      <td>Moderate</td>\n",
              "      <td>Heart disease</td>\n",
              "      <td>6</td>\n",
              "      <td>Yes</td>\n",
              "      <td>4880.898601</td>\n",
              "      <td>9</td>\n",
              "    </tr>\n",
              "  </tbody>\n",
              "</table>\n",
              "</div>\n",
              "      <button class=\"colab-df-convert\" onclick=\"convertToInteractive('df-119dce79-a6dc-4904-8e86-565c4e5b3756')\"\n",
              "              title=\"Convert this dataframe to an interactive table.\"\n",
              "              style=\"display:none;\">\n",
              "        \n",
              "  <svg xmlns=\"http://www.w3.org/2000/svg\" height=\"24px\"viewBox=\"0 0 24 24\"\n",
              "       width=\"24px\">\n",
              "    <path d=\"M0 0h24v24H0V0z\" fill=\"none\"/>\n",
              "    <path d=\"M18.56 5.44l.94 2.06.94-2.06 2.06-.94-2.06-.94-.94-2.06-.94 2.06-2.06.94zm-11 1L8.5 8.5l.94-2.06 2.06-.94-2.06-.94L8.5 2.5l-.94 2.06-2.06.94zm10 10l.94 2.06.94-2.06 2.06-.94-2.06-.94-.94-2.06-.94 2.06-2.06.94z\"/><path d=\"M17.41 7.96l-1.37-1.37c-.4-.4-.92-.59-1.43-.59-.52 0-1.04.2-1.43.59L10.3 9.45l-7.72 7.72c-.78.78-.78 2.05 0 2.83L4 21.41c.39.39.9.59 1.41.59.51 0 1.02-.2 1.41-.59l7.78-7.78 2.81-2.81c.8-.78.8-2.07 0-2.86zM5.41 20L4 18.59l7.72-7.72 1.47 1.35L5.41 20z\"/>\n",
              "  </svg>\n",
              "      </button>\n",
              "      \n",
              "  <style>\n",
              "    .colab-df-container {\n",
              "      display:flex;\n",
              "      flex-wrap:wrap;\n",
              "      gap: 12px;\n",
              "    }\n",
              "\n",
              "    .colab-df-convert {\n",
              "      background-color: #E8F0FE;\n",
              "      border: none;\n",
              "      border-radius: 50%;\n",
              "      cursor: pointer;\n",
              "      display: none;\n",
              "      fill: #1967D2;\n",
              "      height: 32px;\n",
              "      padding: 0 0 0 0;\n",
              "      width: 32px;\n",
              "    }\n",
              "\n",
              "    .colab-df-convert:hover {\n",
              "      background-color: #E2EBFA;\n",
              "      box-shadow: 0px 1px 2px rgba(60, 64, 67, 0.3), 0px 1px 3px 1px rgba(60, 64, 67, 0.15);\n",
              "      fill: #174EA6;\n",
              "    }\n",
              "\n",
              "    [theme=dark] .colab-df-convert {\n",
              "      background-color: #3B4455;\n",
              "      fill: #D2E3FC;\n",
              "    }\n",
              "\n",
              "    [theme=dark] .colab-df-convert:hover {\n",
              "      background-color: #434B5C;\n",
              "      box-shadow: 0px 1px 3px 1px rgba(0, 0, 0, 0.15);\n",
              "      filter: drop-shadow(0px 1px 2px rgba(0, 0, 0, 0.3));\n",
              "      fill: #FFFFFF;\n",
              "    }\n",
              "  </style>\n",
              "\n",
              "      <script>\n",
              "        const buttonEl =\n",
              "          document.querySelector('#df-119dce79-a6dc-4904-8e86-565c4e5b3756 button.colab-df-convert');\n",
              "        buttonEl.style.display =\n",
              "          google.colab.kernel.accessAllowed ? 'block' : 'none';\n",
              "\n",
              "        async function convertToInteractive(key) {\n",
              "          const element = document.querySelector('#df-119dce79-a6dc-4904-8e86-565c4e5b3756');\n",
              "          const dataTable =\n",
              "            await google.colab.kernel.invokeFunction('convertToInteractive',\n",
              "                                                     [key], {});\n",
              "          if (!dataTable) return;\n",
              "\n",
              "          const docLinkHtml = 'Like what you see? Visit the ' +\n",
              "            '<a target=\"_blank\" href=https://colab.research.google.com/notebooks/data_table.ipynb>data table notebook</a>'\n",
              "            + ' to learn more about interactive tables.';\n",
              "          element.innerHTML = '';\n",
              "          dataTable['output_type'] = 'display_data';\n",
              "          await google.colab.output.renderOutput(dataTable, element);\n",
              "          const docLink = document.createElement('div');\n",
              "          docLink.innerHTML = docLinkHtml;\n",
              "          element.appendChild(docLink);\n",
              "        }\n",
              "      </script>\n",
              "    </div>\n",
              "  </div>\n",
              "  "
            ]
          },
          "metadata": {},
          "execution_count": 88
        }
      ],
      "source": [
        "df_train.sample(5)"
      ]
    },
    {
      "cell_type": "code",
      "execution_count": null,
      "metadata": {
        "id": "nUNKnpV66AB3",
        "outputId": "a39730a9-e4fe-4bee-815f-881e36d68675",
        "colab": {
          "base_uri": "https://localhost:8080/",
          "height": 409
        }
      },
      "outputs": [
        {
          "output_type": "execute_result",
          "data": {
            "text/plain": [
              "       Available Extra Rooms in Hospital  Department Ward_Facility_Code  \\\n",
              "60957                                  3  anesthesia                  E   \n",
              "20860                                  3  gynecology                  F   \n",
              "74978                                  3  anesthesia                  E   \n",
              "88646                                  4  gynecology                  B   \n",
              "42832                                 14  gynecology                  D   \n",
              "\n",
              "      doctor_name  staff_available  patientid    Age  gender  \\\n",
              "60957     Dr John                5      73580  31-40   Other   \n",
              "20860    Dr Sarah               10      29726  11-20  Female   \n",
              "74978     Dr John                4      48390  61-70  Female   \n",
              "88646    Dr Sarah                8      85243  11-20  Female   \n",
              "42832   Dr Nathan               10      84887  21-30  Female   \n",
              "\n",
              "      Type of Admission Severity of Illness    health_conditions  \\\n",
              "60957            Trauma             Extreme              Asthama   \n",
              "20860            Trauma               Minor  High Blood Pressure   \n",
              "74978            Urgent            Moderate             Diabetes   \n",
              "88646            Trauma             Extreme              Asthama   \n",
              "42832         Emergency             Extreme                Other   \n",
              "\n",
              "       Visitors with Patient Insurance  Admission_Deposit  \n",
              "60957                      5        No        4255.211423  \n",
              "20860                      2        No        5522.382413  \n",
              "74978                      2       Yes        4797.509973  \n",
              "88646                      2        No        3531.494786  \n",
              "42832                      2       Yes        6945.110098  "
            ],
            "text/html": [
              "\n",
              "  <div id=\"df-661cc169-c1b4-4e39-8443-11341dc76cec\">\n",
              "    <div class=\"colab-df-container\">\n",
              "      <div>\n",
              "<style scoped>\n",
              "    .dataframe tbody tr th:only-of-type {\n",
              "        vertical-align: middle;\n",
              "    }\n",
              "\n",
              "    .dataframe tbody tr th {\n",
              "        vertical-align: top;\n",
              "    }\n",
              "\n",
              "    .dataframe thead th {\n",
              "        text-align: right;\n",
              "    }\n",
              "</style>\n",
              "<table border=\"1\" class=\"dataframe\">\n",
              "  <thead>\n",
              "    <tr style=\"text-align: right;\">\n",
              "      <th></th>\n",
              "      <th>Available Extra Rooms in Hospital</th>\n",
              "      <th>Department</th>\n",
              "      <th>Ward_Facility_Code</th>\n",
              "      <th>doctor_name</th>\n",
              "      <th>staff_available</th>\n",
              "      <th>patientid</th>\n",
              "      <th>Age</th>\n",
              "      <th>gender</th>\n",
              "      <th>Type of Admission</th>\n",
              "      <th>Severity of Illness</th>\n",
              "      <th>health_conditions</th>\n",
              "      <th>Visitors with Patient</th>\n",
              "      <th>Insurance</th>\n",
              "      <th>Admission_Deposit</th>\n",
              "    </tr>\n",
              "  </thead>\n",
              "  <tbody>\n",
              "    <tr>\n",
              "      <th>60957</th>\n",
              "      <td>3</td>\n",
              "      <td>anesthesia</td>\n",
              "      <td>E</td>\n",
              "      <td>Dr John</td>\n",
              "      <td>5</td>\n",
              "      <td>73580</td>\n",
              "      <td>31-40</td>\n",
              "      <td>Other</td>\n",
              "      <td>Trauma</td>\n",
              "      <td>Extreme</td>\n",
              "      <td>Asthama</td>\n",
              "      <td>5</td>\n",
              "      <td>No</td>\n",
              "      <td>4255.211423</td>\n",
              "    </tr>\n",
              "    <tr>\n",
              "      <th>20860</th>\n",
              "      <td>3</td>\n",
              "      <td>gynecology</td>\n",
              "      <td>F</td>\n",
              "      <td>Dr Sarah</td>\n",
              "      <td>10</td>\n",
              "      <td>29726</td>\n",
              "      <td>11-20</td>\n",
              "      <td>Female</td>\n",
              "      <td>Trauma</td>\n",
              "      <td>Minor</td>\n",
              "      <td>High Blood Pressure</td>\n",
              "      <td>2</td>\n",
              "      <td>No</td>\n",
              "      <td>5522.382413</td>\n",
              "    </tr>\n",
              "    <tr>\n",
              "      <th>74978</th>\n",
              "      <td>3</td>\n",
              "      <td>anesthesia</td>\n",
              "      <td>E</td>\n",
              "      <td>Dr John</td>\n",
              "      <td>4</td>\n",
              "      <td>48390</td>\n",
              "      <td>61-70</td>\n",
              "      <td>Female</td>\n",
              "      <td>Urgent</td>\n",
              "      <td>Moderate</td>\n",
              "      <td>Diabetes</td>\n",
              "      <td>2</td>\n",
              "      <td>Yes</td>\n",
              "      <td>4797.509973</td>\n",
              "    </tr>\n",
              "    <tr>\n",
              "      <th>88646</th>\n",
              "      <td>4</td>\n",
              "      <td>gynecology</td>\n",
              "      <td>B</td>\n",
              "      <td>Dr Sarah</td>\n",
              "      <td>8</td>\n",
              "      <td>85243</td>\n",
              "      <td>11-20</td>\n",
              "      <td>Female</td>\n",
              "      <td>Trauma</td>\n",
              "      <td>Extreme</td>\n",
              "      <td>Asthama</td>\n",
              "      <td>2</td>\n",
              "      <td>No</td>\n",
              "      <td>3531.494786</td>\n",
              "    </tr>\n",
              "    <tr>\n",
              "      <th>42832</th>\n",
              "      <td>14</td>\n",
              "      <td>gynecology</td>\n",
              "      <td>D</td>\n",
              "      <td>Dr Nathan</td>\n",
              "      <td>10</td>\n",
              "      <td>84887</td>\n",
              "      <td>21-30</td>\n",
              "      <td>Female</td>\n",
              "      <td>Emergency</td>\n",
              "      <td>Extreme</td>\n",
              "      <td>Other</td>\n",
              "      <td>2</td>\n",
              "      <td>Yes</td>\n",
              "      <td>6945.110098</td>\n",
              "    </tr>\n",
              "  </tbody>\n",
              "</table>\n",
              "</div>\n",
              "      <button class=\"colab-df-convert\" onclick=\"convertToInteractive('df-661cc169-c1b4-4e39-8443-11341dc76cec')\"\n",
              "              title=\"Convert this dataframe to an interactive table.\"\n",
              "              style=\"display:none;\">\n",
              "        \n",
              "  <svg xmlns=\"http://www.w3.org/2000/svg\" height=\"24px\"viewBox=\"0 0 24 24\"\n",
              "       width=\"24px\">\n",
              "    <path d=\"M0 0h24v24H0V0z\" fill=\"none\"/>\n",
              "    <path d=\"M18.56 5.44l.94 2.06.94-2.06 2.06-.94-2.06-.94-.94-2.06-.94 2.06-2.06.94zm-11 1L8.5 8.5l.94-2.06 2.06-.94-2.06-.94L8.5 2.5l-.94 2.06-2.06.94zm10 10l.94 2.06.94-2.06 2.06-.94-2.06-.94-.94-2.06-.94 2.06-2.06.94z\"/><path d=\"M17.41 7.96l-1.37-1.37c-.4-.4-.92-.59-1.43-.59-.52 0-1.04.2-1.43.59L10.3 9.45l-7.72 7.72c-.78.78-.78 2.05 0 2.83L4 21.41c.39.39.9.59 1.41.59.51 0 1.02-.2 1.41-.59l7.78-7.78 2.81-2.81c.8-.78.8-2.07 0-2.86zM5.41 20L4 18.59l7.72-7.72 1.47 1.35L5.41 20z\"/>\n",
              "  </svg>\n",
              "      </button>\n",
              "      \n",
              "  <style>\n",
              "    .colab-df-container {\n",
              "      display:flex;\n",
              "      flex-wrap:wrap;\n",
              "      gap: 12px;\n",
              "    }\n",
              "\n",
              "    .colab-df-convert {\n",
              "      background-color: #E8F0FE;\n",
              "      border: none;\n",
              "      border-radius: 50%;\n",
              "      cursor: pointer;\n",
              "      display: none;\n",
              "      fill: #1967D2;\n",
              "      height: 32px;\n",
              "      padding: 0 0 0 0;\n",
              "      width: 32px;\n",
              "    }\n",
              "\n",
              "    .colab-df-convert:hover {\n",
              "      background-color: #E2EBFA;\n",
              "      box-shadow: 0px 1px 2px rgba(60, 64, 67, 0.3), 0px 1px 3px 1px rgba(60, 64, 67, 0.15);\n",
              "      fill: #174EA6;\n",
              "    }\n",
              "\n",
              "    [theme=dark] .colab-df-convert {\n",
              "      background-color: #3B4455;\n",
              "      fill: #D2E3FC;\n",
              "    }\n",
              "\n",
              "    [theme=dark] .colab-df-convert:hover {\n",
              "      background-color: #434B5C;\n",
              "      box-shadow: 0px 1px 3px 1px rgba(0, 0, 0, 0.15);\n",
              "      filter: drop-shadow(0px 1px 2px rgba(0, 0, 0, 0.3));\n",
              "      fill: #FFFFFF;\n",
              "    }\n",
              "  </style>\n",
              "\n",
              "      <script>\n",
              "        const buttonEl =\n",
              "          document.querySelector('#df-661cc169-c1b4-4e39-8443-11341dc76cec button.colab-df-convert');\n",
              "        buttonEl.style.display =\n",
              "          google.colab.kernel.accessAllowed ? 'block' : 'none';\n",
              "\n",
              "        async function convertToInteractive(key) {\n",
              "          const element = document.querySelector('#df-661cc169-c1b4-4e39-8443-11341dc76cec');\n",
              "          const dataTable =\n",
              "            await google.colab.kernel.invokeFunction('convertToInteractive',\n",
              "                                                     [key], {});\n",
              "          if (!dataTable) return;\n",
              "\n",
              "          const docLinkHtml = 'Like what you see? Visit the ' +\n",
              "            '<a target=\"_blank\" href=https://colab.research.google.com/notebooks/data_table.ipynb>data table notebook</a>'\n",
              "            + ' to learn more about interactive tables.';\n",
              "          element.innerHTML = '';\n",
              "          dataTable['output_type'] = 'display_data';\n",
              "          await google.colab.output.renderOutput(dataTable, element);\n",
              "          const docLink = document.createElement('div');\n",
              "          docLink.innerHTML = docLinkHtml;\n",
              "          element.appendChild(docLink);\n",
              "        }\n",
              "      </script>\n",
              "    </div>\n",
              "  </div>\n",
              "  "
            ]
          },
          "metadata": {},
          "execution_count": 89
        }
      ],
      "source": [
        "df_test.sample(5)"
      ]
    },
    {
      "cell_type": "code",
      "execution_count": null,
      "metadata": {
        "id": "NzpC5ZSw6AB3",
        "outputId": "8c2abe4c-db99-4656-c359-a09bc07d3823",
        "colab": {
          "base_uri": "https://localhost:8080/"
        }
      },
      "outputs": [
        {
          "output_type": "stream",
          "name": "stdout",
          "text": [
            "<class 'pandas.core.frame.DataFrame'>\n",
            "RangeIndex: 410000 entries, 0 to 409999\n",
            "Data columns (total 15 columns):\n",
            " #   Column                             Non-Null Count   Dtype  \n",
            "---  ------                             --------------   -----  \n",
            " 0   Available Extra Rooms in Hospital  410000 non-null  int64  \n",
            " 1   Department                         410000 non-null  object \n",
            " 2   Ward_Facility_Code                 410000 non-null  object \n",
            " 3   doctor_name                        410000 non-null  object \n",
            " 4   staff_available                    410000 non-null  int64  \n",
            " 5   patientid                          410000 non-null  int64  \n",
            " 6   Age                                410000 non-null  object \n",
            " 7   gender                             410000 non-null  object \n",
            " 8   Type of Admission                  410000 non-null  object \n",
            " 9   Severity of Illness                410000 non-null  object \n",
            " 10  health_conditions                  410000 non-null  object \n",
            " 11  Visitors with Patient              410000 non-null  int64  \n",
            " 12  Insurance                          410000 non-null  object \n",
            " 13  Admission_Deposit                  410000 non-null  float64\n",
            " 14  Stay (in days)                     410000 non-null  int64  \n",
            "dtypes: float64(1), int64(5), object(9)\n",
            "memory usage: 46.9+ MB\n"
          ]
        }
      ],
      "source": [
        "df_train.info()"
      ]
    },
    {
      "cell_type": "code",
      "execution_count": null,
      "metadata": {
        "id": "GYq4mUzh6AB4",
        "outputId": "5475fb04-2b96-496b-90e3-66125a8f1d52",
        "colab": {
          "base_uri": "https://localhost:8080/"
        }
      },
      "outputs": [
        {
          "output_type": "stream",
          "name": "stdout",
          "text": [
            "<class 'pandas.core.frame.DataFrame'>\n",
            "RangeIndex: 90000 entries, 0 to 89999\n",
            "Data columns (total 14 columns):\n",
            " #   Column                             Non-Null Count  Dtype  \n",
            "---  ------                             --------------  -----  \n",
            " 0   Available Extra Rooms in Hospital  90000 non-null  int64  \n",
            " 1   Department                         90000 non-null  object \n",
            " 2   Ward_Facility_Code                 90000 non-null  object \n",
            " 3   doctor_name                        90000 non-null  object \n",
            " 4   staff_available                    90000 non-null  int64  \n",
            " 5   patientid                          90000 non-null  int64  \n",
            " 6   Age                                90000 non-null  object \n",
            " 7   gender                             90000 non-null  object \n",
            " 8   Type of Admission                  90000 non-null  object \n",
            " 9   Severity of Illness                90000 non-null  object \n",
            " 10  health_conditions                  90000 non-null  object \n",
            " 11  Visitors with Patient              90000 non-null  int64  \n",
            " 12  Insurance                          90000 non-null  object \n",
            " 13  Admission_Deposit                  90000 non-null  float64\n",
            "dtypes: float64(1), int64(4), object(9)\n",
            "memory usage: 9.6+ MB\n"
          ]
        }
      ],
      "source": [
        "df_test.info()"
      ]
    },
    {
      "cell_type": "code",
      "execution_count": null,
      "metadata": {
        "id": "P2tsqqPC6AB4",
        "outputId": "787db17a-9ad4-4728-dbb5-78f53a452d5e",
        "colab": {
          "base_uri": "https://localhost:8080/",
          "height": 300
        }
      },
      "outputs": [
        {
          "output_type": "execute_result",
          "data": {
            "text/plain": [
              "       Available Extra Rooms in Hospital  staff_available      patientid  \\\n",
              "count                      410000.000000    410000.000000  410000.000000   \n",
              "mean                            3.639376         5.020946   63095.940020   \n",
              "std                             2.701702         3.158018   41686.175937   \n",
              "min                             0.000000         0.000000   -3146.000000   \n",
              "25%                             2.000000         2.000000   25405.000000   \n",
              "50%                             3.000000         5.000000   57736.000000   \n",
              "75%                             4.000000         8.000000  103278.250000   \n",
              "max                            24.000000        10.000000  134400.000000   \n",
              "\n",
              "       Visitors with Patient  Admission_Deposit  Stay (in days)  \n",
              "count          410000.000000      410000.000000   410000.000000  \n",
              "mean                3.552520        4723.419239       12.378193  \n",
              "std                 2.247459        1047.420292        7.905618  \n",
              "min                 0.000000        1654.005148        3.000000  \n",
              "25%                 2.000000        4072.638351        8.000000  \n",
              "50%                 3.000000        4627.488745        9.000000  \n",
              "75%                 4.000000        5092.349430       11.000000  \n",
              "max                32.000000       10104.726390       51.000000  "
            ],
            "text/html": [
              "\n",
              "  <div id=\"df-00dfc0f6-a57e-4df7-9bde-223627869938\">\n",
              "    <div class=\"colab-df-container\">\n",
              "      <div>\n",
              "<style scoped>\n",
              "    .dataframe tbody tr th:only-of-type {\n",
              "        vertical-align: middle;\n",
              "    }\n",
              "\n",
              "    .dataframe tbody tr th {\n",
              "        vertical-align: top;\n",
              "    }\n",
              "\n",
              "    .dataframe thead th {\n",
              "        text-align: right;\n",
              "    }\n",
              "</style>\n",
              "<table border=\"1\" class=\"dataframe\">\n",
              "  <thead>\n",
              "    <tr style=\"text-align: right;\">\n",
              "      <th></th>\n",
              "      <th>Available Extra Rooms in Hospital</th>\n",
              "      <th>staff_available</th>\n",
              "      <th>patientid</th>\n",
              "      <th>Visitors with Patient</th>\n",
              "      <th>Admission_Deposit</th>\n",
              "      <th>Stay (in days)</th>\n",
              "    </tr>\n",
              "  </thead>\n",
              "  <tbody>\n",
              "    <tr>\n",
              "      <th>count</th>\n",
              "      <td>410000.000000</td>\n",
              "      <td>410000.000000</td>\n",
              "      <td>410000.000000</td>\n",
              "      <td>410000.000000</td>\n",
              "      <td>410000.000000</td>\n",
              "      <td>410000.000000</td>\n",
              "    </tr>\n",
              "    <tr>\n",
              "      <th>mean</th>\n",
              "      <td>3.639376</td>\n",
              "      <td>5.020946</td>\n",
              "      <td>63095.940020</td>\n",
              "      <td>3.552520</td>\n",
              "      <td>4723.419239</td>\n",
              "      <td>12.378193</td>\n",
              "    </tr>\n",
              "    <tr>\n",
              "      <th>std</th>\n",
              "      <td>2.701702</td>\n",
              "      <td>3.158018</td>\n",
              "      <td>41686.175937</td>\n",
              "      <td>2.247459</td>\n",
              "      <td>1047.420292</td>\n",
              "      <td>7.905618</td>\n",
              "    </tr>\n",
              "    <tr>\n",
              "      <th>min</th>\n",
              "      <td>0.000000</td>\n",
              "      <td>0.000000</td>\n",
              "      <td>-3146.000000</td>\n",
              "      <td>0.000000</td>\n",
              "      <td>1654.005148</td>\n",
              "      <td>3.000000</td>\n",
              "    </tr>\n",
              "    <tr>\n",
              "      <th>25%</th>\n",
              "      <td>2.000000</td>\n",
              "      <td>2.000000</td>\n",
              "      <td>25405.000000</td>\n",
              "      <td>2.000000</td>\n",
              "      <td>4072.638351</td>\n",
              "      <td>8.000000</td>\n",
              "    </tr>\n",
              "    <tr>\n",
              "      <th>50%</th>\n",
              "      <td>3.000000</td>\n",
              "      <td>5.000000</td>\n",
              "      <td>57736.000000</td>\n",
              "      <td>3.000000</td>\n",
              "      <td>4627.488745</td>\n",
              "      <td>9.000000</td>\n",
              "    </tr>\n",
              "    <tr>\n",
              "      <th>75%</th>\n",
              "      <td>4.000000</td>\n",
              "      <td>8.000000</td>\n",
              "      <td>103278.250000</td>\n",
              "      <td>4.000000</td>\n",
              "      <td>5092.349430</td>\n",
              "      <td>11.000000</td>\n",
              "    </tr>\n",
              "    <tr>\n",
              "      <th>max</th>\n",
              "      <td>24.000000</td>\n",
              "      <td>10.000000</td>\n",
              "      <td>134400.000000</td>\n",
              "      <td>32.000000</td>\n",
              "      <td>10104.726390</td>\n",
              "      <td>51.000000</td>\n",
              "    </tr>\n",
              "  </tbody>\n",
              "</table>\n",
              "</div>\n",
              "      <button class=\"colab-df-convert\" onclick=\"convertToInteractive('df-00dfc0f6-a57e-4df7-9bde-223627869938')\"\n",
              "              title=\"Convert this dataframe to an interactive table.\"\n",
              "              style=\"display:none;\">\n",
              "        \n",
              "  <svg xmlns=\"http://www.w3.org/2000/svg\" height=\"24px\"viewBox=\"0 0 24 24\"\n",
              "       width=\"24px\">\n",
              "    <path d=\"M0 0h24v24H0V0z\" fill=\"none\"/>\n",
              "    <path d=\"M18.56 5.44l.94 2.06.94-2.06 2.06-.94-2.06-.94-.94-2.06-.94 2.06-2.06.94zm-11 1L8.5 8.5l.94-2.06 2.06-.94-2.06-.94L8.5 2.5l-.94 2.06-2.06.94zm10 10l.94 2.06.94-2.06 2.06-.94-2.06-.94-.94-2.06-.94 2.06-2.06.94z\"/><path d=\"M17.41 7.96l-1.37-1.37c-.4-.4-.92-.59-1.43-.59-.52 0-1.04.2-1.43.59L10.3 9.45l-7.72 7.72c-.78.78-.78 2.05 0 2.83L4 21.41c.39.39.9.59 1.41.59.51 0 1.02-.2 1.41-.59l7.78-7.78 2.81-2.81c.8-.78.8-2.07 0-2.86zM5.41 20L4 18.59l7.72-7.72 1.47 1.35L5.41 20z\"/>\n",
              "  </svg>\n",
              "      </button>\n",
              "      \n",
              "  <style>\n",
              "    .colab-df-container {\n",
              "      display:flex;\n",
              "      flex-wrap:wrap;\n",
              "      gap: 12px;\n",
              "    }\n",
              "\n",
              "    .colab-df-convert {\n",
              "      background-color: #E8F0FE;\n",
              "      border: none;\n",
              "      border-radius: 50%;\n",
              "      cursor: pointer;\n",
              "      display: none;\n",
              "      fill: #1967D2;\n",
              "      height: 32px;\n",
              "      padding: 0 0 0 0;\n",
              "      width: 32px;\n",
              "    }\n",
              "\n",
              "    .colab-df-convert:hover {\n",
              "      background-color: #E2EBFA;\n",
              "      box-shadow: 0px 1px 2px rgba(60, 64, 67, 0.3), 0px 1px 3px 1px rgba(60, 64, 67, 0.15);\n",
              "      fill: #174EA6;\n",
              "    }\n",
              "\n",
              "    [theme=dark] .colab-df-convert {\n",
              "      background-color: #3B4455;\n",
              "      fill: #D2E3FC;\n",
              "    }\n",
              "\n",
              "    [theme=dark] .colab-df-convert:hover {\n",
              "      background-color: #434B5C;\n",
              "      box-shadow: 0px 1px 3px 1px rgba(0, 0, 0, 0.15);\n",
              "      filter: drop-shadow(0px 1px 2px rgba(0, 0, 0, 0.3));\n",
              "      fill: #FFFFFF;\n",
              "    }\n",
              "  </style>\n",
              "\n",
              "      <script>\n",
              "        const buttonEl =\n",
              "          document.querySelector('#df-00dfc0f6-a57e-4df7-9bde-223627869938 button.colab-df-convert');\n",
              "        buttonEl.style.display =\n",
              "          google.colab.kernel.accessAllowed ? 'block' : 'none';\n",
              "\n",
              "        async function convertToInteractive(key) {\n",
              "          const element = document.querySelector('#df-00dfc0f6-a57e-4df7-9bde-223627869938');\n",
              "          const dataTable =\n",
              "            await google.colab.kernel.invokeFunction('convertToInteractive',\n",
              "                                                     [key], {});\n",
              "          if (!dataTable) return;\n",
              "\n",
              "          const docLinkHtml = 'Like what you see? Visit the ' +\n",
              "            '<a target=\"_blank\" href=https://colab.research.google.com/notebooks/data_table.ipynb>data table notebook</a>'\n",
              "            + ' to learn more about interactive tables.';\n",
              "          element.innerHTML = '';\n",
              "          dataTable['output_type'] = 'display_data';\n",
              "          await google.colab.output.renderOutput(dataTable, element);\n",
              "          const docLink = document.createElement('div');\n",
              "          docLink.innerHTML = docLinkHtml;\n",
              "          element.appendChild(docLink);\n",
              "        }\n",
              "      </script>\n",
              "    </div>\n",
              "  </div>\n",
              "  "
            ]
          },
          "metadata": {},
          "execution_count": 92
        }
      ],
      "source": [
        "df_train.describe()"
      ]
    },
    {
      "cell_type": "code",
      "execution_count": null,
      "metadata": {
        "id": "jnH95SNu6AB4",
        "outputId": "c4e6880f-46d4-4bf5-878b-3aa0aeb31952",
        "colab": {
          "base_uri": "https://localhost:8080/",
          "height": 300
        }
      },
      "outputs": [
        {
          "output_type": "execute_result",
          "data": {
            "text/plain": [
              "       Available Extra Rooms in Hospital  staff_available      patientid  \\\n",
              "count                       90000.000000     90000.000000   90000.000000   \n",
              "mean                            3.636178         5.018300   63399.156900   \n",
              "std                             2.681778         3.158507   41703.856053   \n",
              "min                             0.000000         0.000000   -3269.000000   \n",
              "25%                             2.000000         2.000000   25633.000000   \n",
              "50%                             3.000000         5.000000   58469.000000   \n",
              "75%                             4.000000         8.000000  103812.500000   \n",
              "max                            24.000000        10.000000  134037.000000   \n",
              "\n",
              "       Visitors with Patient  Admission_Deposit  \n",
              "count           90000.000000       90000.000000  \n",
              "mean                3.535267        4717.288655  \n",
              "std                 2.211598        1046.877545  \n",
              "min                 0.000000        1710.212495  \n",
              "25%                 2.000000        4067.375540  \n",
              "50%                 3.000000        4624.372449  \n",
              "75%                 4.000000        5088.489369  \n",
              "max                32.000000        9872.650668  "
            ],
            "text/html": [
              "\n",
              "  <div id=\"df-677e6411-21c3-421d-9c9b-4a7f0a42a0eb\">\n",
              "    <div class=\"colab-df-container\">\n",
              "      <div>\n",
              "<style scoped>\n",
              "    .dataframe tbody tr th:only-of-type {\n",
              "        vertical-align: middle;\n",
              "    }\n",
              "\n",
              "    .dataframe tbody tr th {\n",
              "        vertical-align: top;\n",
              "    }\n",
              "\n",
              "    .dataframe thead th {\n",
              "        text-align: right;\n",
              "    }\n",
              "</style>\n",
              "<table border=\"1\" class=\"dataframe\">\n",
              "  <thead>\n",
              "    <tr style=\"text-align: right;\">\n",
              "      <th></th>\n",
              "      <th>Available Extra Rooms in Hospital</th>\n",
              "      <th>staff_available</th>\n",
              "      <th>patientid</th>\n",
              "      <th>Visitors with Patient</th>\n",
              "      <th>Admission_Deposit</th>\n",
              "    </tr>\n",
              "  </thead>\n",
              "  <tbody>\n",
              "    <tr>\n",
              "      <th>count</th>\n",
              "      <td>90000.000000</td>\n",
              "      <td>90000.000000</td>\n",
              "      <td>90000.000000</td>\n",
              "      <td>90000.000000</td>\n",
              "      <td>90000.000000</td>\n",
              "    </tr>\n",
              "    <tr>\n",
              "      <th>mean</th>\n",
              "      <td>3.636178</td>\n",
              "      <td>5.018300</td>\n",
              "      <td>63399.156900</td>\n",
              "      <td>3.535267</td>\n",
              "      <td>4717.288655</td>\n",
              "    </tr>\n",
              "    <tr>\n",
              "      <th>std</th>\n",
              "      <td>2.681778</td>\n",
              "      <td>3.158507</td>\n",
              "      <td>41703.856053</td>\n",
              "      <td>2.211598</td>\n",
              "      <td>1046.877545</td>\n",
              "    </tr>\n",
              "    <tr>\n",
              "      <th>min</th>\n",
              "      <td>0.000000</td>\n",
              "      <td>0.000000</td>\n",
              "      <td>-3269.000000</td>\n",
              "      <td>0.000000</td>\n",
              "      <td>1710.212495</td>\n",
              "    </tr>\n",
              "    <tr>\n",
              "      <th>25%</th>\n",
              "      <td>2.000000</td>\n",
              "      <td>2.000000</td>\n",
              "      <td>25633.000000</td>\n",
              "      <td>2.000000</td>\n",
              "      <td>4067.375540</td>\n",
              "    </tr>\n",
              "    <tr>\n",
              "      <th>50%</th>\n",
              "      <td>3.000000</td>\n",
              "      <td>5.000000</td>\n",
              "      <td>58469.000000</td>\n",
              "      <td>3.000000</td>\n",
              "      <td>4624.372449</td>\n",
              "    </tr>\n",
              "    <tr>\n",
              "      <th>75%</th>\n",
              "      <td>4.000000</td>\n",
              "      <td>8.000000</td>\n",
              "      <td>103812.500000</td>\n",
              "      <td>4.000000</td>\n",
              "      <td>5088.489369</td>\n",
              "    </tr>\n",
              "    <tr>\n",
              "      <th>max</th>\n",
              "      <td>24.000000</td>\n",
              "      <td>10.000000</td>\n",
              "      <td>134037.000000</td>\n",
              "      <td>32.000000</td>\n",
              "      <td>9872.650668</td>\n",
              "    </tr>\n",
              "  </tbody>\n",
              "</table>\n",
              "</div>\n",
              "      <button class=\"colab-df-convert\" onclick=\"convertToInteractive('df-677e6411-21c3-421d-9c9b-4a7f0a42a0eb')\"\n",
              "              title=\"Convert this dataframe to an interactive table.\"\n",
              "              style=\"display:none;\">\n",
              "        \n",
              "  <svg xmlns=\"http://www.w3.org/2000/svg\" height=\"24px\"viewBox=\"0 0 24 24\"\n",
              "       width=\"24px\">\n",
              "    <path d=\"M0 0h24v24H0V0z\" fill=\"none\"/>\n",
              "    <path d=\"M18.56 5.44l.94 2.06.94-2.06 2.06-.94-2.06-.94-.94-2.06-.94 2.06-2.06.94zm-11 1L8.5 8.5l.94-2.06 2.06-.94-2.06-.94L8.5 2.5l-.94 2.06-2.06.94zm10 10l.94 2.06.94-2.06 2.06-.94-2.06-.94-.94-2.06-.94 2.06-2.06.94z\"/><path d=\"M17.41 7.96l-1.37-1.37c-.4-.4-.92-.59-1.43-.59-.52 0-1.04.2-1.43.59L10.3 9.45l-7.72 7.72c-.78.78-.78 2.05 0 2.83L4 21.41c.39.39.9.59 1.41.59.51 0 1.02-.2 1.41-.59l7.78-7.78 2.81-2.81c.8-.78.8-2.07 0-2.86zM5.41 20L4 18.59l7.72-7.72 1.47 1.35L5.41 20z\"/>\n",
              "  </svg>\n",
              "      </button>\n",
              "      \n",
              "  <style>\n",
              "    .colab-df-container {\n",
              "      display:flex;\n",
              "      flex-wrap:wrap;\n",
              "      gap: 12px;\n",
              "    }\n",
              "\n",
              "    .colab-df-convert {\n",
              "      background-color: #E8F0FE;\n",
              "      border: none;\n",
              "      border-radius: 50%;\n",
              "      cursor: pointer;\n",
              "      display: none;\n",
              "      fill: #1967D2;\n",
              "      height: 32px;\n",
              "      padding: 0 0 0 0;\n",
              "      width: 32px;\n",
              "    }\n",
              "\n",
              "    .colab-df-convert:hover {\n",
              "      background-color: #E2EBFA;\n",
              "      box-shadow: 0px 1px 2px rgba(60, 64, 67, 0.3), 0px 1px 3px 1px rgba(60, 64, 67, 0.15);\n",
              "      fill: #174EA6;\n",
              "    }\n",
              "\n",
              "    [theme=dark] .colab-df-convert {\n",
              "      background-color: #3B4455;\n",
              "      fill: #D2E3FC;\n",
              "    }\n",
              "\n",
              "    [theme=dark] .colab-df-convert:hover {\n",
              "      background-color: #434B5C;\n",
              "      box-shadow: 0px 1px 3px 1px rgba(0, 0, 0, 0.15);\n",
              "      filter: drop-shadow(0px 1px 2px rgba(0, 0, 0, 0.3));\n",
              "      fill: #FFFFFF;\n",
              "    }\n",
              "  </style>\n",
              "\n",
              "      <script>\n",
              "        const buttonEl =\n",
              "          document.querySelector('#df-677e6411-21c3-421d-9c9b-4a7f0a42a0eb button.colab-df-convert');\n",
              "        buttonEl.style.display =\n",
              "          google.colab.kernel.accessAllowed ? 'block' : 'none';\n",
              "\n",
              "        async function convertToInteractive(key) {\n",
              "          const element = document.querySelector('#df-677e6411-21c3-421d-9c9b-4a7f0a42a0eb');\n",
              "          const dataTable =\n",
              "            await google.colab.kernel.invokeFunction('convertToInteractive',\n",
              "                                                     [key], {});\n",
              "          if (!dataTable) return;\n",
              "\n",
              "          const docLinkHtml = 'Like what you see? Visit the ' +\n",
              "            '<a target=\"_blank\" href=https://colab.research.google.com/notebooks/data_table.ipynb>data table notebook</a>'\n",
              "            + ' to learn more about interactive tables.';\n",
              "          element.innerHTML = '';\n",
              "          dataTable['output_type'] = 'display_data';\n",
              "          await google.colab.output.renderOutput(dataTable, element);\n",
              "          const docLink = document.createElement('div');\n",
              "          docLink.innerHTML = docLinkHtml;\n",
              "          element.appendChild(docLink);\n",
              "        }\n",
              "      </script>\n",
              "    </div>\n",
              "  </div>\n",
              "  "
            ]
          },
          "metadata": {},
          "execution_count": 93
        }
      ],
      "source": [
        "df_test.describe()"
      ]
    },
    {
      "cell_type": "markdown",
      "metadata": {
        "id": "lwm_b6k36AB4"
      },
      "source": [
        "Analisis por Columnas"
      ]
    },
    {
      "cell_type": "code",
      "execution_count": null,
      "metadata": {
        "id": "kXD-huOP6AB4",
        "outputId": "17e1280d-bc3f-4881-cbff-69d3080cbdad",
        "colab": {
          "base_uri": "https://localhost:8080/"
        }
      },
      "outputs": [
        {
          "output_type": "execute_result",
          "data": {
            "text/plain": [
              "3     29.0\n",
              "2     28.0\n",
              "4     23.0\n",
              "5     10.0\n",
              "6      3.0\n",
              "1      2.0\n",
              "7      1.0\n",
              "12     1.0\n",
              "24     1.0\n",
              "21     0.0\n",
              "13     0.0\n",
              "8      0.0\n",
              "11     0.0\n",
              "0      0.0\n",
              "10     0.0\n",
              "14     0.0\n",
              "20     0.0\n",
              "9      0.0\n",
              "Name: Available Extra Rooms in Hospital, dtype: float64"
            ]
          },
          "metadata": {},
          "execution_count": 94
        }
      ],
      "source": [
        "round((((df_train['Available Extra Rooms in Hospital'].value_counts())/410000)*100),0)"
      ]
    },
    {
      "cell_type": "code",
      "execution_count": null,
      "metadata": {
        "id": "_6JSlNI16AB5",
        "outputId": "fdd2cd2a-ed40-42c1-b2ec-0dc050ea95ff",
        "colab": {
          "base_uri": "https://localhost:8080/"
        }
      },
      "outputs": [
        {
          "output_type": "execute_result",
          "data": {
            "text/plain": [
              "gynecology            69.0\n",
              "radiotherapy          17.0\n",
              "anesthesia             9.0\n",
              "TB & Chest disease     5.0\n",
              "surgery                1.0\n",
              "Name: Department, dtype: float64"
            ]
          },
          "metadata": {},
          "execution_count": 95
        }
      ],
      "source": [
        "round((((df_train['Department'].value_counts())/410000)*100),0)"
      ]
    },
    {
      "cell_type": "code",
      "execution_count": null,
      "metadata": {
        "id": "xMOM5EeJ6AB5",
        "outputId": "fd280f5d-9261-4c9f-f0cb-0b9c804cbc42",
        "colab": {
          "base_uri": "https://localhost:8080/"
        }
      },
      "outputs": [
        {
          "output_type": "execute_result",
          "data": {
            "text/plain": [
              "Dr Olivia    21.0\n",
              "Dr Sarah     19.0\n",
              "Dr Nathan    15.0\n",
              "Dr Sophia    13.0\n",
              "Dr Sam       12.0\n",
              "Dr Mark      10.0\n",
              "Dr John       8.0\n",
              "Dr Isaac      1.0\n",
              "Dr Simon      0.0\n",
              "Name: doctor_name, dtype: float64"
            ]
          },
          "metadata": {},
          "execution_count": 96
        }
      ],
      "source": [
        "round((((df_train['doctor_name'].value_counts())/410000)*100))"
      ]
    },
    {
      "cell_type": "code",
      "execution_count": null,
      "metadata": {
        "id": "HZoACtyC6AB5",
        "outputId": "6a7303e0-45d1-449e-cd60-cc3cea2e47c6",
        "colab": {
          "base_uri": "https://localhost:8080/"
        }
      },
      "outputs": [
        {
          "output_type": "execute_result",
          "data": {
            "text/plain": [
              "6     9.0\n",
              "10    9.0\n",
              "7     9.0\n",
              "3     9.0\n",
              "9     9.0\n",
              "8     9.0\n",
              "4     9.0\n",
              "5     9.0\n",
              "0     9.0\n",
              "1     9.0\n",
              "2     9.0\n",
              "Name: staff_available, dtype: float64"
            ]
          },
          "metadata": {},
          "execution_count": 97
        }
      ],
      "source": [
        "round((((df_train['staff_available'].value_counts())/410000)*100))"
      ]
    },
    {
      "cell_type": "code",
      "execution_count": null,
      "metadata": {
        "id": "ZzLA7x0z6AB5",
        "outputId": "32f6083e-d42c-4445-feb5-7f71d5c4382b",
        "colab": {
          "base_uri": "https://localhost:8080/"
        }
      },
      "outputs": [
        {
          "output_type": "execute_result",
          "data": {
            "text/plain": [
              "21-30     33.0\n",
              "31-40     26.0\n",
              "41-50     16.0\n",
              "11-20      9.0\n",
              "61-70      5.0\n",
              "51-60      4.0\n",
              "71-80      4.0\n",
              "81-90      2.0\n",
              "0-10       1.0\n",
              "91-100     0.0\n",
              "Name: Age, dtype: float64"
            ]
          },
          "metadata": {},
          "execution_count": 98
        }
      ],
      "source": [
        "round((((df_train['Age'].value_counts())/410000)*100))"
      ]
    },
    {
      "cell_type": "code",
      "execution_count": null,
      "metadata": {
        "id": "ni2zLvWW6AB5",
        "outputId": "4f69e223-c4e6-4b53-85a9-b70013d4ed34",
        "colab": {
          "base_uri": "https://localhost:8080/"
        }
      },
      "outputs": [
        {
          "output_type": "execute_result",
          "data": {
            "text/plain": [
              "Female    73.0\n",
              "Male      23.0\n",
              "Other      4.0\n",
              "Name: gender, dtype: float64"
            ]
          },
          "metadata": {},
          "execution_count": 99
        }
      ],
      "source": [
        "round((((df_train['gender'].value_counts())/410000)*100))"
      ]
    },
    {
      "cell_type": "code",
      "execution_count": null,
      "metadata": {
        "id": "dkmqUqCv6AB6",
        "outputId": "02ebf79d-6963-43d3-ce79-7447d338f26b",
        "colab": {
          "base_uri": "https://localhost:8080/"
        }
      },
      "outputs": [
        {
          "output_type": "execute_result",
          "data": {
            "text/plain": [
              "Trauma       62.0\n",
              "Emergency    27.0\n",
              "Urgent       11.0\n",
              "Name: Type of Admission, dtype: float64"
            ]
          },
          "metadata": {},
          "execution_count": 100
        }
      ],
      "source": [
        "round((((df_train['Type of Admission'].value_counts())/410000)*100))"
      ]
    },
    {
      "cell_type": "code",
      "execution_count": null,
      "metadata": {
        "id": "DwhL6WOf6AB6",
        "outputId": "d921b759-45dc-4292-cf44-6a2298d85c95",
        "colab": {
          "base_uri": "https://localhost:8080/"
        }
      },
      "outputs": [
        {
          "output_type": "execute_result",
          "data": {
            "text/plain": [
              "Moderate    56.0\n",
              "Minor       26.0\n",
              "Extreme     17.0\n",
              "Name: Severity of Illness, dtype: float64"
            ]
          },
          "metadata": {},
          "execution_count": 101
        }
      ],
      "source": [
        "round((((df_train['Severity of Illness'].value_counts())/410000)*100))"
      ]
    },
    {
      "cell_type": "code",
      "execution_count": null,
      "metadata": {
        "id": "HVHMG9Rz6AB6",
        "outputId": "df9e9254-a1b6-456d-8339-686e762cd9c0",
        "colab": {
          "base_uri": "https://localhost:8080/"
        }
      },
      "outputs": [
        {
          "output_type": "execute_result",
          "data": {
            "text/plain": [
              "None                   33.0\n",
              "Other                  19.0\n",
              "High Blood Pressure    16.0\n",
              "Diabetes               14.0\n",
              "Asthama                12.0\n",
              "Heart disease           5.0\n",
              "Name: health_conditions, dtype: float64"
            ]
          },
          "metadata": {},
          "execution_count": 102
        }
      ],
      "source": [
        "round((((df_train['health_conditions'].value_counts())/410000)*100))"
      ]
    },
    {
      "cell_type": "code",
      "execution_count": null,
      "metadata": {
        "id": "r2ZCFccz6AB6",
        "outputId": "60828c21-6b18-4ac5-c620-f8bc172dd811",
        "colab": {
          "base_uri": "https://localhost:8080/"
        }
      },
      "outputs": [
        {
          "output_type": "execute_result",
          "data": {
            "text/plain": [
              "2     41.0\n",
              "4     35.0\n",
              "3     11.0\n",
              "6      5.0\n",
              "5      2.0\n",
              "8      2.0\n",
              "7      1.0\n",
              "9      1.0\n",
              "10     1.0\n",
              "12     1.0\n",
              "14     0.0\n",
              "1      0.0\n",
              "11     0.0\n",
              "13     0.0\n",
              "0      0.0\n",
              "15     0.0\n",
              "16     0.0\n",
              "24     0.0\n",
              "20     0.0\n",
              "19     0.0\n",
              "22     0.0\n",
              "18     0.0\n",
              "17     0.0\n",
              "23     0.0\n",
              "32     0.0\n",
              "21     0.0\n",
              "25     0.0\n",
              "30     0.0\n",
              "Name: Visitors with Patient, dtype: float64"
            ]
          },
          "metadata": {},
          "execution_count": 103
        }
      ],
      "source": [
        "round((((df_train['Visitors with Patient'].value_counts())/410000)*100))"
      ]
    },
    {
      "cell_type": "code",
      "execution_count": null,
      "metadata": {
        "id": "K8rF3Qj96AB6",
        "outputId": "32e6b2dc-f758-46ba-97dd-c20e04652ce6",
        "colab": {
          "base_uri": "https://localhost:8080/"
        }
      },
      "outputs": [
        {
          "output_type": "execute_result",
          "data": {
            "text/plain": [
              "Yes    83.0\n",
              "No     17.0\n",
              "Name: Insurance, dtype: float64"
            ]
          },
          "metadata": {},
          "execution_count": 104
        }
      ],
      "source": [
        "round((((df_train['Insurance'].value_counts())/410000)*100))"
      ]
    },
    {
      "cell_type": "code",
      "execution_count": null,
      "metadata": {
        "id": "KamjfRv96AB6",
        "outputId": "5250e42f-513f-4ba0-cd2f-b57800104f4f",
        "colab": {
          "base_uri": "https://localhost:8080/"
        }
      },
      "outputs": [
        {
          "output_type": "execute_result",
          "data": {
            "text/plain": [
              "4735.103575    0.0\n",
              "4309.102793    0.0\n",
              "4422.538518    0.0\n",
              "3890.540820    0.0\n",
              "4631.568040    0.0\n",
              "              ... \n",
              "3597.749816    0.0\n",
              "3599.941284    0.0\n",
              "4701.460052    0.0\n",
              "6424.548269    0.0\n",
              "4329.046412    0.0\n",
              "Name: Admission_Deposit, Length: 409682, dtype: float64"
            ]
          },
          "metadata": {},
          "execution_count": 105
        }
      ],
      "source": [
        "round((((df_train['Admission_Deposit'].value_counts())/410000)*100))"
      ]
    },
    {
      "cell_type": "code",
      "execution_count": null,
      "metadata": {
        "id": "rl5qNFuR6AB6",
        "outputId": "7885485a-8137-405b-c1d7-f2735aa8c3b1",
        "colab": {
          "base_uri": "https://localhost:8080/"
        }
      },
      "outputs": [
        {
          "output_type": "execute_result",
          "data": {
            "text/plain": [
              "1654.005148"
            ]
          },
          "metadata": {},
          "execution_count": 106
        }
      ],
      "source": [
        "df_train['Admission_Deposit'].min()"
      ]
    },
    {
      "cell_type": "code",
      "execution_count": null,
      "metadata": {
        "id": "6_o5X43_6AB7",
        "outputId": "77085c5f-1670-4955-a764-18a42fdf6525",
        "colab": {
          "base_uri": "https://localhost:8080/"
        }
      },
      "outputs": [
        {
          "output_type": "execute_result",
          "data": {
            "text/plain": [
              "10104.72639"
            ]
          },
          "metadata": {},
          "execution_count": 107
        }
      ],
      "source": [
        "df_train['Admission_Deposit'].max()"
      ]
    },
    {
      "cell_type": "code",
      "execution_count": null,
      "metadata": {
        "id": "vqWMhuMC6AB7",
        "outputId": "980ec619-70f9-4b60-9387-5ec6cc169218",
        "colab": {
          "base_uri": "https://localhost:8080/"
        }
      },
      "outputs": [
        {
          "output_type": "execute_result",
          "data": {
            "text/plain": [
              "9     25.0\n",
              "8     23.0\n",
              "10    11.0\n",
              "7      8.0\n",
              "6      4.0\n",
              "11     3.0\n",
              "5      2.0\n",
              "22     2.0\n",
              "23     2.0\n",
              "24     2.0\n",
              "21     2.0\n",
              "25     1.0\n",
              "20     1.0\n",
              "26     1.0\n",
              "19     1.0\n",
              "18     1.0\n",
              "27     1.0\n",
              "28     1.0\n",
              "29     1.0\n",
              "17     1.0\n",
              "32     1.0\n",
              "30     1.0\n",
              "31     1.0\n",
              "12     1.0\n",
              "33     1.0\n",
              "34     1.0\n",
              "16     1.0\n",
              "35     1.0\n",
              "36     0.0\n",
              "37     0.0\n",
              "15     0.0\n",
              "13     0.0\n",
              "38     0.0\n",
              "14     0.0\n",
              "4      0.0\n",
              "39     0.0\n",
              "40     0.0\n",
              "41     0.0\n",
              "42     0.0\n",
              "43     0.0\n",
              "44     0.0\n",
              "45     0.0\n",
              "46     0.0\n",
              "47     0.0\n",
              "48     0.0\n",
              "3      0.0\n",
              "49     0.0\n",
              "50     0.0\n",
              "51     0.0\n",
              "Name: Stay (in days), dtype: float64"
            ]
          },
          "metadata": {},
          "execution_count": 108
        }
      ],
      "source": [
        "round((((df_train['Stay (in days)'].value_counts())/410000)*100))"
      ]
    },
    {
      "cell_type": "code",
      "execution_count": null,
      "metadata": {
        "id": "927z_SCP6AB7",
        "outputId": "d7dcd119-f5e1-4f5a-fa92-041db8dc7799",
        "colab": {
          "base_uri": "https://localhost:8080/"
        }
      },
      "outputs": [
        {
          "output_type": "execute_result",
          "data": {
            "text/plain": [
              "3"
            ]
          },
          "metadata": {},
          "execution_count": 109
        }
      ],
      "source": [
        "df_train['Stay (in days)'].min()"
      ]
    },
    {
      "cell_type": "code",
      "execution_count": null,
      "metadata": {
        "id": "QmdQi_oB6AB7",
        "outputId": "d2f2a9b3-789d-46b6-a58d-0afd6a9b5716",
        "colab": {
          "base_uri": "https://localhost:8080/"
        }
      },
      "outputs": [
        {
          "output_type": "execute_result",
          "data": {
            "text/plain": [
              "51"
            ]
          },
          "metadata": {},
          "execution_count": 110
        }
      ],
      "source": [
        "df_train['Stay (in days)'].max()"
      ]
    },
    {
      "cell_type": "markdown",
      "metadata": {
        "id": "ZvH-qvbY6AB7"
      },
      "source": [
        "Cambio de la columna label a categórica"
      ]
    },
    {
      "cell_type": "code",
      "execution_count": null,
      "metadata": {
        "id": "Uc4B6vyE6AB7"
      },
      "outputs": [],
      "source": [
        "df=df_train.copy()"
      ]
    },
    {
      "cell_type": "code",
      "execution_count": null,
      "metadata": {
        "id": "o2rEXNOm6AB7"
      },
      "outputs": [],
      "source": [
        "def transf_label(df):\n",
        "    lista_dias=df['Stay (in days)']\n",
        "    lista_estancia=[]\n",
        "    for i in lista_dias:\n",
        "        if i <=8: \n",
        "            i=0\n",
        "        elif i>8:\n",
        "            i=1\n",
        "        lista_estancia.append(i)\n",
        "    array_estancia=np.array(lista_estancia)\n",
        "    array_estancia.reshape(1,-1)\n",
        "    array_estancia.shape\n",
        "    df['estancia']=array_estancia\n",
        "    df.drop(columns=['Stay (in days)'], inplace=True)\n",
        "    return df\n"
      ]
    },
    {
      "cell_type": "code",
      "execution_count": null,
      "metadata": {
        "id": "IFMyTeWq6AB8",
        "outputId": "88a55463-63e0-4871-a96e-775549ad8c7c",
        "colab": {
          "base_uri": "https://localhost:8080/",
          "height": 713
        }
      },
      "outputs": [
        {
          "output_type": "execute_result",
          "data": {
            "text/plain": [
              "        Available Extra Rooms in Hospital  Department Ward_Facility_Code  \\\n",
              "0                                       4  gynecology                  D   \n",
              "1                                       4  gynecology                  B   \n",
              "2                                       2  gynecology                  B   \n",
              "3                                       4  gynecology                  D   \n",
              "4                                       2  anesthesia                  E   \n",
              "...                                   ...         ...                ...   \n",
              "409995                                  1  gynecology                  D   \n",
              "409996                                  5  gynecology                  D   \n",
              "409997                                  4  gynecology                  D   \n",
              "409998                                 10  gynecology                  D   \n",
              "409999                                  3  gynecology                  F   \n",
              "\n",
              "       doctor_name  staff_available  patientid    Age  gender  \\\n",
              "0        Dr Sophia                0      33070  41-50  Female   \n",
              "1        Dr Sophia                2      34808  31-40  Female   \n",
              "2        Dr Sophia                8      44577  21-30  Female   \n",
              "3        Dr Olivia                7       3695  31-40  Female   \n",
              "4          Dr Mark               10     108956  71-80    Male   \n",
              "...            ...              ...        ...    ...     ...   \n",
              "409995    Dr Sarah                1      63105  31-40  Female   \n",
              "409996   Dr Nathan                5     129292  21-30  Female   \n",
              "409997    Dr Sarah                9      11399  21-30  Female   \n",
              "409998   Dr Olivia               10      75003  21-30  Female   \n",
              "409999   Dr Nathan                0     128183  41-50  Female   \n",
              "\n",
              "       Type of Admission Severity of Illness health_conditions  \\\n",
              "0                 Trauma             Extreme          Diabetes   \n",
              "1                 Trauma               Minor     Heart disease   \n",
              "2                 Trauma             Extreme          Diabetes   \n",
              "3                 Urgent            Moderate              None   \n",
              "4                 Trauma            Moderate          Diabetes   \n",
              "...                  ...                 ...               ...   \n",
              "409995            Trauma               Minor           Asthama   \n",
              "409996            Trauma             Extreme             Other   \n",
              "409997         Emergency               Minor           Asthama   \n",
              "409998            Trauma            Moderate             Other   \n",
              "409999            Trauma               Minor             Other   \n",
              "\n",
              "        Visitors with Patient Insurance  Admission_Deposit  estancia  \n",
              "0                           4       Yes        2966.408696         0  \n",
              "1                           2        No        3554.835677         1  \n",
              "2                           2       Yes        5624.733654         0  \n",
              "3                           4        No        4814.149231         0  \n",
              "4                           2        No        5169.269637         1  \n",
              "...                       ...       ...                ...       ...  \n",
              "409995                      3       Yes        3902.291076         0  \n",
              "409996                      4        No        4771.995223         1  \n",
              "409997                      4       Yes        3816.994210         1  \n",
              "409998                      2       Yes        3841.577491         1  \n",
              "409999                      8       Yes        4329.046412         0  \n",
              "\n",
              "[410000 rows x 15 columns]"
            ],
            "text/html": [
              "\n",
              "  <div id=\"df-4dec1214-3199-4e56-a789-ca1335aa66a6\">\n",
              "    <div class=\"colab-df-container\">\n",
              "      <div>\n",
              "<style scoped>\n",
              "    .dataframe tbody tr th:only-of-type {\n",
              "        vertical-align: middle;\n",
              "    }\n",
              "\n",
              "    .dataframe tbody tr th {\n",
              "        vertical-align: top;\n",
              "    }\n",
              "\n",
              "    .dataframe thead th {\n",
              "        text-align: right;\n",
              "    }\n",
              "</style>\n",
              "<table border=\"1\" class=\"dataframe\">\n",
              "  <thead>\n",
              "    <tr style=\"text-align: right;\">\n",
              "      <th></th>\n",
              "      <th>Available Extra Rooms in Hospital</th>\n",
              "      <th>Department</th>\n",
              "      <th>Ward_Facility_Code</th>\n",
              "      <th>doctor_name</th>\n",
              "      <th>staff_available</th>\n",
              "      <th>patientid</th>\n",
              "      <th>Age</th>\n",
              "      <th>gender</th>\n",
              "      <th>Type of Admission</th>\n",
              "      <th>Severity of Illness</th>\n",
              "      <th>health_conditions</th>\n",
              "      <th>Visitors with Patient</th>\n",
              "      <th>Insurance</th>\n",
              "      <th>Admission_Deposit</th>\n",
              "      <th>estancia</th>\n",
              "    </tr>\n",
              "  </thead>\n",
              "  <tbody>\n",
              "    <tr>\n",
              "      <th>0</th>\n",
              "      <td>4</td>\n",
              "      <td>gynecology</td>\n",
              "      <td>D</td>\n",
              "      <td>Dr Sophia</td>\n",
              "      <td>0</td>\n",
              "      <td>33070</td>\n",
              "      <td>41-50</td>\n",
              "      <td>Female</td>\n",
              "      <td>Trauma</td>\n",
              "      <td>Extreme</td>\n",
              "      <td>Diabetes</td>\n",
              "      <td>4</td>\n",
              "      <td>Yes</td>\n",
              "      <td>2966.408696</td>\n",
              "      <td>0</td>\n",
              "    </tr>\n",
              "    <tr>\n",
              "      <th>1</th>\n",
              "      <td>4</td>\n",
              "      <td>gynecology</td>\n",
              "      <td>B</td>\n",
              "      <td>Dr Sophia</td>\n",
              "      <td>2</td>\n",
              "      <td>34808</td>\n",
              "      <td>31-40</td>\n",
              "      <td>Female</td>\n",
              "      <td>Trauma</td>\n",
              "      <td>Minor</td>\n",
              "      <td>Heart disease</td>\n",
              "      <td>2</td>\n",
              "      <td>No</td>\n",
              "      <td>3554.835677</td>\n",
              "      <td>1</td>\n",
              "    </tr>\n",
              "    <tr>\n",
              "      <th>2</th>\n",
              "      <td>2</td>\n",
              "      <td>gynecology</td>\n",
              "      <td>B</td>\n",
              "      <td>Dr Sophia</td>\n",
              "      <td>8</td>\n",
              "      <td>44577</td>\n",
              "      <td>21-30</td>\n",
              "      <td>Female</td>\n",
              "      <td>Trauma</td>\n",
              "      <td>Extreme</td>\n",
              "      <td>Diabetes</td>\n",
              "      <td>2</td>\n",
              "      <td>Yes</td>\n",
              "      <td>5624.733654</td>\n",
              "      <td>0</td>\n",
              "    </tr>\n",
              "    <tr>\n",
              "      <th>3</th>\n",
              "      <td>4</td>\n",
              "      <td>gynecology</td>\n",
              "      <td>D</td>\n",
              "      <td>Dr Olivia</td>\n",
              "      <td>7</td>\n",
              "      <td>3695</td>\n",
              "      <td>31-40</td>\n",
              "      <td>Female</td>\n",
              "      <td>Urgent</td>\n",
              "      <td>Moderate</td>\n",
              "      <td>None</td>\n",
              "      <td>4</td>\n",
              "      <td>No</td>\n",
              "      <td>4814.149231</td>\n",
              "      <td>0</td>\n",
              "    </tr>\n",
              "    <tr>\n",
              "      <th>4</th>\n",
              "      <td>2</td>\n",
              "      <td>anesthesia</td>\n",
              "      <td>E</td>\n",
              "      <td>Dr Mark</td>\n",
              "      <td>10</td>\n",
              "      <td>108956</td>\n",
              "      <td>71-80</td>\n",
              "      <td>Male</td>\n",
              "      <td>Trauma</td>\n",
              "      <td>Moderate</td>\n",
              "      <td>Diabetes</td>\n",
              "      <td>2</td>\n",
              "      <td>No</td>\n",
              "      <td>5169.269637</td>\n",
              "      <td>1</td>\n",
              "    </tr>\n",
              "    <tr>\n",
              "      <th>...</th>\n",
              "      <td>...</td>\n",
              "      <td>...</td>\n",
              "      <td>...</td>\n",
              "      <td>...</td>\n",
              "      <td>...</td>\n",
              "      <td>...</td>\n",
              "      <td>...</td>\n",
              "      <td>...</td>\n",
              "      <td>...</td>\n",
              "      <td>...</td>\n",
              "      <td>...</td>\n",
              "      <td>...</td>\n",
              "      <td>...</td>\n",
              "      <td>...</td>\n",
              "      <td>...</td>\n",
              "    </tr>\n",
              "    <tr>\n",
              "      <th>409995</th>\n",
              "      <td>1</td>\n",
              "      <td>gynecology</td>\n",
              "      <td>D</td>\n",
              "      <td>Dr Sarah</td>\n",
              "      <td>1</td>\n",
              "      <td>63105</td>\n",
              "      <td>31-40</td>\n",
              "      <td>Female</td>\n",
              "      <td>Trauma</td>\n",
              "      <td>Minor</td>\n",
              "      <td>Asthama</td>\n",
              "      <td>3</td>\n",
              "      <td>Yes</td>\n",
              "      <td>3902.291076</td>\n",
              "      <td>0</td>\n",
              "    </tr>\n",
              "    <tr>\n",
              "      <th>409996</th>\n",
              "      <td>5</td>\n",
              "      <td>gynecology</td>\n",
              "      <td>D</td>\n",
              "      <td>Dr Nathan</td>\n",
              "      <td>5</td>\n",
              "      <td>129292</td>\n",
              "      <td>21-30</td>\n",
              "      <td>Female</td>\n",
              "      <td>Trauma</td>\n",
              "      <td>Extreme</td>\n",
              "      <td>Other</td>\n",
              "      <td>4</td>\n",
              "      <td>No</td>\n",
              "      <td>4771.995223</td>\n",
              "      <td>1</td>\n",
              "    </tr>\n",
              "    <tr>\n",
              "      <th>409997</th>\n",
              "      <td>4</td>\n",
              "      <td>gynecology</td>\n",
              "      <td>D</td>\n",
              "      <td>Dr Sarah</td>\n",
              "      <td>9</td>\n",
              "      <td>11399</td>\n",
              "      <td>21-30</td>\n",
              "      <td>Female</td>\n",
              "      <td>Emergency</td>\n",
              "      <td>Minor</td>\n",
              "      <td>Asthama</td>\n",
              "      <td>4</td>\n",
              "      <td>Yes</td>\n",
              "      <td>3816.994210</td>\n",
              "      <td>1</td>\n",
              "    </tr>\n",
              "    <tr>\n",
              "      <th>409998</th>\n",
              "      <td>10</td>\n",
              "      <td>gynecology</td>\n",
              "      <td>D</td>\n",
              "      <td>Dr Olivia</td>\n",
              "      <td>10</td>\n",
              "      <td>75003</td>\n",
              "      <td>21-30</td>\n",
              "      <td>Female</td>\n",
              "      <td>Trauma</td>\n",
              "      <td>Moderate</td>\n",
              "      <td>Other</td>\n",
              "      <td>2</td>\n",
              "      <td>Yes</td>\n",
              "      <td>3841.577491</td>\n",
              "      <td>1</td>\n",
              "    </tr>\n",
              "    <tr>\n",
              "      <th>409999</th>\n",
              "      <td>3</td>\n",
              "      <td>gynecology</td>\n",
              "      <td>F</td>\n",
              "      <td>Dr Nathan</td>\n",
              "      <td>0</td>\n",
              "      <td>128183</td>\n",
              "      <td>41-50</td>\n",
              "      <td>Female</td>\n",
              "      <td>Trauma</td>\n",
              "      <td>Minor</td>\n",
              "      <td>Other</td>\n",
              "      <td>8</td>\n",
              "      <td>Yes</td>\n",
              "      <td>4329.046412</td>\n",
              "      <td>0</td>\n",
              "    </tr>\n",
              "  </tbody>\n",
              "</table>\n",
              "<p>410000 rows × 15 columns</p>\n",
              "</div>\n",
              "      <button class=\"colab-df-convert\" onclick=\"convertToInteractive('df-4dec1214-3199-4e56-a789-ca1335aa66a6')\"\n",
              "              title=\"Convert this dataframe to an interactive table.\"\n",
              "              style=\"display:none;\">\n",
              "        \n",
              "  <svg xmlns=\"http://www.w3.org/2000/svg\" height=\"24px\"viewBox=\"0 0 24 24\"\n",
              "       width=\"24px\">\n",
              "    <path d=\"M0 0h24v24H0V0z\" fill=\"none\"/>\n",
              "    <path d=\"M18.56 5.44l.94 2.06.94-2.06 2.06-.94-2.06-.94-.94-2.06-.94 2.06-2.06.94zm-11 1L8.5 8.5l.94-2.06 2.06-.94-2.06-.94L8.5 2.5l-.94 2.06-2.06.94zm10 10l.94 2.06.94-2.06 2.06-.94-2.06-.94-.94-2.06-.94 2.06-2.06.94z\"/><path d=\"M17.41 7.96l-1.37-1.37c-.4-.4-.92-.59-1.43-.59-.52 0-1.04.2-1.43.59L10.3 9.45l-7.72 7.72c-.78.78-.78 2.05 0 2.83L4 21.41c.39.39.9.59 1.41.59.51 0 1.02-.2 1.41-.59l7.78-7.78 2.81-2.81c.8-.78.8-2.07 0-2.86zM5.41 20L4 18.59l7.72-7.72 1.47 1.35L5.41 20z\"/>\n",
              "  </svg>\n",
              "      </button>\n",
              "      \n",
              "  <style>\n",
              "    .colab-df-container {\n",
              "      display:flex;\n",
              "      flex-wrap:wrap;\n",
              "      gap: 12px;\n",
              "    }\n",
              "\n",
              "    .colab-df-convert {\n",
              "      background-color: #E8F0FE;\n",
              "      border: none;\n",
              "      border-radius: 50%;\n",
              "      cursor: pointer;\n",
              "      display: none;\n",
              "      fill: #1967D2;\n",
              "      height: 32px;\n",
              "      padding: 0 0 0 0;\n",
              "      width: 32px;\n",
              "    }\n",
              "\n",
              "    .colab-df-convert:hover {\n",
              "      background-color: #E2EBFA;\n",
              "      box-shadow: 0px 1px 2px rgba(60, 64, 67, 0.3), 0px 1px 3px 1px rgba(60, 64, 67, 0.15);\n",
              "      fill: #174EA6;\n",
              "    }\n",
              "\n",
              "    [theme=dark] .colab-df-convert {\n",
              "      background-color: #3B4455;\n",
              "      fill: #D2E3FC;\n",
              "    }\n",
              "\n",
              "    [theme=dark] .colab-df-convert:hover {\n",
              "      background-color: #434B5C;\n",
              "      box-shadow: 0px 1px 3px 1px rgba(0, 0, 0, 0.15);\n",
              "      filter: drop-shadow(0px 1px 2px rgba(0, 0, 0, 0.3));\n",
              "      fill: #FFFFFF;\n",
              "    }\n",
              "  </style>\n",
              "\n",
              "      <script>\n",
              "        const buttonEl =\n",
              "          document.querySelector('#df-4dec1214-3199-4e56-a789-ca1335aa66a6 button.colab-df-convert');\n",
              "        buttonEl.style.display =\n",
              "          google.colab.kernel.accessAllowed ? 'block' : 'none';\n",
              "\n",
              "        async function convertToInteractive(key) {\n",
              "          const element = document.querySelector('#df-4dec1214-3199-4e56-a789-ca1335aa66a6');\n",
              "          const dataTable =\n",
              "            await google.colab.kernel.invokeFunction('convertToInteractive',\n",
              "                                                     [key], {});\n",
              "          if (!dataTable) return;\n",
              "\n",
              "          const docLinkHtml = 'Like what you see? Visit the ' +\n",
              "            '<a target=\"_blank\" href=https://colab.research.google.com/notebooks/data_table.ipynb>data table notebook</a>'\n",
              "            + ' to learn more about interactive tables.';\n",
              "          element.innerHTML = '';\n",
              "          dataTable['output_type'] = 'display_data';\n",
              "          await google.colab.output.renderOutput(dataTable, element);\n",
              "          const docLink = document.createElement('div');\n",
              "          docLink.innerHTML = docLinkHtml;\n",
              "          element.appendChild(docLink);\n",
              "        }\n",
              "      </script>\n",
              "    </div>\n",
              "  </div>\n",
              "  "
            ]
          },
          "metadata": {},
          "execution_count": 113
        }
      ],
      "source": [
        "transf_label(df)"
      ]
    },
    {
      "cell_type": "code",
      "execution_count": null,
      "metadata": {
        "id": "wzQs4AeN6AB8",
        "outputId": "79468089-dd22-4692-f21b-a182ffc0d5cf",
        "colab": {
          "base_uri": "https://localhost:8080/",
          "height": 409
        }
      },
      "outputs": [
        {
          "output_type": "execute_result",
          "data": {
            "text/plain": [
              "   Available Extra Rooms in Hospital  Department Ward_Facility_Code  \\\n",
              "0                                  4  gynecology                  D   \n",
              "1                                  4  gynecology                  B   \n",
              "2                                  2  gynecology                  B   \n",
              "3                                  4  gynecology                  D   \n",
              "4                                  2  anesthesia                  E   \n",
              "\n",
              "  doctor_name  staff_available  patientid    Age  gender Type of Admission  \\\n",
              "0   Dr Sophia                0      33070  41-50  Female            Trauma   \n",
              "1   Dr Sophia                2      34808  31-40  Female            Trauma   \n",
              "2   Dr Sophia                8      44577  21-30  Female            Trauma   \n",
              "3   Dr Olivia                7       3695  31-40  Female            Urgent   \n",
              "4     Dr Mark               10     108956  71-80    Male            Trauma   \n",
              "\n",
              "  Severity of Illness health_conditions  Visitors with Patient Insurance  \\\n",
              "0             Extreme          Diabetes                      4       Yes   \n",
              "1               Minor     Heart disease                      2        No   \n",
              "2             Extreme          Diabetes                      2       Yes   \n",
              "3            Moderate              None                      4        No   \n",
              "4            Moderate          Diabetes                      2        No   \n",
              "\n",
              "   Admission_Deposit  estancia  \n",
              "0        2966.408696         0  \n",
              "1        3554.835677         1  \n",
              "2        5624.733654         0  \n",
              "3        4814.149231         0  \n",
              "4        5169.269637         1  "
            ],
            "text/html": [
              "\n",
              "  <div id=\"df-df9fa9ec-079a-46c5-aca0-ef3331fccb0e\">\n",
              "    <div class=\"colab-df-container\">\n",
              "      <div>\n",
              "<style scoped>\n",
              "    .dataframe tbody tr th:only-of-type {\n",
              "        vertical-align: middle;\n",
              "    }\n",
              "\n",
              "    .dataframe tbody tr th {\n",
              "        vertical-align: top;\n",
              "    }\n",
              "\n",
              "    .dataframe thead th {\n",
              "        text-align: right;\n",
              "    }\n",
              "</style>\n",
              "<table border=\"1\" class=\"dataframe\">\n",
              "  <thead>\n",
              "    <tr style=\"text-align: right;\">\n",
              "      <th></th>\n",
              "      <th>Available Extra Rooms in Hospital</th>\n",
              "      <th>Department</th>\n",
              "      <th>Ward_Facility_Code</th>\n",
              "      <th>doctor_name</th>\n",
              "      <th>staff_available</th>\n",
              "      <th>patientid</th>\n",
              "      <th>Age</th>\n",
              "      <th>gender</th>\n",
              "      <th>Type of Admission</th>\n",
              "      <th>Severity of Illness</th>\n",
              "      <th>health_conditions</th>\n",
              "      <th>Visitors with Patient</th>\n",
              "      <th>Insurance</th>\n",
              "      <th>Admission_Deposit</th>\n",
              "      <th>estancia</th>\n",
              "    </tr>\n",
              "  </thead>\n",
              "  <tbody>\n",
              "    <tr>\n",
              "      <th>0</th>\n",
              "      <td>4</td>\n",
              "      <td>gynecology</td>\n",
              "      <td>D</td>\n",
              "      <td>Dr Sophia</td>\n",
              "      <td>0</td>\n",
              "      <td>33070</td>\n",
              "      <td>41-50</td>\n",
              "      <td>Female</td>\n",
              "      <td>Trauma</td>\n",
              "      <td>Extreme</td>\n",
              "      <td>Diabetes</td>\n",
              "      <td>4</td>\n",
              "      <td>Yes</td>\n",
              "      <td>2966.408696</td>\n",
              "      <td>0</td>\n",
              "    </tr>\n",
              "    <tr>\n",
              "      <th>1</th>\n",
              "      <td>4</td>\n",
              "      <td>gynecology</td>\n",
              "      <td>B</td>\n",
              "      <td>Dr Sophia</td>\n",
              "      <td>2</td>\n",
              "      <td>34808</td>\n",
              "      <td>31-40</td>\n",
              "      <td>Female</td>\n",
              "      <td>Trauma</td>\n",
              "      <td>Minor</td>\n",
              "      <td>Heart disease</td>\n",
              "      <td>2</td>\n",
              "      <td>No</td>\n",
              "      <td>3554.835677</td>\n",
              "      <td>1</td>\n",
              "    </tr>\n",
              "    <tr>\n",
              "      <th>2</th>\n",
              "      <td>2</td>\n",
              "      <td>gynecology</td>\n",
              "      <td>B</td>\n",
              "      <td>Dr Sophia</td>\n",
              "      <td>8</td>\n",
              "      <td>44577</td>\n",
              "      <td>21-30</td>\n",
              "      <td>Female</td>\n",
              "      <td>Trauma</td>\n",
              "      <td>Extreme</td>\n",
              "      <td>Diabetes</td>\n",
              "      <td>2</td>\n",
              "      <td>Yes</td>\n",
              "      <td>5624.733654</td>\n",
              "      <td>0</td>\n",
              "    </tr>\n",
              "    <tr>\n",
              "      <th>3</th>\n",
              "      <td>4</td>\n",
              "      <td>gynecology</td>\n",
              "      <td>D</td>\n",
              "      <td>Dr Olivia</td>\n",
              "      <td>7</td>\n",
              "      <td>3695</td>\n",
              "      <td>31-40</td>\n",
              "      <td>Female</td>\n",
              "      <td>Urgent</td>\n",
              "      <td>Moderate</td>\n",
              "      <td>None</td>\n",
              "      <td>4</td>\n",
              "      <td>No</td>\n",
              "      <td>4814.149231</td>\n",
              "      <td>0</td>\n",
              "    </tr>\n",
              "    <tr>\n",
              "      <th>4</th>\n",
              "      <td>2</td>\n",
              "      <td>anesthesia</td>\n",
              "      <td>E</td>\n",
              "      <td>Dr Mark</td>\n",
              "      <td>10</td>\n",
              "      <td>108956</td>\n",
              "      <td>71-80</td>\n",
              "      <td>Male</td>\n",
              "      <td>Trauma</td>\n",
              "      <td>Moderate</td>\n",
              "      <td>Diabetes</td>\n",
              "      <td>2</td>\n",
              "      <td>No</td>\n",
              "      <td>5169.269637</td>\n",
              "      <td>1</td>\n",
              "    </tr>\n",
              "  </tbody>\n",
              "</table>\n",
              "</div>\n",
              "      <button class=\"colab-df-convert\" onclick=\"convertToInteractive('df-df9fa9ec-079a-46c5-aca0-ef3331fccb0e')\"\n",
              "              title=\"Convert this dataframe to an interactive table.\"\n",
              "              style=\"display:none;\">\n",
              "        \n",
              "  <svg xmlns=\"http://www.w3.org/2000/svg\" height=\"24px\"viewBox=\"0 0 24 24\"\n",
              "       width=\"24px\">\n",
              "    <path d=\"M0 0h24v24H0V0z\" fill=\"none\"/>\n",
              "    <path d=\"M18.56 5.44l.94 2.06.94-2.06 2.06-.94-2.06-.94-.94-2.06-.94 2.06-2.06.94zm-11 1L8.5 8.5l.94-2.06 2.06-.94-2.06-.94L8.5 2.5l-.94 2.06-2.06.94zm10 10l.94 2.06.94-2.06 2.06-.94-2.06-.94-.94-2.06-.94 2.06-2.06.94z\"/><path d=\"M17.41 7.96l-1.37-1.37c-.4-.4-.92-.59-1.43-.59-.52 0-1.04.2-1.43.59L10.3 9.45l-7.72 7.72c-.78.78-.78 2.05 0 2.83L4 21.41c.39.39.9.59 1.41.59.51 0 1.02-.2 1.41-.59l7.78-7.78 2.81-2.81c.8-.78.8-2.07 0-2.86zM5.41 20L4 18.59l7.72-7.72 1.47 1.35L5.41 20z\"/>\n",
              "  </svg>\n",
              "      </button>\n",
              "      \n",
              "  <style>\n",
              "    .colab-df-container {\n",
              "      display:flex;\n",
              "      flex-wrap:wrap;\n",
              "      gap: 12px;\n",
              "    }\n",
              "\n",
              "    .colab-df-convert {\n",
              "      background-color: #E8F0FE;\n",
              "      border: none;\n",
              "      border-radius: 50%;\n",
              "      cursor: pointer;\n",
              "      display: none;\n",
              "      fill: #1967D2;\n",
              "      height: 32px;\n",
              "      padding: 0 0 0 0;\n",
              "      width: 32px;\n",
              "    }\n",
              "\n",
              "    .colab-df-convert:hover {\n",
              "      background-color: #E2EBFA;\n",
              "      box-shadow: 0px 1px 2px rgba(60, 64, 67, 0.3), 0px 1px 3px 1px rgba(60, 64, 67, 0.15);\n",
              "      fill: #174EA6;\n",
              "    }\n",
              "\n",
              "    [theme=dark] .colab-df-convert {\n",
              "      background-color: #3B4455;\n",
              "      fill: #D2E3FC;\n",
              "    }\n",
              "\n",
              "    [theme=dark] .colab-df-convert:hover {\n",
              "      background-color: #434B5C;\n",
              "      box-shadow: 0px 1px 3px 1px rgba(0, 0, 0, 0.15);\n",
              "      filter: drop-shadow(0px 1px 2px rgba(0, 0, 0, 0.3));\n",
              "      fill: #FFFFFF;\n",
              "    }\n",
              "  </style>\n",
              "\n",
              "      <script>\n",
              "        const buttonEl =\n",
              "          document.querySelector('#df-df9fa9ec-079a-46c5-aca0-ef3331fccb0e button.colab-df-convert');\n",
              "        buttonEl.style.display =\n",
              "          google.colab.kernel.accessAllowed ? 'block' : 'none';\n",
              "\n",
              "        async function convertToInteractive(key) {\n",
              "          const element = document.querySelector('#df-df9fa9ec-079a-46c5-aca0-ef3331fccb0e');\n",
              "          const dataTable =\n",
              "            await google.colab.kernel.invokeFunction('convertToInteractive',\n",
              "                                                     [key], {});\n",
              "          if (!dataTable) return;\n",
              "\n",
              "          const docLinkHtml = 'Like what you see? Visit the ' +\n",
              "            '<a target=\"_blank\" href=https://colab.research.google.com/notebooks/data_table.ipynb>data table notebook</a>'\n",
              "            + ' to learn more about interactive tables.';\n",
              "          element.innerHTML = '';\n",
              "          dataTable['output_type'] = 'display_data';\n",
              "          await google.colab.output.renderOutput(dataTable, element);\n",
              "          const docLink = document.createElement('div');\n",
              "          docLink.innerHTML = docLinkHtml;\n",
              "          element.appendChild(docLink);\n",
              "        }\n",
              "      </script>\n",
              "    </div>\n",
              "  </div>\n",
              "  "
            ]
          },
          "metadata": {},
          "execution_count": 114
        }
      ],
      "source": [
        "df.head()"
      ]
    },
    {
      "cell_type": "markdown",
      "metadata": {
        "id": "P7FLmFPl6AB8"
      },
      "source": [
        "CAMBIO DE LAS COLUMNAS DE CATEGORICAS A NUMERICAS - para poder aplicar un analisis de correlacion"
      ]
    },
    {
      "cell_type": "code",
      "execution_count": null,
      "metadata": {
        "id": "_W0TRK9O6AB8"
      },
      "outputs": [],
      "source": [
        "le = preprocessing.LabelEncoder()\n",
        "df['Insurance'] = le.fit_transform(df['Insurance'])\n",
        "df['health_conditions'] = le.fit_transform(df['health_conditions'])\n",
        "df['Type of Admission'] = le.fit_transform(df['Type of Admission'])\n",
        "df['gender'] = le.fit_transform(df['gender'])\n",
        "df['doctor_name'] = le.fit_transform(df['doctor_name'])\n",
        "df['Ward_Facility_Code'] = le.fit_transform(df['Ward_Facility_Code'])\n",
        "df['Department'] = le.fit_transform(df['Department'])\n"
      ]
    },
    {
      "cell_type": "code",
      "source": [
        "enc = OrdinalEncoder()\n",
        "df['Age'] = enc.fit_transform(df[['Age']])\n",
        "df['Severity of Illness'] = enc.fit_transform(df[['Severity of Illness']])"
      ],
      "metadata": {
        "id": "Gi9cA7Xr7rJV"
      },
      "execution_count": null,
      "outputs": []
    },
    {
      "cell_type": "code",
      "execution_count": null,
      "metadata": {
        "id": "q4XsApaj6AB8"
      },
      "outputs": [],
      "source": [
        "#Se realiza 2 copias para dos analisis de correlación posteriores\n",
        "df2=df.copy()\n",
        "df3=df.copy()"
      ]
    },
    {
      "cell_type": "code",
      "execution_count": null,
      "metadata": {
        "id": "VkmmM9oa6AB8",
        "outputId": "831132ca-bcb3-4e62-c382-4519f5e6e76b",
        "colab": {
          "base_uri": "https://localhost:8080/",
          "height": 322
        }
      },
      "outputs": [
        {
          "output_type": "execute_result",
          "data": {
            "text/plain": [
              "   Available Extra Rooms in Hospital  Department  Ward_Facility_Code  \\\n",
              "0                                  4           2                   3   \n",
              "1                                  4           2                   1   \n",
              "2                                  2           2                   1   \n",
              "3                                  4           2                   3   \n",
              "4                                  2           1                   4   \n",
              "\n",
              "   doctor_name  staff_available  patientid  Age  gender  Type of Admission  \\\n",
              "0            8                0      33070  4.0       0                  1   \n",
              "1            8                2      34808  3.0       0                  1   \n",
              "2            8                8      44577  2.0       0                  1   \n",
              "3            4                7       3695  3.0       0                  2   \n",
              "4            2               10     108956  7.0       1                  1   \n",
              "\n",
              "   Severity of Illness  health_conditions  Visitors with Patient  Insurance  \\\n",
              "0                  0.0                  1                      4          1   \n",
              "1                  1.0                  2                      2          0   \n",
              "2                  0.0                  1                      2          1   \n",
              "3                  2.0                  4                      4          0   \n",
              "4                  2.0                  1                      2          0   \n",
              "\n",
              "   Admission_Deposit  estancia  \n",
              "0        2966.408696         0  \n",
              "1        3554.835677         1  \n",
              "2        5624.733654         0  \n",
              "3        4814.149231         0  \n",
              "4        5169.269637         1  "
            ],
            "text/html": [
              "\n",
              "  <div id=\"df-6283517c-47e4-4a12-94da-a284c1259650\">\n",
              "    <div class=\"colab-df-container\">\n",
              "      <div>\n",
              "<style scoped>\n",
              "    .dataframe tbody tr th:only-of-type {\n",
              "        vertical-align: middle;\n",
              "    }\n",
              "\n",
              "    .dataframe tbody tr th {\n",
              "        vertical-align: top;\n",
              "    }\n",
              "\n",
              "    .dataframe thead th {\n",
              "        text-align: right;\n",
              "    }\n",
              "</style>\n",
              "<table border=\"1\" class=\"dataframe\">\n",
              "  <thead>\n",
              "    <tr style=\"text-align: right;\">\n",
              "      <th></th>\n",
              "      <th>Available Extra Rooms in Hospital</th>\n",
              "      <th>Department</th>\n",
              "      <th>Ward_Facility_Code</th>\n",
              "      <th>doctor_name</th>\n",
              "      <th>staff_available</th>\n",
              "      <th>patientid</th>\n",
              "      <th>Age</th>\n",
              "      <th>gender</th>\n",
              "      <th>Type of Admission</th>\n",
              "      <th>Severity of Illness</th>\n",
              "      <th>health_conditions</th>\n",
              "      <th>Visitors with Patient</th>\n",
              "      <th>Insurance</th>\n",
              "      <th>Admission_Deposit</th>\n",
              "      <th>estancia</th>\n",
              "    </tr>\n",
              "  </thead>\n",
              "  <tbody>\n",
              "    <tr>\n",
              "      <th>0</th>\n",
              "      <td>4</td>\n",
              "      <td>2</td>\n",
              "      <td>3</td>\n",
              "      <td>8</td>\n",
              "      <td>0</td>\n",
              "      <td>33070</td>\n",
              "      <td>4.0</td>\n",
              "      <td>0</td>\n",
              "      <td>1</td>\n",
              "      <td>0.0</td>\n",
              "      <td>1</td>\n",
              "      <td>4</td>\n",
              "      <td>1</td>\n",
              "      <td>2966.408696</td>\n",
              "      <td>0</td>\n",
              "    </tr>\n",
              "    <tr>\n",
              "      <th>1</th>\n",
              "      <td>4</td>\n",
              "      <td>2</td>\n",
              "      <td>1</td>\n",
              "      <td>8</td>\n",
              "      <td>2</td>\n",
              "      <td>34808</td>\n",
              "      <td>3.0</td>\n",
              "      <td>0</td>\n",
              "      <td>1</td>\n",
              "      <td>1.0</td>\n",
              "      <td>2</td>\n",
              "      <td>2</td>\n",
              "      <td>0</td>\n",
              "      <td>3554.835677</td>\n",
              "      <td>1</td>\n",
              "    </tr>\n",
              "    <tr>\n",
              "      <th>2</th>\n",
              "      <td>2</td>\n",
              "      <td>2</td>\n",
              "      <td>1</td>\n",
              "      <td>8</td>\n",
              "      <td>8</td>\n",
              "      <td>44577</td>\n",
              "      <td>2.0</td>\n",
              "      <td>0</td>\n",
              "      <td>1</td>\n",
              "      <td>0.0</td>\n",
              "      <td>1</td>\n",
              "      <td>2</td>\n",
              "      <td>1</td>\n",
              "      <td>5624.733654</td>\n",
              "      <td>0</td>\n",
              "    </tr>\n",
              "    <tr>\n",
              "      <th>3</th>\n",
              "      <td>4</td>\n",
              "      <td>2</td>\n",
              "      <td>3</td>\n",
              "      <td>4</td>\n",
              "      <td>7</td>\n",
              "      <td>3695</td>\n",
              "      <td>3.0</td>\n",
              "      <td>0</td>\n",
              "      <td>2</td>\n",
              "      <td>2.0</td>\n",
              "      <td>4</td>\n",
              "      <td>4</td>\n",
              "      <td>0</td>\n",
              "      <td>4814.149231</td>\n",
              "      <td>0</td>\n",
              "    </tr>\n",
              "    <tr>\n",
              "      <th>4</th>\n",
              "      <td>2</td>\n",
              "      <td>1</td>\n",
              "      <td>4</td>\n",
              "      <td>2</td>\n",
              "      <td>10</td>\n",
              "      <td>108956</td>\n",
              "      <td>7.0</td>\n",
              "      <td>1</td>\n",
              "      <td>1</td>\n",
              "      <td>2.0</td>\n",
              "      <td>1</td>\n",
              "      <td>2</td>\n",
              "      <td>0</td>\n",
              "      <td>5169.269637</td>\n",
              "      <td>1</td>\n",
              "    </tr>\n",
              "  </tbody>\n",
              "</table>\n",
              "</div>\n",
              "      <button class=\"colab-df-convert\" onclick=\"convertToInteractive('df-6283517c-47e4-4a12-94da-a284c1259650')\"\n",
              "              title=\"Convert this dataframe to an interactive table.\"\n",
              "              style=\"display:none;\">\n",
              "        \n",
              "  <svg xmlns=\"http://www.w3.org/2000/svg\" height=\"24px\"viewBox=\"0 0 24 24\"\n",
              "       width=\"24px\">\n",
              "    <path d=\"M0 0h24v24H0V0z\" fill=\"none\"/>\n",
              "    <path d=\"M18.56 5.44l.94 2.06.94-2.06 2.06-.94-2.06-.94-.94-2.06-.94 2.06-2.06.94zm-11 1L8.5 8.5l.94-2.06 2.06-.94-2.06-.94L8.5 2.5l-.94 2.06-2.06.94zm10 10l.94 2.06.94-2.06 2.06-.94-2.06-.94-.94-2.06-.94 2.06-2.06.94z\"/><path d=\"M17.41 7.96l-1.37-1.37c-.4-.4-.92-.59-1.43-.59-.52 0-1.04.2-1.43.59L10.3 9.45l-7.72 7.72c-.78.78-.78 2.05 0 2.83L4 21.41c.39.39.9.59 1.41.59.51 0 1.02-.2 1.41-.59l7.78-7.78 2.81-2.81c.8-.78.8-2.07 0-2.86zM5.41 20L4 18.59l7.72-7.72 1.47 1.35L5.41 20z\"/>\n",
              "  </svg>\n",
              "      </button>\n",
              "      \n",
              "  <style>\n",
              "    .colab-df-container {\n",
              "      display:flex;\n",
              "      flex-wrap:wrap;\n",
              "      gap: 12px;\n",
              "    }\n",
              "\n",
              "    .colab-df-convert {\n",
              "      background-color: #E8F0FE;\n",
              "      border: none;\n",
              "      border-radius: 50%;\n",
              "      cursor: pointer;\n",
              "      display: none;\n",
              "      fill: #1967D2;\n",
              "      height: 32px;\n",
              "      padding: 0 0 0 0;\n",
              "      width: 32px;\n",
              "    }\n",
              "\n",
              "    .colab-df-convert:hover {\n",
              "      background-color: #E2EBFA;\n",
              "      box-shadow: 0px 1px 2px rgba(60, 64, 67, 0.3), 0px 1px 3px 1px rgba(60, 64, 67, 0.15);\n",
              "      fill: #174EA6;\n",
              "    }\n",
              "\n",
              "    [theme=dark] .colab-df-convert {\n",
              "      background-color: #3B4455;\n",
              "      fill: #D2E3FC;\n",
              "    }\n",
              "\n",
              "    [theme=dark] .colab-df-convert:hover {\n",
              "      background-color: #434B5C;\n",
              "      box-shadow: 0px 1px 3px 1px rgba(0, 0, 0, 0.15);\n",
              "      filter: drop-shadow(0px 1px 2px rgba(0, 0, 0, 0.3));\n",
              "      fill: #FFFFFF;\n",
              "    }\n",
              "  </style>\n",
              "\n",
              "      <script>\n",
              "        const buttonEl =\n",
              "          document.querySelector('#df-6283517c-47e4-4a12-94da-a284c1259650 button.colab-df-convert');\n",
              "        buttonEl.style.display =\n",
              "          google.colab.kernel.accessAllowed ? 'block' : 'none';\n",
              "\n",
              "        async function convertToInteractive(key) {\n",
              "          const element = document.querySelector('#df-6283517c-47e4-4a12-94da-a284c1259650');\n",
              "          const dataTable =\n",
              "            await google.colab.kernel.invokeFunction('convertToInteractive',\n",
              "                                                     [key], {});\n",
              "          if (!dataTable) return;\n",
              "\n",
              "          const docLinkHtml = 'Like what you see? Visit the ' +\n",
              "            '<a target=\"_blank\" href=https://colab.research.google.com/notebooks/data_table.ipynb>data table notebook</a>'\n",
              "            + ' to learn more about interactive tables.';\n",
              "          element.innerHTML = '';\n",
              "          dataTable['output_type'] = 'display_data';\n",
              "          await google.colab.output.renderOutput(dataTable, element);\n",
              "          const docLink = document.createElement('div');\n",
              "          docLink.innerHTML = docLinkHtml;\n",
              "          element.appendChild(docLink);\n",
              "        }\n",
              "      </script>\n",
              "    </div>\n",
              "  </div>\n",
              "  "
            ]
          },
          "metadata": {},
          "execution_count": 118
        }
      ],
      "source": [
        "df.head()"
      ]
    },
    {
      "cell_type": "code",
      "execution_count": null,
      "metadata": {
        "id": "kB3w9brI6AB8"
      },
      "outputs": [],
      "source": [
        "corr=df.corr()\n",
        "print(corr['estancia'])"
      ]
    },
    {
      "cell_type": "code",
      "execution_count": null,
      "metadata": {
        "id": "2NcfZleM6AB8",
        "outputId": "91842ffb-40b5-4180-b32e-734bc44e2fe8",
        "colab": {
          "base_uri": "https://localhost:8080/"
        }
      },
      "outputs": [
        {
          "output_type": "stream",
          "name": "stdout",
          "text": [
            "Available Extra Rooms in Hospital    0.053894\n",
            "Department                          -0.173021\n",
            "Ward_Facility_Code                  -0.074337\n",
            "doctor_name                         -0.172526\n",
            "staff_available                      0.002883\n",
            "patientid                           -0.000532\n",
            "Age                                  0.229657\n",
            "gender                               0.193878\n",
            "Type of Admission                    0.006233\n",
            "Severity of Illness                  0.017030\n",
            "health_conditions                   -0.002568\n",
            "Visitors with Patient               -0.009529\n",
            "Insurance                           -0.001063\n",
            "Admission_Deposit                   -0.016650\n",
            "estancia                             1.000000\n",
            "Name: estancia, dtype: float64\n"
          ]
        }
      ],
      "source": [
        "print(corr['estancia'])"
      ]
    },
    {
      "cell_type": "code",
      "execution_count": null,
      "metadata": {
        "id": "wIVUBeuI6AB9"
      },
      "outputs": [],
      "source": [
        "def plot_corre_heatmap(corr):\n",
        "    '''\n",
        "    Definimos una función para ayudarnos a graficar un heatmap de correlación\n",
        "    '''\n",
        "    plt.figure(figsize=(12,10))\n",
        "    sns.heatmap(corr, cbar = True,  square = False, annot=True, fmt= '.2f'\n",
        "                ,annot_kws={'size': 15},cmap= 'coolwarm')\n",
        "    plt.xticks(rotation = 45)\n",
        "    plt.yticks(rotation = 45)\n",
        "    # Arreglamos un pequeño problema de visualización\n",
        "    b, t = plt.ylim() # discover the values for bottom and top\n",
        "    b += 0.5 # Add 0.5 to the bottom\n",
        "    t -= 0.5 # Subtract 0.5 from the top\n",
        "    plt.ylim(b, t) # update the ylim(bottom, top) values\n",
        "    plt.show()"
      ]
    },
    {
      "cell_type": "code",
      "execution_count": null,
      "metadata": {
        "id": "quZUcIg66AB9",
        "outputId": "aabd589c-8132-4980-f8b8-21e3757e6de9",
        "colab": {
          "base_uri": "https://localhost:8080/",
          "height": 758
        }
      },
      "outputs": [
        {
          "output_type": "display_data",
          "data": {
            "text/plain": [
              "<Figure size 864x720 with 2 Axes>"
            ],
            "image/png": "[encoded data removed]"
          },
          "metadata": {}
        }
      ],
      "source": [
        "plot_corre_heatmap(corr)"
      ]
    },
    {
      "cell_type": "markdown",
      "metadata": {
        "id": "Vkl2FEYR6AB9"
      },
      "source": [
        "TODAS LAS CORRELACIONES SON MUY BAJAS= EN BASE A ESTE ANALISIS DE CORRELACION SOLO TOMARÍAMOS LAS COLUMNAS GENDER Y AGE"
      ]
    },
    {
      "cell_type": "markdown",
      "metadata": {
        "id": "dspnHikF6AB9"
      },
      "source": [
        "Se realiza un ensayo en el que se extran el 33% de los valores que poseen None en la columna health condition "
      ]
    },
    {
      "cell_type": "code",
      "execution_count": null,
      "metadata": {
        "id": "ubfnfF0H6AB9",
        "outputId": "9d89385b-c86f-4cc0-bac0-1cc986226c26",
        "colab": {
          "base_uri": "https://localhost:8080/"
        }
      },
      "outputs": [
        {
          "output_type": "execute_result",
          "data": {
            "text/plain": [
              "array([1, 2, 4, 5, 0, 3])"
            ]
          },
          "metadata": {},
          "execution_count": 123
        }
      ],
      "source": [
        "df2['health_conditions'].unique()"
      ]
    },
    {
      "cell_type": "code",
      "execution_count": null,
      "metadata": {
        "id": "S49z1GhA6AB9",
        "outputId": "89bed013-7d0f-43e7-ae98-0ba62e2a90ea",
        "colab": {
          "base_uri": "https://localhost:8080/"
        }
      },
      "outputs": [
        {
          "output_type": "stream",
          "name": "stdout",
          "text": [
            "<class 'pandas.core.frame.DataFrame'>\n",
            "Int64Index: 410000 entries, 0 to 409999\n",
            "Data columns (total 15 columns):\n",
            " #   Column                             Non-Null Count   Dtype  \n",
            "---  ------                             --------------   -----  \n",
            " 0   Available Extra Rooms in Hospital  410000 non-null  int64  \n",
            " 1   Department                         410000 non-null  int64  \n",
            " 2   Ward_Facility_Code                 410000 non-null  int64  \n",
            " 3   doctor_name                        410000 non-null  int64  \n",
            " 4   staff_available                    410000 non-null  int64  \n",
            " 5   patientid                          410000 non-null  int64  \n",
            " 6   Age                                410000 non-null  float64\n",
            " 7   gender                             410000 non-null  int64  \n",
            " 8   Type of Admission                  410000 non-null  int64  \n",
            " 9   Severity of Illness                410000 non-null  float64\n",
            " 10  health_conditions                  410000 non-null  int64  \n",
            " 11  Visitors with Patient              410000 non-null  int64  \n",
            " 12  Insurance                          410000 non-null  int64  \n",
            " 13  Admission_Deposit                  410000 non-null  float64\n",
            " 14  estancia                           410000 non-null  int64  \n",
            "dtypes: float64(3), int64(12)\n",
            "memory usage: 50.0 MB\n"
          ]
        }
      ],
      "source": [
        "df2.drop(df2[df2['health_conditions'] == 'None'].index, inplace = True)\n",
        "df2.info()"
      ]
    },
    {
      "cell_type": "code",
      "execution_count": null,
      "metadata": {
        "id": "oxMQkusB6AB-"
      },
      "outputs": [],
      "source": [
        "corr2=df2.corr()"
      ]
    },
    {
      "cell_type": "code",
      "execution_count": null,
      "metadata": {
        "id": "D5o_1UtJ6AB-",
        "outputId": "351a28b6-3865-44be-d606-4ce33eaf6f26",
        "colab": {
          "base_uri": "https://localhost:8080/"
        }
      },
      "outputs": [
        {
          "output_type": "stream",
          "name": "stdout",
          "text": [
            "Available Extra Rooms in Hospital    0.053894\n",
            "Department                          -0.173021\n",
            "Ward_Facility_Code                  -0.074337\n",
            "doctor_name                         -0.172526\n",
            "staff_available                      0.002883\n",
            "patientid                           -0.000532\n",
            "Age                                  0.229657\n",
            "gender                               0.193878\n",
            "Type of Admission                    0.006233\n",
            "Severity of Illness                  0.017030\n",
            "health_conditions                   -0.002568\n",
            "Visitors with Patient               -0.009529\n",
            "Insurance                           -0.001063\n",
            "Admission_Deposit                   -0.016650\n",
            "estancia                             1.000000\n",
            "Name: estancia, dtype: float64\n"
          ]
        }
      ],
      "source": [
        "print(corr2['estancia'])"
      ]
    },
    {
      "cell_type": "code",
      "execution_count": null,
      "metadata": {
        "id": "fiETuVEg6AB-"
      },
      "outputs": [],
      "source": [
        "def plot_corre_heatmap(corr):\n",
        "    '''\n",
        "    Definimos una función para ayudarnos a graficar un heatmap de correlación\n",
        "    '''\n",
        "    plt.figure(figsize=(12,10))\n",
        "    sns.heatmap(corr, cbar = True,  square = False, annot=True, fmt= '.2f'\n",
        "                ,annot_kws={'size': 15},cmap= 'coolwarm')\n",
        "    plt.xticks(rotation = 45)\n",
        "    plt.yticks(rotation = 45)\n",
        "    # Arreglamos un pequeño problema de visualización\n",
        "    b, t = plt.ylim() # discover the values for bottom and top\n",
        "    b += 0.5 # Add 0.5 to the bottom\n",
        "    t -= 0.5 # Subtract 0.5 from the top\n",
        "    plt.ylim(b, t) # update the ylim(bottom, top) values\n",
        "    plt.show()"
      ]
    },
    {
      "cell_type": "code",
      "execution_count": null,
      "metadata": {
        "id": "wINhBBV-6AB-",
        "outputId": "091a7af8-c8a7-4976-9cc5-473907efdd7a",
        "colab": {
          "base_uri": "https://localhost:8080/",
          "height": 758
        }
      },
      "outputs": [
        {
          "output_type": "display_data",
          "data": {
            "text/plain": [
              "<Figure size 864x720 with 2 Axes>"
            ],
            "image/png": "[encoded data removed]"
          },
          "metadata": {}
        }
      ],
      "source": [
        "plot_corre_heatmap(corr2)"
      ]
    },
    {
      "cell_type": "markdown",
      "metadata": {
        "id": "cfvard3t6AB-"
      },
      "source": [
        "TODAS LAS CORRELACIONES DAN MUY BAJAS, se decide utilizar otro método ya que la correlacion de pearson no funciona tan bien para variables discretas."
      ]
    },
    {
      "cell_type": "code",
      "execution_count": null,
      "metadata": {
        "id": "HKMMel1y6AB-",
        "outputId": "7ae8d407-2d02-415d-c3a4-7e9dad963b09",
        "colab": {
          "base_uri": "https://localhost:8080/"
        }
      },
      "outputs": [
        {
          "output_type": "stream",
          "name": "stderr",
          "text": [
            "/usr/local/lib/python3.8/dist-packages/sklearn/utils/validation.py:993: DataConversionWarning: A column-vector y was passed when a 1d array was expected. Please change the shape of y to (n_samples, ), for example using ravel().\n",
            "  y = column_or_1d(y, warn=True)\n"
          ]
        },
        {
          "output_type": "execute_result",
          "data": {
            "text/plain": [
              "['Available Extra Rooms in Hospital',\n",
              " 'Department',\n",
              " 'Ward_Facility_Code',\n",
              " 'doctor_name',\n",
              " 'staff_available',\n",
              " 'patientid',\n",
              " 'Age',\n",
              " 'gender',\n",
              " 'Type of Admission',\n",
              " 'Severity of Illness',\n",
              " 'health_conditions',\n",
              " 'Visitors with Patient',\n",
              " 'Insurance',\n",
              " 'Admission_Deposit']"
            ]
          },
          "metadata": {},
          "execution_count": 129
        }
      ],
      "source": [
        "#Por esta razón se realiza un analisis con otra herramienta: \n",
        "from sklearn.feature_selection import SelectKBest\n",
        "from sklearn.feature_selection import mutual_info_classif\n",
        "selector = SelectKBest(mutual_info_classif,k=2)\n",
        "#selector = SelectKBest(mutual_info_classif,k=4)\n",
        "#selector = SelectKBest(mutual_info_classif,k=10)\n",
        "X = df.drop(columns=[\"estancia\"])\n",
        "y = df[['estancia']]\n",
        "selector.fit(X,y)\n",
        "scores = selector.scores_\n",
        "list(X.columns)"
      ]
    },
    {
      "cell_type": "code",
      "execution_count": null,
      "metadata": {
        "id": "M8RIQy646AB_",
        "outputId": "5b79c7f1-ca46-43d9-b240-cf9c1ff405e6",
        "colab": {
          "base_uri": "https://localhost:8080/",
          "height": 406
        }
      },
      "outputs": [
        {
          "output_type": "display_data",
          "data": {
            "text/plain": [
              "<Figure size 2160x720 with 1 Axes>"
            ],
            "image/png": "[encoded data removed]"
          },
          "metadata": {}
        }
      ],
      "source": [
        "plt.rcParams[\"figure.figsize\"] = [30,10]\n",
        "plt.plot(scores)\n",
        "plt.xticks(np.arange(14),list(X.columns));"
      ]
    },
    {
      "cell_type": "markdown",
      "metadata": {
        "id": "QgX2pVDM6AB_"
      },
      "source": [
        "## IMPORTANTE_CONCLUSIONES"
      ]
    },
    {
      "cell_type": "markdown",
      "metadata": {
        "id": "1VGRdHEy6AB_"
      },
      "source": [
        "- todas las correlaciones son muy bajas\n",
        "- las columnas que más correlacion presentan son: \n",
        "\t- department\n",
        "\t- doctors_name\n",
        "\t- Age\n",
        "\t- gender\n",
        "(a priori estas variables no deberían presentar una correlación por sentido lógico del caso, analizando que hay otras columnas que podrían, intuitivamente, tener mayor correlacion, como grado de la enfermedad, tipo o si su ingreso fue por urgencias, pero sin embargo estas ultimas no muestran correlacion la columna label)\n",
        "- si bien quitar los valores de None en la columna 'health_condition' permitió pasar de 0.17 a 0.2 \n",
        "en la correlación con 'doctor_name'. \n",
        "Sin embargo, la columna 'health_condition' no presentó un aumento en la correlación \n",
        "y la perdida del 33% de los valores para ajuste y entrenamiento, no justifican el recorte de los datos\n",
        "- Finalmente al realizar el analisis de feature_selection las dos columnas más relevantes son: \n",
        " \t1- department \n",
        "\t2- Age\n",
        "y en un 3er puesto doctors_name \n",
        "Como pudo observarse, gender pierde relevacia inclusive por debajo de insurance \n",
        "\n",
        "___________________________________________________________________________\n",
        "Acciones a seguir: \n",
        "\n",
        "- Se tomaran las columnas department y Age, sin extracción de datos. \n",
        "* si bien esta toma de decisiones es compleja, se considera que con más tiempo \n",
        "puede realizarse un analisis más profundo de como se ven afectador, los modelos de predicción, incluyendo más variables."
      ]
    },
    {
      "cell_type": "markdown",
      "source": [],
      "metadata": {
        "id": "xxDkSjiN6TpX"
      }
    },
    {
      "cell_type": "markdown",
      "source": [
        "**IMPORTANTE\n",
        "LUEGO DE REALIZAR EL ANALISIS CON LOS MODELOS: K-VECINOS / ARBOL DE DECISIÓN / REGLOGISTICA _ surgió la necesidad de hacer un analisis por categorías, no solo por columnas**\n",
        "\n",
        "Esto nos lleva a generar más columnas y por cada categoría y analizar la correlación entre ellas. A continuación se presenta este desarrollo\n"
      ],
      "metadata": {
        "id": "YaLtWZAr6W2W"
      }
    },
    {
      "cell_type": "code",
      "source": [
        "df_train=pd.read_csv('Datathon/hospitalizaciones_train.csv', encoding='utf-8')\n"
      ],
      "metadata": {
        "id": "U2Clsq_C6KoA"
      },
      "execution_count": null,
      "outputs": []
    },
    {
      "cell_type": "code",
      "source": [
        "df_new=df_train.copy()"
      ],
      "metadata": {
        "id": "sCiFQrCm6UcI"
      },
      "execution_count": null,
      "outputs": []
    },
    {
      "cell_type": "code",
      "source": [
        "transf_label(df_new)"
      ],
      "metadata": {
        "colab": {
          "base_uri": "https://localhost:8080/",
          "height": 713
        },
        "id": "errTnaBz7fWY",
        "outputId": "b85cf828-8c61-4d29-d9c3-bf18d2d524e5"
      },
      "execution_count": null,
      "outputs": [
        {
          "output_type": "execute_result",
          "data": {
            "text/plain": [
              "        Available Extra Rooms in Hospital  Department Ward_Facility_Code  \\\n",
              "0                                       4  gynecology                  D   \n",
              "1                                       4  gynecology                  B   \n",
              "2                                       2  gynecology                  B   \n",
              "3                                       4  gynecology                  D   \n",
              "4                                       2  anesthesia                  E   \n",
              "...                                   ...         ...                ...   \n",
              "409995                                  1  gynecology                  D   \n",
              "409996                                  5  gynecology                  D   \n",
              "409997                                  4  gynecology                  D   \n",
              "409998                                 10  gynecology                  D   \n",
              "409999                                  3  gynecology                  F   \n",
              "\n",
              "       doctor_name  staff_available  patientid    Age  gender  \\\n",
              "0        Dr Sophia                0      33070  41-50  Female   \n",
              "1        Dr Sophia                2      34808  31-40  Female   \n",
              "2        Dr Sophia                8      44577  21-30  Female   \n",
              "3        Dr Olivia                7       3695  31-40  Female   \n",
              "4          Dr Mark               10     108956  71-80    Male   \n",
              "...            ...              ...        ...    ...     ...   \n",
              "409995    Dr Sarah                1      63105  31-40  Female   \n",
              "409996   Dr Nathan                5     129292  21-30  Female   \n",
              "409997    Dr Sarah                9      11399  21-30  Female   \n",
              "409998   Dr Olivia               10      75003  21-30  Female   \n",
              "409999   Dr Nathan                0     128183  41-50  Female   \n",
              "\n",
              "       Type of Admission Severity of Illness health_conditions  \\\n",
              "0                 Trauma             Extreme          Diabetes   \n",
              "1                 Trauma               Minor     Heart disease   \n",
              "2                 Trauma             Extreme          Diabetes   \n",
              "3                 Urgent            Moderate              None   \n",
              "4                 Trauma            Moderate          Diabetes   \n",
              "...                  ...                 ...               ...   \n",
              "409995            Trauma               Minor           Asthama   \n",
              "409996            Trauma             Extreme             Other   \n",
              "409997         Emergency               Minor           Asthama   \n",
              "409998            Trauma            Moderate             Other   \n",
              "409999            Trauma               Minor             Other   \n",
              "\n",
              "        Visitors with Patient Insurance  Admission_Deposit  estancia  \n",
              "0                           4       Yes        2966.408696         0  \n",
              "1                           2        No        3554.835677         1  \n",
              "2                           2       Yes        5624.733654         0  \n",
              "3                           4        No        4814.149231         0  \n",
              "4                           2        No        5169.269637         1  \n",
              "...                       ...       ...                ...       ...  \n",
              "409995                      3       Yes        3902.291076         0  \n",
              "409996                      4        No        4771.995223         1  \n",
              "409997                      4       Yes        3816.994210         1  \n",
              "409998                      2       Yes        3841.577491         1  \n",
              "409999                      8       Yes        4329.046412         0  \n",
              "\n",
              "[410000 rows x 15 columns]"
            ],
            "text/html": [
              "\n",
              "  <div id=\"df-d16c9a34-b0b9-4137-a9fc-1b4fff33f27f\">\n",
              "    <div class=\"colab-df-container\">\n",
              "      <div>\n",
              "<style scoped>\n",
              "    .dataframe tbody tr th:only-of-type {\n",
              "        vertical-align: middle;\n",
              "    }\n",
              "\n",
              "    .dataframe tbody tr th {\n",
              "        vertical-align: top;\n",
              "    }\n",
              "\n",
              "    .dataframe thead th {\n",
              "        text-align: right;\n",
              "    }\n",
              "</style>\n",
              "<table border=\"1\" class=\"dataframe\">\n",
              "  <thead>\n",
              "    <tr style=\"text-align: right;\">\n",
              "      <th></th>\n",
              "      <th>Available Extra Rooms in Hospital</th>\n",
              "      <th>Department</th>\n",
              "      <th>Ward_Facility_Code</th>\n",
              "      <th>doctor_name</th>\n",
              "      <th>staff_available</th>\n",
              "      <th>patientid</th>\n",
              "      <th>Age</th>\n",
              "      <th>gender</th>\n",
              "      <th>Type of Admission</th>\n",
              "      <th>Severity of Illness</th>\n",
              "      <th>health_conditions</th>\n",
              "      <th>Visitors with Patient</th>\n",
              "      <th>Insurance</th>\n",
              "      <th>Admission_Deposit</th>\n",
              "      <th>estancia</th>\n",
              "    </tr>\n",
              "  </thead>\n",
              "  <tbody>\n",
              "    <tr>\n",
              "      <th>0</th>\n",
              "      <td>4</td>\n",
              "      <td>gynecology</td>\n",
              "      <td>D</td>\n",
              "      <td>Dr Sophia</td>\n",
              "      <td>0</td>\n",
              "      <td>33070</td>\n",
              "      <td>41-50</td>\n",
              "      <td>Female</td>\n",
              "      <td>Trauma</td>\n",
              "      <td>Extreme</td>\n",
              "      <td>Diabetes</td>\n",
              "      <td>4</td>\n",
              "      <td>Yes</td>\n",
              "      <td>2966.408696</td>\n",
              "      <td>0</td>\n",
              "    </tr>\n",
              "    <tr>\n",
              "      <th>1</th>\n",
              "      <td>4</td>\n",
              "      <td>gynecology</td>\n",
              "      <td>B</td>\n",
              "      <td>Dr Sophia</td>\n",
              "      <td>2</td>\n",
              "      <td>34808</td>\n",
              "      <td>31-40</td>\n",
              "      <td>Female</td>\n",
              "      <td>Trauma</td>\n",
              "      <td>Minor</td>\n",
              "      <td>Heart disease</td>\n",
              "      <td>2</td>\n",
              "      <td>No</td>\n",
              "      <td>3554.835677</td>\n",
              "      <td>1</td>\n",
              "    </tr>\n",
              "    <tr>\n",
              "      <th>2</th>\n",
              "      <td>2</td>\n",
              "      <td>gynecology</td>\n",
              "      <td>B</td>\n",
              "      <td>Dr Sophia</td>\n",
              "      <td>8</td>\n",
              "      <td>44577</td>\n",
              "      <td>21-30</td>\n",
              "      <td>Female</td>\n",
              "      <td>Trauma</td>\n",
              "      <td>Extreme</td>\n",
              "      <td>Diabetes</td>\n",
              "      <td>2</td>\n",
              "      <td>Yes</td>\n",
              "      <td>5624.733654</td>\n",
              "      <td>0</td>\n",
              "    </tr>\n",
              "    <tr>\n",
              "      <th>3</th>\n",
              "      <td>4</td>\n",
              "      <td>gynecology</td>\n",
              "      <td>D</td>\n",
              "      <td>Dr Olivia</td>\n",
              "      <td>7</td>\n",
              "      <td>3695</td>\n",
              "      <td>31-40</td>\n",
              "      <td>Female</td>\n",
              "      <td>Urgent</td>\n",
              "      <td>Moderate</td>\n",
              "      <td>None</td>\n",
              "      <td>4</td>\n",
              "      <td>No</td>\n",
              "      <td>4814.149231</td>\n",
              "      <td>0</td>\n",
              "    </tr>\n",
              "    <tr>\n",
              "      <th>4</th>\n",
              "      <td>2</td>\n",
              "      <td>anesthesia</td>\n",
              "      <td>E</td>\n",
              "      <td>Dr Mark</td>\n",
              "      <td>10</td>\n",
              "      <td>108956</td>\n",
              "      <td>71-80</td>\n",
              "      <td>Male</td>\n",
              "      <td>Trauma</td>\n",
              "      <td>Moderate</td>\n",
              "      <td>Diabetes</td>\n",
              "      <td>2</td>\n",
              "      <td>No</td>\n",
              "      <td>5169.269637</td>\n",
              "      <td>1</td>\n",
              "    </tr>\n",
              "    <tr>\n",
              "      <th>...</th>\n",
              "      <td>...</td>\n",
              "      <td>...</td>\n",
              "      <td>...</td>\n",
              "      <td>...</td>\n",
              "      <td>...</td>\n",
              "      <td>...</td>\n",
              "      <td>...</td>\n",
              "      <td>...</td>\n",
              "      <td>...</td>\n",
              "      <td>...</td>\n",
              "      <td>...</td>\n",
              "      <td>...</td>\n",
              "      <td>...</td>\n",
              "      <td>...</td>\n",
              "      <td>...</td>\n",
              "    </tr>\n",
              "    <tr>\n",
              "      <th>409995</th>\n",
              "      <td>1</td>\n",
              "      <td>gynecology</td>\n",
              "      <td>D</td>\n",
              "      <td>Dr Sarah</td>\n",
              "      <td>1</td>\n",
              "      <td>63105</td>\n",
              "      <td>31-40</td>\n",
              "      <td>Female</td>\n",
              "      <td>Trauma</td>\n",
              "      <td>Minor</td>\n",
              "      <td>Asthama</td>\n",
              "      <td>3</td>\n",
              "      <td>Yes</td>\n",
              "      <td>3902.291076</td>\n",
              "      <td>0</td>\n",
              "    </tr>\n",
              "    <tr>\n",
              "      <th>409996</th>\n",
              "      <td>5</td>\n",
              "      <td>gynecology</td>\n",
              "      <td>D</td>\n",
              "      <td>Dr Nathan</td>\n",
              "      <td>5</td>\n",
              "      <td>129292</td>\n",
              "      <td>21-30</td>\n",
              "      <td>Female</td>\n",
              "      <td>Trauma</td>\n",
              "      <td>Extreme</td>\n",
              "      <td>Other</td>\n",
              "      <td>4</td>\n",
              "      <td>No</td>\n",
              "      <td>4771.995223</td>\n",
              "      <td>1</td>\n",
              "    </tr>\n",
              "    <tr>\n",
              "      <th>409997</th>\n",
              "      <td>4</td>\n",
              "      <td>gynecology</td>\n",
              "      <td>D</td>\n",
              "      <td>Dr Sarah</td>\n",
              "      <td>9</td>\n",
              "      <td>11399</td>\n",
              "      <td>21-30</td>\n",
              "      <td>Female</td>\n",
              "      <td>Emergency</td>\n",
              "      <td>Minor</td>\n",
              "      <td>Asthama</td>\n",
              "      <td>4</td>\n",
              "      <td>Yes</td>\n",
              "      <td>3816.994210</td>\n",
              "      <td>1</td>\n",
              "    </tr>\n",
              "    <tr>\n",
              "      <th>409998</th>\n",
              "      <td>10</td>\n",
              "      <td>gynecology</td>\n",
              "      <td>D</td>\n",
              "      <td>Dr Olivia</td>\n",
              "      <td>10</td>\n",
              "      <td>75003</td>\n",
              "      <td>21-30</td>\n",
              "      <td>Female</td>\n",
              "      <td>Trauma</td>\n",
              "      <td>Moderate</td>\n",
              "      <td>Other</td>\n",
              "      <td>2</td>\n",
              "      <td>Yes</td>\n",
              "      <td>3841.577491</td>\n",
              "      <td>1</td>\n",
              "    </tr>\n",
              "    <tr>\n",
              "      <th>409999</th>\n",
              "      <td>3</td>\n",
              "      <td>gynecology</td>\n",
              "      <td>F</td>\n",
              "      <td>Dr Nathan</td>\n",
              "      <td>0</td>\n",
              "      <td>128183</td>\n",
              "      <td>41-50</td>\n",
              "      <td>Female</td>\n",
              "      <td>Trauma</td>\n",
              "      <td>Minor</td>\n",
              "      <td>Other</td>\n",
              "      <td>8</td>\n",
              "      <td>Yes</td>\n",
              "      <td>4329.046412</td>\n",
              "      <td>0</td>\n",
              "    </tr>\n",
              "  </tbody>\n",
              "</table>\n",
              "<p>410000 rows × 15 columns</p>\n",
              "</div>\n",
              "      <button class=\"colab-df-convert\" onclick=\"convertToInteractive('df-d16c9a34-b0b9-4137-a9fc-1b4fff33f27f')\"\n",
              "              title=\"Convert this dataframe to an interactive table.\"\n",
              "              style=\"display:none;\">\n",
              "        \n",
              "  <svg xmlns=\"http://www.w3.org/2000/svg\" height=\"24px\"viewBox=\"0 0 24 24\"\n",
              "       width=\"24px\">\n",
              "    <path d=\"M0 0h24v24H0V0z\" fill=\"none\"/>\n",
              "    <path d=\"M18.56 5.44l.94 2.06.94-2.06 2.06-.94-2.06-.94-.94-2.06-.94 2.06-2.06.94zm-11 1L8.5 8.5l.94-2.06 2.06-.94-2.06-.94L8.5 2.5l-.94 2.06-2.06.94zm10 10l.94 2.06.94-2.06 2.06-.94-2.06-.94-.94-2.06-.94 2.06-2.06.94z\"/><path d=\"M17.41 7.96l-1.37-1.37c-.4-.4-.92-.59-1.43-.59-.52 0-1.04.2-1.43.59L10.3 9.45l-7.72 7.72c-.78.78-.78 2.05 0 2.83L4 21.41c.39.39.9.59 1.41.59.51 0 1.02-.2 1.41-.59l7.78-7.78 2.81-2.81c.8-.78.8-2.07 0-2.86zM5.41 20L4 18.59l7.72-7.72 1.47 1.35L5.41 20z\"/>\n",
              "  </svg>\n",
              "      </button>\n",
              "      \n",
              "  <style>\n",
              "    .colab-df-container {\n",
              "      display:flex;\n",
              "      flex-wrap:wrap;\n",
              "      gap: 12px;\n",
              "    }\n",
              "\n",
              "    .colab-df-convert {\n",
              "      background-color: #E8F0FE;\n",
              "      border: none;\n",
              "      border-radius: 50%;\n",
              "      cursor: pointer;\n",
              "      display: none;\n",
              "      fill: #1967D2;\n",
              "      height: 32px;\n",
              "      padding: 0 0 0 0;\n",
              "      width: 32px;\n",
              "    }\n",
              "\n",
              "    .colab-df-convert:hover {\n",
              "      background-color: #E2EBFA;\n",
              "      box-shadow: 0px 1px 2px rgba(60, 64, 67, 0.3), 0px 1px 3px 1px rgba(60, 64, 67, 0.15);\n",
              "      fill: #174EA6;\n",
              "    }\n",
              "\n",
              "    [theme=dark] .colab-df-convert {\n",
              "      background-color: #3B4455;\n",
              "      fill: #D2E3FC;\n",
              "    }\n",
              "\n",
              "    [theme=dark] .colab-df-convert:hover {\n",
              "      background-color: #434B5C;\n",
              "      box-shadow: 0px 1px 3px 1px rgba(0, 0, 0, 0.15);\n",
              "      filter: drop-shadow(0px 1px 2px rgba(0, 0, 0, 0.3));\n",
              "      fill: #FFFFFF;\n",
              "    }\n",
              "  </style>\n",
              "\n",
              "      <script>\n",
              "        const buttonEl =\n",
              "          document.querySelector('#df-d16c9a34-b0b9-4137-a9fc-1b4fff33f27f button.colab-df-convert');\n",
              "        buttonEl.style.display =\n",
              "          google.colab.kernel.accessAllowed ? 'block' : 'none';\n",
              "\n",
              "        async function convertToInteractive(key) {\n",
              "          const element = document.querySelector('#df-d16c9a34-b0b9-4137-a9fc-1b4fff33f27f');\n",
              "          const dataTable =\n",
              "            await google.colab.kernel.invokeFunction('convertToInteractive',\n",
              "                                                     [key], {});\n",
              "          if (!dataTable) return;\n",
              "\n",
              "          const docLinkHtml = 'Like what you see? Visit the ' +\n",
              "            '<a target=\"_blank\" href=https://colab.research.google.com/notebooks/data_table.ipynb>data table notebook</a>'\n",
              "            + ' to learn more about interactive tables.';\n",
              "          element.innerHTML = '';\n",
              "          dataTable['output_type'] = 'display_data';\n",
              "          await google.colab.output.renderOutput(dataTable, element);\n",
              "          const docLink = document.createElement('div');\n",
              "          docLink.innerHTML = docLinkHtml;\n",
              "          element.appendChild(docLink);\n",
              "        }\n",
              "      </script>\n",
              "    </div>\n",
              "  </div>\n",
              "  "
            ]
          },
          "metadata": {},
          "execution_count": 155
        }
      ]
    },
    {
      "cell_type": "code",
      "source": [
        "df_new.head(1)"
      ],
      "metadata": {
        "colab": {
          "base_uri": "https://localhost:8080/",
          "height": 214
        },
        "id": "dfvvl237LVsO",
        "outputId": "467fd7d4-a3d1-47fe-e8e3-5261a733a21d"
      },
      "execution_count": null,
      "outputs": [
        {
          "output_type": "execute_result",
          "data": {
            "text/plain": [
              "   Available Extra Rooms in Hospital  Department Ward_Facility_Code  \\\n",
              "0                                  4  gynecology                  D   \n",
              "\n",
              "  doctor_name  staff_available  patientid    Age  gender Type of Admission  \\\n",
              "0   Dr Sophia                0      33070  41-50  Female            Trauma   \n",
              "\n",
              "  Severity of Illness health_conditions  Visitors with Patient Insurance  \\\n",
              "0             Extreme          Diabetes                      4       Yes   \n",
              "\n",
              "   Admission_Deposit  estancia  \n",
              "0        2966.408696         0  "
            ],
            "text/html": [
              "\n",
              "  <div id=\"df-e3148f41-fc0e-4be5-92a5-0d4331efad44\">\n",
              "    <div class=\"colab-df-container\">\n",
              "      <div>\n",
              "<style scoped>\n",
              "    .dataframe tbody tr th:only-of-type {\n",
              "        vertical-align: middle;\n",
              "    }\n",
              "\n",
              "    .dataframe tbody tr th {\n",
              "        vertical-align: top;\n",
              "    }\n",
              "\n",
              "    .dataframe thead th {\n",
              "        text-align: right;\n",
              "    }\n",
              "</style>\n",
              "<table border=\"1\" class=\"dataframe\">\n",
              "  <thead>\n",
              "    <tr style=\"text-align: right;\">\n",
              "      <th></th>\n",
              "      <th>Available Extra Rooms in Hospital</th>\n",
              "      <th>Department</th>\n",
              "      <th>Ward_Facility_Code</th>\n",
              "      <th>doctor_name</th>\n",
              "      <th>staff_available</th>\n",
              "      <th>patientid</th>\n",
              "      <th>Age</th>\n",
              "      <th>gender</th>\n",
              "      <th>Type of Admission</th>\n",
              "      <th>Severity of Illness</th>\n",
              "      <th>health_conditions</th>\n",
              "      <th>Visitors with Patient</th>\n",
              "      <th>Insurance</th>\n",
              "      <th>Admission_Deposit</th>\n",
              "      <th>estancia</th>\n",
              "    </tr>\n",
              "  </thead>\n",
              "  <tbody>\n",
              "    <tr>\n",
              "      <th>0</th>\n",
              "      <td>4</td>\n",
              "      <td>gynecology</td>\n",
              "      <td>D</td>\n",
              "      <td>Dr Sophia</td>\n",
              "      <td>0</td>\n",
              "      <td>33070</td>\n",
              "      <td>41-50</td>\n",
              "      <td>Female</td>\n",
              "      <td>Trauma</td>\n",
              "      <td>Extreme</td>\n",
              "      <td>Diabetes</td>\n",
              "      <td>4</td>\n",
              "      <td>Yes</td>\n",
              "      <td>2966.408696</td>\n",
              "      <td>0</td>\n",
              "    </tr>\n",
              "  </tbody>\n",
              "</table>\n",
              "</div>\n",
              "      <button class=\"colab-df-convert\" onclick=\"convertToInteractive('df-e3148f41-fc0e-4be5-92a5-0d4331efad44')\"\n",
              "              title=\"Convert this dataframe to an interactive table.\"\n",
              "              style=\"display:none;\">\n",
              "        \n",
              "  <svg xmlns=\"http://www.w3.org/2000/svg\" height=\"24px\"viewBox=\"0 0 24 24\"\n",
              "       width=\"24px\">\n",
              "    <path d=\"M0 0h24v24H0V0z\" fill=\"none\"/>\n",
              "    <path d=\"M18.56 5.44l.94 2.06.94-2.06 2.06-.94-2.06-.94-.94-2.06-.94 2.06-2.06.94zm-11 1L8.5 8.5l.94-2.06 2.06-.94-2.06-.94L8.5 2.5l-.94 2.06-2.06.94zm10 10l.94 2.06.94-2.06 2.06-.94-2.06-.94-.94-2.06-.94 2.06-2.06.94z\"/><path d=\"M17.41 7.96l-1.37-1.37c-.4-.4-.92-.59-1.43-.59-.52 0-1.04.2-1.43.59L10.3 9.45l-7.72 7.72c-.78.78-.78 2.05 0 2.83L4 21.41c.39.39.9.59 1.41.59.51 0 1.02-.2 1.41-.59l7.78-7.78 2.81-2.81c.8-.78.8-2.07 0-2.86zM5.41 20L4 18.59l7.72-7.72 1.47 1.35L5.41 20z\"/>\n",
              "  </svg>\n",
              "      </button>\n",
              "      \n",
              "  <style>\n",
              "    .colab-df-container {\n",
              "      display:flex;\n",
              "      flex-wrap:wrap;\n",
              "      gap: 12px;\n",
              "    }\n",
              "\n",
              "    .colab-df-convert {\n",
              "      background-color: #E8F0FE;\n",
              "      border: none;\n",
              "      border-radius: 50%;\n",
              "      cursor: pointer;\n",
              "      display: none;\n",
              "      fill: #1967D2;\n",
              "      height: 32px;\n",
              "      padding: 0 0 0 0;\n",
              "      width: 32px;\n",
              "    }\n",
              "\n",
              "    .colab-df-convert:hover {\n",
              "      background-color: #E2EBFA;\n",
              "      box-shadow: 0px 1px 2px rgba(60, 64, 67, 0.3), 0px 1px 3px 1px rgba(60, 64, 67, 0.15);\n",
              "      fill: #174EA6;\n",
              "    }\n",
              "\n",
              "    [theme=dark] .colab-df-convert {\n",
              "      background-color: #3B4455;\n",
              "      fill: #D2E3FC;\n",
              "    }\n",
              "\n",
              "    [theme=dark] .colab-df-convert:hover {\n",
              "      background-color: #434B5C;\n",
              "      box-shadow: 0px 1px 3px 1px rgba(0, 0, 0, 0.15);\n",
              "      filter: drop-shadow(0px 1px 2px rgba(0, 0, 0, 0.3));\n",
              "      fill: #FFFFFF;\n",
              "    }\n",
              "  </style>\n",
              "\n",
              "      <script>\n",
              "        const buttonEl =\n",
              "          document.querySelector('#df-e3148f41-fc0e-4be5-92a5-0d4331efad44 button.colab-df-convert');\n",
              "        buttonEl.style.display =\n",
              "          google.colab.kernel.accessAllowed ? 'block' : 'none';\n",
              "\n",
              "        async function convertToInteractive(key) {\n",
              "          const element = document.querySelector('#df-e3148f41-fc0e-4be5-92a5-0d4331efad44');\n",
              "          const dataTable =\n",
              "            await google.colab.kernel.invokeFunction('convertToInteractive',\n",
              "                                                     [key], {});\n",
              "          if (!dataTable) return;\n",
              "\n",
              "          const docLinkHtml = 'Like what you see? Visit the ' +\n",
              "            '<a target=\"_blank\" href=https://colab.research.google.com/notebooks/data_table.ipynb>data table notebook</a>'\n",
              "            + ' to learn more about interactive tables.';\n",
              "          element.innerHTML = '';\n",
              "          dataTable['output_type'] = 'display_data';\n",
              "          await google.colab.output.renderOutput(dataTable, element);\n",
              "          const docLink = document.createElement('div');\n",
              "          docLink.innerHTML = docLinkHtml;\n",
              "          element.appendChild(docLink);\n",
              "        }\n",
              "      </script>\n",
              "    </div>\n",
              "  </div>\n",
              "  "
            ]
          },
          "metadata": {},
          "execution_count": 156
        }
      ]
    },
    {
      "cell_type": "code",
      "source": [
        "le = preprocessing.LabelEncoder()\n",
        "df_new['Insurance'] = le.fit_transform(df_new['Insurance'])\n",
        "df_new['Ward_Facility_Code'] = le.fit_transform(df_new['Ward_Facility_Code'])\n",
        "df_new['gender'] = le.fit_transform(df_new['gender'])"
      ],
      "metadata": {
        "id": "7W7o1-My7-LD"
      },
      "execution_count": null,
      "outputs": []
    },
    {
      "cell_type": "code",
      "source": [
        "df_new=df_new.drop(columns=['patientid']) # IMPORTANTE: la razon por la que quitamos esta columna es porque puede overfittear el modelo y es un id_ no corresponde analizarla como feature"
      ],
      "metadata": {
        "id": "F0WgaiGhIeTH"
      },
      "execution_count": null,
      "outputs": []
    },
    {
      "cell_type": "code",
      "source": [
        "#columnas para hacer OneHotEncoder:"
      ],
      "metadata": {
        "id": "de1NMSSLDxOM"
      },
      "execution_count": null,
      "outputs": []
    },
    {
      "cell_type": "code",
      "source": [
        "df_new['Department'].unique()"
      ],
      "metadata": {
        "colab": {
          "base_uri": "https://localhost:8080/"
        },
        "id": "XUDq-khgD2Y3",
        "outputId": "9b7323bd-0ed5-4c40-966f-b2596419d6bf"
      },
      "execution_count": null,
      "outputs": [
        {
          "output_type": "execute_result",
          "data": {
            "text/plain": [
              "array(['gynecology', 'anesthesia', 'TB & Chest disease', 'radiotherapy',\n",
              "       'surgery'], dtype=object)"
            ]
          },
          "metadata": {},
          "execution_count": 158
        }
      ]
    },
    {
      "cell_type": "code",
      "source": [
        "df_new['Type of Admission'].unique()"
      ],
      "metadata": {
        "colab": {
          "base_uri": "https://localhost:8080/"
        },
        "id": "1mhY5_7sH_gl",
        "outputId": "c6148c1c-366d-461e-ba8a-168d62a19423"
      },
      "execution_count": null,
      "outputs": [
        {
          "output_type": "execute_result",
          "data": {
            "text/plain": [
              "array(['Trauma', 'Urgent', 'Emergency'], dtype=object)"
            ]
          },
          "metadata": {},
          "execution_count": 159
        }
      ]
    },
    {
      "cell_type": "code",
      "source": [
        "df_new['doctor_name'].unique()"
      ],
      "metadata": {
        "colab": {
          "base_uri": "https://localhost:8080/"
        },
        "id": "gWtIDxm0IA7z",
        "outputId": "6cb7be16-032b-4319-8599-8bed14f93a76"
      },
      "execution_count": null,
      "outputs": [
        {
          "output_type": "execute_result",
          "data": {
            "text/plain": [
              "array(['Dr Sophia', 'Dr Olivia', 'Dr Mark', 'Dr John', 'Dr Sarah',\n",
              "       'Dr Sam', 'Dr Nathan', 'Dr Simon', 'Dr Isaac'], dtype=object)"
            ]
          },
          "metadata": {},
          "execution_count": 160
        }
      ]
    },
    {
      "cell_type": "code",
      "source": [
        "df_new['health_conditions'].unique()"
      ],
      "metadata": {
        "colab": {
          "base_uri": "https://localhost:8080/"
        },
        "id": "4BBDwI9XICZx",
        "outputId": "95a0a1c7-ec6c-495b-e203-0d7e9f9e6684"
      },
      "execution_count": null,
      "outputs": [
        {
          "output_type": "execute_result",
          "data": {
            "text/plain": [
              "array(['Diabetes', 'Heart disease', 'None', 'Other', 'Asthama',\n",
              "       'High Blood Pressure'], dtype=object)"
            ]
          },
          "metadata": {},
          "execution_count": 161
        }
      ]
    },
    {
      "cell_type": "code",
      "source": [
        "ohe=OneHotEncoder()"
      ],
      "metadata": {
        "id": "SazO8NGSKdux"
      },
      "execution_count": null,
      "outputs": []
    },
    {
      "cell_type": "code",
      "source": [
        "feature_array=ohe.fit_transform(df_new[['Department','doctor_name','Type of Admission','health_conditions']]).toarray()"
      ],
      "metadata": {
        "id": "uPfjW-C_BTxw"
      },
      "execution_count": null,
      "outputs": []
    },
    {
      "cell_type": "code",
      "source": [
        "feature_labels=ohe.categories_"
      ],
      "metadata": {
        "id": "zEWXssnXBTjz"
      },
      "execution_count": null,
      "outputs": []
    },
    {
      "cell_type": "code",
      "source": [
        "feature_labels=np.array(feature_labels).ravel()"
      ],
      "metadata": {
        "colab": {
          "base_uri": "https://localhost:8080/"
        },
        "id": "SWloZvRzMO6I",
        "outputId": "a96935e9-138c-423b-c938-9cde2dd5dc96"
      },
      "execution_count": null,
      "outputs": [
        {
          "output_type": "stream",
          "name": "stderr",
          "text": [
            "<ipython-input-170-c2a9e482d40a>:1: VisibleDeprecationWarning: Creating an ndarray from ragged nested sequences (which is a list-or-tuple of lists-or-tuples-or ndarrays with different lengths or shapes) is deprecated. If you meant to do this, you must specify 'dtype=object' when creating the ndarray.\n",
            "  feature_labels=np.array(feature_labels).ravel()\n"
          ]
        }
      ]
    },
    {
      "cell_type": "code",
      "source": [
        "lista_aux=[]\n",
        "for i in feature_labels:\n",
        "  for e in i: \n",
        "    lista_aux.append(e)\n",
        "print(lista_aux)"
      ],
      "metadata": {
        "colab": {
          "base_uri": "https://localhost:8080/"
        },
        "id": "ral5se3oOt8D",
        "outputId": "f001fd77-f1b8-4849-f981-434cb8e0fa93"
      },
      "execution_count": null,
      "outputs": [
        {
          "output_type": "stream",
          "name": "stdout",
          "text": [
            "['TB & Chest disease', 'anesthesia', 'gynecology', 'radiotherapy', 'surgery', 'Dr Isaac', 'Dr John', 'Dr Mark', 'Dr Nathan', 'Dr Olivia', 'Dr Sam', 'Dr Sarah', 'Dr Simon', 'Dr Sophia', 'Emergency', 'Trauma', 'Urgent', 'Asthama', 'Diabetes', 'Heart disease', 'High Blood Pressure', 'None', 'Other']\n"
          ]
        }
      ]
    },
    {
      "cell_type": "code",
      "source": [
        "feature_labels=lista_aux"
      ],
      "metadata": {
        "id": "76QKILHwOEZU"
      },
      "execution_count": null,
      "outputs": []
    },
    {
      "cell_type": "code",
      "source": [
        "df_extra=pd.DataFrame(feature_array,columns=feature_labels)"
      ],
      "metadata": {
        "id": "76yDTziKPJqu"
      },
      "execution_count": null,
      "outputs": []
    },
    {
      "cell_type": "code",
      "source": [
        "enc = OrdinalEncoder()\n",
        "X2=[['0-10',1],['11-20',2],['21-30',3],['31-40',4],['41-50',5],['51-60',6],['61-70',7],['71-80',8],['81-90',9],['91-100',10]]\n",
        "enc.fit(X2)\n",
        "df_new['Age'] = enc.fit_transform(df_new[['Age']])"
      ],
      "metadata": {
        "id": "sxuVgA4-8C1r"
      },
      "execution_count": null,
      "outputs": []
    },
    {
      "cell_type": "code",
      "source": [
        "enc = OrdinalEncoder()\n",
        "X3=['Minor',1],['Moderate',2],['Extreme',3]\n",
        "enc.fit(X3)\n",
        "df_new['Severity of Illness'] = enc.fit_transform(df_new[['Severity of Illness']])"
      ],
      "metadata": {
        "id": "Z-JliWXY-4_R"
      },
      "execution_count": null,
      "outputs": []
    },
    {
      "cell_type": "code",
      "source": [
        "df_new.drop(columns=['Department','doctor_name','Type of Admission','health_conditions'], inplace=True)"
      ],
      "metadata": {
        "id": "Bqfp4vV6PuII"
      },
      "execution_count": null,
      "outputs": []
    },
    {
      "cell_type": "code",
      "source": [
        "df_nuevo=df_new.join(df_extra)"
      ],
      "metadata": {
        "id": "6nWsDRptaZx_"
      },
      "execution_count": null,
      "outputs": []
    },
    {
      "cell_type": "code",
      "source": [
        "df_nuevo.sample(5)"
      ],
      "metadata": {
        "colab": {
          "base_uri": "https://localhost:8080/",
          "height": 352
        },
        "id": "n3fkx0uPaq-V",
        "outputId": "521059aa-8f8b-4e84-fe8d-e0ffc3f9769a"
      },
      "execution_count": null,
      "outputs": [
        {
          "output_type": "execute_result",
          "data": {
            "text/plain": [
              "        Available Extra Rooms in Hospital  Ward_Facility_Code  \\\n",
              "404686                                  1                   1   \n",
              "191061                                  4                   3   \n",
              "135385                                  3                   1   \n",
              "34188                                   4                   5   \n",
              "6886                                    2                   1   \n",
              "\n",
              "        staff_available  patientid  Age  gender  Severity of Illness  \\\n",
              "404686                7      26577  3.0       0                  0.0   \n",
              "191061                1      33451  3.0       0                  2.0   \n",
              "135385                4      79586  3.0       0                  2.0   \n",
              "34188                 6      11569  2.0       0                  2.0   \n",
              "6886                 10     100029  2.0       0                  1.0   \n",
              "\n",
              "        Visitors with Patient  Insurance  Admission_Deposit  ...  Dr Sophia  \\\n",
              "404686                      2          0        2167.503250  ...        0.0   \n",
              "191061                      2          1        3849.510573  ...        1.0   \n",
              "135385                      4          1        4003.475020  ...        0.0   \n",
              "34188                       4          1        4921.519372  ...        0.0   \n",
              "6886                        2          1        5754.448256  ...        0.0   \n",
              "\n",
              "        Emergency  Trauma  Urgent  Asthama  Diabetes  Heart disease  \\\n",
              "404686        0.0     1.0     0.0      0.0       0.0            0.0   \n",
              "191061        0.0     1.0     0.0      0.0       1.0            0.0   \n",
              "135385        0.0     1.0     0.0      0.0       0.0            0.0   \n",
              "34188         0.0     1.0     0.0      0.0       0.0            0.0   \n",
              "6886          0.0     1.0     0.0      0.0       0.0            0.0   \n",
              "\n",
              "        High Blood Pressure  None  Other  \n",
              "404686                  0.0   1.0    0.0  \n",
              "191061                  0.0   0.0    0.0  \n",
              "135385                  0.0   1.0    0.0  \n",
              "34188                   1.0   0.0    0.0  \n",
              "6886                    0.0   1.0    0.0  \n",
              "\n",
              "[5 rows x 34 columns]"
            ],
            "text/html": [
              "\n",
              "  <div id=\"df-5d07f551-70c4-4dea-9ab1-18ae30eda3cf\">\n",
              "    <div class=\"colab-df-container\">\n",
              "      <div>\n",
              "<style scoped>\n",
              "    .dataframe tbody tr th:only-of-type {\n",
              "        vertical-align: middle;\n",
              "    }\n",
              "\n",
              "    .dataframe tbody tr th {\n",
              "        vertical-align: top;\n",
              "    }\n",
              "\n",
              "    .dataframe thead th {\n",
              "        text-align: right;\n",
              "    }\n",
              "</style>\n",
              "<table border=\"1\" class=\"dataframe\">\n",
              "  <thead>\n",
              "    <tr style=\"text-align: right;\">\n",
              "      <th></th>\n",
              "      <th>Available Extra Rooms in Hospital</th>\n",
              "      <th>Ward_Facility_Code</th>\n",
              "      <th>staff_available</th>\n",
              "      <th>patientid</th>\n",
              "      <th>Age</th>\n",
              "      <th>gender</th>\n",
              "      <th>Severity of Illness</th>\n",
              "      <th>Visitors with Patient</th>\n",
              "      <th>Insurance</th>\n",
              "      <th>Admission_Deposit</th>\n",
              "      <th>...</th>\n",
              "      <th>Dr Sophia</th>\n",
              "      <th>Emergency</th>\n",
              "      <th>Trauma</th>\n",
              "      <th>Urgent</th>\n",
              "      <th>Asthama</th>\n",
              "      <th>Diabetes</th>\n",
              "      <th>Heart disease</th>\n",
              "      <th>High Blood Pressure</th>\n",
              "      <th>None</th>\n",
              "      <th>Other</th>\n",
              "    </tr>\n",
              "  </thead>\n",
              "  <tbody>\n",
              "    <tr>\n",
              "      <th>404686</th>\n",
              "      <td>1</td>\n",
              "      <td>1</td>\n",
              "      <td>7</td>\n",
              "      <td>26577</td>\n",
              "      <td>3.0</td>\n",
              "      <td>0</td>\n",
              "      <td>0.0</td>\n",
              "      <td>2</td>\n",
              "      <td>0</td>\n",
              "      <td>2167.503250</td>\n",
              "      <td>...</td>\n",
              "      <td>0.0</td>\n",
              "      <td>0.0</td>\n",
              "      <td>1.0</td>\n",
              "      <td>0.0</td>\n",
              "      <td>0.0</td>\n",
              "      <td>0.0</td>\n",
              "      <td>0.0</td>\n",
              "      <td>0.0</td>\n",
              "      <td>1.0</td>\n",
              "      <td>0.0</td>\n",
              "    </tr>\n",
              "    <tr>\n",
              "      <th>191061</th>\n",
              "      <td>4</td>\n",
              "      <td>3</td>\n",
              "      <td>1</td>\n",
              "      <td>33451</td>\n",
              "      <td>3.0</td>\n",
              "      <td>0</td>\n",
              "      <td>2.0</td>\n",
              "      <td>2</td>\n",
              "      <td>1</td>\n",
              "      <td>3849.510573</td>\n",
              "      <td>...</td>\n",
              "      <td>1.0</td>\n",
              "      <td>0.0</td>\n",
              "      <td>1.0</td>\n",
              "      <td>0.0</td>\n",
              "      <td>0.0</td>\n",
              "      <td>1.0</td>\n",
              "      <td>0.0</td>\n",
              "      <td>0.0</td>\n",
              "      <td>0.0</td>\n",
              "      <td>0.0</td>\n",
              "    </tr>\n",
              "    <tr>\n",
              "      <th>135385</th>\n",
              "      <td>3</td>\n",
              "      <td>1</td>\n",
              "      <td>4</td>\n",
              "      <td>79586</td>\n",
              "      <td>3.0</td>\n",
              "      <td>0</td>\n",
              "      <td>2.0</td>\n",
              "      <td>4</td>\n",
              "      <td>1</td>\n",
              "      <td>4003.475020</td>\n",
              "      <td>...</td>\n",
              "      <td>0.0</td>\n",
              "      <td>0.0</td>\n",
              "      <td>1.0</td>\n",
              "      <td>0.0</td>\n",
              "      <td>0.0</td>\n",
              "      <td>0.0</td>\n",
              "      <td>0.0</td>\n",
              "      <td>0.0</td>\n",
              "      <td>1.0</td>\n",
              "      <td>0.0</td>\n",
              "    </tr>\n",
              "    <tr>\n",
              "      <th>34188</th>\n",
              "      <td>4</td>\n",
              "      <td>5</td>\n",
              "      <td>6</td>\n",
              "      <td>11569</td>\n",
              "      <td>2.0</td>\n",
              "      <td>0</td>\n",
              "      <td>2.0</td>\n",
              "      <td>4</td>\n",
              "      <td>1</td>\n",
              "      <td>4921.519372</td>\n",
              "      <td>...</td>\n",
              "      <td>0.0</td>\n",
              "      <td>0.0</td>\n",
              "      <td>1.0</td>\n",
              "      <td>0.0</td>\n",
              "      <td>0.0</td>\n",
              "      <td>0.0</td>\n",
              "      <td>0.0</td>\n",
              "      <td>1.0</td>\n",
              "      <td>0.0</td>\n",
              "      <td>0.0</td>\n",
              "    </tr>\n",
              "    <tr>\n",
              "      <th>6886</th>\n",
              "      <td>2</td>\n",
              "      <td>1</td>\n",
              "      <td>10</td>\n",
              "      <td>100029</td>\n",
              "      <td>2.0</td>\n",
              "      <td>0</td>\n",
              "      <td>1.0</td>\n",
              "      <td>2</td>\n",
              "      <td>1</td>\n",
              "      <td>5754.448256</td>\n",
              "      <td>...</td>\n",
              "      <td>0.0</td>\n",
              "      <td>0.0</td>\n",
              "      <td>1.0</td>\n",
              "      <td>0.0</td>\n",
              "      <td>0.0</td>\n",
              "      <td>0.0</td>\n",
              "      <td>0.0</td>\n",
              "      <td>0.0</td>\n",
              "      <td>1.0</td>\n",
              "      <td>0.0</td>\n",
              "    </tr>\n",
              "  </tbody>\n",
              "</table>\n",
              "<p>5 rows × 34 columns</p>\n",
              "</div>\n",
              "      <button class=\"colab-df-convert\" onclick=\"convertToInteractive('df-5d07f551-70c4-4dea-9ab1-18ae30eda3cf')\"\n",
              "              title=\"Convert this dataframe to an interactive table.\"\n",
              "              style=\"display:none;\">\n",
              "        \n",
              "  <svg xmlns=\"http://www.w3.org/2000/svg\" height=\"24px\"viewBox=\"0 0 24 24\"\n",
              "       width=\"24px\">\n",
              "    <path d=\"M0 0h24v24H0V0z\" fill=\"none\"/>\n",
              "    <path d=\"M18.56 5.44l.94 2.06.94-2.06 2.06-.94-2.06-.94-.94-2.06-.94 2.06-2.06.94zm-11 1L8.5 8.5l.94-2.06 2.06-.94-2.06-.94L8.5 2.5l-.94 2.06-2.06.94zm10 10l.94 2.06.94-2.06 2.06-.94-2.06-.94-.94-2.06-.94 2.06-2.06.94z\"/><path d=\"M17.41 7.96l-1.37-1.37c-.4-.4-.92-.59-1.43-.59-.52 0-1.04.2-1.43.59L10.3 9.45l-7.72 7.72c-.78.78-.78 2.05 0 2.83L4 21.41c.39.39.9.59 1.41.59.51 0 1.02-.2 1.41-.59l7.78-7.78 2.81-2.81c.8-.78.8-2.07 0-2.86zM5.41 20L4 18.59l7.72-7.72 1.47 1.35L5.41 20z\"/>\n",
              "  </svg>\n",
              "      </button>\n",
              "      \n",
              "  <style>\n",
              "    .colab-df-container {\n",
              "      display:flex;\n",
              "      flex-wrap:wrap;\n",
              "      gap: 12px;\n",
              "    }\n",
              "\n",
              "    .colab-df-convert {\n",
              "      background-color: #E8F0FE;\n",
              "      border: none;\n",
              "      border-radius: 50%;\n",
              "      cursor: pointer;\n",
              "      display: none;\n",
              "      fill: #1967D2;\n",
              "      height: 32px;\n",
              "      padding: 0 0 0 0;\n",
              "      width: 32px;\n",
              "    }\n",
              "\n",
              "    .colab-df-convert:hover {\n",
              "      background-color: #E2EBFA;\n",
              "      box-shadow: 0px 1px 2px rgba(60, 64, 67, 0.3), 0px 1px 3px 1px rgba(60, 64, 67, 0.15);\n",
              "      fill: #174EA6;\n",
              "    }\n",
              "\n",
              "    [theme=dark] .colab-df-convert {\n",
              "      background-color: #3B4455;\n",
              "      fill: #D2E3FC;\n",
              "    }\n",
              "\n",
              "    [theme=dark] .colab-df-convert:hover {\n",
              "      background-color: #434B5C;\n",
              "      box-shadow: 0px 1px 3px 1px rgba(0, 0, 0, 0.15);\n",
              "      filter: drop-shadow(0px 1px 2px rgba(0, 0, 0, 0.3));\n",
              "      fill: #FFFFFF;\n",
              "    }\n",
              "  </style>\n",
              "\n",
              "      <script>\n",
              "        const buttonEl =\n",
              "          document.querySelector('#df-5d07f551-70c4-4dea-9ab1-18ae30eda3cf button.colab-df-convert');\n",
              "        buttonEl.style.display =\n",
              "          google.colab.kernel.accessAllowed ? 'block' : 'none';\n",
              "\n",
              "        async function convertToInteractive(key) {\n",
              "          const element = document.querySelector('#df-5d07f551-70c4-4dea-9ab1-18ae30eda3cf');\n",
              "          const dataTable =\n",
              "            await google.colab.kernel.invokeFunction('convertToInteractive',\n",
              "                                                     [key], {});\n",
              "          if (!dataTable) return;\n",
              "\n",
              "          const docLinkHtml = 'Like what you see? Visit the ' +\n",
              "            '<a target=\"_blank\" href=https://colab.research.google.com/notebooks/data_table.ipynb>data table notebook</a>'\n",
              "            + ' to learn more about interactive tables.';\n",
              "          element.innerHTML = '';\n",
              "          dataTable['output_type'] = 'display_data';\n",
              "          await google.colab.output.renderOutput(dataTable, element);\n",
              "          const docLink = document.createElement('div');\n",
              "          docLink.innerHTML = docLinkHtml;\n",
              "          element.appendChild(docLink);\n",
              "        }\n",
              "      </script>\n",
              "    </div>\n",
              "  </div>\n",
              "  "
            ]
          },
          "metadata": {},
          "execution_count": 184
        }
      ]
    },
    {
      "cell_type": "code",
      "source": [
        "corr=df_nuevo.corr()\n",
        "corr['estancia']"
      ],
      "metadata": {
        "colab": {
          "base_uri": "https://localhost:8080/"
        },
        "id": "PxlKYxsubEG2",
        "outputId": "9fa20bbc-c323-4ef7-9e72-97e8b861cbdb"
      },
      "execution_count": null,
      "outputs": [
        {
          "output_type": "execute_result",
          "data": {
            "text/plain": [
              "Available Extra Rooms in Hospital    0.053894\n",
              "Ward_Facility_Code                  -0.074337\n",
              "staff_available                      0.002883\n",
              "patientid                           -0.000532\n",
              "Age                                  0.229657\n",
              "gender                               0.193878\n",
              "Severity of Illness                  0.017030\n",
              "Visitors with Patient               -0.009529\n",
              "Insurance                           -0.001063\n",
              "Admission_Deposit                   -0.016650\n",
              "estancia                             1.000000\n",
              "TB & Chest disease                   0.154842\n",
              "anesthesia                           0.242282\n",
              "gynecology                          -0.230424\n",
              "radiotherapy                        -0.005953\n",
              "surgery                              0.078740\n",
              "Dr Isaac                             0.066519\n",
              "Dr John                              0.099091\n",
              "Dr Mark                              0.246904\n",
              "Dr Nathan                           -0.077513\n",
              "Dr Olivia                           -0.077157\n",
              "Dr Sam                              -0.005096\n",
              "Dr Sarah                            -0.065817\n",
              "Dr Simon                             0.041826\n",
              "Dr Sophia                           -0.063904\n",
              "Emergency                           -0.012470\n",
              "Trauma                               0.015249\n",
              "Urgent                              -0.005982\n",
              "Asthama                              0.005211\n",
              "Diabetes                            -0.003826\n",
              "Heart disease                        0.000423\n",
              "High Blood Pressure                  0.006233\n",
              "None                                -0.007809\n",
              "Other                                0.002432\n",
              "Name: estancia, dtype: float64"
            ]
          },
          "metadata": {},
          "execution_count": 190
        }
      ]
    },
    {
      "cell_type": "code",
      "source": [
        "X = df_nuevo.drop(columns=[\"estancia\"])\n",
        "y = df_nuevo[['estancia']]\n",
        "selector.fit(X,y)\n",
        "scores = selector.scores_\n",
        "list(X.columns)"
      ],
      "metadata": {
        "colab": {
          "base_uri": "https://localhost:8080/"
        },
        "id": "k2N0Myo6cUnp",
        "outputId": "45c74bbe-1eaf-4df7-da9f-d36f8116960f"
      },
      "execution_count": null,
      "outputs": [
        {
          "output_type": "stream",
          "name": "stderr",
          "text": [
            "/usr/local/lib/python3.8/dist-packages/sklearn/utils/validation.py:993: DataConversionWarning: A column-vector y was passed when a 1d array was expected. Please change the shape of y to (n_samples, ), for example using ravel().\n",
            "  y = column_or_1d(y, warn=True)\n"
          ]
        },
        {
          "output_type": "execute_result",
          "data": {
            "text/plain": [
              "['Available Extra Rooms in Hospital',\n",
              " 'Ward_Facility_Code',\n",
              " 'staff_available',\n",
              " 'patientid',\n",
              " 'Age',\n",
              " 'gender',\n",
              " 'Severity of Illness',\n",
              " 'Visitors with Patient',\n",
              " 'Insurance',\n",
              " 'Admission_Deposit',\n",
              " 'TB & Chest disease',\n",
              " 'anesthesia',\n",
              " 'gynecology',\n",
              " 'radiotherapy',\n",
              " 'surgery',\n",
              " 'Dr Isaac',\n",
              " 'Dr John',\n",
              " 'Dr Mark',\n",
              " 'Dr Nathan',\n",
              " 'Dr Olivia',\n",
              " 'Dr Sam',\n",
              " 'Dr Sarah',\n",
              " 'Dr Simon',\n",
              " 'Dr Sophia',\n",
              " 'Emergency',\n",
              " 'Trauma',\n",
              " 'Urgent',\n",
              " 'Asthama',\n",
              " 'Diabetes',\n",
              " 'Heart disease',\n",
              " 'High Blood Pressure',\n",
              " 'None',\n",
              " 'Other']"
            ]
          },
          "metadata": {},
          "execution_count": 192
        }
      ]
    },
    {
      "cell_type": "code",
      "source": [
        "for i in range (0,len(X.columns)+1):\n",
        "  print(X.columns[i])\n",
        "  print(scores[i])\n"
      ],
      "metadata": {
        "colab": {
          "base_uri": "https://localhost:8080/",
          "height": 1000
        },
        "id": "17MTgA0UdcIM",
        "outputId": "6bfb5937-a113-407d-b6c1-d68a53e39bc0"
      },
      "execution_count": null,
      "outputs": [
        {
          "output_type": "stream",
          "name": "stdout",
          "text": [
            "Available Extra Rooms in Hospital\n",
            "0.01790769048415508\n",
            "Ward_Facility_Code\n",
            "0.042116002107558614\n",
            "staff_available\n",
            "0.004869741276578576\n",
            "patientid\n",
            "0.0\n",
            "Age\n",
            "0.09742231857730399\n",
            "gender\n",
            "0.026886683607585393\n",
            "Severity of Illness\n",
            "0.028141908647582703\n",
            "Visitors with Patient\n",
            "0.014350132490452916\n",
            "Insurance\n",
            "0.03735258812741038\n",
            "Admission_Deposit\n",
            "0.011418891890509819\n",
            "TB & Chest disease\n",
            "0.016440295855614018\n",
            "anesthesia\n",
            "0.04575586182494584\n",
            "gynecology\n",
            "0.053074055000164266\n",
            "radiotherapy\n",
            "0.002731571803905375\n",
            "surgery\n",
            "0.00434328377547466\n",
            "Dr Isaac\n",
            "0.0021397193367038714\n",
            "Dr John\n",
            "0.006584877202187034\n",
            "Dr Mark\n",
            "0.042828602860531806\n",
            "Dr Nathan\n",
            "0.004952588220968668\n",
            "Dr Olivia\n",
            "0.005389699059628716\n",
            "Dr Sam\n",
            "0.000920803460741304\n",
            "Dr Sarah\n",
            "0.004556066634086031\n",
            "Dr Simon\n",
            "0.0014139323481350274\n",
            "Dr Sophia\n",
            "0.0031417780833473685\n",
            "Emergency\n",
            "0.004354294360201294\n",
            "Trauma\n",
            "0.021149151968070656\n",
            "Urgent\n",
            "0.0005841503770354084\n",
            "Asthama\n",
            "0.0\n",
            "Diabetes\n",
            "0.0\n",
            "Heart disease\n",
            "0.0008894456081505187\n",
            "High Blood Pressure\n",
            "0.0013613339362590349\n",
            "None\n",
            "0.006711350459004617\n",
            "Other\n",
            "0.0009271592057051858\n"
          ]
        },
        {
          "output_type": "error",
          "ename": "IndexError",
          "evalue": "ignored",
          "traceback": [
            "\u001b[0;31m---------------------------------------------------------------------------\u001b[0m",
            "\u001b[0;31mIndexError\u001b[0m                                Traceback (most recent call last)",
            "\u001b[0;32m<ipython-input-207-71991f3f11a4>\u001b[0m in \u001b[0;36m<module>\u001b[0;34m\u001b[0m\n\u001b[1;32m      1\u001b[0m \u001b[0;32mfor\u001b[0m \u001b[0mi\u001b[0m \u001b[0;32min\u001b[0m \u001b[0mrange\u001b[0m \u001b[0;34m(\u001b[0m\u001b[0;36m0\u001b[0m\u001b[0;34m,\u001b[0m\u001b[0mlen\u001b[0m\u001b[0;34m(\u001b[0m\u001b[0mX\u001b[0m\u001b[0;34m.\u001b[0m\u001b[0mcolumns\u001b[0m\u001b[0;34m)\u001b[0m\u001b[0;34m+\u001b[0m\u001b[0;36m1\u001b[0m\u001b[0;34m)\u001b[0m\u001b[0;34m:\u001b[0m\u001b[0;34m\u001b[0m\u001b[0;34m\u001b[0m\u001b[0m\n\u001b[0;32m----> 2\u001b[0;31m   \u001b[0mprint\u001b[0m\u001b[0;34m(\u001b[0m\u001b[0mX\u001b[0m\u001b[0;34m.\u001b[0m\u001b[0mcolumns\u001b[0m\u001b[0;34m[\u001b[0m\u001b[0mi\u001b[0m\u001b[0;34m]\u001b[0m\u001b[0;34m)\u001b[0m\u001b[0;34m\u001b[0m\u001b[0;34m\u001b[0m\u001b[0m\n\u001b[0m\u001b[1;32m      3\u001b[0m   \u001b[0mprint\u001b[0m\u001b[0;34m(\u001b[0m\u001b[0mscores\u001b[0m\u001b[0;34m[\u001b[0m\u001b[0mi\u001b[0m\u001b[0;34m]\u001b[0m\u001b[0;34m)\u001b[0m\u001b[0;34m\u001b[0m\u001b[0;34m\u001b[0m\u001b[0m\n",
            "\u001b[0;32m/usr/local/lib/python3.8/dist-packages/pandas/core/indexes/base.py\u001b[0m in \u001b[0;36m__getitem__\u001b[0;34m(self, key)\u001b[0m\n\u001b[1;32m   4602\u001b[0m         \u001b[0;32mif\u001b[0m \u001b[0mis_scalar\u001b[0m\u001b[0;34m(\u001b[0m\u001b[0mkey\u001b[0m\u001b[0;34m)\u001b[0m\u001b[0;34m:\u001b[0m\u001b[0;34m\u001b[0m\u001b[0;34m\u001b[0m\u001b[0m\n\u001b[1;32m   4603\u001b[0m             \u001b[0mkey\u001b[0m \u001b[0;34m=\u001b[0m \u001b[0mcom\u001b[0m\u001b[0;34m.\u001b[0m\u001b[0mcast_scalar_indexer\u001b[0m\u001b[0;34m(\u001b[0m\u001b[0mkey\u001b[0m\u001b[0;34m,\u001b[0m \u001b[0mwarn_float\u001b[0m\u001b[0;34m=\u001b[0m\u001b[0;32mTrue\u001b[0m\u001b[0;34m)\u001b[0m\u001b[0;34m\u001b[0m\u001b[0;34m\u001b[0m\u001b[0m\n\u001b[0;32m-> 4604\u001b[0;31m             \u001b[0;32mreturn\u001b[0m \u001b[0mgetitem\u001b[0m\u001b[0;34m(\u001b[0m\u001b[0mkey\u001b[0m\u001b[0;34m)\u001b[0m\u001b[0;34m\u001b[0m\u001b[0;34m\u001b[0m\u001b[0m\n\u001b[0m\u001b[1;32m   4605\u001b[0m \u001b[0;34m\u001b[0m\u001b[0m\n\u001b[1;32m   4606\u001b[0m         \u001b[0;32mif\u001b[0m \u001b[0misinstance\u001b[0m\u001b[0;34m(\u001b[0m\u001b[0mkey\u001b[0m\u001b[0;34m,\u001b[0m \u001b[0mslice\u001b[0m\u001b[0;34m)\u001b[0m\u001b[0;34m:\u001b[0m\u001b[0;34m\u001b[0m\u001b[0;34m\u001b[0m\u001b[0m\n",
            "\u001b[0;31mIndexError\u001b[0m: index 33 is out of bounds for axis 0 with size 33"
          ]
        }
      ]
    },
    {
      "cell_type": "code",
      "source": [
        "plt.rcParams[\"figure.figsize\"] = [30,10]\n",
        "plt.plot(scores)\n",
        "plt.xticks(np.arange(14),list(X.columns));"
      ],
      "metadata": {
        "colab": {
          "base_uri": "https://localhost:8080/",
          "height": 406
        },
        "id": "JP-hF_1qcanm",
        "outputId": "38e0aa0e-c7cb-4f0a-fe9f-0e037eaf3316"
      },
      "execution_count": null,
      "outputs": [
        {
          "output_type": "display_data",
          "data": {
            "text/plain": [
              "<Figure size 2160x720 with 1 Axes>"
            ],
            "image/png": "[encoded data removed]"
          },
          "metadata": {}
        }
      ]
    }
  ],
  "metadata": {
    "kernelspec": {
      "display_name": "Python 3",
      "language": "python",
      "name": "python3"
    },
    "language_info": {
      "codemirror_mode": {
        "name": "ipython",
        "version": 3
      },
      "file_extension": ".py",
      "mimetype": "text/x-python",
      "name": "python",
      "nbconvert_exporter": "python",
      "pygments_lexer": "ipython3",
      "version": "3.10.5 (tags/v3.10.5:f377153, Jun  6 2022, 16:14:13) [MSC v.1929 64 bit (AMD64)]"
    },
    "orig_nbformat": 4,
    "vscode": {
      "interpreter": {
        "hash": "224ab2d222d6361592e732ae4370fd24c01433554265009efbf5e366010cf436"
      }
    },
    "colab": {
      "provenance": []
    }
  },
  "nbformat": 4,
  "nbformat_minor": 0
}